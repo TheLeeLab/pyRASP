{
 "cells": [
  {
   "cell_type": "code",
   "execution_count": 1,
   "id": "639d889a-964f-48c6-96be-f3070b50a506",
   "metadata": {},
   "outputs": [],
   "source": [
    "import sys\n",
    "\n",
    "sys.path.append(\"..\")  # Adds higher directory to python modules path.\n",
    "import os\n",
    "from src import RASPRoutines\n",
    "\n",
    "RASP = RASPRoutines.RASP_Routines()"
   ]
  },
  {
   "cell_type": "code",
   "execution_count": null,
   "id": "769240ef-8442-4a45-8efe-eb8e4fae4613",
   "metadata": {},
   "outputs": [],
   "source": [
    "\"\"\"the code below calibrates the radiality thresholds and saves that result in the default parameters folder. \n",
    "\n",
    "Each of the parameters \n",
    "(all of which, apart from \"radiality_folder\", have defaults---so if you're fine with the defaults you can just run it as\n",
    "\"RASP.analyse_images(radiality_folder)\") have meanings as detailed:\n",
    "\n",
    "            folder (str): Folder containing negative control tifs\n",
    "            imtype (str): Image file type\n",
    "            protein_string (str): Image identifier\n",
    "            gsigma (float): Gaussian blurring parameter\n",
    "            rwave (float): Ricker wavelet sigma\n",
    "            accepted_percentage (float): Percentage of accepted data points\n",
    "\n",
    "\"\"\"\n",
    "protein_string = 'C0'\n",
    "\n",
    "radiality_folder = os.path.abspath(\n",
    "    r\"../negative_control\"\n",
    ")  # example folder, replace as you wish. Always input as the absolute path of a raw string\n",
    "\n",
    "RASP.calibrate_radiality(\n",
    "    radiality_folder, imtype=\".tif\", gsigma=1.4, rwave=2.0, accepted_ratio=1, protein_string=protein_string,\n",
    ")"
   ]
  },
  {
   "cell_type": "code",
   "execution_count": null,
   "id": "6d686a01-63d2-4c35-a7f6-4f396d42e6ca",
   "metadata": {},
   "outputs": [],
   "source": []
  }
 ],
 "metadata": {
  "kernelspec": {
   "display_name": "Python 3 (ipykernel)",
   "language": "python",
   "name": "python3"
  },
  "language_info": {
   "codemirror_mode": {
    "name": "ipython",
    "version": 3
   },
   "file_extension": ".py",
   "mimetype": "text/x-python",
   "name": "python",
   "nbconvert_exporter": "python",
   "pygments_lexer": "ipython3",
   "version": "3.10.12"
  }
 },
 "nbformat": 4,
 "nbformat_minor": 5
}
