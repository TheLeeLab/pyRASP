{
 "cells": [
  {
   "cell_type": "code",
   "execution_count": 1,
   "id": "cc18c59f-eecd-4d0b-a648-7c6c3190769f",
   "metadata": {},
   "outputs": [],
   "source": [
    "import os\n",
    "import sys\n",
    "sys.path.append('..')\n",
    "from src import RASPRoutines\n",
    "\n",
    "RASP = RASPRoutines.RASP_Routines()\n",
    "import pandas as pd\n",
    "from src import AnalysisFunctions\n",
    "\n",
    "A_F = AnalysisFunctions.Analysis_Functions()\n",
    "from src import IOFunctions\n",
    "\n",
    "from src import Image_Analysis_Functions\n",
    "\n",
    "IA_F = Image_Analysis_Functions.ImageAnalysis_Functions()\n",
    "\n",
    "from src import CoincidenceFunctions\n",
    "\n",
    "C_F = CoincidenceFunctions.Coincidence_Functions()\n",
    "\n",
    "IO = IOFunctions.IO_Functions()\n",
    "import numpy as np\n",
    "import matplotlib.pyplot as plt\n",
    "from scipy.spatial.distance import cdist\n",
    "\n",
    "from src import PlottingFunctions\n",
    "\n",
    "plotter = PlottingFunctions.Plotter()\n",
    "\n",
    "import polars as pl\n",
    "from scipy.signal import fftconvolve, convolve\n",
    "from scipy.ndimage import binary_opening, binary_closing, binary_fill_holes\n",
    "import skimage as ski"
   ]
  },
  {
   "cell_type": "code",
   "execution_count": null,
   "id": "5a5be91f-aded-44c5-a56d-161e43d78922",
   "metadata": {},
   "outputs": [],
   "source": [
    "cell_mask_raw = np.zeros([100, 100, 25])\n",
    "coord = 0\n",
    "for i in np.arange(25):\n",
    "    cell_mask_raw[coord : coord + 5, coord : coord + 5, i] = 1\n",
    "    coord = coord + 4"
   ]
  },
  {
   "cell_type": "code",
   "execution_count": null,
   "id": "4c53a584-bf47-4593-8b4a-7536b0263eed",
   "metadata": {},
   "outputs": [],
   "source": [
    "lower_cell_size_threshold = 50\n",
    "upper_cell_size_threshold = np.inf\n",
    "z_project = [True, True]"
   ]
  },
  {
   "cell_type": "code",
   "execution_count": null,
   "id": "9cbc717b-1260-4a6c-ac75-d2bb092d20d9",
   "metadata": {},
   "outputs": [],
   "source": [
    "cell_mask_new, pil, centroids, areas = A_F.threshold_cell_areas(\n",
    "    cell_mask_raw,\n",
    "    lower_cell_size_threshold=lower_cell_size_threshold,\n",
    "    upper_cell_size_threshold=upper_cell_size_threshold,\n",
    "    z_project=z_project,\n",
    ")"
   ]
  },
  {
   "cell_type": "code",
   "execution_count": null,
   "id": "c8cd0b55-3506-41c0-9364-44c8a19c9de3",
   "metadata": {},
   "outputs": [],
   "source": [
    "plt.imshow(cell_mask_new)"
   ]
  },
  {
   "cell_type": "code",
   "execution_count": null,
   "id": "73811802-b3ce-4a9e-a024-fc49bd30e85e",
   "metadata": {},
   "outputs": [],
   "source": [
    "(\n",
    "    filtered_image_old,\n",
    "    gradient_x_old,\n",
    "    gradient_y_old,\n",
    "    focus_score_old,\n",
    "    concentration_factor_old,\n",
    ") = IA_F.calculate_gradient_field(cell_mask_raw, k1)"
   ]
  },
  {
   "cell_type": "code",
   "execution_count": 10,
   "id": "c16110a3-7325-4612-be05-5b049b48eb95",
   "metadata": {},
   "outputs": [],
   "source": [
    "image_size = (1200, 1200)\n",
    "potential_indices = np.prod(image_size)\n",
    "spotperc = 0.001\n",
    "maskperc = 0.25\n",
    "\n",
    "spot_indices = np.unique(np.random.randint(low=0, high=potential_indices, size=int(potential_indices*spotperc)))\n",
    "spot_2_indices = np.unique(np.random.randint(low=0, high=potential_indices, size=int(potential_indices*spotperc)))\n",
    "mask_indices = np.arange(int(potential_indices*maskperc))"
   ]
  },
  {
   "cell_type": "code",
   "execution_count": 11,
   "id": "2bbf4da4-dd83-4124-b716-777cb8965d60",
   "metadata": {},
   "outputs": [],
   "source": [
    "spot_intensities = np.random.normal(loc=1, size=len(spot_indices))\n",
    "median = np.median(spot_intensities)"
   ]
  },
  {
   "cell_type": "code",
   "execution_count": 14,
   "id": "cb85274a-1012-4f96-8a8f-be257c0ab445",
   "metadata": {},
   "outputs": [
    {
     "data": {
      "text/plain": [
       "(0.2513888888888889,\n",
       " 0.2527222222222222,\n",
       " array([ True,  True,  True, ..., False, False,  True]),\n",
       " 100)"
      ]
     },
     "execution_count": 14,
     "metadata": {},
     "output_type": "execute_result"
    }
   ],
   "source": [
    "C_F.calculate_coincidence(spot_indices=spot_indices, mask_indices=mask_indices, image_size=image_size, analysis_type=\"spot_to_mask\")"
   ]
  },
  {
   "cell_type": "code",
   "execution_count": 15,
   "id": "0c7921bd-af15-4d22-b866-68ecdb8ea0d0",
   "metadata": {},
   "outputs": [
    {
     "data": {
      "text/plain": [
       "(0.2513888888888889,\n",
       " 0.25350694444444444,\n",
       " array([ True,  True,  True, ..., False, False,  True]),\n",
       " 100)"
      ]
     },
     "execution_count": 15,
     "metadata": {},
     "output_type": "execute_result"
    }
   ],
   "source": [
    "A_F.calculate_spot_to_mask_coincidence(spot_indices=spot_indices, mask_indices=mask_indices, image_size=image_size)"
   ]
  },
  {
   "cell_type": "code",
   "execution_count": null,
   "id": "481de07e-6670-4f53-95c4-8a0f926534f6",
   "metadata": {},
   "outputs": [],
   "source": []
  }
 ],
 "metadata": {
  "kernelspec": {
   "display_name": "Python 3 (ipykernel)",
   "language": "python",
   "name": "python3"
  },
  "language_info": {
   "codemirror_mode": {
    "name": "ipython",
    "version": 3
   },
   "file_extension": ".py",
   "mimetype": "text/x-python",
   "name": "python",
   "nbconvert_exporter": "python",
   "pygments_lexer": "ipython3",
   "version": "3.10.12"
  }
 },
 "nbformat": 4,
 "nbformat_minor": 5
}
