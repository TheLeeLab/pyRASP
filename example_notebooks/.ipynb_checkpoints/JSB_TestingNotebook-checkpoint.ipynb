{
 "cells": [
  {
   "cell_type": "code",
   "execution_count": 1,
   "id": "cc18c59f-eecd-4d0b-a648-7c6c3190769f",
   "metadata": {},
   "outputs": [],
   "source": [
    "import os\n",
    "import sys\n",
    "sys.path.append('..')\n",
    "from src import RASPRoutines\n",
    "\n",
    "RASP = RASPRoutines.RASP_Routines()\n",
    "import pandas as pd\n",
    "from src import AnalysisFunctions\n",
    "\n",
    "A_F = AnalysisFunctions.Analysis_Functions()\n",
    "from src import IOFunctions\n",
    "\n",
    "from src import Image_Analysis_Functions\n",
    "\n",
    "IA_F = Image_Analysis_Functions.ImageAnalysis_Functions()\n",
    "\n",
    "from src import CoincidenceFunctions\n",
    "\n",
    "C_F = CoincidenceFunctions.Coincidence_Functions()\n",
    "\n",
    "from src import HelperFunctions\n",
    "H_F = HelperFunctions.Helper_Functions()\n",
    "\n",
    "IO = IOFunctions.IO_Functions()\n",
    "import numpy as np\n",
    "import matplotlib.pyplot as plt\n",
    "from scipy.spatial.distance import cdist\n",
    "\n",
    "from src import PlottingFunctions\n",
    "\n",
    "plotter = PlottingFunctions.Plotter()\n",
    "\n",
    "import polars as pl\n",
    "from scipy.signal import fftconvolve, convolve\n",
    "from scipy.ndimage import binary_opening, binary_closing, binary_fill_holes\n",
    "import skimage as ski\n",
    "\n",
    "from scipy import stats\n"
   ]
  },
  {
   "cell_type": "code",
   "execution_count": null,
   "id": "c8884ed1-3ce6-47c7-9266-6df1af5c45e6",
   "metadata": {},
   "outputs": [],
   "source": [
    "# parahipp, cingulate, frontal are the regions for the TCD presentation"
   ]
  },
  {
   "cell_type": "code",
   "execution_count": null,
   "id": "189d1d36-b776-4194-ba22-14766db08180",
   "metadata": {},
   "outputs": [],
   "source": [
    "phip_region = r'S:\\ASAP_Imaging_Data\\Main_Survey\\20241105_oligomers_in_cells\\parahippocampal\\neurons\\PD_analysis'\n",
    "cingulate_region = r'S:\\ASAP_Imaging_Data\\Main_Survey\\20241105_oligomers_in_cells\\cingulate\\neurons\\PD_analysis'\n",
    "frontal_region = r'S:\\ASAP_Imaging_Data\\Main_Survey\\20241105_oligomers_in_cells\\frontal\\neurons\\PD_analysis'"
   ]
  },
  {
   "cell_type": "code",
   "execution_count": null,
   "id": "3af47f0c-1a59-4141-a1a5-0d8a2fc90af8",
   "metadata": {},
   "outputs": [],
   "source": [
    "def file_selector(folder, oligomer_data, percentile=50):\n",
    "    files = os.listdir(folder)\n",
    "    file = np.sort([x for x in files if 'percentile' in x and '_'+str(int(percentile))+'_' in x])[0]\n",
    "    data = pl.read_csv(os.path.join(folder, file))\n",
    "    photonthreshold = float(file.split('_photonthreshold_')[1].split('_photons_')[0].replace('p', '.'))\n",
    "    oligomer_data = oligomer_data.filter(pl.col('sum_intensity_in_photons') < 3000)\n",
    "    percentile = oligomer_data['sum_intensity_in_photons'].rank()/len(oligomer_data['sum_intensity_in_photons'])\n",
    "    oligomer_data = oligomer_data.with_columns(percentile.alias(\"alpha\"))\n",
    "    return data, oligomer_data"
   ]
  },
  {
   "cell_type": "code",
   "execution_count": null,
   "id": "6c013eb1-d31c-4b58-9af0-067384872794",
   "metadata": {},
   "outputs": [],
   "source": [
    "file = np.unique([x for x in frontal_data['image_filename'].to_numpy() if '20231012_MS_R2_S28_SS3 - Position 1 [9]_XY1697130515_Z00_T7' in x])"
   ]
  },
  {
   "cell_type": "code",
   "execution_count": null,
   "id": "77d63ff5-cb7a-401f-936c-e56df86dbbb4",
   "metadata": {},
   "outputs": [],
   "source": [
    "frontal_olig_data = pl.read_csv(os.path.join(frontal_region, 'spot_analysis.csv'))"
   ]
  },
  {
   "cell_type": "code",
   "execution_count": null,
   "id": "d3f2097d-5eae-49a8-adc9-9ecd99032775",
   "metadata": {},
   "outputs": [],
   "source": [
    "frontal_data, frontal_olig_data = file_selector(frontal_region, frontal_olig_data, percentile=0)\n",
    "#cing_data = file_selector(cingulate_region)\n",
    "#front_data = file_selector(frontal_region)"
   ]
  },
  {
   "cell_type": "code",
   "execution_count": null,
   "id": "434917f5-97c6-419b-be46-1aa3fd597b08",
   "metadata": {},
   "outputs": [],
   "source": [
    "def puncta_cell_plotter(analysis_folder, pcl_data, oligomer_data, folder_to_save, lower_PCL=0.9, upper_PCL=1.1, mincellsize=2000, cell_string='C0', protein_string='C1',\n",
    "                       mask_of_interest='blue', file=None):\n",
    "    condition = (\n",
    "            (pl.col(\"puncta_cell_likelihood\") > lower_PCL) & (pl.col(\"puncta_cell_likelihood\") <= upper_PCL)\n",
    "        )\n",
    "    pcl_data = pcl_data.filter(condition)\n",
    "    if file is not None:\n",
    "        pcl_data = pcl_data.filter(pl.col(\"image_filename\") == file)\n",
    "    n_pcls = len(pcl_data)\n",
    "    for i in np.arange(n_pcls):\n",
    "        filename = pcl_data['image_filename'].to_numpy()[i]\n",
    "        puncta_file = oligomer_data.filter(pl.col('image_filename') == filename)\n",
    "        x = puncta_file['x'].to_numpy()\n",
    "        y = puncta_file['y'].to_numpy()\n",
    "        intensity = puncta_file['alpha'].to_numpy()\n",
    "        cell_filename = filename.split(protein_string+'.tif')[0]+cell_string+'.tif'\n",
    "        raw_cell_image = np.nanmax(IO.read_tiff_tophotons(cell_filename)[:,:,9:13], axis=-1)\n",
    "        cell_mask_string = os.path.split(filename)[-1].split(protein_string+'.tif')[0]+cell_string+'_cellMask.tiff'\n",
    "        cell_mask, pil, centroids, areas = A_F.threshold_cell_areas(IO.read_tiff(os.path.join(analysis_folder, cell_mask_string)), lower_cell_size_threshold=mincellsize)\n",
    "        area_coi = pcl_data['area/pixels'].to_numpy()[i]\n",
    "        x_coi = pcl_data['x_centre'].to_numpy()[i]\n",
    "        y_coi = pcl_data['y_centre'].to_numpy()[i]\n",
    "        area_of_interest = np.isclose(area_coi, areas, atol=0.1)\n",
    "        x_of_interest = np.isclose(x_coi, centroids[:, 0], atol=0.1)\n",
    "        y_of_interest = np.isclose(y_coi, centroids[:, 1], atol=0.1)\n",
    "        indices_of_interest = pil[np.where(area_of_interest*x_of_interest*y_of_interest)[0]][0]\n",
    "        cell_mask_pcl = np.zeros_like(cell_mask)\n",
    "        cell_mask_pcl[indices_of_interest[:, 0], indices_of_interest[:, 1]] = 1\n",
    "        cell_mask[indices_of_interest[:, 0], indices_of_interest[:, 1]] = 0\n",
    "        savestring =  os.path.split(filename)[-1].split(protein_string+'.tif')[0]+cell_string+'_lowerPCL_'+str(lower_PCL).replace('.', 'p')+'_upperPCL_'+str(upper_PCL).replace('.', 'p')+'_nPCL_'+str(i)+'.svg'\n",
    "\n",
    "        fig, axs = plotter.one_column_plot()\n",
    "        xmin = np.max([0, x_coi-150])\n",
    "        xmax = np.min([cell_mask.shape[0], x_coi+150])\n",
    "        ymin = np.max([0, y_coi-150])\n",
    "        ymax = np.min([cell_mask.shape[1], y_coi+150])\n",
    "        punctaindices = (x > xmin) & (x <= xmax) & (y > ymin) & (y <= ymax)\n",
    "        x = x[punctaindices]\n",
    "        y = y[punctaindices]\n",
    "        intensity = intensity[punctaindices]\n",
    "        axs[0] = plotter.image_scatter_plot(axs=axs[0], data=raw_cell_image, xdata=x, ydata=y, mask=cell_mask, plotmask=True, facecolor='white', s=10, \n",
    "                                            alpha_scatter=intensity, masklinewidth=1, lws=0, scalebarlabel='PCL='+str(np.around(pcl_data['puncta_cell_likelihood'].to_numpy()[i])))\n",
    "        axs[0].contour(cell_mask_pcl, [0.5], linewidths=1.5, colors=mask_of_interest)\n",
    "        axs[0].set_xlim(xmin, xmax)\n",
    "        axs[0].set_ylim(ymin, ymax)\n",
    "        plt.savefig(os.path.join(folder_to_save, savestring), dpi=600, format='svg')\n",
    "        plt.show(block=False)\n",
    "    return"
   ]
  },
  {
   "cell_type": "code",
   "execution_count": null,
   "id": "95103765-210f-4f99-827d-cec6ef54c105",
   "metadata": {},
   "outputs": [],
   "source": [
    "puncta_cell_plotter(frontal_region, frontal_data, frontal_olig_data, file=file, folder_to_save=r\"C:\\Users\\jsb92\\Cambridge University Dropbox\\Joseph Beckwith\\Chemistry\\Lee\", lower_PCL=1.99, upper_PCL=2.01, mask_of_interest=\"#419fff\")"
   ]
  },
  {
   "cell_type": "code",
   "execution_count": null,
   "id": "31628c84-7a27-45e3-8ecd-3321373fec85",
   "metadata": {},
   "outputs": [],
   "source": [
    "phip_data['image_filename']"
   ]
  },
  {
   "cell_type": "code",
   "execution_count": null,
   "id": "c276046f-3574-4ac3-9960-16a243255fb1",
   "metadata": {},
   "outputs": [],
   "source": [
    "os.path.split(test['image_filename'][12])[-1].split('C1.tif')"
   ]
  },
  {
   "cell_type": "code",
   "execution_count": null,
   "id": "d3bb7a52-f809-46e1-be0f-094d0116c942",
   "metadata": {},
   "outputs": [],
   "source": [
    "test"
   ]
  },
  {
   "cell_type": "code",
   "execution_count": null,
   "id": "b90c121d-21c7-4035-a0e1-107fba2e84ac",
   "metadata": {},
   "outputs": [],
   "source": [
    "overall_folder = r'S:\\ASAP_Imaging_Data\\Main_Survey\\20241105_oligomers_in_cells'"
   ]
  },
  {
   "cell_type": "code",
   "execution_count": null,
   "id": "81c1c663-4a63-443e-bbcd-6ebb4612af5b",
   "metadata": {},
   "outputs": [],
   "source": [
    "from src import HelperFunctions\n",
    "HF = HelperFunctions.Helper_Functions()"
   ]
  },
  {
   "cell_type": "code",
   "execution_count": null,
   "id": "f65d8cd2-fa97-4cef-ab68-3b1aa9acb570",
   "metadata": {},
   "outputs": [],
   "source": [
    "data = HF.file_search(overall_folder, '.tif', '')"
   ]
  },
  {
   "cell_type": "code",
   "execution_count": null,
   "id": "b7496482-0ae3-46cb-aa56-5c182faa5f7c",
   "metadata": {},
   "outputs": [],
   "source": [
    "raw_data = [x for x in data if 'analysis' not in x]"
   ]
  },
  {
   "cell_type": "code",
   "execution_count": null,
   "id": "b6c1527f-3528-4d1d-86ed-82fe0719e600",
   "metadata": {},
   "outputs": [],
   "source": [
    "overall_size = None\n",
    "for i in raw_data:\n",
    "    size = os.path.getsize(i)\n",
    "    if overall_size == None:\n",
    "        overall_size = size\n",
    "    else:\n",
    "        overall_size += size"
   ]
  },
  {
   "cell_type": "code",
   "execution_count": null,
   "id": "43d64e84-10eb-4a9b-b8e4-c8f7791e5c32",
   "metadata": {},
   "outputs": [],
   "source": [
    "overall_size/np.power(1024., 4)"
   ]
  },
  {
   "cell_type": "code",
   "execution_count": null,
   "id": "f8f3a307-08ab-4b37-a22d-5faf92210d5f",
   "metadata": {},
   "outputs": [],
   "source": [
    "import numpy as np\n",
    "import matplotlib.pyplot as plt\n",
    "from scipy.stats import lognorm\n",
    "from uravu.distribution import Distribution\n",
    "from uravu.relationship import Relationship\n",
    "from uravu import plotting, utils"
   ]
  },
  {
   "cell_type": "code",
   "execution_count": null,
   "id": "787faec7-b999-4149-9036-38b09be90ba8",
   "metadata": {},
   "outputs": [],
   "source": [
    "np.random.seed(2)"
   ]
  },
  {
   "cell_type": "code",
   "execution_count": null,
   "id": "d57c6f5e-ae65-4894-9f6c-b9e674c1e61a",
   "metadata": {},
   "outputs": [],
   "source": [
    "x = np.linspace(10, 50, 20)\n",
    "y = .3 * x ** 2 - 1.4 * x + .2\n",
    "Y = []\n",
    "for i in y:\n",
    "    Y.append(lognorm(s=2, loc=i, scale=1))"
   ]
  },
  {
   "cell_type": "code",
   "execution_count": null,
   "id": "5ee047aa-cb08-442d-9c9b-8305e4d31fb4",
   "metadata": {},
   "outputs": [],
   "source": [
    "def one_degree(x, a, b):\n",
    "    return b * x + a\n",
    "\n",
    "def two_degree(x, a, b, c):\n",
    "    return c * x ** 2 + b * x + a\n",
    "\n",
    "def three_degree(x, a, b, c, d):\n",
    "    return d * x ** 3 + c * x ** 2 + b * x + a\n",
    "\n",
    "def four_degree(x, a, b, c, d, e):\n",
    "    return e * x ** 4 + d * x ** 3 + c * x ** 2 + b * x + a"
   ]
  },
  {
   "cell_type": "code",
   "execution_count": null,
   "id": "a3ee02c7-43e2-4a48-b385-301122fa8385",
   "metadata": {},
   "outputs": [],
   "source": [
    "one_modeller = Relationship(one_degree, x, Y,\n",
    "                            bounds=((-300, 0), (-2, 20)))\n",
    "one_modeller.max_likelihood('diff_evo')\n",
    "\n",
    "two_modeller = Relationship(two_degree, x, Y,\n",
    "                            bounds=((-2, 2), (-2, 2), (-1, 1)))\n",
    "two_modeller.max_likelihood('diff_evo')\n",
    "\n",
    "three_modeller = Relationship(three_degree, x, Y,\n",
    "                              bounds=((-2, 2), (-2, 2), (-1, 1), (-0.2, 0.2)))\n",
    "three_modeller.max_likelihood('diff_evo')\n",
    "\n",
    "four_modeller = Relationship(four_degree, x, Y,\n",
    "                             bounds=((-2, 2), (-2, 2), (-1, 1), (-0.2, 0.2), (-0.02, 0.02)))\n",
    "four_modeller.max_likelihood('diff_evo')"
   ]
  },
  {
   "cell_type": "code",
   "execution_count": null,
   "id": "381df9c7-f615-4571-8e2e-9011aef904ad",
   "metadata": {},
   "outputs": [],
   "source": [
    "one_modeller.nested_sampling();\n",
    "\n",
    "two_modeller.nested_sampling();\n",
    "\n",
    "three_modeller.nested_sampling();\n",
    "\n",
    "four_modeller.nested_sampling();"
   ]
  },
  {
   "cell_type": "code",
   "execution_count": null,
   "id": "ac0dfc4e-cb81-47fd-a18f-bc256d320e4f",
   "metadata": {},
   "outputs": [],
   "source": [
    "variables = [len(one_modeller.variables), len(two_modeller.variables),\n",
    "             len(three_modeller.variables), len(four_modeller.variables)]\n",
    "ln_evidence = [one_modeller.ln_evidence.n, two_modeller.ln_evidence.n,\n",
    "               three_modeller.ln_evidence.n, four_modeller.ln_evidence.n]\n",
    "ln_evidence_err = [one_modeller.ln_evidence.s, two_modeller.ln_evidence.s,\n",
    "                   three_modeller.ln_evidence.s, four_modeller.ln_evidence.s]"
   ]
  },
  {
   "cell_type": "code",
   "execution_count": null,
   "id": "eedfb5fe-6083-4429-8a17-9a2273401c1c",
   "metadata": {},
   "outputs": [],
   "source": [
    "plt.errorbar(variables, ln_evidence, ln_evidence_err, marker='o', ls='')\n",
    "plt.xlabel('Number of variables')\n",
    "plt.ylabel(r'$\\ln{Z}$')\n",
    "plt.show()"
   ]
  },
  {
   "cell_type": "code",
   "execution_count": null,
   "id": "5f567c45-a059-4c8d-afd5-d5fa06aa954d",
   "metadata": {},
   "outputs": [],
   "source": [
    "plotting.plot_relationship(two_modeller)\n",
    "plt.show()"
   ]
  },
  {
   "cell_type": "code",
   "execution_count": null,
   "id": "a8a89bc7-b8a5-4486-8588-e4853d3f863f",
   "metadata": {},
   "outputs": [],
   "source": [
    "%gui qt6"
   ]
  },
  {
   "cell_type": "code",
   "execution_count": null,
   "id": "0939cd00-24f9-45e2-b824-338502116b16",
   "metadata": {},
   "outputs": [],
   "source": [
    "import numpy as np\n",
    "from matplotlib import pyplot as plt\n",
    "from scipy import ndimage as ndi\n",
    "from skimage import (exposure, feature, filters, io, measure,\n",
    "                      morphology, restoration, segmentation, transform,\n",
    "                      util)"
   ]
  },
  {
   "cell_type": "code",
   "execution_count": 3,
   "id": "04c1ca73-a4e8-45cb-8ce0-b13fe113dd78",
   "metadata": {},
   "outputs": [],
   "source": [
    "k1, k2 = IA_F.create_kernel(1.4, 2.0)  # create image processing kernels"
   ]
  },
  {
   "cell_type": "code",
   "execution_count": 2,
   "id": "0dc7847c-50be-4031-827a-66ad9e4ebbbc",
   "metadata": {},
   "outputs": [],
   "source": [
    "data = IO.read_tiff_tophotons('../example_images/Example_01_CellImage_C0.tif')\n",
    "original_spacing = np.array([0.5, 0.11, 0.11])\n"
   ]
  },
  {
   "cell_type": "code",
   "execution_count": 18,
   "id": "681d9f02-fdd4-40ac-a523-ed2136a46dfa",
   "metadata": {},
   "outputs": [
    {
     "data": {
      "text/plain": [
       "np.float64(17.33543872104865)"
      ]
     },
     "execution_count": 18,
     "metadata": {},
     "output_type": "execute_result"
    }
   ],
   "source": [
    "focus_score"
   ]
  },
  {
   "cell_type": "code",
   "execution_count": null,
   "id": "7a73a7b7-e574-480d-8fce-0173926ab4eb",
   "metadata": {},
   "outputs": [],
   "source": [
    "plt.imshow(data[5, :, :])"
   ]
  },
  {
   "cell_type": "code",
   "execution_count": null,
   "id": "3b4c05f6-6dae-46e9-bc54-114ccc6ba9ab",
   "metadata": {},
   "outputs": [],
   "source": [
    "denoised = ndi.median_filter(data, size=3)"
   ]
  },
  {
   "cell_type": "code",
   "execution_count": null,
   "id": "c69b40b5-211c-4e08-a758-9e3a20eed0c9",
   "metadata": {},
   "outputs": [],
   "source": [
    "sum_gradient = np.sum(data, axis=(1, 2))"
   ]
  },
  {
   "cell_type": "code",
   "execution_count": null,
   "id": "f23309cc-0203-4c02-852e-2f9db7eee572",
   "metadata": {},
   "outputs": [],
   "source": [
    "fig, axs = plotter.two_column_plot(ncolumns=2, widthratio=[1,1])\n",
    "\n",
    "axs[0] = plotter.image_plot(axs=axs[0], data=data[5, 600:800, 800:1200])\n",
    "axs[1] = plotter.image_plot(axs=axs[1], data=denoised[5, 600:800, 800:1200])\n"
   ]
  },
  {
   "cell_type": "code",
   "execution_count": null,
   "id": "ce73691c-adc9-419c-90f6-98056bb210ac",
   "metadata": {},
   "outputs": [],
   "source": [
    "edges = filters.sobel(denoised)\n",
    "\n",
    "viewer = napari.view_image(data, colormap='green', name='nuclei', ndisplay=3, scale=original_spacing)\n",
    "viewer.add_image(edges, colormap='magenta', name='edges', scale=original_spacing)"
   ]
  },
  {
   "cell_type": "code",
   "execution_count": null,
   "id": "809aa8a0-0e35-448b-aa76-5ffcad7b8070",
   "metadata": {},
   "outputs": [],
   "source": [
    "li_thresholded = denoised > filters.threshold_li(denoised)"
   ]
  },
  {
   "cell_type": "code",
   "execution_count": null,
   "id": "04920448-07d6-49bb-b58b-15e3794e1aba",
   "metadata": {},
   "outputs": [],
   "source": [
    "viewer.add_image(li_thresholded, name='thresholded_sobel', opacity=0.3, scale=original_spacing)"
   ]
  },
  {
   "cell_type": "code",
   "execution_count": null,
   "id": "b187bb91-1d51-402d-bdfb-0f588add9a52",
   "metadata": {},
   "outputs": [],
   "source": [
    "filled = ndi.binary_fill_holes(li_thresholded)\n",
    "\n",
    "#viewer.add_image(filled, name='filled', opacity=0.3, scale=original_spacing)"
   ]
  },
  {
   "cell_type": "code",
   "execution_count": null,
   "id": "36b96086-ba06-4ae6-9f03-e5db6277fd41",
   "metadata": {},
   "outputs": [],
   "source": [
    "width = 50\n",
    "\n",
    "remove_holes = morphology.remove_small_holes(\n",
    "    filled, \n",
    "    area_threshold=width ** 3\n",
    ")"
   ]
  },
  {
   "cell_type": "code",
   "execution_count": null,
   "id": "53ad18d6-3e0a-49de-acf0-4a21bc066f45",
   "metadata": {},
   "outputs": [],
   "source": [
    "width = 50\n",
    "\n",
    "remove_objects = morphology.remove_small_objects(\n",
    "    remove_holes, \n",
    "    min_size=width ** 3\n",
    ")\n",
    "\n",
    "viewer.add_image(remove_objects, name='cleaned', opacity=0.3, scale=original_spacing);"
   ]
  },
  {
   "cell_type": "code",
   "execution_count": null,
   "id": "df342ae0-23c3-4294-a17f-4a4a4dd5f3d1",
   "metadata": {},
   "outputs": [],
   "source": [
    "labels = measure.label(remove_objects)\n",
    "\n",
    "viewer.add_labels(labels, name='labels', scale=original_spacing)"
   ]
  },
  {
   "cell_type": "code",
   "execution_count": null,
   "id": "00bdc6bd-7e51-4845-ace5-c4819f4a1723",
   "metadata": {},
   "outputs": [],
   "source": [
    "transformed = ndi.distance_transform_edt(remove_objects, sampling=original_spacing)\n",
    "\n",
    "maxima = morphology.local_maxima(transformed)\n",
    "viewer.add_points(np.transpose(np.nonzero(maxima)), name='bad points')"
   ]
  },
  {
   "cell_type": "code",
   "execution_count": null,
   "id": "c4a749c6-8247-4c11-b76f-f966b9ed81bf",
   "metadata": {},
   "outputs": [],
   "source": [
    "viewer.layers['bad points'].visible = False\n",
    "points = viewer.add_points(name='interactive points', ndim=3)\n",
    "points.mode = 'add'"
   ]
  },
  {
   "cell_type": "code",
   "execution_count": null,
   "id": "63bac78e-2cc1-4051-87d4-a4f4e889492b",
   "metadata": {},
   "outputs": [],
   "source": [
    "marker_locations = points.data\n",
    "\n",
    "markers = np.zeros(data.shape, dtype=np.uint32)\n",
    "marker_indices = tuple(np.round(marker_locations).astype(int).T)\n",
    "markers[marker_indices] = np.arange(len(marker_locations)) + 1\n",
    "markers_big = morphology.dilation(markers, morphology.ball(5))\n",
    "\n",
    "segmented = segmentation.watershed(\n",
    "    edges,\n",
    "    markers_big, \n",
    "    mask=remove_objects\n",
    ")\n",
    "\n",
    "viewer.add_labels(segmented, name='segmented')"
   ]
  },
  {
   "cell_type": "code",
   "execution_count": null,
   "id": "ba13216f-8587-4b78-9cd9-19c6cf32e687",
   "metadata": {},
   "outputs": [],
   "source": [
    "def plot_image_fft(input_image, n_labels=7, d=1):\n",
    "    \n",
    "    '''\n",
    "    Plot an image alongside its frequency-domain representation.\n",
    "    \n",
    "    \n",
    "    Parameters\n",
    "    ----------\n",
    "    img_path: (str) the path to an image\n",
    "    n_labels: (int) the number of labels to space out along each axis, default=7\n",
    "                      best if an odd number\n",
    "    \n",
    "    d: (int) sample spacing (inverse of the sampling rate). default=1\n",
    "                      if the image has meaningful units, this can be altered to match\n",
    "    \n",
    "    '''\n",
    "    \n",
    "    # trying to get the units of the FFT plot\n",
    "    #  \"The returned float array `f` contains the frequency bin centers in cycles\n",
    "    #   per unit of the sample spacing (with zero at the start).  For instance, if\n",
    "    #  the sample spacing is in seconds, then the frequency unit is cycles/second.\"\n",
    "    freqx = np.fft.fftfreq(input_image.shape[1], d=d)\n",
    "    freqy = np.fft.fftfreq(input_image.shape[0], d=d)\n",
    "    x_step = int(input_image.shape[1]/n_labels)\n",
    "    xtick_pos = np.arange(0,input_image.shape[1])[::x_step]\n",
    "    xtick_labels = np.round(freqx[::x_step],2)\n",
    "    y_step = int(input_image.shape[0]/n_labels)\n",
    "    ytick_pos = np.arange(0,input_image.shape[0])[::y_step]\n",
    "    ytick_labels = np.round(freqy[::y_step],2)\n",
    "\n",
    "    # convert to frequency domain\n",
    "    img_freq = np.fft.fft2(input_image)\n",
    "\n",
    "    # calculate amplitude spectrum\n",
    "    img_amp = np.fft.fftshift(np.abs(img_freq))\n",
    "\n",
    "    # for display, take the logarithm\n",
    "    img_amp_disp = np.log(img_amp + 1e-4)\n",
    "\n",
    "    # rescale to [0.0, 1.0] for display\n",
    "    result_image = (((img_amp_disp - np.min(img_amp_disp)) * 1.0) / np.ptp(img_amp_disp))\n",
    "\n",
    "    fig,ax = plt.subplots(1,2, figsize=(10,6))\n",
    "    ax[0].imshow(input_image)\n",
    "    ax[1].imshow(result_image)\n",
    "    ax[1].set_xticks(xtick_pos, xtick_labels)\n",
    "    ax[1].set_yticks(ytick_pos, ytick_labels)\n",
    "    plt.show()\n",
    "    plt.close()"
   ]
  },
  {
   "cell_type": "code",
   "execution_count": null,
   "id": "5c0a351d-2886-47b7-a55b-ba97b20c21c9",
   "metadata": {},
   "outputs": [],
   "source": [
    "plot_image_fft(data[5, :, :], d=0.11, n_labels=4)"
   ]
  },
  {
   "cell_type": "code",
   "execution_count": null,
   "id": "8f7ff5cb-01a9-46d9-9821-14885e275225",
   "metadata": {},
   "outputs": [],
   "source": [
    "freq = np.fft.fftfreq(10, d=0.11)"
   ]
  },
  {
   "cell_type": "code",
   "execution_count": null,
   "id": "90c4b6d1-fb5a-4284-8b86-0130e76f6407",
   "metadata": {},
   "outputs": [],
   "source": [
    "freq"
   ]
  },
  {
   "cell_type": "code",
   "execution_count": null,
   "id": "9abcc3b1-5fc9-49e5-9408-c47106418d85",
   "metadata": {},
   "outputs": [],
   "source": [
    "import numpy as np"
   ]
  },
  {
   "cell_type": "code",
   "execution_count": null,
   "id": "572eb145-0232-4eac-9084-82ab11a6d4d8",
   "metadata": {},
   "outputs": [],
   "source": []
  }
 ],
 "metadata": {
  "kernelspec": {
   "display_name": "Python 3 (ipykernel)",
   "language": "python",
   "name": "python3"
  },
  "language_info": {
   "codemirror_mode": {
    "name": "ipython",
    "version": 3
   },
   "file_extension": ".py",
   "mimetype": "text/x-python",
   "name": "python",
   "nbconvert_exporter": "python",
   "pygments_lexer": "ipython3",
   "version": "3.12.3"
  }
 },
 "nbformat": 4,
 "nbformat_minor": 5
}
