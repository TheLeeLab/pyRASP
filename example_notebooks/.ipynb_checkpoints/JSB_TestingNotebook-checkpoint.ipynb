{
 "cells": [
  {
   "cell_type": "code",
   "execution_count": null,
   "id": "cc18c59f-eecd-4d0b-a648-7c6c3190769f",
   "metadata": {},
   "outputs": [],
   "source": [
    "import os\n",
    "import sys\n",
    "sys.path.append('..')\n",
    "from src import RASPRoutines\n",
    "\n",
    "RASP = RASPRoutines.RASP_Routines()\n",
    "import pandas as pd\n",
    "from src import AnalysisFunctions\n",
    "\n",
    "A_F = AnalysisFunctions.Analysis_Functions()\n",
    "from src import IOFunctions\n",
    "\n",
    "from src import Image_Analysis_Functions\n",
    "\n",
    "IA_F = Image_Analysis_Functions.ImageAnalysis_Functions()\n",
    "\n",
    "from src import CoincidenceFunctions\n",
    "\n",
    "C_F = CoincidenceFunctions.Coincidence_Functions()\n",
    "\n",
    "from src import HelperFunctions\n",
    "H_F = HelperFunctions.Helper_Functions()\n",
    "\n",
    "IO = IOFunctions.IO_Functions()\n",
    "import numpy as np\n",
    "import matplotlib.pyplot as plt\n",
    "from scipy.spatial.distance import cdist\n",
    "\n",
    "from src import PlottingFunctions\n",
    "\n",
    "plotter = PlottingFunctions.Plotter()\n",
    "\n",
    "import polars as pl\n",
    "from scipy.signal import fftconvolve, convolve\n",
    "from scipy.ndimage import binary_opening, binary_closing, binary_fill_holes\n",
    "import skimage as ski\n",
    "\n",
    "from scipy import stats\n"
   ]
  },
  {
   "cell_type": "code",
   "execution_count": null,
   "id": "c8884ed1-3ce6-47c7-9266-6df1af5c45e6",
   "metadata": {},
   "outputs": [],
   "source": [
    "# parahipp, cingulate, frontal are the regions for the TCD presentation"
   ]
  },
  {
   "cell_type": "code",
   "execution_count": null,
   "id": "189d1d36-b776-4194-ba22-14766db08180",
   "metadata": {},
   "outputs": [],
   "source": [
    "phip_region = r'S:\\ASAP_Imaging_Data\\Main_Survey\\20241105_oligomers_in_cells\\parahippocampal\\neurons\\PD_analysis'\n",
    "cingulate_region = r'S:\\ASAP_Imaging_Data\\Main_Survey\\20241105_oligomers_in_cells\\cingulate\\neurons\\PD_analysis'\n",
    "frontal_region = r'S:\\ASAP_Imaging_Data\\Main_Survey\\20241105_oligomers_in_cells\\frontal\\neurons\\PD_analysis'"
   ]
  },
  {
   "cell_type": "code",
   "execution_count": null,
   "id": "3af47f0c-1a59-4141-a1a5-0d8a2fc90af8",
   "metadata": {},
   "outputs": [],
   "source": [
    "def file_selector(folder, oligomer_data, percentile=50):\n",
    "    files = os.listdir(folder)\n",
    "    file = np.sort([x for x in files if 'percentile' in x and '_'+str(int(percentile))+'_' in x])[0]\n",
    "    data = pl.read_csv(os.path.join(folder, file))\n",
    "    photonthreshold = float(file.split('_photonthreshold_')[1].split('_photons_')[0].replace('p', '.'))\n",
    "    oligomer_data = oligomer_data.filter(pl.col('sum_intensity_in_photons') < 3000)\n",
    "    percentile = oligomer_data['sum_intensity_in_photons'].rank()/len(oligomer_data['sum_intensity_in_photons'])\n",
    "    oligomer_data = oligomer_data.with_columns(percentile.alias(\"alpha\"))\n",
    "    return data, oligomer_data"
   ]
  },
  {
   "cell_type": "code",
   "execution_count": null,
   "id": "77d63ff5-cb7a-401f-936c-e56df86dbbb4",
   "metadata": {},
   "outputs": [],
   "source": [
    "frontal_olig_data = pl.read_csv(os.path.join(frontal_region, 'spot_analysis.csv'))"
   ]
  },
  {
   "cell_type": "code",
   "execution_count": null,
   "id": "d3f2097d-5eae-49a8-adc9-9ecd99032775",
   "metadata": {},
   "outputs": [],
   "source": [
    "frontal_data, frontal_olig_data = file_selector(frontal_region, frontal_olig_data, percentile=0)\n",
    "#cing_data = file_selector(cingulate_region)\n",
    "#front_data = file_selector(frontal_region)"
   ]
  },
  {
   "cell_type": "code",
   "execution_count": null,
   "id": "ec1e4469-27f2-4cb2-8042-02772b819dd8",
   "metadata": {},
   "outputs": [],
   "source": [
    "np.nanmax(phip_olig_data['alpha'].to_numpy())"
   ]
  },
  {
   "cell_type": "code",
   "execution_count": null,
   "id": "434917f5-97c6-419b-be46-1aa3fd597b08",
   "metadata": {},
   "outputs": [],
   "source": [
    "def puncta_cell_plotter(analysis_folder, pcl_data, oligomer_data, folder_to_save, lower_PCL=0.9, upper_PCL=1.1, mincellsize=2000, cell_string='C0', protein_string='C1',\n",
    "                       mask_of_interest='blue'):\n",
    "    condition = (\n",
    "            (pl.col(\"puncta_cell_likelihood\") > lower_PCL) & (pl.col(\"puncta_cell_likelihood\") <= upper_PCL)\n",
    "        )\n",
    "    pcl_data = pcl_data.filter(condition)\n",
    "    n_pcls = len(pcl_data)\n",
    "    for i in np.arange(n_pcls):\n",
    "        filename = pcl_data['image_filename'].to_numpy()[i]\n",
    "        puncta_file = oligomer_data.filter(pl.col('image_filename') == filename)\n",
    "        x = puncta_file['x'].to_numpy()\n",
    "        y = puncta_file['y'].to_numpy()\n",
    "        intensity = puncta_file['alpha'].to_numpy()\n",
    "        cell_filename = filename.split(protein_string+'.tif')[0]+cell_string+'.tif'\n",
    "        raw_cell_image = np.mean(IO.read_tiff_tophotons(cell_filename), axis=-1)\n",
    "        cell_mask_string = os.path.split(filename)[-1].split(protein_string+'.tif')[0]+cell_string+'_cellMask.tiff'\n",
    "        cell_mask, pil, centroids, areas = A_F.threshold_cell_areas(IO.read_tiff(os.path.join(analysis_folder, cell_mask_string)), lower_cell_size_threshold=mincellsize)\n",
    "        area_coi = pcl_data['area/pixels'].to_numpy()[i]\n",
    "        x_coi = pcl_data['x_centre'].to_numpy()[i]\n",
    "        y_coi = pcl_data['y_centre'].to_numpy()[i]\n",
    "        area_of_interest = np.isclose(area_coi, areas, atol=0.1)\n",
    "        x_of_interest = np.isclose(x_coi, centroids[:, 0], atol=0.1)\n",
    "        y_of_interest = np.isclose(y_coi, centroids[:, 1], atol=0.1)\n",
    "        indices_of_interest = pil[np.where(area_of_interest*x_of_interest*y_of_interest)[0]][0]\n",
    "        cell_mask_pcl = np.zeros_like(cell_mask)\n",
    "        cell_mask_pcl[indices_of_interest[:, 0], indices_of_interest[:, 1]] = 1\n",
    "        cell_mask[indices_of_interest[:, 0], indices_of_interest[:, 1]] = 0\n",
    "        savestring =  os.path.split(filename)[-1].split(protein_string+'.tif')[0]+cell_string+'_lowerPCL_'+str(lower_PCL).replace('.', 'p')+'_upperPCL_'+str(upper_PCL).replace('.', 'p')+'_nPCL_'+str(i)+'.svg'\n",
    "\n",
    "        fig, axs = plotter.one_column_plot()\n",
    "        xmin = np.max([0, x_coi-150])\n",
    "        xmax = np.min([cell_mask.shape[0], x_coi+150])\n",
    "        ymin = np.max([0, y_coi-150])\n",
    "        ymax = np.min([cell_mask.shape[1], y_coi+150])\n",
    "        punctaindices = (x > xmin) & (x <= xmax) & (y > ymin) & (y <= ymax)\n",
    "        x = x[punctaindices]\n",
    "        y = y[punctaindices]\n",
    "        intensity = intensity[punctaindices]\n",
    "        axs[0] = plotter.image_scatter_plot(axs=axs[0], data=raw_cell_image, xdata=x, ydata=y, mask=cell_mask, plotmask=True, facecolor='red', s=10, \n",
    "                                            alpha_scatter=intensity, masklinewidth=1, lws=0, scalebarlabel='PCL='+str(np.around(pcl_data['puncta_cell_likelihood'].to_numpy()[i])))\n",
    "        axs[0].contour(cell_mask_pcl, [0.5], linewidths=1.5, colors=mask_of_interest)\n",
    "        axs[0].set_xlim(xmin, xmax)\n",
    "        axs[0].set_ylim(ymin, ymax)\n",
    "        plt.savefig(os.path.join(folder_to_save, savestring), dpi=600, format='svg')\n",
    "        plt.show(block=False)\n",
    "    return"
   ]
  },
  {
   "cell_type": "code",
   "execution_count": null,
   "id": "95103765-210f-4f99-827d-cec6ef54c105",
   "metadata": {},
   "outputs": [],
   "source": [
    "puncta_cell_plotter(frontal_region, frontal_data, frontal_olig_data, folder_to_save=r\"C:\\Users\\jsb92\\Cambridge University Dropbox\\Joseph Beckwith\\Chemistry\\Lee\", lower_PCL=1.99, upper_PCL=2.01, mask_of_interest=\"#419fff\")"
   ]
  },
  {
   "cell_type": "code",
   "execution_count": null,
   "id": "31628c84-7a27-45e3-8ecd-3321373fec85",
   "metadata": {},
   "outputs": [],
   "source": [
    "phip_data['image_filename']"
   ]
  },
  {
   "cell_type": "code",
   "execution_count": null,
   "id": "c276046f-3574-4ac3-9960-16a243255fb1",
   "metadata": {},
   "outputs": [],
   "source": [
    "os.path.split(test['image_filename'][12])[-1].split('C1.tif')"
   ]
  },
  {
   "cell_type": "code",
   "execution_count": null,
   "id": "d3bb7a52-f809-46e1-be0f-094d0116c942",
   "metadata": {},
   "outputs": [],
   "source": [
    "test"
   ]
  },
  {
   "cell_type": "code",
   "execution_count": null,
   "id": "b90c121d-21c7-4035-a0e1-107fba2e84ac",
   "metadata": {},
   "outputs": [],
   "source": [
    "overall_folder = r'S:\\ASAP_Imaging_Data\\Main_Survey\\20241105_oligomers_in_cells'"
   ]
  },
  {
   "cell_type": "code",
   "execution_count": null,
   "id": "81c1c663-4a63-443e-bbcd-6ebb4612af5b",
   "metadata": {},
   "outputs": [],
   "source": [
    "from src import HelperFunctions\n",
    "HF = HelperFunctions.Helper_Functions()"
   ]
  },
  {
   "cell_type": "code",
   "execution_count": null,
   "id": "f65d8cd2-fa97-4cef-ab68-3b1aa9acb570",
   "metadata": {},
   "outputs": [],
   "source": [
    "data = HF.file_search(overall_folder, '.tif', '')"
   ]
  },
  {
   "cell_type": "code",
   "execution_count": null,
   "id": "b7496482-0ae3-46cb-aa56-5c182faa5f7c",
   "metadata": {},
   "outputs": [],
   "source": [
    "raw_data = [x for x in data if 'analysis' not in x]"
   ]
  },
  {
   "cell_type": "code",
   "execution_count": null,
   "id": "b6c1527f-3528-4d1d-86ed-82fe0719e600",
   "metadata": {},
   "outputs": [],
   "source": [
    "overall_size = None\n",
    "for i in raw_data:\n",
    "    size = os.path.getsize(i)\n",
    "    if overall_size == None:\n",
    "        overall_size = size\n",
    "    else:\n",
    "        overall_size += size"
   ]
  },
  {
   "cell_type": "code",
   "execution_count": null,
   "id": "43d64e84-10eb-4a9b-b8e4-c8f7791e5c32",
   "metadata": {},
   "outputs": [],
   "source": [
    "overall_size/np.power(1024., 4)"
   ]
  },
  {
   "cell_type": "code",
   "execution_count": null,
   "id": "f8f3a307-08ab-4b37-a22d-5faf92210d5f",
   "metadata": {},
   "outputs": [],
   "source": []
  }
 ],
 "metadata": {
  "kernelspec": {
   "display_name": "Python 3 (ipykernel)",
   "language": "python",
   "name": "python3"
  },
  "language_info": {
   "codemirror_mode": {
    "name": "ipython",
    "version": 3
   },
   "file_extension": ".py",
   "mimetype": "text/x-python",
   "name": "python",
   "nbconvert_exporter": "python",
   "pygments_lexer": "ipython3",
   "version": "3.12.7"
  }
 },
 "nbformat": 4,
 "nbformat_minor": 5
}
