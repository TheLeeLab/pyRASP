{
 "cells": [
  {
   "cell_type": "code",
   "execution_count": 1,
   "id": "cc18c59f-eecd-4d0b-a648-7c6c3190769f",
   "metadata": {},
   "outputs": [],
   "source": [
    "import os\n",
    "import sys\n",
    "sys.path.append('..')\n",
    "from src import RASPRoutines\n",
    "\n",
    "RASP = RASPRoutines.RASP_Routines()\n",
    "import pandas as pd\n",
    "from src import AnalysisFunctions\n",
    "\n",
    "A_F = AnalysisFunctions.Analysis_Functions()\n",
    "from src import IOFunctions\n",
    "\n",
    "from src import Image_Analysis_Functions\n",
    "\n",
    "IA_F = Image_Analysis_Functions.ImageAnalysis_Functions()\n",
    "\n",
    "from src import CoincidenceFunctions\n",
    "\n",
    "C_F = CoincidenceFunctions.Coincidence_Functions()\n",
    "\n",
    "from src import HelperFunctions\n",
    "H_F = HelperFunctions.Helper_Functions()\n",
    "\n",
    "IO = IOFunctions.IO_Functions()\n",
    "import numpy as np\n",
    "import matplotlib.pyplot as plt\n",
    "from scipy.spatial.distance import cdist\n",
    "\n",
    "from src import PlottingFunctions\n",
    "\n",
    "plotter = PlottingFunctions.Plotter()\n",
    "\n",
    "import polars as pl\n",
    "from scipy.signal import fftconvolve, convolve\n",
    "from scipy.ndimage import binary_opening, binary_closing, binary_fill_holes\n",
    "import skimage as ski"
   ]
  },
  {
   "cell_type": "code",
   "execution_count": 2,
   "id": "c8884ed1-3ce6-47c7-9266-6df1af5c45e6",
   "metadata": {},
   "outputs": [],
   "source": [
    "# parahipp, cingulate, frontal are the regions for the TCD presentation"
   ]
  },
  {
   "cell_type": "code",
   "execution_count": 3,
   "id": "189d1d36-b776-4194-ba22-14766db08180",
   "metadata": {},
   "outputs": [],
   "source": [
    "phip_region = r'S:\\ASAP_Imaging_Data\\Main_Survey\\20241105_oligomers_in_cells\\parahippocampal\\neurons\\PD_analysis'\n",
    "cingulate_region = r'S:\\ASAP_Imaging_Data\\Main_Survey\\20241105_oligomers_in_cells\\cingulate\\neurons\\PD_analysis'\n",
    "frontal_region = r'S:\\ASAP_Imaging_Data\\Main_Survey\\20241105_oligomers_in_cells\\frontal\\neurons\\PD_analysis'"
   ]
  },
  {
   "cell_type": "code",
   "execution_count": 36,
   "id": "3af47f0c-1a59-4141-a1a5-0d8a2fc90af8",
   "metadata": {},
   "outputs": [],
   "source": [
    "def file_selector(folder, oligomer_data, percentile=50):\n",
    "    files = os.listdir(folder)\n",
    "    file = np.sort([x for x in files if 'percentile' in x and '_'+str(int(percentile))+'_' in x])[0]\n",
    "    data = pl.read_csv(os.path.join(folder, file))\n",
    "    photonthreshold = float(file.split('_photonthreshold_')[1].split('_photons_')[0].replace('p', '.'))\n",
    "    oligomer_data = oligomer_data.filter((pl.col('sum_intensity_in_photons') > photonthreshold) & (pl.col('sum_intensity_in_photons') < 3000))\n",
    "    return data, oligomer_data"
   ]
  },
  {
   "cell_type": "code",
   "execution_count": 37,
   "id": "77d63ff5-cb7a-401f-936c-e56df86dbbb4",
   "metadata": {},
   "outputs": [],
   "source": [
    "phip_olig_data = pl.read_csv(os.path.join(phip_region, 'spot_analysis.csv'))"
   ]
  },
  {
   "cell_type": "code",
   "execution_count": 38,
   "id": "d3f2097d-5eae-49a8-adc9-9ecd99032775",
   "metadata": {},
   "outputs": [],
   "source": [
    "phip_data, phip_olig_data = file_selector(phip_region, phip_olig_data)\n",
    "#cing_data = file_selector(cingulate_region)\n",
    "#front_data = file_selector(frontal_region)"
   ]
  },
  {
   "cell_type": "code",
   "execution_count": null,
   "id": "434917f5-97c6-419b-be46-1aa3fd597b08",
   "metadata": {},
   "outputs": [],
   "source": [
    "def puncta_cell_plotter(analysis_folder, pcl_data, oligomer_data, lower_PCL=0.9, upper_PCL=1.1, mincellsize=2000, cell_string='C0', protein_string='C1',\n",
    "                       mask_of_interest='blue', folder_to_save):\n",
    "    condition = (\n",
    "            (pl.col(\"puncta_cell_likelihood\") > lower_PCL) & (pl.col(\"puncta_cell_likelihood\") <= upper_PCL)\n",
    "        )\n",
    "    pcl_data = pcl_data.filter(condition)\n",
    "    n_pcls = len(pcl_data)\n",
    "    for i in np.arange(n_pcls):\n",
    "        filename = pcl_data['image_filename'][i]\n",
    "        puncta_file = oligomer_data.filter(pl.col('image_filename') == filename)\n",
    "        x = puncta_file['x'].to_numpy()\n",
    "        y = puncta_file['y'].to_numpy()\n",
    "        intensity = puncta_file['sum_intensity_in_photons'].to_numpy()\n",
    "        cell_filename = filename.split(protein_string+'.tif')[0]+cell_string+'.tif'\n",
    "        raw_cell_image = np.mean(IO.read_tiff_tophotons(cell_filename), axis=-1)\n",
    "        cell_mask_string = os.path.split(filename)[-1].split(protein_string+'.tif')+cell_string+'.tif'\n",
    "        cell_mask, pil, centroids, areas = A_F.threshold_cell_areas(IO.read_tiff(os.path.join(analysis_folder, cell_mask_string)), lower_cell_size_threshold=mincellsize)\n",
    "        area_coi = pcl_data['area/pixels'][i]\n",
    "        x_coi = pcl_data['x_centre'][i]\n",
    "        y_coi = pcl_data['y_centre'][i]\n",
    "        area_of_interest = np.isclose(area_coi, areas, atol=0.1)\n",
    "        x_of_interest = np.isclose(x_coi, centroid[:, 0], atol=0.1)\n",
    "        y_of_interest = np.isclose(y_coi, centroid[:, 1], atol=0.1)\n",
    "        indices_of_interest = pil[np.where(area_of_interest*x_of_interest*y_of_interest)[0]]\n",
    "        cell_mask_pcl = np.zeros_like(cell_mask)\n",
    "        cell_mask_pcl[indices_of_interest[:, 0], indices_of_interest[:, 1]] = 1\n",
    "        cell_mask[indices_of_interest[:, 0], indices_of_interest[:, 1]] = 0\n",
    "    return"
   ]
  },
  {
   "cell_type": "code",
   "execution_count": 15,
   "id": "95103765-210f-4f99-827d-cec6ef54c105",
   "metadata": {},
   "outputs": [],
   "source": [
    "condition = (\n",
    "            (pl.col(\"puncta_cell_likelihood\") > 0.99) & (pl.col(\"puncta_cell_likelihood\") <= 1.01)\n",
    "        )\n",
    "test = phip_data.filter(condition)"
   ]
  },
  {
   "cell_type": "code",
   "execution_count": 22,
   "id": "c276046f-3574-4ac3-9960-16a243255fb1",
   "metadata": {},
   "outputs": [
    {
     "data": {
      "text/plain": [
       "['20240118_MS_R12_S34_SS1 - Position 1 [9]_XY1705577391_Z00_T3_', '']"
      ]
     },
     "execution_count": 22,
     "metadata": {},
     "output_type": "execute_result"
    }
   ],
   "source": [
    "os.path.split(test['image_filename'][12])[-1].split('C1.tif')"
   ]
  },
  {
   "cell_type": "code",
   "execution_count": 23,
   "id": "d3bb7a52-f809-46e1-be0f-094d0116c942",
   "metadata": {},
   "outputs": [
    {
     "data": {
      "text/html": [
       "<div><style>\n",
       ".dataframe > thead > tr,\n",
       ".dataframe > tbody > tr {\n",
       "  text-align: right;\n",
       "  white-space: pre-wrap;\n",
       "}\n",
       "</style>\n",
       "<small>shape: (17, 6)</small><table border=\"1\" class=\"dataframe\"><thead><tr><th>area/pixels</th><th>x_centre</th><th>y_centre</th><th>puncta_cell_likelihood</th><th>n_puncta_in_cell</th><th>image_filename</th></tr><tr><td>f64</td><td>f64</td><td>f64</td><td>f64</td><td>i64</td><td>str</td></tr></thead><tbody><tr><td>2490.0</td><td>936.505221</td><td>1014.707631</td><td>0.992983</td><td>5</td><td>&quot;S:\\ASAP_Imaging_Data\\Main_Surv…</td></tr><tr><td>9854.0</td><td>1066.906129</td><td>544.304242</td><td>0.993213</td><td>53</td><td>&quot;S:\\ASAP_Imaging_Data\\Main_Surv…</td></tr><tr><td>3928.0</td><td>207.808809</td><td>664.318737</td><td>0.991538</td><td>22</td><td>&quot;S:\\ASAP_Imaging_Data\\Main_Surv…</td></tr><tr><td>3459.0</td><td>1056.279561</td><td>786.923388</td><td>1.003952</td><td>21</td><td>&quot;S:\\ASAP_Imaging_Data\\Main_Surv…</td></tr><tr><td>6846.0</td><td>1125.366491</td><td>509.998685</td><td>0.999486</td><td>40</td><td>&quot;S:\\ASAP_Imaging_Data\\Main_Surv…</td></tr><tr><td>&hellip;</td><td>&hellip;</td><td>&hellip;</td><td>&hellip;</td><td>&hellip;</td><td>&hellip;</td></tr><tr><td>6245.0</td><td>436.435709</td><td>889.290793</td><td>1.008387</td><td>12</td><td>&quot;S:\\ASAP_Imaging_Data\\Main_Surv…</td></tr><tr><td>2085.0</td><td>647.929017</td><td>1046.017266</td><td>1.007215</td><td>10</td><td>&quot;S:\\ASAP_Imaging_Data\\Main_Surv…</td></tr><tr><td>3434.0</td><td>849.633372</td><td>118.65696</td><td>0.9959</td><td>16</td><td>&quot;S:\\ASAP_Imaging_Data\\Main_Surv…</td></tr><tr><td>8779.0</td><td>332.5258</td><td>841.483996</td><td>1.004196</td><td>73</td><td>&quot;S:\\ASAP_Imaging_Data\\Main_Surv…</td></tr><tr><td>4558.0</td><td>918.673322</td><td>1131.618254</td><td>0.993649</td><td>19</td><td>&quot;S:\\ASAP_Imaging_Data\\Main_Surv…</td></tr></tbody></table></div>"
      ],
      "text/plain": [
       "shape: (17, 6)\n",
       "┌─────────────┬─────────────┬─────────────┬────────────────────────┬──────────────────┬────────────────────────────────┐\n",
       "│ area/pixels ┆ x_centre    ┆ y_centre    ┆ puncta_cell_likelihood ┆ n_puncta_in_cell ┆ image_filename                 │\n",
       "│ ---         ┆ ---         ┆ ---         ┆ ---                    ┆ ---              ┆ ---                            │\n",
       "│ f64         ┆ f64         ┆ f64         ┆ f64                    ┆ i64              ┆ str                            │\n",
       "╞═════════════╪═════════════╪═════════════╪════════════════════════╪══════════════════╪════════════════════════════════╡\n",
       "│ 2490.0      ┆ 936.505221  ┆ 1014.707631 ┆ 0.992983               ┆ 5                ┆ S:\\ASAP_Imaging_Data\\Main_Surv │\n",
       "│             ┆             ┆             ┆                        ┆                  ┆ …                              │\n",
       "│ 9854.0      ┆ 1066.906129 ┆ 544.304242  ┆ 0.993213               ┆ 53               ┆ S:\\ASAP_Imaging_Data\\Main_Surv │\n",
       "│             ┆             ┆             ┆                        ┆                  ┆ …                              │\n",
       "│ 3928.0      ┆ 207.808809  ┆ 664.318737  ┆ 0.991538               ┆ 22               ┆ S:\\ASAP_Imaging_Data\\Main_Surv │\n",
       "│             ┆             ┆             ┆                        ┆                  ┆ …                              │\n",
       "│ 3459.0      ┆ 1056.279561 ┆ 786.923388  ┆ 1.003952               ┆ 21               ┆ S:\\ASAP_Imaging_Data\\Main_Surv │\n",
       "│             ┆             ┆             ┆                        ┆                  ┆ …                              │\n",
       "│ 6846.0      ┆ 1125.366491 ┆ 509.998685  ┆ 0.999486               ┆ 40               ┆ S:\\ASAP_Imaging_Data\\Main_Surv │\n",
       "│             ┆             ┆             ┆                        ┆                  ┆ …                              │\n",
       "│ …           ┆ …           ┆ …           ┆ …                      ┆ …                ┆ …                              │\n",
       "│ 6245.0      ┆ 436.435709  ┆ 889.290793  ┆ 1.008387               ┆ 12               ┆ S:\\ASAP_Imaging_Data\\Main_Surv │\n",
       "│             ┆             ┆             ┆                        ┆                  ┆ …                              │\n",
       "│ 2085.0      ┆ 647.929017  ┆ 1046.017266 ┆ 1.007215               ┆ 10               ┆ S:\\ASAP_Imaging_Data\\Main_Surv │\n",
       "│             ┆             ┆             ┆                        ┆                  ┆ …                              │\n",
       "│ 3434.0      ┆ 849.633372  ┆ 118.65696   ┆ 0.9959                 ┆ 16               ┆ S:\\ASAP_Imaging_Data\\Main_Surv │\n",
       "│             ┆             ┆             ┆                        ┆                  ┆ …                              │\n",
       "│ 8779.0      ┆ 332.5258    ┆ 841.483996  ┆ 1.004196               ┆ 73               ┆ S:\\ASAP_Imaging_Data\\Main_Surv │\n",
       "│             ┆             ┆             ┆                        ┆                  ┆ …                              │\n",
       "│ 4558.0      ┆ 918.673322  ┆ 1131.618254 ┆ 0.993649               ┆ 19               ┆ S:\\ASAP_Imaging_Data\\Main_Surv │\n",
       "│             ┆             ┆             ┆                        ┆                  ┆ …                              │\n",
       "└─────────────┴─────────────┴─────────────┴────────────────────────┴──────────────────┴────────────────────────────────┘"
      ]
     },
     "execution_count": 23,
     "metadata": {},
     "output_type": "execute_result"
    }
   ],
   "source": [
    "test"
   ]
  },
  {
   "cell_type": "code",
   "execution_count": null,
   "id": "b90c121d-21c7-4035-a0e1-107fba2e84ac",
   "metadata": {},
   "outputs": [],
   "source": []
  }
 ],
 "metadata": {
  "kernelspec": {
   "display_name": "Python 3 (ipykernel)",
   "language": "python",
   "name": "python3"
  },
  "language_info": {
   "codemirror_mode": {
    "name": "ipython",
    "version": 3
   },
   "file_extension": ".py",
   "mimetype": "text/x-python",
   "name": "python",
   "nbconvert_exporter": "python",
   "pygments_lexer": "ipython3",
   "version": "3.12.7"
  }
 },
 "nbformat": 4,
 "nbformat_minor": 5
}
