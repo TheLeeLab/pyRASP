{
 "cells": [
  {
   "cell_type": "code",
   "execution_count": 1,
   "id": "3039e538-ad51-4a2b-ad4e-7a41fe0412e9",
   "metadata": {},
   "outputs": [],
   "source": [
    "%gui qt5"
   ]
  },
  {
   "cell_type": "code",
   "execution_count": 2,
   "id": "cc18c59f-eecd-4d0b-a648-7c6c3190769f",
   "metadata": {},
   "outputs": [],
   "source": [
    "import os\n",
    "import sys\n",
    "sys.path.append('..')\n",
    "from src import RASPRoutines\n",
    "\n",
    "RASP = RASPRoutines.RASP_Routines()\n",
    "import pandas as pd\n",
    "from src import AnalysisFunctions\n",
    "\n",
    "A_F = AnalysisFunctions.Analysis_Functions()\n",
    "from src import IOFunctions\n",
    "\n",
    "from src import Image_Analysis_Functions\n",
    "\n",
    "IA_F = Image_Analysis_Functions.ImageAnalysis_Functions()\n",
    "\n",
    "from src import CoincidenceFunctions\n",
    "\n",
    "C_F = CoincidenceFunctions.Coincidence_Functions()\n",
    "\n",
    "from src import HelperFunctions\n",
    "H_F = HelperFunctions.Helper_Functions()\n",
    "\n",
    "IO = IOFunctions.IO_Functions()\n",
    "import numpy as np\n",
    "import matplotlib.pyplot as plt\n",
    "from scipy.spatial.distance import cdist\n",
    "\n",
    "from src import PlottingFunctions\n",
    "\n",
    "plotter = PlottingFunctions.Plotter()\n",
    "\n",
    "import polars as pl\n",
    "from scipy.signal import fftconvolve, convolve\n",
    "from scipy.ndimage import binary_opening, binary_closing, binary_fill_holes\n",
    "import skimage as ski\n",
    "\n",
    "from scipy import stats\n",
    "\n",
    "from scipy import ndimage as ndi\n",
    "from skimage import (exposure, feature, filters, io, measure,\n",
    "                      morphology, restoration, segmentation, transform,\n",
    "                      util)\n",
    "from skimage.measure import label, regionprops_table, centroid\n",
    "import napari\n"
   ]
  },
  {
   "cell_type": "code",
   "execution_count": 3,
   "id": "bb310a37-6785-437a-9499-85209bf66db7",
   "metadata": {},
   "outputs": [],
   "source": [
    "image = IO.read_tiff_tophotons('../example_images/Example_01_ProteinImage_C1.tif')"
   ]
  },
  {
   "cell_type": "code",
   "execution_count": 4,
   "id": "1f3ebc0b-a6fa-44a8-85c6-91b2b6053e4b",
   "metadata": {},
   "outputs": [
    {
     "name": "stdout",
     "output_type": "stream",
     "text": [
      "0\n",
      "[1 1 1 1 1 1 1 1 1 1 1 1 1 1 1 1 1 1 1 1 1 1 1 1 1 1 1 1 1 1 1 1 1 1 1 1 1\n",
      " 1 1 1 1 1 1 1 1 1 1 1 1 1 1 1 1 1 1 1 1 1 1 1 1 1 1 1 1 1 1 1 1 1 1 1 1 1\n",
      " 1 1 1 1 1 1 1 1 1 1 1 1 1 1 1 1 1 1 1 1 1 1 1 1 1 1 1 1 1 1 1 1 1 1 1 1 1\n",
      " 1 1 1 1 1 1 1 1 1 1 1 1 1 1 1 1 1 1 1 1 1 1 1 1 1 1 1 1 1 1 1 1 1 1 1 1]\n",
      "1\n",
      "[1 1 1 1 1 1 1 1 1 1 1 1 1 1 1 1 1 1 1 1 1 1 1 1 1 1 1 1 1 1 1 1 1 1 1 1 1\n",
      " 1 1 1 1 1 1 1 1 1 1 1 1 1 1 1 1 1 1 1 1 1 1 1 1 1 1 1 1 1 1 1 1 1 1 1 1 1\n",
      " 1 1 1 1 1 1 1 1 1 1 1 1 1 1 1 1 1 1 1 1 1 1 1 1 1 1 1 1 1 1 1 1 1 1 1 1 1\n",
      " 1 1 1 1 1 1 1 1 1 1 1 1 1 1 1 1 1 1 1 1 1 1 1 1 1 1 1 1 1 1 1 1 1 1 1 1 1\n",
      " 1 1 1 1 1 1 1 1 1 1 1 1 1 1 1 1]\n",
      "2\n",
      "[1 1 1 1 1 1 1 1 1 1 1 1 1 1 1 1 1 1 1 1 1 1 1 1 1 1 1 1 1 1 1 1 1 1 1 1 1\n",
      " 1 1 1 1 1 1 1 1 1 1 1 1 1 1 1 1 1 1 1 1 1 1 1 1 1 1 1 1 1 1 1 1 1 1 1 1 1\n",
      " 1 1 1 1 1 1 1 1 1 1 1 1 1 1 1 1 1 1 1 1 1 1 1 1 1 1 1 1 1 1 1 1 1 1 1 1 1\n",
      " 1 1 1 1 1 1 1 1 1 1 1 1 1 1 1 1 1 1 1 1 1 1 1 1 1 1 1 1 1 1 1 1 1 1 1 1 1\n",
      " 1 1 1 1 1 1 1 1 1 1 1 1 1 1 1 1 1 1 1 1 1 1 1]\n",
      "3\n",
      "[1 1 1 1 1 1 1 1 1 1 1 1 1 1 1 1 1 1 1 1 1 1 1 1 1 1 1 1 1 1 1 1 1 1 1 1 1\n",
      " 1 1 1 1 1 1 1 1 1 1 1 1 1 1 1 1 1 1 1 1 1 1 1 1 1 1 1 1 1 1 1 1 1 1 1 1 1\n",
      " 1 1 1 1 1 1 1 1 1 1 1 1 1 1 1 1 1 1 1 1 1 1 1 1 1 1 1 1 1 1 1 1 1 1 1 1 1\n",
      " 1 1 1 1 1 1 1 1 1 1 1 1 1 1 1 1 1 1 1 1 1 1 1 1 1 1 1 1 1 1 1 1 1 1 1 1 1\n",
      " 1 1 1 1 1 1 1 1 1 1 1 1 1 1 1 1 1 1 1 1 1 1 1 1 1 1 1 1 1 1 1 1 1 1 1 1 1\n",
      " 1 1]\n",
      "4\n",
      "[1 1 1 1 1 1 1 1 1 1 1 1 1 1 1 1 1 1 1 1 1 1 1 1 1 1 1 1 1 1 1 1 1 1 1 1 1\n",
      " 1 1 1 1 1 1 1 1 1 1 1 1 1 1 1 1 1 1 1 1 1 1 1 1 1 1 1 1 1 1 1 1 1 1 1 1 1\n",
      " 1 1 1 1 1 1 1 1 1 1 1 1 1 1 1 1 1 1 1 1 1 1 1 1 1 1 1 1 1 1 1 1 1 1 1 1 1\n",
      " 1 1 1 1 1 1 1 1 1 1 1 1 1 1 1 1 1 1 1 1 1 1 1 1 1 1 1 1 1 1 1 1 1 1 1 1 1\n",
      " 1 1 1 1 1 1 1 1 1 1 1 1 1 1 1 1 1 1 1 1 1 1 1 1 1 1 1 1 1]\n",
      "5\n",
      "[1 1 1 1 1 1 1 1 1 1 1 1 1 1 1 1 1 1 1 1 1 1 1 1 1 1 1 1 1 1 1 1 1 1 1 1 1\n",
      " 1 1 1 1 1 1 1 1 1 1 1 1 1 1 1 1 1 1 1 1 1 1 1 1 1 1 1 1 1 1 1 1 1 1 1 1 1\n",
      " 1 1 1 1 1 1 1 1 1 1 1 1 1 1 1 1 1 1 1 1 1 1 1 1 1 1 1 1 1 1 1 1 1 1 1 1 1\n",
      " 1 1 1 1 1 1 1 1 1 1 1 1 1 1 1 1 1 1 1 1 1 1 1 1 1 1 1 1 1 1 1 1 1 1 1 1 1\n",
      " 1 1 1 1 1 1 1 1 1 1 1 1 1 1 1 1 1 1 1 1 1 1 1 1 1 1 1 1 1 1 1 1]\n",
      "6\n",
      "[1 1 1 1 1 1 1 1 1 1 1 1 1 1 1 1 1 1 1 1 1 1 1 1 1 1 1 1 1 1 1 1 1 1 1 1 1\n",
      " 1 1 1 1 1 1 1 1 1 1 1 1 1 1 1 1 1 1 1 1 1 1 1 1 1 1 1 1 1 1 1 1 1 1 1 1 1\n",
      " 1 1 1 1 1 1 1 1 1 1 1 1 1 1 1 1 1 1 1 1 1 1 1 1 1 1 1 1 1 1 1 1 1 1 1 1 1\n",
      " 1 1 1 1 1 1 1 1 1 1 1 1 1 1 1 1 1 1 1 1 1 1 1 1 1 1 1 1 1 1 1 1 1 1 1 1 1\n",
      " 1 1 1 1 1 1 1 1 1 1 1 1 1 1 1 1 1 1 1 1 1 1 1 1 1 1 1 1 1 1 1]\n",
      "7\n",
      "[1 1 1 1 1 1 1 1 1 1 1 1 1 1 1 1 1 1 1 1 1 1 1 1 1 1 1 1 1 1 1 1 1 1 1 1 1\n",
      " 1 1 1 1 1 1 1 1 1 1 1 1 1 1 1 1 1 1 1 1 1 1 1 1 1 1 1 1 1 1 1 1 1 1 1 1 1\n",
      " 1 1 1 1 1 1 1 1 1 1 1 1 1 1 1 1 1 1 1 1 1 1 1 1 1 1 1 1 1 1 1 1 1 1 1 1 1\n",
      " 1 1 1 1 1 1 1 1 1 1 1 1 1 1 1 1 1 1 1 1 1 1 1 1 1 1 1 1 1 1 1 1 1 1 1 1 1\n",
      " 1 1 1 1 1 1 1 1 1 1 1 1 1 1 1 1 1 1 1 1 1 1 1 1 1 1 1 1 1 1]\n",
      "8\n",
      "[1 1 1 1 1 1 1 1 1 1 1 1 1 1 1 1 1 1 1 1 1 1 1 1 1 1 1 1 1 1 1 1 1 1 1 1 1\n",
      " 1 1 1 1 1 1 1 1 1 1 1 1 1 1 1 1 1 1 1 1 1 1 1 1 1 1 1 1 1 1 1 1 1 1 1 1 1\n",
      " 1 1 1 1 1 1 1 1 1 1 1 1 1 1 1 1 1 1 1 1 1 1 1 1 1 1 1 1 1 1 1 1 1 1 1 1 1\n",
      " 1 1 1 1 1 1 1 1 1 1 1 1 1 1 1 1 1 1 1 1 1 1 1 1 1 1 1 1 1 1 1 1 1 1 1 1 1\n",
      " 1 1 1 1 1 1 1 1 1 1 1 1 1 1 1 1 1 1 1 1 1 1 1 1 1 1 1 1 1 1 1 1 1 1 1 1 1\n",
      " 1 1 1 1 1 1 1 1 1 1 1 1 1 1 1 1 1 1 1 1 1 1 1 1]\n",
      "9\n",
      "[1 1 1 1 1 1 1 1 1 1 1 1 1 1 1 1 1 1 1 1 1 1 1 1 1 1 1 1 1 1 1 1 1 1 1 1 1\n",
      " 1 1 1 1 1 1 1 1 1 1 1 1 1 1 1 1 1 1 1 1 1 1 1 1 1 1 1 1 1 1 1 1 1 1 1 1 1\n",
      " 1 1 1 1 1 1 1 1 1 1 1 1 1 1 1 1 1 1 1 1 1 1 1 1 1 1 1 1 1 1 1 1 1 1 1 1 1\n",
      " 1 1 1 1 1 1 1 1 1 1 1 1 1 1 1 1 1 1 1 1 1 1 1 1 1 1 1 1 1 1 1 1 1 1 1 1 1\n",
      " 1 1 1 1 1 1 1 1 1 1 1 1 1 1 1 1 1 1 1 1 1 1 1 1 1 1 1 1 1 1 1 1 1 1 1 1 1\n",
      " 1 1 1 1 1 1 1 1 1 1 1 1 1 1]\n",
      "10\n",
      "[1 1 1 1 1 1 1 1 1 1 1 1 1 1 1 1 1 1 1 1 1 1 1 1 1 1 1 1 1 1 1 1 1 1 1 1 1\n",
      " 1 1 1 1 1 1 1 1 1 1 1 1 1 1 1 1 1 1 1 1 1 1 1 1 1 1 1 1 1 1 1 1 1 1 1 1 1\n",
      " 1 1 1 1 1 1 1 1 1 1 1 1 1 1 1 1 1 1 1 1 1 1 1 1 1 1 1 1 1 1 1 1 1 1 1 1 1\n",
      " 1 1 1 1 1 1 1 1 1 1 1 1 1 1 1 1 1 1 1 1 1 1 1 1 1 1 1 1 1 1 1 1 1 1 1 1 1\n",
      " 1 1 1 1 1 1 1 1 1 1 1 1 1 1 1 1 1 1 1 1 1 1 1 1 1 1 1 1 1 1 1 1 1 1 1 1 1\n",
      " 1 1 1 1 1 1 1 1 1 1 1 1 1 1 1 1 1 1 1 1 1 1 1 1 1 1 1 1]\n",
      "11\n",
      "[1 1 1 1 1 1 1 1 1 1 1 1 1 1 1 1 1 1 1 1 1 1 1 1 1 1 1 1 1 1 1 1 1 1 1 1 1\n",
      " 1 1 1 1 1 1 1 1 1 1 1 1 1 1 1 1 1 1 1 1 1 1 1 1 1 1 1 1 1 1 1 1 1 1 1 1 1\n",
      " 1 1 1 1 1 1 1 1 1 1 1 1 1 1 1 1 1 1 1 1 1 1 1 1 1 1 1 1 1 1 1 1 1 1 1 1 1\n",
      " 1 1 1 1 1 1 1 1 1 1 1 1 1 1 1 1 1 1 1 1 1 1 1 1 1 1 1 1 1 1 1 1 1 1 1 1 1\n",
      " 1 1 1 1 1 1 1 1 1 1 1 1 1 1 1 1 1 1 1 1 1 1 1 1 1 1 1 1 1 1 1 1 1 1 1 1 1\n",
      " 1 1 1 1 1 1 1 1 1 1 1 1 1 1 1 1 1 1 1 1 1 1 1 1 1 1 1 1 1 1 1 1 1 1 1 1 1\n",
      " 1 1 1 1 1 1]\n",
      "12\n",
      "[1 1 1 1 1 1 1 1 1 1 1 1 1 1 1 1 1 1 1 1 1 1 1 1 1 1 1 1 1 1 1 1 1 1 1 1 1\n",
      " 1 1 1 1 1 1 1 1 1 1 1 1 1 1 1 1 1 1 1 1 1 1 1 1 1 1 1 1 1 1 1 1 1 1 1 1 1\n",
      " 1 1 1 1 1 1 1 1 1 1 1 1 1 1 1 1 1 1 1 1 1 1 1 1 1 1 1 1 1 1 1 1 1 1 1 1 1\n",
      " 1 1 1 1 1 1 1 1 1 1 1 1 1 1 1 1 1 1 1 1 1 1 1 1 1 1 1 1 1 1 1 1 1 1 1 1 1\n",
      " 1 1 1 1 1 1 1 1 1 1 1 1 1 1 1 1 1 1 1 1 1 1 1 1 1 1 1 1 1 1 1 1 1 1 1 1 1\n",
      " 1 1 1 1 1 1 1 1 1 1 1 1 1 1 1 1 1 1 1 1 1 1 1 1 1 1 1 1 1 1 1 1 1 1 1 1 1\n",
      " 1 1 1 1 1 1 1 1 1 1 1 1 1 1 1 1 1 1 1 1 1 1 1 1 1 1 1 1 1 1 1 1 1 1 1 1 1\n",
      " 1 1 1 1 1 1 1 1 1 1 1 1 1 1 1 1 1 1 1 1 1 1 1]\n",
      "13\n",
      "[1 1 1 1 1 1 1 1 1 1 1 1 1 1 1 1 1 1 1 1 1 1 1 1 1 1 1 1 1 1 1 1 1 1 1 1 1\n",
      " 1 1 1 1 1 1 1 1 1 1 1 1 1 1 1 1 1 1 1 1 1 1 1 1 1 1 1 1 1 1 1 1 1 1 1 1 1\n",
      " 1 1 1 1 1 1 1 1 1 1 1 1 1 1 1 1 1 1 1 1 1 1 1 1 1 1 1 1 1 1 1 1 1 1 1 1 1\n",
      " 1 1 1 1 1 1 1 1 1 1 1 1 1 1 1 1 1 1 1 1 1 1 1 1 1 1 1 1 1 1 1 1 1 1 1 1 1\n",
      " 1 1 1 1 1 1 1 1 1 1 1 1 1 1 1 1 1 1 1 1 1 1 1 1 1 1 1 1 1 1 1 1 1 1 1 1 1\n",
      " 1 1 1 1 1 1 1 1 1 1 1 1 1 1 1 1 1 1 1 1 1 1 1 1 1 1 1 1 1 1 1 1 1 1 1 1 1\n",
      " 1 1 1 1 1 1 1 1 1 1 1 1 1 1 1 1 1 1 1 1 1 1 1 1 1 1 1 1 1 1 1 1 1 1 1 1 1\n",
      " 1 1 1 1 1 1 1 1 1 1 1 1 1 1 1 1 1 1 1 1 1 1 1 1 1 1 1 1 1 1 1 1 1 1 1 1 1\n",
      " 1 1 1 1 1 1 1 1 1 1 1 1 1 1 1 1 1 1 1 1 1 1 1 1 1 1 1 1 1 1 1 1 1 1 1 1 1\n",
      " 1 1 1 1 1 1 1 1 1 1 1 1 1 1 1 1 1 1 1 1 1 1 1 1 1 1 1 1 1 1 1 1 1 1 1 1 1\n",
      " 1 1 1 1 1 1 1 1 1 1 1 1 1 1 1 1 1 1 1 1 1 1 1 1 1 1 1 1 1 1 1 1 1 1 1 1]\n",
      "14\n",
      "[1 1 1 1 1 1 1 1 1 1 1 1 1 1 1 1 1 1 1 1 1 1 1 1 1 1 1 1 1 1 1 1 1 1 1 1 1\n",
      " 1 1 1 1 1 1 1 1 1 1 1 1 1 1 1 1 1 1 1 1 1 1 1 1 1 1 1 1 1 1 1 1 1 1 1 1 1\n",
      " 1 1 1 1 1 1 1 1 1 1 1 1 1 1 1 1 1 1 1 1 1 1 1 1 1 1 1 1 1 1 1 1 1 1 1 1 1\n",
      " 1 1 1 1 1 1 1 1 1 1 1 1 1 1 1 1 1 1 1 1 1 1 1 1 1 1 1 1 1 1 1 1 1 1 1 1 1\n",
      " 1 1 1 1 1 1 1 1 1 1 1 1 1 1 1 1 1 1 1 1 1 1 1 1 1 1 1 1 1 1 1 1 1 1 1 1 1\n",
      " 1 1 1 1 1 1 1 1 1 1 1 1 1 1 1 1 1 1 1 1 1 1 1 1 1 1 1 1 1 1 1 1 1 1 1 1 1\n",
      " 1 1 1 1 1 1 1 1 1 1 1 1 1 1 1 1 1 1 1 1 1 1 1 1 1 1 1 1 1 1 1 1 1 1 1 1 1\n",
      " 1 1 1 1 1 1 1 1 1 1 1 1 1 1 1 1 1 1 1 1 1 1 1 1 1 1 1 1 1 1 1 1 1 1 1 1 1\n",
      " 1 1 1 1 1 1 1 1 1 1 1 1 1 1 1 1 1 1 1 1 1 1 1 1 1 1 1 1 1 1 1 1 1 1 1 1 1\n",
      " 1 1 1 1 1 1 1 1 1 1 1 1 1 1 1 1 1 1 1 1 1 1 1 1 1 1 1 1 1 1 1 1 1 1 1 1 1\n",
      " 1 1 1 1 1 1 1 1 1 1 1 1 1 1 1 1 1 1 1 1 1 1 1 1 1 1 1 1 1 1 1 1 1 1 1 1 1\n",
      " 1]\n"
     ]
    }
   ],
   "source": [
    "to_save = IA_F.default_SMD_routine(image, pfa=1e-6)"
   ]
  },
  {
   "cell_type": "code",
   "execution_count": 146,
   "id": "b3d9f11d-61d7-4d75-8479-e95d6112c5bf",
   "metadata": {},
   "outputs": [
    {
     "data": {
      "text/html": [
       "<div><style>\n",
       ".dataframe > thead > tr,\n",
       ".dataframe > tbody > tr {\n",
       "  text-align: right;\n",
       "  white-space: pre-wrap;\n",
       "}\n",
       "</style>\n",
       "<small>shape: (3_328, 6)</small><table border=\"1\" class=\"dataframe\"><thead><tr><th>sum_intensity_in_photons</th><th>bg_per_punctum</th><th>bg_per_pixel</th><th>x</th><th>y</th><th>z</th></tr><tr><td>f64</td><td>f64</td><td>f64</td><td>i32</td><td>i32</td><td>i64</td></tr></thead><tbody><tr><td>94.210526</td><td>7634.210526</td><td>127.236842</td><td>1</td><td>852</td><td>1</td></tr><tr><td>171.052632</td><td>8223.684211</td><td>137.061404</td><td>20</td><td>291</td><td>1</td></tr><tr><td>218.421053</td><td>8034.210526</td><td>133.903509</td><td>32</td><td>126</td><td>1</td></tr><tr><td>58.421053</td><td>8160.526316</td><td>136.008772</td><td>53</td><td>264</td><td>1</td></tr><tr><td>75.789474</td><td>7968.421053</td><td>132.807018</td><td>68</td><td>752</td><td>1</td></tr><tr><td>&hellip;</td><td>&hellip;</td><td>&hellip;</td><td>&hellip;</td><td>&hellip;</td><td>&hellip;</td></tr><tr><td>98.421053</td><td>7592.105263</td><td>126.535088</td><td>1184</td><td>114</td><td>1</td></tr><tr><td>12.631579</td><td>7694.736842</td><td>128.245614</td><td>1188</td><td>681</td><td>1</td></tr><tr><td>1.052632</td><td>7494.736842</td><td>124.912281</td><td>1191</td><td>1057</td><td>1</td></tr><tr><td>38.947368</td><td>7615.789474</td><td>126.929825</td><td>1199</td><td>529</td><td>1</td></tr><tr><td>66.315789</td><td>7736.842105</td><td>128.947368</td><td>1199</td><td>596</td><td>1</td></tr></tbody></table></div>"
      ],
      "text/plain": [
       "shape: (3_328, 6)\n",
       "┌──────────────────────────┬────────────────┬──────────────┬──────┬──────┬─────┐\n",
       "│ sum_intensity_in_photons ┆ bg_per_punctum ┆ bg_per_pixel ┆ x    ┆ y    ┆ z   │\n",
       "│ ---                      ┆ ---            ┆ ---          ┆ ---  ┆ ---  ┆ --- │\n",
       "│ f64                      ┆ f64            ┆ f64          ┆ i32  ┆ i32  ┆ i64 │\n",
       "╞══════════════════════════╪════════════════╪══════════════╪══════╪══════╪═════╡\n",
       "│ 94.210526                ┆ 7634.210526    ┆ 127.236842   ┆ 1    ┆ 852  ┆ 1   │\n",
       "│ 171.052632               ┆ 8223.684211    ┆ 137.061404   ┆ 20   ┆ 291  ┆ 1   │\n",
       "│ 218.421053               ┆ 8034.210526    ┆ 133.903509   ┆ 32   ┆ 126  ┆ 1   │\n",
       "│ 58.421053                ┆ 8160.526316    ┆ 136.008772   ┆ 53   ┆ 264  ┆ 1   │\n",
       "│ 75.789474                ┆ 7968.421053    ┆ 132.807018   ┆ 68   ┆ 752  ┆ 1   │\n",
       "│ …                        ┆ …              ┆ …            ┆ …    ┆ …    ┆ …   │\n",
       "│ 98.421053                ┆ 7592.105263    ┆ 126.535088   ┆ 1184 ┆ 114  ┆ 1   │\n",
       "│ 12.631579                ┆ 7694.736842    ┆ 128.245614   ┆ 1188 ┆ 681  ┆ 1   │\n",
       "│ 1.052632                 ┆ 7494.736842    ┆ 124.912281   ┆ 1191 ┆ 1057 ┆ 1   │\n",
       "│ 38.947368                ┆ 7615.789474    ┆ 126.929825   ┆ 1199 ┆ 529  ┆ 1   │\n",
       "│ 66.315789                ┆ 7736.842105    ┆ 128.947368   ┆ 1199 ┆ 596  ┆ 1   │\n",
       "└──────────────────────────┴────────────────┴──────────────┴──────┴──────┴─────┘"
      ]
     },
     "execution_count": 146,
     "metadata": {},
     "output_type": "execute_result"
    }
   ],
   "source": [
    "to_save"
   ]
  },
  {
   "cell_type": "code",
   "execution_count": 148,
   "id": "7528a5f8-2fa1-4364-8a2a-7eb769ebd842",
   "metadata": {},
   "outputs": [
    {
     "data": {
      "image/png": "[encoded data removed]",
      "text/plain": [
       "<Figure size 333x350 with 2 Axes>"
      ]
     },
     "metadata": {},
     "output_type": "display_data"
    }
   ],
   "source": [
    "fig, axs = plotter.one_column_plot()\n",
    "\n",
    "z_plane = 1\n",
    "x = to_save.filter(pl.col(\"z\") == z_plane-1)[\"x\"].to_numpy()\n",
    "y = to_save.filter(pl.col(\"z\") == z_plane-1)[\"x\"].to_numpy()\n",
    "axs[0] = plotter.image_scatter_plot(axs=axs[0], data=image[z_plane, :, :], xdata=x, ydata=y)\n",
    "\n",
    "plt.show()"
   ]
  },
  {
   "cell_type": "code",
   "execution_count": null,
   "id": "c0ce3c6d-fcaa-4773-994a-119ed2d4f5df",
   "metadata": {},
   "outputs": [],
   "source": [
    "folder = '/home/jbeckwith/Documents/Cambridge University Dropbox/Joseph Beckwith/Chemistry/Lee/Data/Sycamore/20240520_SingleAB/data/'\n",
    "file = '20250219_RabbitAB568_50pM_100perc - Position 1 [9]_XY1739978633_Z0_T0_C0.tif'\n",
    "data = IO.read_tiff_tophotons(os.path.join(folder, file))"
   ]
  },
  {
   "cell_type": "code",
   "execution_count": null,
   "id": "87f79a56-913d-49f9-b960-5628efe899a9",
   "metadata": {},
   "outputs": [],
   "source": [
    "from src import SpotDetectionFunctions\n",
    "SD_F = SpotDetectionFunctions.SpotDetection_Functions()"
   ]
  },
  {
   "cell_type": "code",
   "execution_count": null,
   "id": "cbee1393-3645-43a0-814a-2acc8f8bbef8",
   "metadata": {},
   "outputs": [],
   "source": [
    "folder = '/home/jbeckwith/Documents/Cambridge University Dropbox/Joseph Beckwith/Chemistry/Lee/Data/Sycamore/20240520_SingleAB/data_analysis/'\n",
    "file = 'spot_analysis.csv'\n",
    "analysis = pl.read_csv(os.path.join(folder, file))"
   ]
  },
  {
   "cell_type": "code",
   "execution_count": null,
   "id": "91571da1-1a38-40b3-8021-af266ffe4350",
   "metadata": {},
   "outputs": [],
   "source": [
    "folder = '/home/jbeckwith/Documents/Cambridge University Dropbox/Joseph Beckwith/Chemistry/Lee/Data/Sycamore/20240520_SingleAB/data/'\n",
    "RASP.SMD_analysis(folder=folder, protein_string='50pM_100perc', pfa=1e-8)"
   ]
  },
  {
   "cell_type": "code",
   "execution_count": null,
   "id": "01f785a3-086f-49ca-9ae5-597e208d0eae",
   "metadata": {},
   "outputs": [],
   "source": [
    "folder = '/home/jbeckwith/Documents/Cambridge University Dropbox/Joseph Beckwith/Chemistry/Lee/Data/Sycamore/20240520_SingleAB/'\n",
    "file = 'spot_analysis.csv'\n",
    "frontal_analysis = pl.read_csv(os.path.join(folder, file))"
   ]
  },
  {
   "cell_type": "code",
   "execution_count": null,
   "id": "9baa150d-2714-48e0-a38b-d802f015edaa",
   "metadata": {},
   "outputs": [],
   "source": [
    "def lognormal(x, x0, sigma, c=1):\n",
    "    prefactor = np.divide(1., (x*sigma*np.sqrt(2*np.pi)))\n",
    "    exponential_term = -np.divide(np.square(np.log(x) - np.log(c*x0)), 2*np.square(sigma))\n",
    "    rho = prefactor*np.exp(exponential_term)\n",
    "    return rho"
   ]
  },
  {
   "cell_type": "code",
   "execution_count": null,
   "id": "62e7b598-6e32-48b0-9ea6-cd361e03f475",
   "metadata": {},
   "outputs": [],
   "source": [
    "fig, axs = plotter.one_column_plot()\n",
    "\n",
    "x = analysis['sum_intensity_in_photons'].to_numpy()/analysis['bg_per_pixel'].to_numpy()\n",
    "filter_index = np.where(x > 3)[0]\n",
    "\n",
    "x = analysis['sum_intensity_in_photons'].to_numpy()\n",
    "x = x[filter_index]\n",
    "axs[0] = plotter.histogram_plot(axs=axs[0], \n",
    "                                data=x,\n",
    "                                bins=np.histogram_bin_edges(x, bins='fd'),\n",
    "                               xaxislabel='photons per punctum',\n",
    "                               label='n = '+str(int(len(x))))\n",
    "axs[0].legend(loc='best')\n",
    "\n",
    "\n",
    "\n",
    "save_folder = '/home/jbeckwith/Documents/Cambridge University Dropbox/Joseph Beckwith/Chemistry/Lee/Data/Sycamore/20240520_SingleAB/data_analysis/'\n",
    "file = 'Photons_per_punctum.svg'\n",
    "\n",
    "axs[0].set_xlim([0, 300])\n",
    "plt.savefig(os.path.join(save_folder, file), format='svg', dpi=600)"
   ]
  },
  {
   "cell_type": "code",
   "execution_count": null,
   "id": "a770d5c9-adc7-4935-9aa9-8cc978c7923c",
   "metadata": {},
   "outputs": [],
   "source": [
    "fig, axs = plotter.one_column_plot()\n",
    "\n",
    "Y = analysis['sum_intensity_in_photons'].to_numpy()/analysis['bg_per_pixel'].to_numpy()\n",
    "filter_index = np.where(Y > 3)[0]\n",
    "\n",
    "Y = analysis['sum_intensity_in_photons'].to_numpy()\n",
    "Y = Y[filter_index]\n",
    "axs[0] = plotter.histogram_plot(axs=axs[0], \n",
    "                                data=Y,\n",
    "                                bins=np.histogram_bin_edges(x, bins='fd'),\n",
    "                               xaxislabel='photons per punctum',\n",
    "                               label='n = '+str(int(len(x))))\n",
    "\n",
    "\n",
    "pdf, bin_edges = np.histogram(Y, bins=np.histogram_bin_edges(Y, bins='fd'), density=True)\n",
    "counts, _ = np.histogram(Y, bins=np.histogram_bin_edges(Y, bins='fd'), density=False)\n",
    "\n",
    "\n",
    "from scipy.optimize import curve_fit #module to fit curves\n",
    "bins = (bin_edges[:-1] + np.diff(bin_edges) / 2)\n",
    "pdf, bin_edges = np.histogram(Y, bins=np.histogram_bin_edges(Y, bins='fd'), density=True)\n",
    "counts, _ = np.histogram(Y, bins=np.histogram_bin_edges(Y, bins='fd'), density=False)\n",
    "\n",
    "#create an arbitrary x axis to fit\n",
    "x_values_to_fit = np.linspace(1e-3,600,1000)\n",
    "\n",
    "# fit the data and plot the result\n",
    "param, cov = curve_fit(lognormal, bins, pdf, p0=(25,0.6), sigma=1/counts)\n",
    "axs[0] = plotter.line_plot(axs=axs[0],\n",
    "                           x=x_values_to_fit,\n",
    "                           y=lognormal(x_values_to_fit, *param), color='red', yaxislabel='probability density',\n",
    "                          xaxislabel='photons per punctum', label=r'Lognorm fit, $\\mu$='+str(np.around(param[0], 2))+', $\\sigma$='+str(np.around(param[1], 2)))\n",
    "\n",
    "axs[0].set_ylim([0, 0.027])\n",
    "\n",
    "axs[0].set_xlim([0, 300])\n",
    "axs[0].legend(loc='best')\n",
    "#save_folder = '/home/jbeckwith/Documents/Cambridge University Dropbox/Joseph Beckwith/Chemistry/Lee/Data/Sycamore/20240520_SingleAB/data_analysis/'\n",
    "#file = 'Photons_per_punctum_withfit.svg'\n",
    "plt.show()\n",
    "#plt.savefig(os.path.join(save_folder, file), format='svg', dpi=600)"
   ]
  },
  {
   "cell_type": "code",
   "execution_count": null,
   "id": "3e073b2d-7dcb-48e5-8776-143a04b943c6",
   "metadata": {},
   "outputs": [],
   "source": [
    "fig, axs = plotter.one_column_plot()\n",
    "\n",
    "x = frontal_analysis['sum_intensity_in_photons'].to_numpy()\n",
    "axs[0] = plotter.histogram_plot(axs=axs[0], \n",
    "                                data=x,\n",
    "                                bins=np.histogram_bin_edges(x, bins='fd'),\n",
    "                               xaxislabel='photons per punctum',\n",
    "                               label='n = '+str(int(len(x))))\n",
    "\n",
    "\n",
    "cmap=plt.get_cmap(\"viridis\")\n",
    "cn = np.arange(1, 51, 2)\n",
    "p_fraction = np.arange(1, 51, 2)[::-1]\n",
    "p_fraction = p_fraction/np.sum(p_fraction)\n",
    "for c in cn:\n",
    "    x_values_to_fit = np.linspace(1e-3,6000,10000)\n",
    "    y = lognormal(x_values_to_fit, param[0], param[1], c=c)\n",
    "    y = y/np.max(y)\n",
    "    y = y*0.001\n",
    "    axs[0] = plotter.line_plot(axs=axs[0],\n",
    "                               x=x_values_to_fit,\n",
    "                               y=y, color=cmap(float(c)/cn.max()), yaxislabel='probability density',\n",
    "                              xaxislabel='photons per punctum')\n",
    "\n",
    "y_new = sum_of_N_lognormal(x_values_to_fit, param[0], param[1], Ns=cn, p_fraction=p_fraction)\n",
    "\n",
    "axs[0] = plotter.line_plot(axs=axs[0],\n",
    "                           x=x_values_to_fit,\n",
    "                           y=y_new, color='red', yaxislabel='probability density',\n",
    "                          xaxislabel='photons per punctum')\n",
    "\n",
    "\n",
    "axs[0].set_xlim([1, 3000])\n",
    "axs[0].set_ylim([0, 0.002])\n",
    "axs[0].set_xscale('log')\n",
    "save_folder = '/home/jbeckwith/Documents/Cambridge University Dropbox/Joseph Beckwith/Chemistry/Lee/Data/Sycamore/20240520_SingleAB/data_analysis/'\n",
    "plt.show()\n",
    "#file = 'Photons_per_punctum_withmanyfits.svg'\n",
    "#plt.savefig(os.path.join(save_folder, file), format='svg', dpi=600)"
   ]
  },
  {
   "cell_type": "code",
   "execution_count": null,
   "id": "34e22072-a57b-45a2-bf67-1b5641a62e14",
   "metadata": {},
   "outputs": [],
   "source": [
    "def sum_of_N_lognormal(x, x0, sigma, Ns=[1], p_fraction=[1]):\n",
    "    prefactor = np.divide(1., (x*sigma*np.sqrt(2*np.pi)))\n",
    "    exponential_term = np.asarray(-np.divide(np.square(np.log(x) - np.log(np.matrix(c).T*x0)), 2*np.square(sigma)))\n",
    "    rho = np.transpose(p_fraction[np.newaxis])*np.multiply(prefactor, np.asarray(np.exp(exponential_term)))\n",
    "    return np.sum(rho, axis=0)"
   ]
  },
  {
   "cell_type": "code",
   "execution_count": null,
   "id": "de78b304-ad73-41a1-b3af-a283c6bab226",
   "metadata": {},
   "outputs": [],
   "source": [
    "Y = frontal_analysis['sum_intensity_in_photons'].to_numpy()\n",
    "x = (bin_edges[:-1] + np.diff(bin_edges) / 2)\n",
    "pdf, bin_edges = np.histogram(Y, bins=np.histogram_bin_edges(Y, bins='fd'), density=True)\n",
    "counts, _ = np.histogram(Y, bins=np.histogram_bin_edges(Y, bins='fd'), density=False)\n"
   ]
  },
  {
   "cell_type": "code",
   "execution_count": null,
   "id": "f3de7ad6-35d9-485e-b481-6cb6e7dd7b88",
   "metadata": {},
   "outputs": [],
   "source": [
    "Y.shape"
   ]
  },
  {
   "cell_type": "code",
   "execution_count": null,
   "id": "9efedb0f-263a-47fa-8e5a-3844180ad28f",
   "metadata": {},
   "outputs": [],
   "source": [
    "def uravu_n_antibody_relationship(n_antibody_guesses, x, Y, Yerr, x0, sigma):\n",
    "    Ns = np.arange(1, n_antibody_guesses)\n",
    "    sum_lognormal_specificN = functools.partial(sum_of_N_lognormal, Ns = Ns)\n",
    "    x0_bounds = (x0*0.9, x0*1.1)\n",
    "    sigma_bounds = (sigma*0.9, sigma*1.1)\n",
    "    pop_bound = (0, 1)\n",
    "    bounds = (x0_bounds, sigma_bounds)\n",
    "    for i in np.arange(len(Ns)):\n",
    "        bounds = bounds + (pop_bound,)\n",
    "    Yerr[Yerr == 0] = 1.\n",
    "    nth_modeller = Relationship(sum_lognormal_specificN, x, Y,\n",
    "                                 bounds=bounds, ordinate_error=Yerr)\n",
    "    nth_modeller.max_likelihood('diff_evo', display=True)\n",
    "    nth_modeller.nested_sampling()\n",
    "    return nth_modeller"
   ]
  },
  {
   "cell_type": "code",
   "execution_count": null,
   "id": "65eb6686-e6d3-4d55-b876-0ce98c852252",
   "metadata": {},
   "outputs": [],
   "source": [
    "n_40_modeller = uravu_n_antibody_relationship(41, x, counts, counts, param[0], param[1])"
   ]
  },
  {
   "cell_type": "code",
   "execution_count": null,
   "id": "78a77328-6f93-4691-9b55-72d536512a00",
   "metadata": {},
   "outputs": [],
   "source": [
    "fig, axs = plotter.one_column_plot()\n",
    "\n",
    "\n",
    "axs[0] = plotter.image_scatter_plot(axs=axs[0], data=image, xdata=detected_puncta[:, 0], ydata=detected_puncta[:, 1], s=10)\n",
    "\n",
    "axs[0].set_ylim([300, 700])\n",
    "axs[0].set_xlim([300, 700])\n",
    "plt.show()"
   ]
  },
  {
   "cell_type": "code",
   "execution_count": null,
   "id": "78aec878-6984-496c-8d6a-d68d543a088c",
   "metadata": {},
   "outputs": [],
   "source": [
    "frontal_region = r'S:\\ASAP_Imaging_Data\\Main_Survey\\20241105_oligomers_in_cells\\frontal\\microglia\\PD_analysis'\n",
    "oligomer_data = pl.read_csv(os.path.join(frontal_region, 'spot_analysis.csv'))\n",
    "oligomer_data = oligomer_data.filter(pl.col('sum_intensity_in_photons') < 3000)\n",
    "threshold = np.percentile(oligomer_data['sum_intensity_in_photons'].to_numpy(), 90)\n",
    "percentile = oligomer_data['sum_intensity_in_photons'].rank()/len(oligomer_data['sum_intensity_in_photons'])\n",
    "oligomer_data = oligomer_data.with_columns(percentile.alias(\"alpha\"))\n",
    "oligomer_data = oligomer_data.filter(pl.col('sum_intensity_in_photons') > threshold)\n",
    "oligomer_data = oligomer_data.rechunk()"
   ]
  },
  {
   "cell_type": "code",
   "execution_count": null,
   "id": "2b240e31-0cc2-4c3b-af43-7acd6938b833",
   "metadata": {},
   "outputs": [],
   "source": [
    "folder_to_save = r'C:\\Users\\jsb92\\Cambridge University Dropbox\\Joseph Beckwith\\Chemistry\\Lee\\Code\\Python\\pyRASP\\example_images_analysis\\For_ASAP_Paper_3DCellThresholdOtsu_SpecificGallery'"
   ]
  },
  {
   "cell_type": "code",
   "execution_count": null,
   "id": "6f7bf5d7-e06f-44b1-9ee3-2d3f40cad9d5",
   "metadata": {},
   "outputs": [],
   "source": [
    "filenames = np.unique(oligomer_data['image_filename'].to_numpy())"
   ]
  },
  {
   "cell_type": "code",
   "execution_count": null,
   "id": "4e967b50-5a23-4030-90e7-7fcb2ddc14be",
   "metadata": {},
   "outputs": [],
   "source": [
    "filename = filenames[8]\n",
    "specific_image = oligomer_data.filter(pl.col('image_filename') == filename)\n",
    "zi = int(np.unique(specific_image['zi'].to_numpy()))\n",
    "zf = int(np.unique(specific_image['zf'].to_numpy()))"
   ]
  },
  {
   "cell_type": "code",
   "execution_count": null,
   "id": "1ce52efc-fc86-407f-8178-f2c2531cb1d1",
   "metadata": {},
   "outputs": [],
   "source": [
    "def microglia_image_saver(filenames, analysis_folder, folder_to_save, protein_string='C1', cell_string='C0', lower_object_size=2000, lower_hole_size=100):\n",
    "    if not os.path.isdir(folder_to_save):\n",
    "        os.mkdir(folder_to_save)\n",
    "    for filename in filenames:\n",
    "        cell_filename = filename.split(protein_string+'.tif')[0]+cell_string+'.tif'\n",
    "        raw_cell_image = np.nanmax(IO.read_tiff_tophotons(cell_filename), axis=0)\n",
    "        \n",
    "        mask = np.array(IO.read_tiff(os.path.join(analysis_folder, os.path.split(filename)[-1].split(protein_string+'.tif')[0]+cell_string+'_cellMask.tiff')), dtype=bool)\n",
    "        filled = ndi.binary_fill_holes(mask)\n",
    "        \n",
    "        mask = morphology.remove_small_holes(\n",
    "            filled, \n",
    "            area_threshold=lower_hole_size\n",
    "        )\n",
    "        mask = morphology.remove_small_objects(\n",
    "            mask, \n",
    "            min_size=lower_object_size\n",
    "        )\n",
    "        mask_toplot = np.sum(mask, axis=0).clip(0, 1)\n",
    "        fig, axs = plotter.one_column_plot()\n",
    "        savestring =  os.path.split(filename)[-1].split(protein_string+'.tif')[0]+cell_string+'_examplemicroglia.svg'\n",
    "        axs[0] = plotter.image_plot(axs=axs[0], data=raw_cell_image, plotmask=True, mask=mask_toplot, cbar='off', masklinewidth=0.5)\n",
    "        plt.savefig(os.path.join(folder_to_save, savestring), dpi=600, format='svg')\n",
    "        plt.show(block=False)\n",
    "    return"
   ]
  },
  {
   "cell_type": "code",
   "execution_count": null,
   "id": "944a38bc-4753-41e3-b8d6-293f388e1d1c",
   "metadata": {},
   "outputs": [],
   "source": [
    "def microglia_oligomer_image_generator(filename, oligomer_data, analysis_folder, folder_to_save, protein_string='C1',\n",
    "                                       cell_string='C0', lower_object_size=2000, lower_hole_size=100, xmin=0, \n",
    "                                       xmax=1200, ymin=0, ymax=1200, points=True):\n",
    "    oligomers = oligomer_data.filter(pl.col('image_filename') == filename)\n",
    "    x = oligomers['x'].to_numpy()\n",
    "    y = oligomers['y'].to_numpy()\n",
    "    alpha = oligomers['alpha'].to_numpy()\n",
    "    zi = int(np.unique(oligomers['zi'].to_numpy())[0])\n",
    "    zf = int(np.unique(oligomers['zf'].to_numpy())[0])\n",
    "\n",
    "    cell_filename = filename.split(protein_string+'.tif')[0]+cell_string+'.tif'\n",
    "    raw_cell_image = IO.read_tiff_tophotons(cell_filename)[zi-1:zf-1, :, :]\n",
    "    cell_MIP = np.nanmax(raw_cell_image, axis=0)\n",
    "    \n",
    "    mask = detect_large_features(raw_cell_image, filters.threshold_otsu)\n",
    "    filled = ndi.binary_fill_holes(mask)\n",
    "    \n",
    "    mask = morphology.remove_small_holes(\n",
    "        filled, \n",
    "        area_threshold=lower_hole_size\n",
    "    )\n",
    "    mask = morphology.remove_small_objects(\n",
    "        mask, \n",
    "        min_size=lower_object_size\n",
    "    )\n",
    "    mask_toplot = np.sum(mask, axis=0).clip(0, 1)\n",
    "\n",
    "    punctaindices = (x > xmin) & (x < xmax) & (y > ymin) & (y < ymax)\n",
    "    x = x[punctaindices] \n",
    "    y = y[punctaindices]\n",
    "    alpha = alpha[punctaindices]\n",
    "    centroids = np.vstack([np.array(y, dtype=int), np.array(x, dtype=int)]).T\n",
    "    mask_indices = A_F.generate_indices(np.array(mask_toplot, dtype=bool), (1200, 1200), is_mask=True)\n",
    "    spot_indices = A_F.generate_indices(centroids, (1200, 1200))\n",
    "    spot_indices = C_F._apply_blur(spot_indices, (1200, 1200), 1)\n",
    "\n",
    "    in_cell = C_F.test_spot_spot_overlap(spot_indices, mask_indices, n_spot1=len(x), raw=True)\n",
    "    colours = np.array(np.zeros(len(in_cell)), dtype='str')\n",
    "    colours[in_cell == True] = 'red'\n",
    "    colours[in_cell == False] = '#add8e6'\n",
    "    \n",
    "    fig, axs = plotter.one_column_plot()\n",
    "    savestring =  os.path.split(filename)[-1].split(protein_string+'.tif')[0]+cell_string+'_examplemicroglia_witholigs.svg'\n",
    "    if points == True:\n",
    "        axs[0] = plotter.image_scatter_plot(axs=axs[0], data=cell_MIP[ymin:ymax, xmin:xmax], xdata=y-ymin, ydata=x-xmin, facecolor=colours, \n",
    "                                            alpha_scatter=alpha, s=15, lws=0, plotmask=True, mask=mask_toplot[ymin:ymax, xmin:xmax], cbar='off',\n",
    "                                            masklinewidth=1, maskcolor='darkred', scalebarlabel=r'1 $\\mu$m', scalebarsize=1000)\n",
    "    else:\n",
    "        axs[0] = plotter.image_plot(axs=axs[0], data=cell_MIP[xmin:xmax, ymin:ymax],\n",
    "                                            plotmask=True, mask=mask_toplot, cbar='off', masklinewidth=0.5)        \n",
    "    return fig, axs"
   ]
  },
  {
   "cell_type": "code",
   "execution_count": null,
   "id": "8d0396bb-811d-4dea-9d91-3b02aab79472",
   "metadata": {},
   "outputs": [],
   "source": [
    "filename = '20231019_MS_R4_S26_SS1 - Position 1 [9]_XY1697744559_Z00_T2_C1.tif'\n",
    "raw_filename = np.unique([x for x in filenames if filename in x])[0]"
   ]
  },
  {
   "cell_type": "code",
   "execution_count": null,
   "id": "7d4131a5-5d77-49f9-b332-82f00004bf88",
   "metadata": {},
   "outputs": [],
   "source": [
    "oligomers_forsaving = oligomer_data.filter(pl.col('image_filename') == raw_filename)"
   ]
  },
  {
   "cell_type": "code",
   "execution_count": null,
   "id": "06981d31-0b41-420c-b77d-0739860cd4f2",
   "metadata": {},
   "outputs": [],
   "source": [
    "# 600 size"
   ]
  },
  {
   "cell_type": "code",
   "execution_count": null,
   "id": "ae69a7df-2d5a-4c02-83d9-725a121b14f2",
   "metadata": {},
   "outputs": [],
   "source": [
    "fig, axs = microglia_oligomer_image_generator(raw_filename, oligomers_forsaving, frontal_region, folder_to_save, \n",
    "                                              lower_object_size=2000, lower_hole_size=100, xmin=850, xmax=1050,\n",
    "                                             ymin=475, ymax=675)\n",
    "plt.savefig(os.path.join(folder_to_save, filename.split('.tif')[0]+'_examplespotglia_zoomin.svg'), dpi=600, format='svg')\n",
    "plt.show(block=False)\n"
   ]
  },
  {
   "cell_type": "code",
   "execution_count": null,
   "id": "4eb3fe1a-6c78-45e6-a298-f11ee0b17395",
   "metadata": {},
   "outputs": [],
   "source": [
    "from skimage.filters import gaussian, threshold_li\n",
    "def detect_large_features(image, filter, sigma1=2.0, sigma2=40.0, hole_threshold=100, cell_threshold=2000):\n",
    "    large_mask = np.zeros_like(image)\n",
    "    for i in np.arange(image.shape[0]):\n",
    "        enhanced_image = gaussian(image[i, :, :], sigma=sigma1, truncate=2.0) - gaussian(\n",
    "                    image[i, :, :], sigma=sigma2, truncate=2.0\n",
    "                )\n",
    "        \n",
    "        # Create a binary mask for large features based on the threshold\n",
    "        large_mask[i, :, :] = enhanced_image > filter(enhanced_image)\n",
    "        \n",
    "        large_mask[i, :, :] = binary_opening(large_mask[i, :, :], structure=ski.morphology.disk(1))\n",
    "        large_mask[i, :, :] = binary_closing(large_mask[i, :, :], structure=ski.morphology.disk(5))\n",
    "    large_mask = ndi.binary_fill_holes(large_mask)\n",
    "    large_mask = morphology.remove_small_holes(\n",
    "        large_mask, \n",
    "        area_threshold=hole_threshold\n",
    "    )\n",
    "    large_mask = morphology.remove_small_objects(\n",
    "        large_mask, \n",
    "        min_size=cell_threshold\n",
    "    )\n",
    "    return large_mask.astype(bool)"
   ]
  },
  {
   "cell_type": "code",
   "execution_count": null,
   "id": "9f965719-6b49-46d2-a37d-693682e2088c",
   "metadata": {},
   "outputs": [],
   "source": [
    "protein_string = 'C1'\n",
    "cell_string = 'C0'\n",
    "image = IO.read_tiff(filename.split(protein_string+'.tif')[0]+cell_string+'.tif')[zi-1:zf-1, :, :]"
   ]
  },
  {
   "cell_type": "code",
   "execution_count": null,
   "id": "5c424e6a-441c-4d35-b28b-c2b83e010e17",
   "metadata": {},
   "outputs": [],
   "source": [
    "large_mask = detect_large_features(image, ski.filters.threshold_li, sigma2=40.0)\n"
   ]
  },
  {
   "cell_type": "code",
   "execution_count": null,
   "id": "fa187577-8049-4d5e-a7f3-b5d687701fc1",
   "metadata": {},
   "outputs": [],
   "source": [
    "plt.imshow(large_mask.sum(axis=0).clip(0,1))"
   ]
  },
  {
   "cell_type": "code",
   "execution_count": null,
   "id": "c26a239d-3631-47ba-b4f5-23832e7a0336",
   "metadata": {},
   "outputs": [],
   "source": [
    "original_spacing = ([0.5, 0.11, 0.11])\n",
    "viewer = napari.view_image(image, colormap='green', name='protein', ndisplay=3, scale=original_spacing)\n",
    "labeled_image, num_objects = measure.label(large_mask, connectivity=2, return_num=True)\n",
    "viewer.add_labels(labeled_image, name='labels', scale=original_spacing)"
   ]
  },
  {
   "cell_type": "code",
   "execution_count": null,
   "id": "c8884ed1-3ce6-47c7-9266-6df1af5c45e6",
   "metadata": {},
   "outputs": [],
   "source": [
    "# parahipp, cingulate, frontal are the regions for the TCD presentation"
   ]
  },
  {
   "cell_type": "code",
   "execution_count": null,
   "id": "189d1d36-b776-4194-ba22-14766db08180",
   "metadata": {},
   "outputs": [],
   "source": [
    "phip_region = r'S:\\ASAP_Imaging_Data\\Main_Survey\\20241105_oligomers_in_cells\\parahippocampal\\neurons\\PD_analysis'\n",
    "cingulate_region = r'S:\\ASAP_Imaging_Data\\Main_Survey\\20241105_oligomers_in_cells\\cingulate\\neurons\\PD_analysis'\n",
    "frontal_region = r'S:\\ASAP_Imaging_Data\\Main_Survey\\20241105_oligomers_in_cells\\frontal\\neurons\\PD_analysis'"
   ]
  },
  {
   "cell_type": "code",
   "execution_count": null,
   "id": "3af47f0c-1a59-4141-a1a5-0d8a2fc90af8",
   "metadata": {},
   "outputs": [],
   "source": [
    "def file_selector(folder, oligomer_data, percentile=50):\n",
    "    files = os.listdir(folder)\n",
    "    file = np.sort([x for x in files if 'percentile' in x and '_'+str(int(percentile))+'_' in x])[0]\n",
    "    data = pl.read_csv(os.path.join(folder, file))\n",
    "    photonthreshold = float(file.split('_photonthreshold_')[1].split('_photons_')[0].replace('p', '.'))\n",
    "    oligomer_data = oligomer_data.filter(pl.col('sum_intensity_in_photons') < 3000)\n",
    "    percentile = oligomer_data['sum_intensity_in_photons'].rank()/len(oligomer_data['sum_intensity_in_photons'])\n",
    "    oligomer_data = oligomer_data.with_columns(percentile.alias(\"alpha\"))\n",
    "    return data, oligomer_data"
   ]
  },
  {
   "cell_type": "code",
   "execution_count": null,
   "id": "6c013eb1-d31c-4b58-9af0-067384872794",
   "metadata": {},
   "outputs": [],
   "source": [
    "file = np.unique([x for x in frontal_data['image_filename'].to_numpy() if '20231012_MS_R2_S28_SS3 - Position 1 [9]_XY1697130515_Z00_T7' in x])"
   ]
  },
  {
   "cell_type": "code",
   "execution_count": null,
   "id": "77d63ff5-cb7a-401f-936c-e56df86dbbb4",
   "metadata": {},
   "outputs": [],
   "source": [
    "frontal_olig_data = pl.read_csv(os.path.join(frontal_region, 'spot_analysis.csv'))"
   ]
  },
  {
   "cell_type": "code",
   "execution_count": null,
   "id": "d3f2097d-5eae-49a8-adc9-9ecd99032775",
   "metadata": {},
   "outputs": [],
   "source": [
    "frontal_data, frontal_olig_data = file_selector(frontal_region, frontal_olig_data, percentile=0)\n",
    "#cing_data = file_selector(cingulate_region)\n",
    "#front_data = file_selector(frontal_region)"
   ]
  },
  {
   "cell_type": "code",
   "execution_count": null,
   "id": "434917f5-97c6-419b-be46-1aa3fd597b08",
   "metadata": {},
   "outputs": [],
   "source": [
    "def puncta_cell_plotter(analysis_folder, pcl_data, oligomer_data, folder_to_save, lower_PCL=0.9, upper_PCL=1.1, mincellsize=2000, cell_string='C0', protein_string='C1',\n",
    "                       mask_of_interest='blue', file=None):\n",
    "    condition = (\n",
    "            (pl.col(\"puncta_cell_likelihood\") > lower_PCL) & (pl.col(\"puncta_cell_likelihood\") <= upper_PCL)\n",
    "        )\n",
    "    pcl_data = pcl_data.filter(condition)\n",
    "    if file is not None:\n",
    "        pcl_data = pcl_data.filter(pl.col(\"image_filename\") == file)\n",
    "    n_pcls = len(pcl_data)\n",
    "    for i in np.arange(n_pcls):\n",
    "        filename = pcl_data['image_filename'].to_numpy()[i]\n",
    "        puncta_file = oligomer_data.filter(pl.col('image_filename') == filename)\n",
    "        x = puncta_file['x'].to_numpy()\n",
    "        y = puncta_file['y'].to_numpy()\n",
    "        intensity = puncta_file['alpha'].to_numpy()\n",
    "        cell_filename = filename.split(protein_string+'.tif')[0]+cell_string+'.tif'\n",
    "        raw_cell_image = np.nanmax(IO.read_tiff_tophotons(cell_filename)[:,:,9:13], axis=-1)\n",
    "        cell_mask_string = os.path.split(filename)[-1].split(protein_string+'.tif')[0]+cell_string+'_cellMask.tiff'\n",
    "        cell_mask, pil, centroids, areas = A_F.threshold_cell_areas(IO.read_tiff(os.path.join(analysis_folder, cell_mask_string)), lower_cell_size_threshold=mincellsize)\n",
    "        area_coi = pcl_data['area/pixels'].to_numpy()[i]\n",
    "        x_coi = pcl_data['x_centre'].to_numpy()[i]\n",
    "        y_coi = pcl_data['y_centre'].to_numpy()[i]\n",
    "        area_of_interest = np.isclose(area_coi, areas, atol=0.1)\n",
    "        x_of_interest = np.isclose(x_coi, centroids[:, 0], atol=0.1)\n",
    "        y_of_interest = np.isclose(y_coi, centroids[:, 1], atol=0.1)\n",
    "        indices_of_interest = pil[np.where(area_of_interest*x_of_interest*y_of_interest)[0]][0]\n",
    "        cell_mask_pcl = np.zeros_like(cell_mask)\n",
    "        cell_mask_pcl[indices_of_interest[:, 0], indices_of_interest[:, 1]] = 1\n",
    "        cell_mask[indices_of_interest[:, 0], indices_of_interest[:, 1]] = 0\n",
    "        savestring =  os.path.split(filename)[-1].split(protein_string+'.tif')[0]+cell_string+'_lowerPCL_'+str(lower_PCL).replace('.', 'p')+'_upperPCL_'+str(upper_PCL).replace('.', 'p')+'_nPCL_'+str(i)+'.svg'\n",
    "\n",
    "        fig, axs = plotter.one_column_plot()\n",
    "        xmin = np.max([0, x_coi-150])\n",
    "        xmax = np.min([cell_mask.shape[0], x_coi+150])\n",
    "        ymin = np.max([0, y_coi-150])\n",
    "        ymax = np.min([cell_mask.shape[1], y_coi+150])\n",
    "        punctaindices = (x > xmin) & (x <= xmax) & (y > ymin) & (y <= ymax)\n",
    "        x = x[punctaindices]\n",
    "        y = y[punctaindices]\n",
    "        intensity = intensity[punctaindices]\n",
    "        axs[0] = plotter.image_scatter_plot(axs=axs[0], data=raw_cell_image, xdata=x, ydata=y, mask=cell_mask, plotmask=True, facecolor='white', s=10, \n",
    "                                            alpha_scatter=intensity, masklinewidth=1, lws=0, scalebarlabel='PCL='+str(np.around(pcl_data['puncta_cell_likelihood'].to_numpy()[i])))\n",
    "        axs[0].contour(cell_mask_pcl, [0.5], linewidths=1.5, colors=mask_of_interest)\n",
    "        axs[0].set_xlim(xmin, xmax)\n",
    "        axs[0].set_ylim(ymin, ymax)\n",
    "        plt.savefig(os.path.join(folder_to_save, savestring), dpi=600, format='svg')\n",
    "        plt.show(block=False)\n",
    "    return"
   ]
  },
  {
   "cell_type": "code",
   "execution_count": null,
   "id": "95103765-210f-4f99-827d-cec6ef54c105",
   "metadata": {},
   "outputs": [],
   "source": [
    "puncta_cell_plotter(frontal_region, frontal_data, frontal_olig_data, file=file, folder_to_save=r\"C:\\Users\\jsb92\\Cambridge University Dropbox\\Joseph Beckwith\\Chemistry\\Lee\", lower_PCL=1.99, upper_PCL=2.01, mask_of_interest=\"#419fff\")"
   ]
  },
  {
   "cell_type": "code",
   "execution_count": null,
   "id": "31628c84-7a27-45e3-8ecd-3321373fec85",
   "metadata": {},
   "outputs": [],
   "source": [
    "phip_data['image_filename']"
   ]
  },
  {
   "cell_type": "code",
   "execution_count": null,
   "id": "c276046f-3574-4ac3-9960-16a243255fb1",
   "metadata": {},
   "outputs": [],
   "source": [
    "os.path.split(test['image_filename'][12])[-1].split('C1.tif')"
   ]
  },
  {
   "cell_type": "code",
   "execution_count": null,
   "id": "d3bb7a52-f809-46e1-be0f-094d0116c942",
   "metadata": {},
   "outputs": [],
   "source": [
    "test"
   ]
  },
  {
   "cell_type": "code",
   "execution_count": null,
   "id": "b90c121d-21c7-4035-a0e1-107fba2e84ac",
   "metadata": {},
   "outputs": [],
   "source": [
    "overall_folder = r'S:\\ASAP_Imaging_Data\\Main_Survey\\20241105_oligomers_in_cells'"
   ]
  },
  {
   "cell_type": "code",
   "execution_count": null,
   "id": "81c1c663-4a63-443e-bbcd-6ebb4612af5b",
   "metadata": {},
   "outputs": [],
   "source": [
    "from src import HelperFunctions\n",
    "HF = HelperFunctions.Helper_Functions()"
   ]
  },
  {
   "cell_type": "code",
   "execution_count": null,
   "id": "f65d8cd2-fa97-4cef-ab68-3b1aa9acb570",
   "metadata": {},
   "outputs": [],
   "source": [
    "data = HF.file_search(overall_folder, '.tif', '')"
   ]
  },
  {
   "cell_type": "code",
   "execution_count": null,
   "id": "b7496482-0ae3-46cb-aa56-5c182faa5f7c",
   "metadata": {},
   "outputs": [],
   "source": [
    "raw_data = [x for x in data if 'analysis' not in x]"
   ]
  },
  {
   "cell_type": "code",
   "execution_count": null,
   "id": "b6c1527f-3528-4d1d-86ed-82fe0719e600",
   "metadata": {},
   "outputs": [],
   "source": [
    "overall_size = None\n",
    "for i in raw_data:\n",
    "    size = os.path.getsize(i)\n",
    "    if overall_size == None:\n",
    "        overall_size = size\n",
    "    else:\n",
    "        overall_size += size"
   ]
  },
  {
   "cell_type": "code",
   "execution_count": null,
   "id": "43d64e84-10eb-4a9b-b8e4-c8f7791e5c32",
   "metadata": {},
   "outputs": [],
   "source": [
    "overall_size/np.power(1024., 4)"
   ]
  },
  {
   "cell_type": "code",
   "execution_count": null,
   "id": "f8f3a307-08ab-4b37-a22d-5faf92210d5f",
   "metadata": {},
   "outputs": [],
   "source": [
    "import numpy as np\n",
    "import matplotlib.pyplot as plt\n",
    "from scipy.stats import lognorm\n",
    "from uravu.distribution import Distribution\n",
    "from uravu.relationship import Relationship\n",
    "from uravu import plotting, utils"
   ]
  },
  {
   "cell_type": "code",
   "execution_count": null,
   "id": "787faec7-b999-4149-9036-38b09be90ba8",
   "metadata": {},
   "outputs": [],
   "source": [
    "np.random.seed(2)"
   ]
  },
  {
   "cell_type": "code",
   "execution_count": null,
   "id": "d57c6f5e-ae65-4894-9f6c-b9e674c1e61a",
   "metadata": {},
   "outputs": [],
   "source": [
    "x = np.linspace(10, 50, 20)\n",
    "y = .3 * x ** 2 - 1.4 * x + .2\n",
    "Y = []\n",
    "for i in y:\n",
    "    Y.append(lognorm(s=2, loc=i, scale=1))"
   ]
  },
  {
   "cell_type": "code",
   "execution_count": null,
   "id": "68f5c55d-a283-4852-ac0a-3dc487e51a15",
   "metadata": {},
   "outputs": [],
   "source": [
    "Y"
   ]
  },
  {
   "cell_type": "code",
   "execution_count": null,
   "id": "5ee047aa-cb08-442d-9c9b-8305e4d31fb4",
   "metadata": {},
   "outputs": [],
   "source": [
    "def one_degree(x, a, b):\n",
    "    return b * x + a\n",
    "\n",
    "def two_degree(x, a, b, c):\n",
    "    return c * x ** 2 + b * x + a\n",
    "\n",
    "def three_degree(x, a, b, c, d):\n",
    "    return d * x ** 3 + c * x ** 2 + b * x + a\n",
    "\n",
    "def four_degree(x, a, b, c, d, e):\n",
    "    return e * x ** 4 + d * x ** 3 + c * x ** 2 + b * x + a"
   ]
  },
  {
   "cell_type": "code",
   "execution_count": null,
   "id": "a3ee02c7-43e2-4a48-b385-301122fa8385",
   "metadata": {},
   "outputs": [],
   "source": [
    "one_modeller = Relationship(one_degree, x, Y,\n",
    "                            bounds=((-300, 0), (-2, 20)))\n",
    "one_modeller.max_likelihood('diff_evo')\n",
    "\n",
    "two_modeller = Relationship(two_degree, x, Y,\n",
    "                            bounds=((-2, 2), (-2, 2), (-1, 1)))\n",
    "two_modeller.max_likelihood('diff_evo')\n",
    "\n",
    "three_modeller = Relationship(three_degree, x, Y,\n",
    "                              bounds=((-2, 2), (-2, 2), (-1, 1), (-0.2, 0.2)))\n",
    "three_modeller.max_likelihood('diff_evo')\n",
    "\n",
    "four_modeller = Relationship(four_degree, x, Y,\n",
    "                             bounds=((-2, 2), (-2, 2), (-1, 1), (-0.2, 0.2), (-0.02, 0.02)))\n",
    "four_modeller.max_likelihood('diff_evo')"
   ]
  },
  {
   "cell_type": "code",
   "execution_count": null,
   "id": "c9b90a7a-7059-43b3-9d54-667b13d53aa2",
   "metadata": {},
   "outputs": [],
   "source": [
    "four_modeller.nested_sampling_results"
   ]
  },
  {
   "cell_type": "code",
   "execution_count": null,
   "id": "381df9c7-f615-4571-8e2e-9011aef904ad",
   "metadata": {},
   "outputs": [],
   "source": [
    "one_modeller.nested_sampling();\n",
    "\n",
    "two_modeller.nested_sampling();\n",
    "\n",
    "three_modeller.nested_sampling();\n",
    "\n",
    "four_modeller.nested_sampling();"
   ]
  },
  {
   "cell_type": "code",
   "execution_count": null,
   "id": "ac0dfc4e-cb81-47fd-a18f-bc256d320e4f",
   "metadata": {},
   "outputs": [],
   "source": [
    "variables = [len(one_modeller.variables), len(two_modeller.variables),\n",
    "             len(three_modeller.variables), len(four_modeller.variables)]\n",
    "ln_evidence = [one_modeller.ln_evidence.n, two_modeller.ln_evidence.n,\n",
    "               three_modeller.ln_evidence.n, four_modeller.ln_evidence.n]\n",
    "ln_evidence_err = [one_modeller.ln_evidence.s, two_modeller.ln_evidence.s,\n",
    "                   three_modeller.ln_evidence.s, four_modeller.ln_evidence.s]"
   ]
  },
  {
   "cell_type": "code",
   "execution_count": null,
   "id": "eedfb5fe-6083-4429-8a17-9a2273401c1c",
   "metadata": {},
   "outputs": [],
   "source": [
    "plt.errorbar(variables, ln_evidence, ln_evidence_err, marker='o', ls='')\n",
    "plt.xlabel('Number of variables')\n",
    "plt.ylabel(r'$\\ln{Z}$')\n",
    "plt.show()"
   ]
  },
  {
   "cell_type": "code",
   "execution_count": null,
   "id": "5f567c45-a059-4c8d-afd5-d5fa06aa954d",
   "metadata": {},
   "outputs": [],
   "source": [
    "plotting.plot_relationship(one_modeller)\n",
    "plt.show()"
   ]
  },
  {
   "cell_type": "code",
   "execution_count": null,
   "id": "9ab2130d-4bc8-431c-ad9b-b7d5033bcc33",
   "metadata": {},
   "outputs": [],
   "source": [
    "15**3"
   ]
  },
  {
   "cell_type": "code",
   "execution_count": null,
   "id": "04c1ca73-a4e8-45cb-8ce0-b13fe113dd78",
   "metadata": {},
   "outputs": [],
   "source": [
    "k1, k2 = IA_F.create_kernel(1.4, 2.0)  # create image processing kernels"
   ]
  },
  {
   "cell_type": "code",
   "execution_count": null,
   "id": "0222636d-6b76-4319-96e2-64628ce6a17e",
   "metadata": {},
   "outputs": [],
   "source": [
    "from skimage.measure import label, regionprops_table"
   ]
  },
  {
   "cell_type": "code",
   "execution_count": null,
   "id": "0dc7847c-50be-4031-827a-66ad9e4ebbbc",
   "metadata": {},
   "outputs": [],
   "source": [
    "data_spots = IO.read_tiff_tophotons('../example_images/Example_01_ProteinImage_C1.tif')\n",
    "data_cell = IO.read_tiff_tophotons('../example_images/Example_01_CellImage_C0.tif')\n",
    "mask = np.array(IO.read_tiff('../example_images_analysis/Example_01_ProteinImage_C0_cellMask.tiff'), dtype=bool)\n",
    "original_spacing = np.array([0.5, 0.11, 0.11])\n",
    "\n",
    "width = 15\n",
    "filled = ndi.binary_fill_holes(mask)\n",
    "\n",
    "mask = morphology.remove_small_holes(\n",
    "    filled, \n",
    "    area_threshold=width**3\n",
    ")\n",
    "mask = morphology.remove_small_objects(\n",
    "    mask, \n",
    "    min_size=width**3\n",
    ")\n",
    "\n",
    "viewer = napari.view_image(data_cell, colormap='green', name='protein', ndisplay=3, scale=original_spacing)\n",
    "viewer.add_image(mask, colormap='magenta', name='large spots', scale=original_spacing)\n",
    "labeled_image, num_objects = measure.label(mask, connectivity=2, return_num=True)\n",
    "viewer.add_labels(labeled_image, name='labels', scale=original_spacing)"
   ]
  },
  {
   "cell_type": "code",
   "execution_count": null,
   "id": "71f1f665-2da6-4b06-927c-d28e1be628f6",
   "metadata": {},
   "outputs": [],
   "source": [
    "properties = (\"centroid\", \"area\", \"coords\")\n",
    "props = regionprops_table(\n",
    "            labeled_image, intensity_image=None, properties=properties\n",
    "        )"
   ]
  },
  {
   "cell_type": "code",
   "execution_count": null,
   "id": "654a5d4b-ba2e-45f1-a843-bb7088587895",
   "metadata": {},
   "outputs": [],
   "source": [
    "props['area']"
   ]
  },
  {
   "cell_type": "code",
   "execution_count": null,
   "id": "4a5dbd79-5d58-4092-b569-3577b8173d35",
   "metadata": {},
   "outputs": [],
   "source": [
    "plane=0\n",
    "plt.imshow(labeled_image[plane, :, :], cmap='Grays')\n",
    "\n",
    "integer = 22\n",
    "coords = props['coords'][integer][np.where(props['coords'][integer][:, 0] == plane)[0]][:,1:]\n",
    "fake_image = np.zeros_like(labeled_image[plane, :, :])\n",
    "fake_image[coords[:, 0], coords[:, 1]] = 5\n",
    "plt.imshow(fake_image, cmap='Blues', alpha=0.5)\n"
   ]
  },
  {
   "cell_type": "code",
   "execution_count": null,
   "id": "043b9d24-0c32-4740-b5ec-b2f021120438",
   "metadata": {},
   "outputs": [],
   "source": [
    "props['coords'][1][np.where(props['coords'][1][:, 0] == plane)[0]][:, 1:]"
   ]
  },
  {
   "cell_type": "code",
   "execution_count": null,
   "id": "9cbc6512-ea62-4302-af6a-42382c934c8c",
   "metadata": {},
   "outputs": [],
   "source": [
    "props['coords'][1][:1347, 0]"
   ]
  },
  {
   "cell_type": "code",
   "execution_count": null,
   "id": "064f8efd-e34f-4cf7-9174-e7912dd1bc26",
   "metadata": {},
   "outputs": [],
   "source": [
    "props['coords'][0][np.where(props['coords'][0][:, 0] == 7)[0]][:,1:]"
   ]
  },
  {
   "cell_type": "code",
   "execution_count": null,
   "id": "c69b40b5-211c-4e08-a758-9e3a20eed0c9",
   "metadata": {},
   "outputs": [],
   "source": [
    "sum_gradient = np.sum(data, axis=(1, 2))"
   ]
  },
  {
   "cell_type": "code",
   "execution_count": null,
   "id": "f23309cc-0203-4c02-852e-2f9db7eee572",
   "metadata": {},
   "outputs": [],
   "source": [
    "fig, axs = plotter.two_column_plot(ncolumns=2, widthratio=[1,1])\n",
    "\n",
    "axs[0] = plotter.image_plot(axs=axs[0], data=data[5, 600:800, 800:1200])\n",
    "axs[1] = plotter.image_plot(axs=axs[1], data=denoised[5, 600:800, 800:1200])\n"
   ]
  },
  {
   "cell_type": "code",
   "execution_count": null,
   "id": "ce73691c-adc9-419c-90f6-98056bb210ac",
   "metadata": {},
   "outputs": [],
   "source": [
    "edges = filters.sobel(denoised)\n",
    "\n",
    "viewer = napari.view_image(data, colormap='green', name='nuclei', ndisplay=3, scale=original_spacing)\n",
    "viewer.add_image(edges, colormap='magenta', name='edges', scale=original_spacing)"
   ]
  },
  {
   "cell_type": "code",
   "execution_count": null,
   "id": "809aa8a0-0e35-448b-aa76-5ffcad7b8070",
   "metadata": {},
   "outputs": [],
   "source": [
    "li_thresholded = smoothed > filters.threshold_triangle(smoothed)"
   ]
  },
  {
   "cell_type": "code",
   "execution_count": null,
   "id": "04920448-07d6-49bb-b58b-15e3794e1aba",
   "metadata": {},
   "outputs": [],
   "source": [
    "viewer.add_image(li_thresholded, name='thresholded_sobel', opacity=0.3, scale=original_spacing)"
   ]
  },
  {
   "cell_type": "code",
   "execution_count": null,
   "id": "b187bb91-1d51-402d-bdfb-0f588add9a52",
   "metadata": {},
   "outputs": [],
   "source": [
    "filled = ndi.binary_fill_holes(li_thresholded)\n",
    "\n",
    "#viewer.add_image(filled, name='filled', opacity=0.3, scale=original_spacing)"
   ]
  },
  {
   "cell_type": "code",
   "execution_count": null,
   "id": "36b96086-ba06-4ae6-9f03-e5db6277fd41",
   "metadata": {},
   "outputs": [],
   "source": [
    "width = 20\n",
    "\n",
    "remove_holes = morphology.remove_small_holes(\n",
    "    filled, \n",
    "    area_threshold=width ** 3\n",
    ")"
   ]
  },
  {
   "cell_type": "code",
   "execution_count": null,
   "id": "53ad18d6-3e0a-49de-acf0-4a21bc066f45",
   "metadata": {},
   "outputs": [],
   "source": [
    "width = 20\n",
    "\n",
    "remove_objects = morphology.remove_small_objects(\n",
    "    remove_holes, \n",
    "    min_size=width ** 3\n",
    ")\n",
    "\n",
    "#viewer.add_image(remove_objects, name='cleaned', opacity=0.3, scale=original_spacing);"
   ]
  },
  {
   "cell_type": "code",
   "execution_count": null,
   "id": "7f57efe2-9ca1-4b78-80bb-74ff62419837",
   "metadata": {},
   "outputs": [],
   "source": [
    "IO.write_tiff(1*remove_objects, 'Example_3D_Segmentation.tiff', bit=np.uint8)"
   ]
  },
  {
   "cell_type": "code",
   "execution_count": null,
   "id": "df342ae0-23c3-4294-a17f-4a4a4dd5f3d1",
   "metadata": {},
   "outputs": [],
   "source": [
    "labels = measure.label(remove_objects)\n",
    "\n",
    "viewer.add_labels(labels, name='labels', scale=original_spacing)"
   ]
  },
  {
   "cell_type": "code",
   "execution_count": null,
   "id": "00bdc6bd-7e51-4845-ace5-c4819f4a1723",
   "metadata": {},
   "outputs": [],
   "source": [
    "transformed = ndi.distance_transform_edt(remove_objects, sampling=original_spacing)\n",
    "\n",
    "maxima = morphology.local_maxima(transformed)\n",
    "viewer.add_points(np.transpose(np.nonzero(maxima)), name='bad points')"
   ]
  },
  {
   "cell_type": "code",
   "execution_count": null,
   "id": "c4a749c6-8247-4c11-b76f-f966b9ed81bf",
   "metadata": {},
   "outputs": [],
   "source": [
    "viewer.layers['bad points'].visible = False\n",
    "points = viewer.add_points(name='interactive points', ndim=3)\n",
    "points.mode = 'add'"
   ]
  },
  {
   "cell_type": "code",
   "execution_count": null,
   "id": "63bac78e-2cc1-4051-87d4-a4f4e889492b",
   "metadata": {},
   "outputs": [],
   "source": [
    "marker_locations = points.data\n",
    "\n",
    "markers = np.zeros(data.shape, dtype=np.uint32)\n",
    "marker_indices = tuple(np.round(marker_locations).astype(int).T)\n",
    "markers[marker_indices] = np.arange(len(marker_locations)) + 1\n",
    "markers_big = morphology.dilation(markers, morphology.ball(5))\n",
    "\n",
    "segmented = segmentation.watershed(\n",
    "    edges,\n",
    "    markers_big, \n",
    "    mask=remove_objects\n",
    ")\n",
    "\n",
    "viewer.add_labels(segmented, name='segmented')"
   ]
  },
  {
   "cell_type": "code",
   "execution_count": null,
   "id": "ba13216f-8587-4b78-9cd9-19c6cf32e687",
   "metadata": {},
   "outputs": [],
   "source": [
    "def plot_image_fft(input_image, n_labels=7, d=1):\n",
    "    \n",
    "    '''\n",
    "    Plot an image alongside its frequency-domain representation.\n",
    "    \n",
    "    \n",
    "    Parameters\n",
    "    ----------\n",
    "    img_path: (str) the path to an image\n",
    "    n_labels: (int) the number of labels to space out along each axis, default=7\n",
    "                      best if an odd number\n",
    "    \n",
    "    d: (int) sample spacing (inverse of the sampling rate). default=1\n",
    "                      if the image has meaningful units, this can be altered to match\n",
    "    \n",
    "    '''\n",
    "    \n",
    "    # trying to get the units of the FFT plot\n",
    "    #  \"The returned float array `f` contains the frequency bin centers in cycles\n",
    "    #   per unit of the sample spacing (with zero at the start).  For instance, if\n",
    "    #  the sample spacing is in seconds, then the frequency unit is cycles/second.\"\n",
    "    freqx = np.fft.fftfreq(input_image.shape[1], d=d)\n",
    "    freqy = np.fft.fftfreq(input_image.shape[0], d=d)\n",
    "    x_step = int(input_image.shape[1]/n_labels)\n",
    "    xtick_pos = np.arange(0,input_image.shape[1])[::x_step]\n",
    "    xtick_labels = np.round(freqx[::x_step],2)\n",
    "    y_step = int(input_image.shape[0]/n_labels)\n",
    "    ytick_pos = np.arange(0,input_image.shape[0])[::y_step]\n",
    "    ytick_labels = np.round(freqy[::y_step],2)\n",
    "\n",
    "    # convert to frequency domain\n",
    "    img_freq = np.fft.fft2(input_image)\n",
    "\n",
    "    # calculate amplitude spectrum\n",
    "    img_amp = np.fft.fftshift(np.abs(img_freq))\n",
    "\n",
    "    # for display, take the logarithm\n",
    "    img_amp_disp = np.log(img_amp + 1e-4)\n",
    "\n",
    "    # rescale to [0.0, 1.0] for display\n",
    "    result_image = (((img_amp_disp - np.min(img_amp_disp)) * 1.0) / np.ptp(img_amp_disp))\n",
    "\n",
    "    fig,ax = plt.subplots(1,2, figsize=(10,6))\n",
    "    ax[0].imshow(input_image)\n",
    "    ax[1].imshow(result_image)\n",
    "    ax[1].set_xticks(xtick_pos, xtick_labels)\n",
    "    ax[1].set_yticks(ytick_pos, ytick_labels)\n",
    "    plt.show()\n",
    "    plt.close()"
   ]
  },
  {
   "cell_type": "code",
   "execution_count": null,
   "id": "5c0a351d-2886-47b7-a55b-ba97b20c21c9",
   "metadata": {},
   "outputs": [],
   "source": [
    "plot_image_fft(data[5, :, :], d=0.11, n_labels=4)"
   ]
  },
  {
   "cell_type": "code",
   "execution_count": null,
   "id": "8f7ff5cb-01a9-46d9-9821-14885e275225",
   "metadata": {},
   "outputs": [],
   "source": [
    "freq = np.fft.fftfreq(10, d=0.11)"
   ]
  },
  {
   "cell_type": "code",
   "execution_count": null,
   "id": "90c4b6d1-fb5a-4284-8b86-0130e76f6407",
   "metadata": {},
   "outputs": [],
   "source": [
    "freq"
   ]
  },
  {
   "cell_type": "code",
   "execution_count": null,
   "id": "9abcc3b1-5fc9-49e5-9408-c47106418d85",
   "metadata": {},
   "outputs": [],
   "source": [
    "import numpy as np\n",
    "import matplotlib.pyplot as plt"
   ]
  },
  {
   "cell_type": "code",
   "execution_count": null,
   "id": "572eb145-0232-4eac-9084-82ab11a6d4d8",
   "metadata": {},
   "outputs": [],
   "source": [
    "n_photons = 700"
   ]
  },
  {
   "cell_type": "code",
   "execution_count": null,
   "id": "846252ad-dac4-4aca-8b70-bbfc0bdd22b1",
   "metadata": {},
   "outputs": [],
   "source": [
    "dist = None\n",
    "fraction = np.linspace(1, 0.1, 10)\n",
    "n_molecules = 10000\n",
    "for i, value in enumerate(fraction):\n",
    "    if dist is None:\n",
    "        dist = np.abs(np.random.normal(loc=n_photons*i, scale=1.5*(n_photons*i), size=int(n_molecules*value)))\n",
    "    else:\n",
    "        dist = np.concatenate([dist, np.abs(np.random.normal(loc=n_photons*i, scale=1.5*(n_photons*i), size=int(n_molecules*value)))])"
   ]
  },
  {
   "cell_type": "code",
   "execution_count": null,
   "id": "9f402839-d444-49fb-be6d-4119a7f7ae82",
   "metadata": {},
   "outputs": [],
   "source": []
  },
  {
   "cell_type": "code",
   "execution_count": null,
   "id": "38cb8da6-7767-469f-896e-5966ecc03f52",
   "metadata": {},
   "outputs": [],
   "source": [
    "plt.hist(dist, bins=np.histogram_bin_edges(dist, bins='scott'));\n",
    "plt.show()"
   ]
  },
  {
   "cell_type": "code",
   "execution_count": null,
   "id": "1b64110b-b434-4748-9a60-bd5ff1130d1e",
   "metadata": {},
   "outputs": [],
   "source": []
  }
 ],
 "metadata": {
  "kernelspec": {
   "display_name": "Python 3 (ipykernel)",
   "language": "python",
   "name": "python3"
  },
  "language_info": {
   "codemirror_mode": {
    "name": "ipython",
    "version": 3
   },
   "file_extension": ".py",
   "mimetype": "text/x-python",
   "name": "python",
   "nbconvert_exporter": "python",
   "pygments_lexer": "ipython3",
   "version": "3.12.3"
  }
 },
 "nbformat": 4,
 "nbformat_minor": 5
}
