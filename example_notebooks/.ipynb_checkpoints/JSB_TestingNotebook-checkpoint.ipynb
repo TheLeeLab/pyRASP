{
 "cells": [
  {
   "cell_type": "code",
   "execution_count": 1,
   "id": "cc18c59f-eecd-4d0b-a648-7c6c3190769f",
   "metadata": {},
   "outputs": [],
   "source": [
    "import os\n",
    "import sys\n",
    "sys.path.append('..')\n",
    "from src import RASPRoutines\n",
    "\n",
    "RASP = RASPRoutines.RASP_Routines()\n",
    "import pandas as pd\n",
    "from src import AnalysisFunctions\n",
    "\n",
    "A_F = AnalysisFunctions.Analysis_Functions()\n",
    "from src import IOFunctions\n",
    "\n",
    "from src import Image_Analysis_Functions\n",
    "\n",
    "IA_F = Image_Analysis_Functions.ImageAnalysis_Functions()\n",
    "\n",
    "from src import CoincidenceFunctions\n",
    "\n",
    "C_F = CoincidenceFunctions.Coincidence_Functions()\n",
    "\n",
    "IO = IOFunctions.IO_Functions()\n",
    "import numpy as np\n",
    "import matplotlib.pyplot as plt\n",
    "from scipy.spatial.distance import cdist\n",
    "\n",
    "from src import PlottingFunctions\n",
    "\n",
    "plotter = PlottingFunctions.Plotter()\n",
    "\n",
    "import polars as pl\n",
    "from scipy.signal import fftconvolve, convolve\n",
    "from scipy.ndimage import binary_opening, binary_closing, binary_fill_holes\n",
    "import skimage as ski"
   ]
  },
  {
   "cell_type": "code",
   "execution_count": null,
   "id": "84ab788c-68a4-4538-9000-11dea8c19513",
   "metadata": {},
   "outputs": [],
   "source": [
    "RASP.defaultfolder"
   ]
  },
  {
   "cell_type": "code",
   "execution_count": null,
   "id": "c176a57c-6d6c-41bf-964f-7ae326e68937",
   "metadata": {},
   "outputs": [],
   "source": [
    "class_module_path = inspect.getfile(RASPRoutines)\n",
    "os.path.abspath(os.path.split(class_module_path))"
   ]
  },
  {
   "cell_type": "code",
   "execution_count": null,
   "id": "5a5be91f-aded-44c5-a56d-161e43d78922",
   "metadata": {},
   "outputs": [],
   "source": [
    "cell_mask_raw = np.zeros([100, 100, 25])\n",
    "coord = 0\n",
    "for i in np.arange(25):\n",
    "    cell_mask_raw[coord : coord + 5, coord : coord + 5, i] = 1\n",
    "    coord = coord + 4"
   ]
  },
  {
   "cell_type": "code",
   "execution_count": null,
   "id": "4c53a584-bf47-4593-8b4a-7536b0263eed",
   "metadata": {},
   "outputs": [],
   "source": [
    "lower_cell_size_threshold = 50\n",
    "upper_cell_size_threshold = np.inf\n",
    "z_project = [True, True]"
   ]
  },
  {
   "cell_type": "code",
   "execution_count": null,
   "id": "9cbc717b-1260-4a6c-ac75-d2bb092d20d9",
   "metadata": {},
   "outputs": [],
   "source": [
    "cell_mask_new, pil, centroids, areas = A_F.threshold_cell_areas(\n",
    "    cell_mask_raw,\n",
    "    lower_cell_size_threshold=lower_cell_size_threshold,\n",
    "    upper_cell_size_threshold=upper_cell_size_threshold,\n",
    "    z_project=z_project,\n",
    ")"
   ]
  },
  {
   "cell_type": "code",
   "execution_count": null,
   "id": "c8cd0b55-3506-41c0-9364-44c8a19c9de3",
   "metadata": {},
   "outputs": [],
   "source": [
    "plt.imshow(cell_mask_new)"
   ]
  },
  {
   "cell_type": "code",
   "execution_count": null,
   "id": "73811802-b3ce-4a9e-a024-fc49bd30e85e",
   "metadata": {},
   "outputs": [],
   "source": [
    "(\n",
    "    filtered_image_old,\n",
    "    gradient_x_old,\n",
    "    gradient_y_old,\n",
    "    focus_score_old,\n",
    "    concentration_factor_old,\n",
    ") = IA_F.calculate_gradient_field(cell_mask_raw, k1)"
   ]
  },
  {
   "cell_type": "code",
   "execution_count": null,
   "id": "c16110a3-7325-4612-be05-5b049b48eb95",
   "metadata": {},
   "outputs": [],
   "source": [
    "image_size = (1200, 1200)\n",
    "potential_indices = np.prod(image_size)\n",
    "spotperc = 0.001\n",
    "maskperc = 0.25\n",
    "\n",
    "spot_indices = np.unique(np.random.randint(low=0, high=potential_indices, size=int(potential_indices*spotperc)))\n",
    "spot_2_indices = np.unique(np.random.randint(low=0, high=potential_indices, size=int(potential_indices*spotperc)))\n",
    "mask_indices = np.arange(int(potential_indices*maskperc))"
   ]
  },
  {
   "cell_type": "code",
   "execution_count": 147,
   "id": "cb85274a-1012-4f96-8a8f-be257c0ab445",
   "metadata": {},
   "outputs": [],
   "source": [
    "        n_iter = 100\n",
    "        coincidence = np.zeros(n_iter)\n",
    "        chance_coincidence = np.zeros(n_iter)\n",
    "        image_size = (1000, 1000)\n",
    "        potential_indices = np.prod(image_size)\n",
    "        lo_perc = 0.0001\n",
    "        n_largeobjects = int(potential_indices*lo_perc)\n",
    "        mask_percentage = 0.25\n",
    "        for i in np.arange(n_iter):\n",
    "            lo_indices = C_F._apply_blur(np.random.randint(low=0, high=int(potential_indices*mask_percentage), size=n_largeobjects), image_size, 3)\n",
    "            lo_indices = lo_indices.reshape(n_largeobjects, int(len(lo_indices)/n_largeobjects)).tolist()\n",
    "            mask_indices = np.arange(int(potential_indices*mask_percentage))\n",
    "            coincidence[i], chance_coincidence[i], _, _ =  C_F.calculate_coincidence(spot_indices=None, largeobj_indices=lo_indices, n_largeobjs=n_largeobjects, mask_indices=mask_indices, image_size=image_size, analysis_type=\"largeobj\")\n"
   ]
  },
  {
   "cell_type": "code",
   "execution_count": 150,
   "id": "4e28dfdd-7bd9-437b-9655-e5a1c424f4ea",
   "metadata": {},
   "outputs": [
    {
     "data": {
      "text/plain": [
       "0.26539999999999997"
      ]
     },
     "execution_count": 150,
     "metadata": {},
     "output_type": "execute_result"
    }
   ],
   "source": [
    "np.median(chance_coincidence)"
   ]
  },
  {
   "cell_type": "code",
   "execution_count": 155,
   "id": "119a6f13-2644-4d95-ad57-2f1e5667efb8",
   "metadata": {},
   "outputs": [
    {
     "data": {
      "text/plain": [
       "array([1., 1., 1., 1., 1., 1., 1., 1., 1., 1., 1., 1., 1., 1., 1., 1., 1.,\n",
       "       1., 1., 1., 1., 1., 1., 1., 1., 1., 1., 1., 1., 1., 1., 1., 1., 1.,\n",
       "       1., 1., 1., 1., 1., 1., 1., 1., 1., 1., 1., 1., 1., 1., 1., 1., 1.,\n",
       "       1., 1., 1., 1., 1., 1., 1., 1., 1., 1., 1., 1., 1., 1., 1., 1., 1.,\n",
       "       1., 1., 1., 1., 1., 1., 1., 1., 1., 1., 1., 1., 1., 1., 1., 1., 1.,\n",
       "       1., 1., 1., 1., 1., 1., 1., 1., 1., 1., 1., 1., 1., 1., 1.])"
      ]
     },
     "execution_count": 155,
     "metadata": {},
     "output_type": "execute_result"
    }
   ],
   "source": [
    "coincidence"
   ]
  },
  {
   "cell_type": "code",
   "execution_count": 131,
   "id": "cdf12f35-74cc-4a8b-84e6-c909dabb526a",
   "metadata": {},
   "outputs": [],
   "source": [
    "        assert np.median(chance_coincidence) == pytest.approx(0.25, 1e-2)\n"
   ]
  },
  {
   "cell_type": "code",
   "execution_count": 78,
   "id": "2fff9d4b-2007-4947-8109-3c2a827bbdd6",
   "metadata": {},
   "outputs": [
    {
     "data": {
      "image/png": "[encoded data removed]",
      "text/plain": [
       "<Figure size 640x480 with 1 Axes>"
      ]
     },
     "metadata": {},
     "output_type": "display_data"
    }
   ],
   "source": [
    "plt.hist(olig_cell_ratio, bins=np.histogram_bin_edges(olig_cell_ratio, bins='fd'));\n",
    "plt.show()"
   ]
  },
  {
   "cell_type": "code",
   "execution_count": 34,
   "id": "b63409ac-b49d-496f-8e57-c54787c9dce1",
   "metadata": {},
   "outputs": [],
   "source": [
    "        from copy import copy\n",
    "        image_size = (1000, 1000)\n",
    "        potential_indices = np.prod(image_size)\n",
    "        spot_percentage = 0.01\n",
    "        spot_indices = np.unique(np.random.randint(low=0, high=potential_indices, size=int(potential_indices*spot_percentage)))\n",
    "        second_spot_indices = copy(spot_indices)\n",
    "        coincidence_1, chance_coincidence_1, coincidence_2, chance_coincidence_2, _, _ =  C_F.calculate_coincidence(spot_indices=spot_indices, mask_indices=None, image_size=image_size, second_spot_indices=second_spot_indices, blur_degree=0, analysis_type=\"spot_to_spot\")\n"
   ]
  },
  {
   "cell_type": "code",
   "execution_count": 37,
   "id": "5d5c05c0-2cce-4ed7-ab8f-3e48028ea50c",
   "metadata": {},
   "outputs": [
    {
     "data": {
      "text/plain": [
       "1.0"
      ]
     },
     "execution_count": 37,
     "metadata": {},
     "output_type": "execute_result"
    }
   ],
   "source": [
    "coincidence_2"
   ]
  },
  {
   "cell_type": "code",
   "execution_count": 23,
   "id": "f71357be-6eac-4bf0-916d-2e4797b16ff5",
   "metadata": {},
   "outputs": [],
   "source": [
    "import pytest"
   ]
  },
  {
   "cell_type": "code",
   "execution_count": null,
   "id": "84e53c5e-a8c6-4d8d-9eef-1e8269f667dd",
   "metadata": {},
   "outputs": [],
   "source": [
    "assert np.mean(coincidence) == pytest.approx(0.25, abs=1e-3)"
   ]
  },
  {
   "cell_type": "code",
   "execution_count": null,
   "id": "97cf89b4-5a5b-4402-86aa-44d00aed779d",
   "metadata": {},
   "outputs": [],
   "source": [
    "assert np.mean(chance_coincidence) == pytest.approx(mask_percentage, abs=1e-3)"
   ]
  },
  {
   "cell_type": "code",
   "execution_count": null,
   "id": "c304eba7-7133-43c0-9fee-c71acb643299",
   "metadata": {},
   "outputs": [],
   "source": []
  }
 ],
 "metadata": {
  "kernelspec": {
   "display_name": "Python 3 (ipykernel)",
   "language": "python",
   "name": "python3"
  },
  "language_info": {
   "codemirror_mode": {
    "name": "ipython",
    "version": 3
   },
   "file_extension": ".py",
   "mimetype": "text/x-python",
   "name": "python",
   "nbconvert_exporter": "python",
   "pygments_lexer": "ipython3",
   "version": "3.10.12"
  }
 },
 "nbformat": 4,
 "nbformat_minor": 5
}
