{
 "cells": [
  {
   "cell_type": "code",
   "execution_count": 1,
   "id": "639d889a-964f-48c6-96be-f3070b50a506",
   "metadata": {},
   "outputs": [],
   "source": [
    "import sys\n",
    "\n",
    "sys.path.append(\"..\")  # Adds higher directory to python modules path.\n",
    "import os\n",
    "from src import RASPRoutines\n",
    "\n",
    "RASP = RASPRoutines.RASP_Routines()"
   ]
  },
  {
   "cell_type": "code",
   "execution_count": 2,
   "id": "3c24ff6d-290b-422d-9372-a6667597dfa0",
   "metadata": {},
   "outputs": [],
   "source": [
    "RASP.flatness = 1.\n",
    "RASP.integratedGrad = 10.\n",
    "RASP.areathres = 42."
   ]
  },
  {
   "cell_type": "code",
   "execution_count": null,
   "id": "a9fd11b1",
   "metadata": {},
   "outputs": [],
   "source": [
    "\"\"\" the command below will run the analyse_images analysis:\n",
    "\n",
    "            folder (string): Folder containing images\n",
    "            imtype (string): Type of images being analysed. Default '.tif'\n",
    "            thres (float): fraction of bright pixels accepted. Default 0.05.\n",
    "            large_thres (float): large object intensity threshold. Default 100.\n",
    "            gisgma (float): gaussian blurring parameter. Default 1.4.\n",
    "            rwave (float): Ricker wavelent sigma. Default 2.\n",
    "            protein_string (np.1darray): strings for protein-stained data. Default C1.\n",
    "            cell_string (np.1darray): strings for cell-containing data. Default C0.\n",
    "            if_filter (boolean): Filter images for focus. Default True.\n",
    "            im_start (integer): Images to start from. Default 0.\n",
    "            cell_analysis (boolean): Parameter where script also analyses cell\n",
    "                images. Default True.\n",
    "            one_savefile (boolean): Parameter that, if true, doesn't save a file. Default True.\n",
    "                per image but amalgamates them into one file. Default True.\n",
    "            disp (boolean): If true, prints when analysed an image stack. Default True.\n",
    "            analyse_clr (boolean): If true, calculates the clr. If not, just coincidence. Default True.\n",
    "            folder_recursion (boolean): If true, recursively finds folders and analyses each separately.\n",
    "            error_reduction (boolean): If true, reduces error on the oligomer image using Huang's code\n",
    "            \n",
    "All have defaults except folder, which is necessary.\n",
    "\"\"\"\n",
    "\n",
    "folder = os.path.abspath(\n",
    "    r\"S:\\ASAP_Imaging_Data\\Jonathan\\Sycamore\\20250219_Single_AF568AB_on_surface\\data\"\n",
    ")  # example file, replace as you wish. Always input as the absolute path of a raw string\n",
    "\n",
    "RASP.analyse_images(folder, protein_string=\"C0\", thres=0.025, large_thres=1000.0, cell_analysis=False)"
   ]
  },
  {
   "cell_type": "code",
   "execution_count": 3,
   "id": "6bc3b1a3-f4b0-4260-b92a-bfb44166f85f",
   "metadata": {},
   "outputs": [],
   "source": [
    "import polars as pl"
   ]
  },
  {
   "cell_type": "code",
   "execution_count": 30,
   "id": "5fd99948-8546-4bdd-931c-91296baa715b",
   "metadata": {},
   "outputs": [],
   "source": [
    "file = r'S:\\ASAP_Imaging_Data\\Jonathan\\Sycamore\\20250219_Single_AF568AB_on_surface\\data_analysis\\spot_analysis_100perc.csv'"
   ]
  },
  {
   "cell_type": "code",
   "execution_count": 41,
   "id": "6d672c20-86ba-4b94-9e12-089d7245f001",
   "metadata": {},
   "outputs": [],
   "source": [
    "data = pl.read_csv(file)\n",
    "data = data.filter(pl.col('bg_per_punctum') > 200)"
   ]
  },
  {
   "cell_type": "code",
   "execution_count": 42,
   "id": "cd2ced85-ba0a-49d4-aff0-847ba745f3f8",
   "metadata": {},
   "outputs": [],
   "source": [
    "import matplotlib.pyplot as plt"
   ]
  },
  {
   "cell_type": "code",
   "execution_count": 43,
   "id": "473546ea-157e-4cb9-94fe-c08d55084b9b",
   "metadata": {},
   "outputs": [
    {
     "data": {
      "image/png": "[encoded data removed]",
      "text/plain": [
       "<Figure size 640x480 with 1 Axes>"
      ]
     },
     "metadata": {},
     "output_type": "display_data"
    }
   ],
   "source": [
    "plt.hist(data['sum_intensity_in_photons'].to_numpy(), 1000);\n",
    "plt.xlim([0, 400])\n",
    "plt.show()"
   ]
  },
  {
   "cell_type": "code",
   "execution_count": 47,
   "id": "6b23eda2-6ad3-4746-a5a8-c63a0ddd63f7",
   "metadata": {},
   "outputs": [
    {
     "data": {
      "text/plain": [
       "1.7199166417121887"
      ]
     },
     "execution_count": 47,
     "metadata": {},
     "output_type": "execute_result"
    }
   ],
   "source": [
    "np.median(RASP.gain_map)"
   ]
  },
  {
   "cell_type": "code",
   "execution_count": 46,
   "id": "57d535dc-135a-4906-84b5-643b592ed6e4",
   "metadata": {},
   "outputs": [],
   "source": [
    "import numpy as np"
   ]
  },
  {
   "cell_type": "code",
   "execution_count": 48,
   "id": "62b05324-8ca7-4702-96ed-22534da0dfc1",
   "metadata": {},
   "outputs": [
    {
     "data": {
      "text/plain": [
       "101.2061996459961"
      ]
     },
     "execution_count": 48,
     "metadata": {},
     "output_type": "execute_result"
    }
   ],
   "source": [
    "np.median(RASP.offset_map)"
   ]
  },
  {
   "cell_type": "code",
   "execution_count": null,
   "id": "bced1df9-f656-4144-807b-acc44c1aefdf",
   "metadata": {},
   "outputs": [],
   "source": []
  }
 ],
 "metadata": {
  "kernelspec": {
   "display_name": "Python 3 (ipykernel)",
   "language": "python",
   "name": "python3"
  },
  "language_info": {
   "codemirror_mode": {
    "name": "ipython",
    "version": 3
   },
   "file_extension": ".py",
   "mimetype": "text/x-python",
   "name": "python",
   "nbconvert_exporter": "python",
   "pygments_lexer": "ipython3",
   "version": "3.12.7"
  }
 },
 "nbformat": 4,
 "nbformat_minor": 5
}
