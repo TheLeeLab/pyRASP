{
 "cells": [
  {
   "cell_type": "code",
   "execution_count": null,
   "id": "639d889a-964f-48c6-96be-f3070b50a506",
   "metadata": {},
   "outputs": [],
   "source": [
    "import sys\n",
    "\n",
    "sys.path.append(\"..\")  # Adds higher directory to python modules path.\n",
    "\n",
    "import os\n",
    "from src import RASPRoutines\n",
    "\n",
    "RASP = RASPRoutines.RASP_Routines()\n",
    "import numpy as np"
   ]
  },
  {
   "cell_type": "code",
   "execution_count": null,
   "id": "a9fd11b1",
   "metadata": {},
   "outputs": [],
   "source": [
    "\"\"\"\n",
    "Redo colocalisation analyses of spots above a photon threshold in an\n",
    "analysis file.\n",
    "\n",
    "        Args:\n",
    "            analysis_file (str): The analysis file to be re-done.\n",
    "            threshold (float): The photon threshold\n",
    "            protein_string (str): string of analysed protein\n",
    "            lo_string (str): string of large object to analyse\n",
    "            analysis_type (str, optional): Type of analysis to perform. Options are:\n",
    "                - \"lo_to_spot\": Calculate spot to large object metrics.\n",
    "                - \"lo_to_cell\": Calculate large object to cell coincidence.\n",
    "                Default is \"spot_to_cell\".\n",
    "            imtype (str): image type\n",
    "            blur_degree (int): blur degree for colocalisation analysis\n",
    "            calc_clr (boolean): Calculate the clr, yes/no.\n",
    "            lower_cell_size_threshold (float): lower threshold of cell size\n",
    "            upper_cell_size_threshold (float): upper threshold of cell size\n",
    "            lower_lo_size_threshold (float): lower threshold of lo size\n",
    "            upper_lo_size_threshold (float): upper threshold of lo size\n",
    "            z_project_first (list of boolean): z project instructions for cell/protein size threshold\n",
    "\"\"\"\n",
    "\n",
    "analysis_file = os.path.abspath(\n",
    "    r\"../example_images_analysis/largeobject_analysis.csv\"\n",
    ")  # example file, replace as you wish. Always input as the absolute path of a raw string\n",
    "threshold = 180.\n",
    "protein_string = \"C1\"\n",
    "lo_string = \"C1\"\n",
    "cell_string = \"C0\"\n",
    "lower_cell_size_threshold = 30\n",
    "upper_cell_size_threshold = np.inf\n",
    "lower_lo_size_threshold = 30\n",
    "upper_lo_size_threshold = np.inf\n",
    "\n",
    "analysis_type = 'lo_to_cell'\n",
    "blur_degree = 1\n",
    "imtype='.tif'\n",
    "calc_clr = False\n",
    "z_project_first = [False, False]\n",
    "\n",
    "lo_analysis_AT, spot_analysis_AT = RASP.lo_colocalise_wrapper(\n",
    "    analysis_file,\n",
    "    threshold,\n",
    "    protein_string=protein_string,\n",
    "    lo_string=lo_string,\n",
    "    cell_string=cell_string,\n",
    "    analysis_type=analysis_type,\n",
    "    imtype=imtype,\n",
    "    blur_degree=blur_degree,\n",
    "    calc_clr=calc_clr,\n",
    "    lower_cell_size_threshold=lower_cell_size_threshold,\n",
    "    upper_cell_size_threshold=upper_cell_size_threshold,\n",
    "    lower_lo_size_threshold=lower_lo_size_threshold,\n",
    "    upper_lo_size_threshold=upper_lo_size_threshold,\n",
    "    z_project_first=z_project_first,\n",
    ")"
   ]
  },
  {
   "cell_type": "code",
   "execution_count": null,
   "id": "8554a9de-7750-41c1-b4b1-1d2db1e40395",
   "metadata": {},
   "outputs": [],
   "source": []
  }
 ],
 "metadata": {
  "kernelspec": {
   "display_name": "Python 3 (ipykernel)",
   "language": "python",
   "name": "python3"
  },
  "language_info": {
   "codemirror_mode": {
    "name": "ipython",
    "version": 3
   },
   "file_extension": ".py",
   "mimetype": "text/x-python",
   "name": "python",
   "nbconvert_exporter": "python",
   "pygments_lexer": "ipython3",
   "version": "3.10.12"
  }
 },
 "nbformat": 4,
 "nbformat_minor": 5
}
