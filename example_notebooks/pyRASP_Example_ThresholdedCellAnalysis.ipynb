{
 "cells": [
  {
   "cell_type": "code",
   "execution_count": 1,
   "id": "639d889a-964f-48c6-96be-f3070b50a506",
   "metadata": {},
   "outputs": [],
   "source": [
    "import os\n",
    "from src import RASPRoutines\n",
    "\n",
    "RASP = RASPRoutines.RASP_Routines()\n",
    "import numpy as np"
   ]
  },
  {
   "cell_type": "code",
   "execution_count": 2,
   "id": "a9fd11b1",
   "metadata": {},
   "outputs": [
    {
     "name": "stdout",
     "output_type": "stream",
     "text": [
      "Computing colocalisation     File 1/1    Time elapsed: 1.450 s\r"
     ]
    }
   ],
   "source": [
    "\"\"\"\n",
    "Redo colocalisation analyses of spots above a photon threshold in an\n",
    "analysis file.\n",
    "\n",
    "Args:\n",
    "    analysis_file (str): The analysis file to be re-done.\n",
    "    threshold (float): The photon threshold\n",
    "    protein_string (str): string of analysed protein\n",
    "    lo_string (str): string of large object to analyse\n",
    "    coloc_typ (boolean): if 1 (default), for cells. if 0, for large protein objects.\n",
    "                        if 2, between cell mask and large protein objects.\n",
    "    imtype (str): image type\n",
    "    blur_degree (int): blur degree for colocalisation analysis\n",
    "    calc_clr (boolean): Calculate the clr, yes/no.\n",
    "    lower_cell_size_threshold (float): lower threshold of cell size\n",
    "    upper_cell_size_threshold (float): upper threshold of cell size\n",
    "\"\"\"\n",
    "\n",
    "analysis_file = os.path.abspath(\n",
    "    r\"example_images_analysis/largeobject_analysis.csv\"\n",
    ")  # example file, replace as you wish. Always input as the absolute path of a raw string\n",
    "threshold = 0.0\n",
    "protein_string = \"C1\"\n",
    "lo_string = \"C1\"\n",
    "cell_string = \"C0\"\n",
    "lower_cell_size_threshold = 30\n",
    "upper_cell_size_threshold = np.inf\n",
    "\n",
    "lo_analysis, spot_analysis_AT, spot_analysis_UT = RASP.lo_colocalise_wrapper(\n",
    "    analysis_file,\n",
    "    threshold,\n",
    "    protein_string=protein_string,\n",
    "    lo_string=lo_string,\n",
    "    cell_string=cell_string,\n",
    "    coloc_type=2,\n",
    "    calc_clr=False,\n",
    "    lower_cell_size_threshold=lower_cell_size_threshold,\n",
    "    upper_cell_size_threshold=upper_cell_size_threshold,\n",
    ")"
   ]
  },
  {
   "cell_type": "code",
   "execution_count": null,
   "id": "be0c690b-de70-447a-ac32-418b6ece8a71",
   "metadata": {},
   "outputs": [],
   "source": []
  }
 ],
 "metadata": {
  "kernelspec": {
   "display_name": "Python 3 (ipykernel)",
   "language": "python",
   "name": "python3"
  },
  "language_info": {
   "codemirror_mode": {
    "name": "ipython",
    "version": 3
   },
   "file_extension": ".py",
   "mimetype": "text/x-python",
   "name": "python",
   "nbconvert_exporter": "python",
   "pygments_lexer": "ipython3",
   "version": "3.10.12"
  }
 },
 "nbformat": 4,
 "nbformat_minor": 5
}
