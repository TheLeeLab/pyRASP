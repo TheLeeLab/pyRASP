{
 "cells": [
  {
   "cell_type": "code",
   "execution_count": 1,
   "id": "639d889a-964f-48c6-96be-f3070b50a506",
   "metadata": {},
   "outputs": [],
   "source": [
    "import sys\n",
    "\n",
    "sys.path.append(\"..\")  # Adds higher directory to python modules path.\n",
    "\n",
    "import os\n",
    "from src import RASPRoutines\n",
    "\n",
    "RASP = RASPRoutines.RASP_Routines()\n",
    "import numpy as np\n",
    "import polars as pl\n",
    "from src import HelperFunctions\n",
    "HF = HelperFunctions.Helper_Functions()"
   ]
  },
  {
   "cell_type": "code",
   "execution_count": 2,
   "id": "1a6d2d75",
   "metadata": {},
   "outputs": [
    {
     "name": "stdout",
     "output_type": "stream",
     "text": [
      "Area: 2.42 µm², Side length: 1.56 µm\n"
     ]
    }
   ],
   "source": [
    "area_pixels = 200; pixel_size_nm = 110; area_micrometers = area_pixels * (pixel_size_nm / 1000)**2; side_length_micrometers = area_micrometers**0.5; print(f\"Area: {area_micrometers:.2f} µm², Side length: {side_length_micrometers:.2f} µm\")\n"
   ]
  },
  {
   "cell_type": "code",
   "execution_count": 3,
   "id": "a9fd11b1",
   "metadata": {},
   "outputs": [
    {
     "ename": "ValueError",
     "evalue": "The truth value of an array with more than one element is ambiguous. Use a.any() or a.all()",
     "output_type": "error",
     "traceback": [
      "\u001b[1;31m---------------------------------------------------------------------------\u001b[0m",
      "\u001b[1;31mValueError\u001b[0m                                Traceback (most recent call last)",
      "Cell \u001b[1;32mIn[3], line 49\u001b[0m\n\u001b[0;32m     46\u001b[0m analysis_files \u001b[38;5;241m=\u001b[39m HF\u001b[38;5;241m.\u001b[39mfile_search(\u001b[38;5;124mr\u001b[39m\u001b[38;5;124m'\u001b[39m\u001b[38;5;124mS:\u001b[39m\u001b[38;5;124m\\\u001b[39m\u001b[38;5;124mASAP_Imaging_Data\u001b[39m\u001b[38;5;124m\\\u001b[39m\u001b[38;5;124mMain_Survey\u001b[39m\u001b[38;5;124m\\\u001b[39m\u001b[38;5;124m20241105_oligomers_in_cells\u001b[39m\u001b[38;5;124m'\u001b[39m, \u001b[38;5;124mr\u001b[39m\u001b[38;5;124m'\u001b[39m\u001b[38;5;124mspot_analysis.csv\u001b[39m\u001b[38;5;124m'\u001b[39m, \u001b[38;5;124m'\u001b[39m\u001b[38;5;124mneurons\u001b[39m\u001b[38;5;124m'\u001b[39m)\n\u001b[0;32m     48\u001b[0m \u001b[38;5;28;01mfor\u001b[39;00m analysis_file \u001b[38;5;129;01min\u001b[39;00m analysis_files:\n\u001b[1;32m---> 49\u001b[0m     lo_analysis_AT, spot_analysis_AT \u001b[38;5;241m=\u001b[39m \u001b[43mRASP\u001b[49m\u001b[38;5;241;43m.\u001b[39;49m\u001b[43mlo_colocalise_wrapper\u001b[49m\u001b[43m(\u001b[49m\n\u001b[0;32m     50\u001b[0m \u001b[43m        \u001b[49m\u001b[43manalysis_file\u001b[49m\u001b[43m,\u001b[49m\n\u001b[0;32m     51\u001b[0m \u001b[43m        \u001b[49m\u001b[43mthreshold\u001b[49m\u001b[43m,\u001b[49m\n\u001b[0;32m     52\u001b[0m \u001b[43m        \u001b[49m\u001b[43mprotein_string\u001b[49m\u001b[38;5;241;43m=\u001b[39;49m\u001b[43mprotein_string\u001b[49m\u001b[43m,\u001b[49m\n\u001b[0;32m     53\u001b[0m \u001b[43m        \u001b[49m\u001b[43mlo_string\u001b[49m\u001b[38;5;241;43m=\u001b[39;49m\u001b[43mlo_string\u001b[49m\u001b[43m,\u001b[49m\n\u001b[0;32m     54\u001b[0m \u001b[43m        \u001b[49m\u001b[43mcell_string\u001b[49m\u001b[38;5;241;43m=\u001b[39;49m\u001b[43mcell_string\u001b[49m\u001b[43m,\u001b[49m\n\u001b[0;32m     55\u001b[0m \u001b[43m        \u001b[49m\u001b[43manalysis_type\u001b[49m\u001b[38;5;241;43m=\u001b[39;49m\u001b[43manalysis_type\u001b[49m\u001b[43m,\u001b[49m\n\u001b[0;32m     56\u001b[0m \u001b[43m        \u001b[49m\u001b[43mimtype\u001b[49m\u001b[38;5;241;43m=\u001b[39;49m\u001b[43mimtype\u001b[49m\u001b[43m,\u001b[49m\n\u001b[0;32m     57\u001b[0m \u001b[43m        \u001b[49m\u001b[43mblur_degree\u001b[49m\u001b[38;5;241;43m=\u001b[39;49m\u001b[43mblur_degree\u001b[49m\u001b[43m,\u001b[49m\n\u001b[0;32m     58\u001b[0m \u001b[43m        \u001b[49m\u001b[43mcalc_clr\u001b[49m\u001b[38;5;241;43m=\u001b[39;49m\u001b[43mcalc_clr\u001b[49m\u001b[43m,\u001b[49m\n\u001b[0;32m     59\u001b[0m \u001b[43m        \u001b[49m\u001b[43mlower_cell_size_threshold\u001b[49m\u001b[38;5;241;43m=\u001b[39;49m\u001b[43mlower_cell_size_threshold\u001b[49m\u001b[43m,\u001b[49m\n\u001b[0;32m     60\u001b[0m \u001b[43m        \u001b[49m\u001b[43mupper_cell_size_threshold\u001b[49m\u001b[38;5;241;43m=\u001b[39;49m\u001b[43mupper_cell_size_threshold\u001b[49m\u001b[43m,\u001b[49m\n\u001b[0;32m     61\u001b[0m \u001b[43m        \u001b[49m\u001b[43mlower_lo_size_threshold\u001b[49m\u001b[38;5;241;43m=\u001b[39;49m\u001b[43mlower_lo_size_threshold\u001b[49m\u001b[43m,\u001b[49m\n\u001b[0;32m     62\u001b[0m \u001b[43m        \u001b[49m\u001b[43mupper_lo_size_threshold\u001b[49m\u001b[38;5;241;43m=\u001b[39;49m\u001b[43mupper_lo_size_threshold\u001b[49m\u001b[43m,\u001b[49m\n\u001b[0;32m     63\u001b[0m \u001b[43m        \u001b[49m\u001b[43mz_project_first\u001b[49m\u001b[38;5;241;43m=\u001b[39;49m\u001b[43mz_project_first\u001b[49m\u001b[43m,\u001b[49m\n\u001b[0;32m     64\u001b[0m \u001b[43m        \u001b[49m\u001b[43mcell_threshold\u001b[49m\u001b[38;5;241;43m=\u001b[39;49m\u001b[43mcell_threshold\u001b[49m\u001b[43m,\u001b[49m\n\u001b[0;32m     65\u001b[0m \u001b[43m    \u001b[49m\u001b[43m)\u001b[49m\n\u001b[0;32m     66\u001b[0m     \u001b[38;5;28;01mdel\u001b[39;00m lo_analysis_AT\n\u001b[0;32m     67\u001b[0m     \u001b[38;5;28;01mdel\u001b[39;00m spot_analysis_AT\n",
      "File \u001b[1;32m~\\Cambridge University Dropbox\\Joseph Beckwith\\Chemistry\\Lee\\Code\\Python\\pyRASP\\example_notebooks\\..\\src\\RASPRoutines.py:1188\u001b[0m, in \u001b[0;36mRASP_Routines.lo_colocalise_wrapper\u001b[1;34m(self, analysis_file, threshold, protein_string, lo_string, cell_string, analysis_type, imtype, blur_degree, calc_clr, lower_cell_size_threshold, upper_cell_size_threshold, lower_lo_size_threshold, upper_lo_size_threshold, z_project_first, cell_threshold)\u001b[0m\n\u001b[0;32m   1185\u001b[0m \u001b[38;5;28;01melse\u001b[39;00m:\n\u001b[0;32m   1186\u001b[0m     threshold_str \u001b[38;5;241m=\u001b[39m \u001b[38;5;28mstr\u001b[39m(threshold)\u001b[38;5;241m.\u001b[39mreplace(\u001b[38;5;124m\"\u001b[39m\u001b[38;5;124m.\u001b[39m\u001b[38;5;124m\"\u001b[39m, \u001b[38;5;124m\"\u001b[39m\u001b[38;5;124mp\u001b[39m\u001b[38;5;124m\"\u001b[39m)\n\u001b[1;32m-> 1188\u001b[0m lo_analysis_AT, spot_analysis_AT \u001b[38;5;241m=\u001b[39m \u001b[43mA_F\u001b[49m\u001b[38;5;241;43m.\u001b[39;49m\u001b[43mcolocalise_with_threshold\u001b[49m\u001b[43m(\u001b[49m\n\u001b[0;32m   1189\u001b[0m \u001b[43m    \u001b[49m\u001b[43manalysis_file\u001b[49m\u001b[43m,\u001b[49m\n\u001b[0;32m   1190\u001b[0m \u001b[43m    \u001b[49m\u001b[43mthreshold\u001b[49m\u001b[43m,\u001b[49m\n\u001b[0;32m   1191\u001b[0m \u001b[43m    \u001b[49m\u001b[43mprotein_string\u001b[49m\u001b[43m,\u001b[49m\n\u001b[0;32m   1192\u001b[0m \u001b[43m    \u001b[49m\u001b[43mlo_string\u001b[49m\u001b[43m,\u001b[49m\n\u001b[0;32m   1193\u001b[0m \u001b[43m    \u001b[49m\u001b[43mcell_string\u001b[49m\u001b[43m,\u001b[49m\n\u001b[0;32m   1194\u001b[0m \u001b[43m    \u001b[49m\u001b[43manalysis_type\u001b[49m\u001b[38;5;241;43m=\u001b[39;49m\u001b[43manalysis_type\u001b[49m\u001b[43m,\u001b[49m\n\u001b[0;32m   1195\u001b[0m \u001b[43m    \u001b[49m\u001b[43mimtype\u001b[49m\u001b[38;5;241;43m=\u001b[39;49m\u001b[38;5;124;43m\"\u001b[39;49m\u001b[38;5;124;43m.tif\u001b[39;49m\u001b[38;5;124;43m\"\u001b[39;49m\u001b[43m,\u001b[49m\n\u001b[0;32m   1196\u001b[0m \u001b[43m    \u001b[49m\u001b[43mblur_degree\u001b[49m\u001b[38;5;241;43m=\u001b[39;49m\u001b[43mblur_degree\u001b[49m\u001b[43m,\u001b[49m\n\u001b[0;32m   1197\u001b[0m \u001b[43m    \u001b[49m\u001b[43mcalc_clr\u001b[49m\u001b[38;5;241;43m=\u001b[39;49m\u001b[43mcalc_clr\u001b[49m\u001b[43m,\u001b[49m\n\u001b[0;32m   1198\u001b[0m \u001b[43m    \u001b[49m\u001b[43maboveT\u001b[49m\u001b[38;5;241;43m=\u001b[39;49m\u001b[38;5;241;43m1\u001b[39;49m\u001b[43m,\u001b[49m\n\u001b[0;32m   1199\u001b[0m \u001b[43m    \u001b[49m\u001b[43mlower_cell_size_threshold\u001b[49m\u001b[38;5;241;43m=\u001b[39;49m\u001b[43mlower_cell_size_threshold\u001b[49m\u001b[43m,\u001b[49m\n\u001b[0;32m   1200\u001b[0m \u001b[43m    \u001b[49m\u001b[43mupper_cell_size_threshold\u001b[49m\u001b[38;5;241;43m=\u001b[39;49m\u001b[43mnp\u001b[49m\u001b[38;5;241;43m.\u001b[39;49m\u001b[43minf\u001b[49m\u001b[43m,\u001b[49m\n\u001b[0;32m   1201\u001b[0m \u001b[43m    \u001b[49m\u001b[43mlower_lo_size_threshold\u001b[49m\u001b[38;5;241;43m=\u001b[39;49m\u001b[43mlower_lo_size_threshold\u001b[49m\u001b[43m,\u001b[49m\n\u001b[0;32m   1202\u001b[0m \u001b[43m    \u001b[49m\u001b[43mupper_lo_size_threshold\u001b[49m\u001b[38;5;241;43m=\u001b[39;49m\u001b[43mupper_lo_size_threshold\u001b[49m\u001b[43m,\u001b[49m\n\u001b[0;32m   1203\u001b[0m \u001b[43m    \u001b[49m\u001b[43mz_project_first\u001b[49m\u001b[38;5;241;43m=\u001b[39;49m\u001b[43mz_project_first\u001b[49m\u001b[43m,\u001b[49m\n\u001b[0;32m   1204\u001b[0m \u001b[43m    \u001b[49m\u001b[43mcell_threshold\u001b[49m\u001b[38;5;241;43m=\u001b[39;49m\u001b[43mcell_threshold\u001b[49m\u001b[43m,\u001b[49m\n\u001b[0;32m   1205\u001b[0m \u001b[43m\u001b[49m\u001b[43m)\u001b[49m\n\u001b[0;32m   1207\u001b[0m savecell_string \u001b[38;5;241m=\u001b[39m os\u001b[38;5;241m.\u001b[39mpath\u001b[38;5;241m.\u001b[39mjoin(\n\u001b[0;32m   1208\u001b[0m     os\u001b[38;5;241m.\u001b[39mpath\u001b[38;5;241m.\u001b[39msplit(analysis_file)[\u001b[38;5;241m0\u001b[39m],\n\u001b[0;32m   1209\u001b[0m     startstr \u001b[38;5;241m+\u001b[39m \u001b[38;5;124m\"\u001b[39m\u001b[38;5;124mcolocalisation_analysis_\u001b[39m\u001b[38;5;124m\"\u001b[39m \u001b[38;5;241m+\u001b[39m threshold_str,\n\u001b[0;32m   1210\u001b[0m )\n\u001b[0;32m   1211\u001b[0m \u001b[38;5;28;01mif\u001b[39;00m \u001b[38;5;28misinstance\u001b[39m(lo_analysis_AT, pl\u001b[38;5;241m.\u001b[39mDataFrame):\n",
      "File \u001b[1;32m~\\Cambridge University Dropbox\\Joseph Beckwith\\Chemistry\\Lee\\Code\\Python\\pyRASP\\src\\AnalysisFunctions.py:693\u001b[0m, in \u001b[0;36mcolocalise_with_threshold\u001b[1;34m(self, analysis_file, threshold, protein_string, lo_string, cell_string, analysis_type, imtype, blur_degree, calc_clr, aboveT, lower_cell_size_threshold, upper_cell_size_threshold, lower_lo_size_threshold, upper_lo_size_threshold, z_project_first, cell_threshold)\u001b[0m\n\u001b[0;32m    691\u001b[0m \u001b[38;5;28;01mif\u001b[39;00m analysis_type \u001b[38;5;241m!=\u001b[39m \u001b[38;5;124m\"\u001b[39m\u001b[38;5;124mlo_to_cell\u001b[39m\u001b[38;5;124m\"\u001b[39m:\n\u001b[0;32m    692\u001b[0m     \u001b[38;5;28;01mif\u001b[39;00m calc_clr:\n\u001b[1;32m--> 693\u001b[0m         dataarray, raw_colocalisation \u001b[38;5;241m=\u001b[39m \u001b[38;5;28;43mself\u001b[39;49m\u001b[38;5;241;43m.\u001b[39;49m\u001b[43m_process_spots_parallel\u001b[49m\u001b[43m(\u001b[49m\n\u001b[0;32m    694\u001b[0m \u001b[43m            \u001b[49m\u001b[43mimage_file\u001b[49m\u001b[43m,\u001b[49m\n\u001b[0;32m    695\u001b[0m \u001b[43m            \u001b[49m\u001b[43mz_planes\u001b[49m\u001b[43m,\u001b[49m\n\u001b[0;32m    696\u001b[0m \u001b[43m            \u001b[49m\u001b[43mlo_mask\u001b[49m\u001b[43m,\u001b[49m\n\u001b[0;32m    697\u001b[0m \u001b[43m            \u001b[49m\u001b[43mimage_size\u001b[49m\u001b[43m,\u001b[49m\n\u001b[0;32m    698\u001b[0m \u001b[43m            \u001b[49m\u001b[38;5;28;43mself\u001b[39;49m\u001b[38;5;241;43m.\u001b[39;49m\u001b[43m_parallel_coloc_per_z_clr_spot\u001b[49m\u001b[43m,\u001b[49m\n\u001b[0;32m    699\u001b[0m \u001b[43m            \u001b[49m\u001b[43mblur_degree\u001b[49m\u001b[43m,\u001b[49m\n\u001b[0;32m    700\u001b[0m \u001b[43m        \u001b[49m\u001b[43m)\u001b[49m\n\u001b[0;32m    701\u001b[0m     \u001b[38;5;28;01melse\u001b[39;00m:\n\u001b[0;32m    702\u001b[0m         dataarray, raw_colocalisation \u001b[38;5;241m=\u001b[39m \u001b[38;5;28mself\u001b[39m\u001b[38;5;241m.\u001b[39m_process_spots_parallel(\n\u001b[0;32m    703\u001b[0m             image_file,\n\u001b[0;32m    704\u001b[0m             z_planes,\n\u001b[1;32m   (...)\u001b[0m\n\u001b[0;32m    708\u001b[0m             blur_degree,\n\u001b[0;32m    709\u001b[0m         )\n",
      "File \u001b[1;32m~\\Cambridge University Dropbox\\Joseph Beckwith\\Chemistry\\Lee\\Code\\Python\\pyRASP\\src\\AnalysisFunctions.py:770\u001b[0m, in \u001b[0;36m_process_spots_parallel\u001b[1;34m(self, image_file, z_planes, lo_mask, image_size, parallel_func, blur_degree)\u001b[0m\n\u001b[0;32m    758\u001b[0m xcoords \u001b[38;5;241m=\u001b[39m [\n\u001b[0;32m    759\u001b[0m     image_file\u001b[38;5;241m.\u001b[39mfilter(pl\u001b[38;5;241m.\u001b[39mcol(\u001b[38;5;124m\"\u001b[39m\u001b[38;5;124mz\u001b[39m\u001b[38;5;124m\"\u001b[39m) \u001b[38;5;241m==\u001b[39m z_plane)[\u001b[38;5;124m\"\u001b[39m\u001b[38;5;124mx\u001b[39m\u001b[38;5;124m\"\u001b[39m]\u001b[38;5;241m.\u001b[39mto_numpy()\n\u001b[0;32m    760\u001b[0m     \u001b[38;5;28;01mfor\u001b[39;00m z_plane \u001b[38;5;129;01min\u001b[39;00m z_planes\n\u001b[0;32m    761\u001b[0m ]\n\u001b[0;32m    762\u001b[0m ycoords \u001b[38;5;241m=\u001b[39m [\n\u001b[0;32m    763\u001b[0m     image_file\u001b[38;5;241m.\u001b[39mfilter(pl\u001b[38;5;241m.\u001b[39mcol(\u001b[38;5;124m\"\u001b[39m\u001b[38;5;124mz\u001b[39m\u001b[38;5;124m\"\u001b[39m) \u001b[38;5;241m==\u001b[39m z_plane)[\u001b[38;5;124m\"\u001b[39m\u001b[38;5;124my\u001b[39m\u001b[38;5;124m\"\u001b[39m]\u001b[38;5;241m.\u001b[39mto_numpy()\n\u001b[0;32m    764\u001b[0m     \u001b[38;5;28;01mfor\u001b[39;00m z_plane \u001b[38;5;129;01min\u001b[39;00m z_planes\n\u001b[0;32m    765\u001b[0m ]\n\u001b[0;32m    766\u001b[0m masks \u001b[38;5;241m=\u001b[39m [\n\u001b[0;32m    767\u001b[0m     (\n\u001b[0;32m    768\u001b[0m         lo_mask[:, :, \u001b[38;5;28mint\u001b[39m(z_plane) \u001b[38;5;241m-\u001b[39m \u001b[38;5;241m1\u001b[39m]\n\u001b[0;32m    769\u001b[0m         \u001b[38;5;28;01mif\u001b[39;00m lo_mask\u001b[38;5;241m.\u001b[39mshape[\u001b[38;5;241m-\u001b[39m\u001b[38;5;241m1\u001b[39m] \u001b[38;5;241m>\u001b[39m z_planes[\u001b[38;5;241m-\u001b[39m\u001b[38;5;241m1\u001b[39m]\n\u001b[1;32m--> 770\u001b[0m         \u001b[38;5;28;01melse\u001b[39;00m lo_mask[:, :, j]\n\u001b[0;32m    771\u001b[0m     )\n\u001b[0;32m    772\u001b[0m     \u001b[38;5;28;01mfor\u001b[39;00m j, z_plane \u001b[38;5;129;01min\u001b[39;00m \u001b[38;5;28menumerate\u001b[39m(z_planes)\n\u001b[0;32m    773\u001b[0m ]\n\u001b[0;32m    774\u001b[0m image_sizes \u001b[38;5;241m=\u001b[39m [image_size \u001b[38;5;28;01mfor\u001b[39;00m z_plane \u001b[38;5;129;01min\u001b[39;00m z_planes]\n\u001b[0;32m    775\u001b[0m blur_degrees \u001b[38;5;241m=\u001b[39m [blur_degree \u001b[38;5;28;01mfor\u001b[39;00m z_plane \u001b[38;5;129;01min\u001b[39;00m z_planes]\n",
      "File \u001b[1;32m~\\AppData\\Roaming\\Python\\Python312\\site-packages\\pathos\\threading.py:144\u001b[0m, in \u001b[0;36mThreadPool.map\u001b[1;34m(self, f, *args, **kwds)\u001b[0m\n\u001b[0;32m    142\u001b[0m AbstractWorkerPool\u001b[38;5;241m.\u001b[39m_AbstractWorkerPool__map(\u001b[38;5;28mself\u001b[39m, f, \u001b[38;5;241m*\u001b[39margs, \u001b[38;5;241m*\u001b[39m\u001b[38;5;241m*\u001b[39mkwds)\n\u001b[0;32m    143\u001b[0m _pool \u001b[38;5;241m=\u001b[39m \u001b[38;5;28mself\u001b[39m\u001b[38;5;241m.\u001b[39m_serve()\n\u001b[1;32m--> 144\u001b[0m \u001b[38;5;28;01mreturn\u001b[39;00m \u001b[43m_pool\u001b[49m\u001b[38;5;241;43m.\u001b[39;49m\u001b[43mmap\u001b[49m\u001b[43m(\u001b[49m\u001b[43mstar\u001b[49m\u001b[43m(\u001b[49m\u001b[43mf\u001b[49m\u001b[43m)\u001b[49m\u001b[43m,\u001b[49m\u001b[43m \u001b[49m\u001b[38;5;28;43mzip\u001b[39;49m\u001b[43m(\u001b[49m\u001b[38;5;241;43m*\u001b[39;49m\u001b[43margs\u001b[49m\u001b[43m)\u001b[49m\u001b[43m,\u001b[49m\u001b[43m \u001b[49m\u001b[38;5;241;43m*\u001b[39;49m\u001b[38;5;241;43m*\u001b[39;49m\u001b[43mkwds\u001b[49m\u001b[43m)\u001b[49m\n",
      "File \u001b[1;32m~\\AppData\\Roaming\\Python\\Python312\\site-packages\\multiprocess\\pool.py:367\u001b[0m, in \u001b[0;36mPool.map\u001b[1;34m(self, func, iterable, chunksize)\u001b[0m\n\u001b[0;32m    362\u001b[0m \u001b[38;5;28;01mdef\u001b[39;00m \u001b[38;5;21mmap\u001b[39m(\u001b[38;5;28mself\u001b[39m, func, iterable, chunksize\u001b[38;5;241m=\u001b[39m\u001b[38;5;28;01mNone\u001b[39;00m):\n\u001b[0;32m    363\u001b[0m \u001b[38;5;250m    \u001b[39m\u001b[38;5;124;03m'''\u001b[39;00m\n\u001b[0;32m    364\u001b[0m \u001b[38;5;124;03m    Apply `func` to each element in `iterable`, collecting the results\u001b[39;00m\n\u001b[0;32m    365\u001b[0m \u001b[38;5;124;03m    in a list that is returned.\u001b[39;00m\n\u001b[0;32m    366\u001b[0m \u001b[38;5;124;03m    '''\u001b[39;00m\n\u001b[1;32m--> 367\u001b[0m     \u001b[38;5;28;01mreturn\u001b[39;00m \u001b[38;5;28;43mself\u001b[39;49m\u001b[38;5;241;43m.\u001b[39;49m\u001b[43m_map_async\u001b[49m\u001b[43m(\u001b[49m\u001b[43mfunc\u001b[49m\u001b[43m,\u001b[49m\u001b[43m \u001b[49m\u001b[43miterable\u001b[49m\u001b[43m,\u001b[49m\u001b[43m \u001b[49m\u001b[43mmapstar\u001b[49m\u001b[43m,\u001b[49m\u001b[43m \u001b[49m\u001b[43mchunksize\u001b[49m\u001b[43m)\u001b[49m\u001b[38;5;241;43m.\u001b[39;49m\u001b[43mget\u001b[49m\u001b[43m(\u001b[49m\u001b[43m)\u001b[49m\n",
      "File \u001b[1;32m~\\AppData\\Roaming\\Python\\Python312\\site-packages\\multiprocess\\pool.py:774\u001b[0m, in \u001b[0;36mApplyResult.get\u001b[1;34m(self, timeout)\u001b[0m\n\u001b[0;32m    772\u001b[0m     \u001b[38;5;28;01mreturn\u001b[39;00m \u001b[38;5;28mself\u001b[39m\u001b[38;5;241m.\u001b[39m_value\n\u001b[0;32m    773\u001b[0m \u001b[38;5;28;01melse\u001b[39;00m:\n\u001b[1;32m--> 774\u001b[0m     \u001b[38;5;28;01mraise\u001b[39;00m \u001b[38;5;28mself\u001b[39m\u001b[38;5;241m.\u001b[39m_value\n",
      "File \u001b[1;32m~\\AppData\\Roaming\\Python\\Python312\\site-packages\\multiprocess\\pool.py:125\u001b[0m, in \u001b[0;36mworker\u001b[1;34m(inqueue, outqueue, initializer, initargs, maxtasks, wrap_exception)\u001b[0m\n\u001b[0;32m    123\u001b[0m job, i, func, args, kwds \u001b[38;5;241m=\u001b[39m task\n\u001b[0;32m    124\u001b[0m \u001b[38;5;28;01mtry\u001b[39;00m:\n\u001b[1;32m--> 125\u001b[0m     result \u001b[38;5;241m=\u001b[39m (\u001b[38;5;28;01mTrue\u001b[39;00m, \u001b[43mfunc\u001b[49m\u001b[43m(\u001b[49m\u001b[38;5;241;43m*\u001b[39;49m\u001b[43margs\u001b[49m\u001b[43m,\u001b[49m\u001b[43m \u001b[49m\u001b[38;5;241;43m*\u001b[39;49m\u001b[38;5;241;43m*\u001b[39;49m\u001b[43mkwds\u001b[49m\u001b[43m)\u001b[49m)\n\u001b[0;32m    126\u001b[0m \u001b[38;5;28;01mexcept\u001b[39;00m \u001b[38;5;167;01mException\u001b[39;00m \u001b[38;5;28;01mas\u001b[39;00m e:\n\u001b[0;32m    127\u001b[0m     \u001b[38;5;28;01mif\u001b[39;00m wrap_exception \u001b[38;5;129;01mand\u001b[39;00m func \u001b[38;5;129;01mis\u001b[39;00m \u001b[38;5;129;01mnot\u001b[39;00m _helper_reraises_exception:\n",
      "File \u001b[1;32m~\\AppData\\Roaming\\Python\\Python312\\site-packages\\multiprocess\\pool.py:48\u001b[0m, in \u001b[0;36mmapstar\u001b[1;34m(args)\u001b[0m\n\u001b[0;32m     47\u001b[0m \u001b[38;5;28;01mdef\u001b[39;00m \u001b[38;5;21mmapstar\u001b[39m(args):\n\u001b[1;32m---> 48\u001b[0m     \u001b[38;5;28;01mreturn\u001b[39;00m \u001b[38;5;28;43mlist\u001b[39;49m\u001b[43m(\u001b[49m\u001b[38;5;28;43mmap\u001b[39;49m\u001b[43m(\u001b[49m\u001b[38;5;241;43m*\u001b[39;49m\u001b[43margs\u001b[49m\u001b[43m)\u001b[49m\u001b[43m)\u001b[49m\n",
      "File \u001b[1;32m~\\AppData\\Roaming\\Python\\Python312\\site-packages\\pathos\\helpers\\mp_helper.py:15\u001b[0m, in \u001b[0;36mstarargs.<locals>.<lambda>\u001b[1;34m(args)\u001b[0m\n\u001b[0;32m     13\u001b[0m \u001b[38;5;28;01mdef\u001b[39;00m \u001b[38;5;21mstarargs\u001b[39m(f):\n\u001b[0;32m     14\u001b[0m \u001b[38;5;250m    \u001b[39m\u001b[38;5;124;03m\"\"\"decorator to convert a many-arg function to a single-arg function\"\"\"\u001b[39;00m\n\u001b[1;32m---> 15\u001b[0m     func \u001b[38;5;241m=\u001b[39m \u001b[38;5;28;01mlambda\u001b[39;00m args: \u001b[43mf\u001b[49m\u001b[43m(\u001b[49m\u001b[38;5;241;43m*\u001b[39;49m\u001b[43margs\u001b[49m\u001b[43m)\u001b[49m\n\u001b[0;32m     16\u001b[0m    \u001b[38;5;66;03m#func.__module__ = f.__module__\u001b[39;00m\n\u001b[0;32m     17\u001b[0m    \u001b[38;5;66;03m#func.__name__ = f.__name__\u001b[39;00m\n\u001b[0;32m     18\u001b[0m     doc \u001b[38;5;241m=\u001b[39m \u001b[38;5;124m\"\u001b[39m\u001b[38;5;130;01m\\n\u001b[39;00m\u001b[38;5;124mNOTE: all inputs have been compressed into a single argument\u001b[39m\u001b[38;5;124m\"\u001b[39m\n",
      "File \u001b[1;32m~\\Cambridge University Dropbox\\Joseph Beckwith\\Chemistry\\Lee\\Code\\Python\\pyRASP\\src\\AnalysisFunctions.py:856\u001b[0m, in \u001b[0;36m_parallel_coloc_per_z_noclr_spot\u001b[1;34m(self, xcoords, ycoords, mask, image_size, blur_degree)\u001b[0m\n\u001b[0;32m    850\u001b[0m mask_indices \u001b[38;5;241m=\u001b[39m \u001b[38;5;28mself\u001b[39m\u001b[38;5;241m.\u001b[39mgenerate_indices(mask, image_size, is_mask\u001b[38;5;241m=\u001b[39m\u001b[38;5;28;01mTrue\u001b[39;00m)\n\u001b[0;32m    851\u001b[0m spot_indices \u001b[38;5;241m=\u001b[39m \u001b[38;5;28mself\u001b[39m\u001b[38;5;241m.\u001b[39mgenerate_indices(centroids, image_size)\n\u001b[0;32m    852\u001b[0m \u001b[38;5;28;01mreturn\u001b[39;00m C_F\u001b[38;5;241m.\u001b[39mcalculate_coincidence(\n\u001b[0;32m    853\u001b[0m     spot_indices,\n\u001b[0;32m    854\u001b[0m     mask_indices,\n\u001b[0;32m    855\u001b[0m     image_size,\n\u001b[1;32m--> 856\u001b[0m     blur_degree\u001b[38;5;241m=\u001b[39mblur_degree,\n\u001b[0;32m    857\u001b[0m     analysis_type\u001b[38;5;241m=\u001b[39m\u001b[38;5;124m\"\u001b[39m\u001b[38;5;124mcolocalisation_likelihood\u001b[39m\u001b[38;5;124m\"\u001b[39m,\n\u001b[0;32m    858\u001b[0m )\n",
      "File \u001b[1;32m~\\Cambridge University Dropbox\\Joseph Beckwith\\Chemistry\\Lee\\Code\\Python\\pyRASP\\src\\AnalysisFunctions.py:137\u001b[0m, in \u001b[0;36mAnalysis_Functions.generate_indices\u001b[1;34m(self, data, image_size, is_mask, is_lo)\u001b[0m\n\u001b[0;32m    135\u001b[0m \u001b[38;5;28;01mfor\u001b[39;00m i \u001b[38;5;129;01min\u001b[39;00m np\u001b[38;5;241m.\u001b[39marange(\u001b[38;5;28mlen\u001b[39m(image_size)):\n\u001b[0;32m    136\u001b[0m     \u001b[38;5;28;01mif\u001b[39;00m indices \u001b[38;5;129;01mis\u001b[39;00m \u001b[38;5;28;01mNone\u001b[39;00m:\n\u001b[1;32m--> 137\u001b[0m         indices \u001b[38;5;241m=\u001b[39m np\u001b[38;5;241m.\u001b[39mwhere(\n\u001b[0;32m    138\u001b[0m             (\u001b[38;5;241m0\u001b[39m \u001b[38;5;241m>\u001b[39m\u001b[38;5;241m=\u001b[39m coords[:, i]) \u001b[38;5;129;01mor\u001b[39;00m (coords[:, i] \u001b[38;5;241m<\u001b[39m image_size[i])\n\u001b[0;32m    139\u001b[0m         )[\u001b[38;5;241m0\u001b[39m]\n\u001b[0;32m    140\u001b[0m     \u001b[38;5;28;01melse\u001b[39;00m:\n\u001b[0;32m    141\u001b[0m         indices \u001b[38;5;241m=\u001b[39m np\u001b[38;5;241m.\u001b[39mhstack(\n\u001b[0;32m    142\u001b[0m             [\n\u001b[0;32m    143\u001b[0m                 indices,\n\u001b[1;32m   (...)\u001b[0m\n\u001b[0;32m    147\u001b[0m             ]\n\u001b[0;32m    148\u001b[0m         )\n",
      "\u001b[1;31mValueError\u001b[0m: The truth value of an array with more than one element is ambiguous. Use a.any() or a.all()"
     ]
    }
   ],
   "source": [
    "\"\"\"\n",
    "Redo colocalisation analyses of spots above a photon threshold in an\n",
    "analysis file.\n",
    "\n",
    "        Args:\n",
    "            analysis_file (str): The analysis file to be re-done.\n",
    "            threshold (float): The photon threshold\n",
    "            protein_string (str): string of analysed protein\n",
    "            lo_string (str): string of large object to analyse\n",
    "            analysis_type (str, optional): Type of analysis to perform. Options are:\n",
    "                - \"lo_to_spot\": Calculate spot to large object metrics.\n",
    "                - \"lo_to_cell\": Calculate large object to cell coincidence.\n",
    "                Default is \"spot_to_cell\".\n",
    "            imtype (str): image type\n",
    "            blur_degree (int): blur degree for colocalisation analysis\n",
    "            calc_clr (boolean): Calculate the clr, yes/no.\n",
    "            lower_cell_size_threshold (float): lower threshold of cell size\n",
    "            upper_cell_size_threshold (float): upper threshold of cell size\n",
    "            lower_lo_size_threshold (float): lower threshold of lo size\n",
    "            upper_lo_size_threshold (float): upper threshold of lo size\n",
    "            z_project_first (list of boolean): z project instructions for cell/protein size threshold\n",
    "            cell_threshold (float): intensity value cell should be above\n",
    "\n",
    "\"\"\"\n",
    "\n",
    "analysis_file = os.path.abspath(\n",
    "    r\"F:\\20240913_Isoform_syn211_second_run\\data_analysis\\largeobject_analysis.csv\"\n",
    ")  # example file, replace as you wish. Always input as the absolute path of a raw string\n",
    "threshold = 0\n",
    "cell_threshold = 0\n",
    "protein_string = \"C1\"\n",
    "lo_string = \"C1\"\n",
    "cell_string = \"C0\"\n",
    "upper_cell_size_threshold = np.inf\n",
    "upper_lo_size_threshold = np.inf\n",
    "\n",
    "analysis_type = 'spot_to_cell'\n",
    "blur_degree = 1\n",
    "imtype='.tif'\n",
    "calc_clr = False\n",
    "z_project_first = [False, False]\n",
    "\n",
    "lower_lo_size_threshold = 2000\n",
    "lower_cell_size_threshold = 2000\n",
    "\n",
    "analysis_files = HF.file_search(r'S:\\ASAP_Imaging_Data\\Main_Survey\\20241105_oligomers_in_cells', r'spot_analysis.csv', 'neurons')\n",
    "\n",
    "for analysis_file in analysis_files:\n",
    "    lo_analysis_AT, spot_analysis_AT = RASP.lo_colocalise_wrapper(\n",
    "        analysis_file,\n",
    "        threshold,\n",
    "        protein_string=protein_string,\n",
    "        lo_string=lo_string,\n",
    "        cell_string=cell_string,\n",
    "        analysis_type=analysis_type,\n",
    "        imtype=imtype,\n",
    "        blur_degree=blur_degree,\n",
    "        calc_clr=calc_clr,\n",
    "        lower_cell_size_threshold=lower_cell_size_threshold,\n",
    "        upper_cell_size_threshold=upper_cell_size_threshold,\n",
    "        lower_lo_size_threshold=lower_lo_size_threshold,\n",
    "        upper_lo_size_threshold=upper_lo_size_threshold,\n",
    "        z_project_first=z_project_first,\n",
    "        cell_threshold=cell_threshold,\n",
    "    )\n",
    "    del lo_analysis_AT\n",
    "    del spot_analysis_AT"
   ]
  },
  {
   "cell_type": "code",
   "execution_count": null,
   "id": "e5ae3b3f-ff66-4de3-aa9f-8be57bfcb97d",
   "metadata": {},
   "outputs": [],
   "source": []
  }
 ],
 "metadata": {
  "kernelspec": {
   "display_name": "Python 3 (ipykernel)",
   "language": "python",
   "name": "python3"
  },
  "language_info": {
   "codemirror_mode": {
    "name": "ipython",
    "version": 3
   },
   "file_extension": ".py",
   "mimetype": "text/x-python",
   "name": "python",
   "nbconvert_exporter": "python",
   "pygments_lexer": "ipython3",
   "version": "3.12.7"
  }
 },
 "nbformat": 4,
 "nbformat_minor": 5
}
