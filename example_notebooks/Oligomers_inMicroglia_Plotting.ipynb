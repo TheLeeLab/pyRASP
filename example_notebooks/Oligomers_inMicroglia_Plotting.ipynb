{
 "cells": [
  {
   "cell_type": "code",
   "execution_count": null,
   "id": "609372df-d123-4616-904d-a9b979d0afd9",
   "metadata": {},
   "outputs": [],
   "source": [
    "import polars as pl\n",
    "import os\n",
    "\n",
    "import sys\n",
    "sys.path.append('..')\n",
    "from src import PlottingFunctions\n",
    "\n",
    "plotter = PlottingFunctions.Plotter()\n",
    "import numpy as np\n",
    "import json\n",
    "\n",
    "from skimage import measure\n",
    "from skimage.measure import label\n",
    "\n",
    "from src import IOFunctions; IO = IOFunctions.IO_Functions()\n",
    "\n",
    "import matplotlib.pyplot as plt\n",
    "\n",
    "from src import AnalysisFunctions; A_F = AnalysisFunctions.Analysis_Functions()\n",
    "\n",
    "from src import CoincidenceFunctions; C_F = CoincidenceFunctions.Coincidence_Functions()"
   ]
  },
  {
   "cell_type": "code",
   "execution_count": null,
   "id": "3516f6b1-6782-4026-8042-5109acc987ba",
   "metadata": {},
   "outputs": [],
   "source": [
    "cingulate_PD_region = r'S:\\ASAP_Imaging_Data\\Main_Survey\\20241105_oligomers_in_cells\\cingulate\\microglia\\PD_analysis'\n",
    "frontal_PD_region = r'S:\\ASAP_Imaging_Data\\Main_Survey\\20241105_oligomers_in_cells\\frontal\\microglia\\PD_analysis'"
   ]
  },
  {
   "cell_type": "code",
   "execution_count": null,
   "id": "8d14602c-c474-4150-9d15-2a06273e525b",
   "metadata": {},
   "outputs": [],
   "source": [
    "def file_selector(folder, oligomer_data, percentile=20):\n",
    "    files = os.listdir(folder)\n",
    "    file = np.sort([x for x in files if 'percentile' in x and '_'+str(int(percentile))+'_' in x and '3Danalysis' in x])[0]\n",
    "    data = pl.read_csv(os.path.join(folder, file))\n",
    "    photonthreshold = float(file.split('_photonthreshold_')[1].split('_photons_')[0].replace('p', '.'))\n",
    "    oligomer_data = oligomer_data.filter(pl.col('sum_intensity_in_photons') < 3000)\n",
    "    percentile = oligomer_data['sum_intensity_in_photons'].rank()/len(oligomer_data['sum_intensity_in_photons'])\n",
    "    oligomer_data = oligomer_data.with_columns(percentile.alias(\"alpha\"))\n",
    "    return oligomer_data"
   ]
  },
  {
   "cell_type": "code",
   "execution_count": null,
   "id": "0769b37d-070b-41d6-8b97-8d8a003bce91",
   "metadata": {},
   "outputs": [],
   "source": [
    "cingulate_PD_data = pl.read_csv(os.path.join(cingulate_PD_region, 'spot_analysis.csv'))\n",
    "frontal_PD_data = pl.read_csv(os.path.join(frontal_PD_region, 'spot_analysis.csv'))\n",
    "cingulate_PD_data = file_selector(cingulate_PD_region, cingulate_PD_data, percentile=90)\n",
    "frontal_PD_data = file_selector(frontal_PD_region, frontal_PD_data, percentile=90)"
   ]
  },
  {
   "cell_type": "code",
   "execution_count": null,
   "id": "d22db038-445f-44f2-bbc8-93c2e3adbc41",
   "metadata": {},
   "outputs": [],
   "source": [
    "overall_data = pl.concat([cingulate_PD_data, frontal_PD_data])"
   ]
  },
  {
   "cell_type": "code",
   "execution_count": null,
   "id": "b8729aa3-fa05-4b80-80e0-4c142de1fac2",
   "metadata": {},
   "outputs": [],
   "source": [
    "del frontal_PD_data\n",
    "del cingulate_PD_data"
   ]
  },
  {
   "cell_type": "code",
   "execution_count": null,
   "id": "4a0bb81b-440d-4403-a3f0-a321c39e75b2",
   "metadata": {},
   "outputs": [],
   "source": [
    "files = ['Position 1 [9]_XY1697740734_Z00_T4', 'Position 1 [9]_XY1697721826_Z00_T5', 'Position 1 [9]_XY1697643793_Z00_T5']\n",
    "filenames = []\n",
    "for fname in files:\n",
    "    filenames = np.hstack([filenames, np.unique([x for x in overall_data['image_filename'].to_numpy() if fname in x])])"
   ]
  },
  {
   "cell_type": "code",
   "execution_count": null,
   "id": "e35d92f1-6297-4612-a525-c91c4b770345",
   "metadata": {},
   "outputs": [],
   "source": [
    "def quick_plotter(filename, protein_string='C1',\n",
    "                                       cell_string='C0', xmin=0, \n",
    "                                       width=1200, ymin=0, zplane=None, labelval=None):\n",
    "    raw_protein_image = IO.read_tiff_tophotons(filename)\n",
    "    analysis_folder = os.path.split(os.path.split(filename)[0])[0]+\"_analysis\"\n",
    "\n",
    "    cell_filename = filename.split(protein_string+'.tif')[0]+cell_string+'.tif'\n",
    "    raw_cell_image = IO.read_tiff_tophotons(cell_filename)\n",
    "    cell_MIP = np.max(raw_cell_image, axis=0)\n",
    "    if zplane is not None:\n",
    "        protein_MIP = raw_protein_image[zplane, : , :]\n",
    "    else:\n",
    "        protein_MIP = np.max(raw_protein_image, axis=0)\n",
    "    cell_mask_string = os.path.split(filename)[-1].split(protein_string+'.tif')[0]+cell_string+'_cellMask_cleanedup.tiff'\n",
    "    cell_mask = IO.read_tiff(os.path.join(analysis_folder, cell_mask_string))\n",
    "    labeled_image = label(\n",
    "        cell_mask, connectivity=3, return_num=False\n",
    "    )\n",
    "    mask_toplot = np.max(labeled_image, axis=0)\n",
    "    if labelval is not None:\n",
    "        fig, axs = plotter.one_column_plot()\n",
    "        mask_toplot = np.max(labeled_image, axis=0)\n",
    "        mask_toplot[mask_toplot != labelval] = 0\n",
    "        mask_toplot[mask_toplot == labelval] = 1\n",
    "        axs[0] = plotter.image_plot(axs=axs[0], data=protein_MIP[xmin:xmin+width, ymin:ymin+width],\n",
    "                                            cbar='off', scalebarsize=200, scalebarlabel='200 nm')      \n",
    "    \n",
    "        axs[0].contour(mask_toplot[xmin:xmin+width, ymin:ymin+width], [0.5], lw=0.75, colors=\"white\")\n",
    "        \n",
    "        plt.tight_layout()\n",
    "        plt.show(block=False)\n",
    "    else:\n",
    "        for value in np.arange(len(np.unique(mask_toplot))):\n",
    "            fig, axs = plotter.one_column_plot()\n",
    "            mask_toplot = np.max(labeled_image, axis=0)\n",
    "            mask_toplot[mask_toplot != value] = 0\n",
    "            mask_toplot[mask_toplot == value] = 1\n",
    "            axs[0] = plotter.image_plot(axs=axs[0], data=protein_MIP[xmin:xmin+width, ymin:ymin+width],\n",
    "                                                cbar='off', scalebarsize=200, scalebarlabel='200 nm')      \n",
    "        \n",
    "            axs[0].contour(mask_toplot[xmin:xmin+width, ymin:ymin+width], [0.5], lw=0.75, colors=\"white\")\n",
    "            \n",
    "            plt.tight_layout()\n",
    "            plt.show(block=False)\n",
    "    return"
   ]
  },
  {
   "cell_type": "code",
   "execution_count": null,
   "id": "211753f8-16fa-420b-938e-cb5012e37349",
   "metadata": {},
   "outputs": [],
   "source": [
    "quick_plotter(filenames[1], xmin=382, width=20, ymin=422, zplane=21, labelval=4)"
   ]
  },
  {
   "cell_type": "code",
   "execution_count": null,
   "id": "9c6728fd-f326-43ad-9bc3-db79c4b7b645",
   "metadata": {},
   "outputs": [],
   "source": [
    "labels = np.array([2, 4, 6])\n",
    "oligomer_zs = np.array([22, 21,20])\n",
    "oligomers_xmins = np.array([483,499,846])\n",
    "oligomers_ymins = np.array([513,623,729])\n",
    "oligomer_widths = np.array([20, 20, 20])"
   ]
  },
  {
   "cell_type": "code",
   "execution_count": null,
   "id": "18277837-b4b9-48c0-8fde-a508126e2006",
   "metadata": {},
   "outputs": [],
   "source": [
    "oligomers2_xmins = np.array([536, 382, 721])\n",
    "oligomers2_ymins = np.array([523,422,772])\n"
   ]
  },
  {
   "cell_type": "code",
   "execution_count": null,
   "id": "1e234792-ccb1-4bc1-a8d1-81ccbd5ff9b5",
   "metadata": {},
   "outputs": [],
   "source": [
    "xmins = np.array([255, 250, 520])\n",
    "widths = np.array([415, 450, 400])\n",
    "ymins = np.array([350, 230, 560])"
   ]
  },
  {
   "cell_type": "code",
   "execution_count": null,
   "id": "afe76043-51a5-4100-a1f4-9da6bc4fdcef",
   "metadata": {},
   "outputs": [],
   "source": [
    "def cell_oligomer_3panel_generator_rawoligomer(filenames, oligomer_data, folder_to_save, protein_string='C1',\n",
    "                                       cell_string='C0', xmins=0, \n",
    "                                       ymins=0, widths=1200, zvals=22):\n",
    "    mm = 1/25.4\n",
    "    fig, axs = plotter.two_column_plot(ncolumns=3, widthratio=[1,1,1], height=(170/3)*mm, width=180*mm)\n",
    "\n",
    "    for i in np.arange(3):\n",
    "        filename = filenames[i]\n",
    "        xmin = xmins[i]\n",
    "        ymin = ymins[i]\n",
    "        width = widths[i]\n",
    "        analysis_folder = os.path.split(os.path.split(filename)[0])[0]+\"_analysis\"\n",
    "    \n",
    "        protein_data = IO.read_tiff_tophotons(filename)[zvals[i], :, :]\n",
    "        axs[i] = plotter.image_plot(axs=axs[i], data=protein_data[xmin:xmin+width, ymin:ymin+width],\n",
    "                                            cbar='off', masklinewidth=0.5, scalebarlabel='300 nm', scalebarsize=300)        \n",
    "    return fig, axs"
   ]
  },
  {
   "cell_type": "code",
   "execution_count": null,
   "id": "cb0595a4-160e-411b-b26f-e0d0e520e1bb",
   "metadata": {},
   "outputs": [],
   "source": [
    "folder_to_save = r'C:\\Users\\jsb92\\Cambridge University Dropbox\\Joseph Beckwith'\n",
    "fig, axs = cell_oligomer_3panel_generator_rawoligomer(filenames, overall_data, folder_to_save, xmins=oligomers2_xmins, \n",
    "                                                      ymins=oligomers2_ymins, widths=oligomer_widths, zvals=oligomer_zs)\n",
    "plt.tight_layout()\n",
    "plt.savefig(os.path.join(folder_to_save, 'Example_oligomersinmicroglia2.svg'), format='svg', dpi=1200)"
   ]
  },
  {
   "cell_type": "code",
   "execution_count": null,
   "id": "108e0951-a87f-4bfe-957f-f85ffc834865",
   "metadata": {},
   "outputs": [],
   "source": [
    "def cell_oligomer_3panel_generator(filenames, oligomer_data, folder_to_save, protein_string='C1',\n",
    "                                       cell_string='C0', xmins=0, \n",
    "                                       ymins=0, widths=1200, labelvals=0, points=True):\n",
    "    mm = 1/25.4\n",
    "    fig, axs = plotter.two_column_plot(ncolumns=3, widthratio=[1,1,1], height=(170/3)*mm, width=180*mm)\n",
    "\n",
    "    for i in np.arange(3):\n",
    "        filename = filenames[i]\n",
    "        xmin = xmins[i]\n",
    "        ymin = ymins[i]\n",
    "        width = widths[i]\n",
    "        labelval = labelvals[i]\n",
    "        analysis_folder = os.path.split(os.path.split(filename)[0])[0]+\"_analysis\"\n",
    "        oligomers = oligomer_data.filter(pl.col('image_filename') == filename)\n",
    "        oligomers = oligomers.filter(pl.col(\"alpha\") > 0.9)\n",
    "        x = oligomers['x'].to_numpy()\n",
    "        y = oligomers['y'].to_numpy()\n",
    "        alpha = oligomers['alpha'].to_numpy()\n",
    "        zi = int(np.unique(oligomers['zi'].to_numpy())[0])\n",
    "        zf = int(np.unique(oligomers['zf'].to_numpy())[0])\n",
    "    \n",
    "        cell_filename = filename.split(protein_string+'.tif')[0]+cell_string+'.tif'\n",
    "        raw_cell_image = IO.read_tiff_tophotons(cell_filename)[zi-1:zf-1, :, :]\n",
    "        cell_MIP = np.nanmax(raw_cell_image, axis=0)\n",
    "        cell_mask_string = os.path.split(filename)[-1].split(protein_string+'.tif')[0]+cell_string+'_cellMask_cleanedup.tiff'\n",
    "        cell_mask = IO.read_tiff(os.path.join(analysis_folder, cell_mask_string))\n",
    "        labeled_image = label(\n",
    "        cell_mask, connectivity=3, return_num=False\n",
    "        )\n",
    "        mask_toplot = np.max(labeled_image, axis=0)\n",
    "        mask_toplot[mask_toplot != labelval] = 0\n",
    "        mask_toplot[mask_toplot == labelval] = 1\n",
    "        \n",
    "        punctaindices = (x > xmin) & (x < xmin+width) & (y > ymin) & (y < ymin+width)\n",
    "        x = x[punctaindices] \n",
    "        y = y[punctaindices]\n",
    "        alpha = alpha[punctaindices]\n",
    "        centroids = np.vstack([np.array(x, dtype=int), np.array(y, dtype=int)]).T\n",
    "        mask_indices = A_F.generate_indices(np.array(mask_toplot, dtype=bool), (1200, 1200), is_mask=True)\n",
    "        spot_indices = A_F.generate_indices(centroids, (1200, 1200))\n",
    "        spot_indices = C_F._apply_blur(spot_indices, (1200, 1200), 1)\n",
    "    \n",
    "        in_cell = C_F.test_spot_spot_overlap(spot_indices, mask_indices, n_spot1=len(x), raw=True)\n",
    "        x = x[in_cell == True]\n",
    "        y = y[in_cell == True]\n",
    "        alpha = alpha[in_cell == True]\n",
    "        \n",
    "        colours = np.array(np.full(len(x), 'red'), dtype='str')\n",
    "        \n",
    "        savestring =  os.path.split(filename)[-1].split(protein_string+'.tif')[0]+cell_string+'_examplemicroglia_witholigs.svg'\n",
    "        if points == True:\n",
    "            axs[i] = plotter.image_scatter_plot(axs=axs[i], data=cell_MIP[xmin:xmin+width, ymin:ymin+width], xdata=x-xmin, ydata=y-ymin, facecolor=colours, \n",
    "                                                alpha_scatter=alpha, s=2, lws=0, plotmask=True, mask=mask_toplot[xmin:xmin+width, ymin:ymin+width], cbar='off',\n",
    "                                                masklinewidth=0.75, maskcolor='#91d1c2', scalebarlabel=r'10 $\\mu$m', scalebarsize=10000)\n",
    "        else:\n",
    "            axs[i] = plotter.image_plot(axs=axs[i], data=cell_MIP[xmin:xmin+width, ymin:ymin+width],\n",
    "                                                plotmask=True, mask=mask_toplot[xmin:xmin+width, ymin:ymin+width], cbar='off', masklinewidth=0.5)        \n",
    "    return fig, axs"
   ]
  },
  {
   "cell_type": "code",
   "execution_count": null,
   "id": "1047e606-301b-45c1-bbe8-d89f8ace1d47",
   "metadata": {},
   "outputs": [],
   "source": [
    "folder_to_save = r'C:\\Users\\jsb92\\Cambridge University Dropbox\\Joseph Beckwith'\n",
    "fig, axs = cell_oligomer_3panel_generator(filenames, overall_data, folder_to_save, xmins=xmins, ymins=ymins, widths=widths, labelvals=labels)\n",
    "plt.tight_layout()\n",
    "plt.savefig(os.path.join(folder_to_save, 'Example_microgliafigure.svg'), format='svg', dpi=1200)"
   ]
  },
  {
   "cell_type": "code",
   "execution_count": null,
   "id": "3428e52a-9745-400e-9284-a0021d3b4506",
   "metadata": {},
   "outputs": [],
   "source": []
  }
 ],
 "metadata": {
  "kernelspec": {
   "display_name": "Python 3 (ipykernel)",
   "language": "python",
   "name": "python3"
  },
  "language_info": {
   "codemirror_mode": {
    "name": "ipython",
    "version": 3
   },
   "file_extension": ".py",
   "mimetype": "text/x-python",
   "name": "python",
   "nbconvert_exporter": "python",
   "pygments_lexer": "ipython3",
   "version": "3.12.7"
  }
 },
 "nbformat": 4,
 "nbformat_minor": 5
}
