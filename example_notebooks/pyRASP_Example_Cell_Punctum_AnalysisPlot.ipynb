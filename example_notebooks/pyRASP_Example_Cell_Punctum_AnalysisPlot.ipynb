{
 "cells": [
  {
   "cell_type": "code",
   "execution_count": null,
   "id": "639d889a-964f-48c6-96be-f3070b50a506",
   "metadata": {},
   "outputs": [],
   "source": [
    "import os\n",
    "from src import RASPRoutines\n",
    "import numpy as np\n",
    "\n",
    "RASP = RASPRoutines.RASP_Routines()"
   ]
  },
  {
   "cell_type": "code",
   "execution_count": null,
   "id": "a9fd11b1",
   "metadata": {},
   "outputs": [],
   "source": [
    "        \"\"\"cell_punctum_analysis_plot function\n",
    "        takes cell punctum analysis, finds cell mask, spots, images etc.\n",
    "        and plots cells in a certain range of puncta_cell_likelihood\n",
    "\n",
    "        Args:\n",
    "            folder_tosave (string): folder to save figures in\n",
    "            cell_punctum_analysis_file (string): where the cell punctum analysis is\n",
    "            spot_analysis_file (string): where the punctum analysis is\n",
    "            lower_pcl (float): lower punctum cell ratio of interest\n",
    "            upper_pcl (float): upper punctum cell ratio of interest\n",
    "            z_project (boolean): z project cell mask or not\n",
    "            protein_string (string): protein string for files\n",
    "            cell_string (string): cell string for files\n",
    "        \"\"\"\n",
    "\n",
    "from src import PlottingFunctions\n",
    "\n",
    "plotter = PlottingFunctions.Plotter()\n",
    "\n",
    "plotter.cell_punctum_analysis_plot(\n",
    "        folder_tosave,\n",
    "        cell_punctum_analysis_file,\n",
    "        spot_analysis_file,\n",
    "        lower_pcl,\n",
    "        upper_pcl=np.inf,\n",
    "        z_project=True,\n",
    "        protein_string=\"C1\",\n",
    "        cell_string=\"C0\",\n",
    "    )"
   ]
  }
 ],
 "metadata": {
  "kernelspec": {
   "display_name": "Python 3 (ipykernel)",
   "language": "python",
   "name": "python3"
  },
  "language_info": {
   "codemirror_mode": {
    "name": "ipython",
    "version": 3
   },
   "file_extension": ".py",
   "mimetype": "text/x-python",
   "name": "python",
   "nbconvert_exporter": "python",
   "pygments_lexer": "ipython3",
   "version": "3.10.12"
  }
 },
 "nbformat": 4,
 "nbformat_minor": 5
}
