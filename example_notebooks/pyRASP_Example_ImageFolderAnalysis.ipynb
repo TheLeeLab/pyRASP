{
 "cells": [
  {
   "cell_type": "code",
   "execution_count": 1,
   "id": "639d889a-964f-48c6-96be-f3070b50a506",
   "metadata": {},
   "outputs": [],
   "source": [
    "import sys\n",
    "\n",
    "sys.path.append(\"..\")  # Adds higher directory to python modules path.\n",
    "import os\n",
    "from src import RASPRoutines\n",
    "\n",
    "RASP = RASPRoutines.RASP_Routines()"
   ]
  },
  {
   "cell_type": "code",
   "execution_count": 2,
   "id": "a9fd11b1",
   "metadata": {},
   "outputs": [
    {
     "ename": "TypeError",
     "evalue": "ImageAnalysis_Functions.intensity_pixel_indices() takes 2 positional arguments but 3 were given",
     "output_type": "error",
     "traceback": [
      "\u001b[0;31m---------------------------------------------------------------------------\u001b[0m",
      "\u001b[0;31mRemoteTraceback\u001b[0m                           Traceback (most recent call last)",
      "\u001b[0;31mRemoteTraceback\u001b[0m: \n\"\"\"\nTraceback (most recent call last):\n  File \"/home/jbeckwith/.virtualenvs/pyRASP/lib/python3.10/site-packages/multiprocess/pool.py\", line 125, in worker\n    result = (True, func(*args, **kwds))\n  File \"/home/jbeckwith/.virtualenvs/pyRASP/lib/python3.10/site-packages/multiprocess/pool.py\", line 48, in mapstar\n    return list(map(*args))\n  File \"/home/jbeckwith/.virtualenvs/pyRASP/lib/python3.10/site-packages/pathos/helpers/mp_helper.py\", line 15, in <lambda>\n    func = lambda args: f(*args)\n  File \"/home/jbeckwith/Documents/Dropbox/Cambridge University Dropbox/Joseph Beckwith/Chemistry/Lee/Code/Python/pyRASP/example_notebooks/../src/Image_Analysis_Functions.py\", line 793, in analyse_zplanes\n    ) = self.default_spotanalysis_routine(\n  File \"/home/jbeckwith/Documents/Dropbox/Cambridge University Dropbox/Joseph Beckwith/Chemistry/Lee/Code/Python/pyRASP/example_notebooks/../src/Image_Analysis_Functions.py\", line 228, in default_spotanalysis_routine\n    self.estimate_intensity(image, centroids)\n  File \"/home/jbeckwith/Documents/Dropbox/Cambridge University Dropbox/Joseph Beckwith/Chemistry/Lee/Code/Python/pyRASP/example_notebooks/../src/Image_Analysis_Functions.py\", line 419, in estimate_intensity\n    x_in, y_in, x_out, y_out = self.intensity_pixel_indices(centroids, image_size)\nTypeError: ImageAnalysis_Functions.intensity_pixel_indices() takes 2 positional arguments but 3 were given\n\"\"\"",
      "\nThe above exception was the direct cause of the following exception:\n",
      "\u001b[0;31mTypeError\u001b[0m                                 Traceback (most recent call last)",
      "Cell \u001b[0;32mIn[2], line 29\u001b[0m\n\u001b[1;32m      1\u001b[0m \u001b[38;5;124;03m\"\"\" the command below will run the analyse_images analysis:\u001b[39;00m\n\u001b[1;32m      2\u001b[0m \n\u001b[1;32m      3\u001b[0m \u001b[38;5;124;03m            folder (string): Folder containing images\u001b[39;00m\n\u001b[0;32m   (...)\u001b[0m\n\u001b[1;32m     22\u001b[0m \u001b[38;5;124;03mAll have defaults except folder, which is necessary.\u001b[39;00m\n\u001b[1;32m     23\u001b[0m \u001b[38;5;124;03m\"\"\"\u001b[39;00m\n\u001b[1;32m     25\u001b[0m folder \u001b[38;5;241m=\u001b[39m os\u001b[38;5;241m.\u001b[39mpath\u001b[38;5;241m.\u001b[39mabspath(\n\u001b[1;32m     26\u001b[0m     \u001b[38;5;124mr\u001b[39m\u001b[38;5;124m\"\u001b[39m\u001b[38;5;124m../example_images\u001b[39m\u001b[38;5;124m\"\u001b[39m\n\u001b[1;32m     27\u001b[0m )  \u001b[38;5;66;03m# example file, replace as you wish. Always input as the absolute path of a raw string\u001b[39;00m\n\u001b[0;32m---> 29\u001b[0m \u001b[43mRASP\u001b[49m\u001b[38;5;241;43m.\u001b[39;49m\u001b[43manalyse_images\u001b[49m\u001b[43m(\u001b[49m\u001b[43mfolder\u001b[49m\u001b[43m,\u001b[49m\u001b[43m \u001b[49m\u001b[43mprotein_string\u001b[49m\u001b[38;5;241;43m=\u001b[39;49m\u001b[38;5;124;43m\"\u001b[39;49m\u001b[38;5;124;43mC1\u001b[39;49m\u001b[38;5;124;43m\"\u001b[39;49m\u001b[43m,\u001b[49m\u001b[43m \u001b[49m\u001b[43mthres\u001b[49m\u001b[38;5;241;43m=\u001b[39;49m\u001b[38;5;241;43m0.05\u001b[39;49m\u001b[43m,\u001b[49m\u001b[43m \u001b[49m\u001b[43mlarge_thres\u001b[49m\u001b[38;5;241;43m=\u001b[39;49m\u001b[38;5;241;43m500.0\u001b[39;49m\u001b[43m)\u001b[49m\n",
      "File \u001b[0;32m~/Documents/Dropbox/Cambridge University Dropbox/Joseph Beckwith/Chemistry/Lee/Code/Python/pyRASP/example_notebooks/../src/RASPRoutines.py:632\u001b[0m, in \u001b[0;36mRASP_Routines.analyse_images\u001b[0;34m(self, folder, imtype, thres, large_thres, gsigma, rwave, protein_string, cell_string, if_filter, im_start, cell_analysis, one_savefile, disp, folder_recursive)\u001b[0m\n\u001b[1;32m    630\u001b[0m     analysis_directory \u001b[38;5;241m=\u001b[39m os\u001b[38;5;241m.\u001b[39mpath\u001b[38;5;241m.\u001b[39mabspath(folder) \u001b[38;5;241m+\u001b[39m \u001b[38;5;124m\"\u001b[39m\u001b[38;5;124m_analysis\u001b[39m\u001b[38;5;124m\"\u001b[39m\n\u001b[1;32m    631\u001b[0m     IO\u001b[38;5;241m.\u001b[39mmake_directory(analysis_directory)\n\u001b[0;32m--> 632\u001b[0m     \u001b[43mprocess_files\u001b[49m\u001b[43m(\u001b[49m\u001b[43mfolder\u001b[49m\u001b[43m,\u001b[49m\u001b[43m \u001b[49m\u001b[43mfiles\u001b[49m\u001b[43m,\u001b[49m\u001b[43m \u001b[49m\u001b[43mcell_files\u001b[49m\u001b[43m)\u001b[49m\n\u001b[1;32m    633\u001b[0m \u001b[38;5;28;01mreturn\u001b[39;00m\n",
      "File \u001b[0;32m~/Documents/Dropbox/Cambridge University Dropbox/Joseph Beckwith/Chemistry/Lee/Code/Python/pyRASP/example_notebooks/../src/RASPRoutines.py:601\u001b[0m, in \u001b[0;36mRASP_Routines.analyse_images.<locals>.process_files\u001b[0;34m(subfolder, files, cell_files)\u001b[0m\n\u001b[1;32m    593\u001b[0m     img_cell \u001b[38;5;241m=\u001b[39m IO\u001b[38;5;241m.\u001b[39mread_tiff_tophotons(\n\u001b[1;32m    594\u001b[0m         os\u001b[38;5;241m.\u001b[39mpath\u001b[38;5;241m.\u001b[39mjoin(subfolder, cell_files[i]),\n\u001b[1;32m    595\u001b[0m         QE\u001b[38;5;241m=\u001b[39m\u001b[38;5;28mself\u001b[39m\u001b[38;5;241m.\u001b[39mQE,\n\u001b[0;32m   (...)\u001b[0m\n\u001b[1;32m    598\u001b[0m         variance_map\u001b[38;5;241m=\u001b[39m\u001b[38;5;28mself\u001b[39m\u001b[38;5;241m.\u001b[39mvariance_map,\n\u001b[1;32m    599\u001b[0m     )[:, :, im_start:]\n\u001b[1;32m    600\u001b[0m z_test \u001b[38;5;241m=\u001b[39m \u001b[38;5;28mlen\u001b[39m(img\u001b[38;5;241m.\u001b[39mshape) \u001b[38;5;241m>\u001b[39m \u001b[38;5;241m2\u001b[39m\n\u001b[0;32m--> 601\u001b[0m \u001b[43m_analysis_loop\u001b[49m\u001b[43m(\u001b[49m\n\u001b[1;32m    602\u001b[0m \u001b[43m    \u001b[49m\u001b[43mimg\u001b[49m\u001b[43m,\u001b[49m\u001b[43m \u001b[49m\u001b[43mk1\u001b[49m\u001b[43m,\u001b[49m\u001b[43m \u001b[49m\u001b[43mk2\u001b[49m\u001b[43m,\u001b[49m\u001b[43m \u001b[49m\u001b[43mimg_cell\u001b[49m\u001b[43m,\u001b[49m\u001b[43m \u001b[49m\u001b[43mthres\u001b[49m\u001b[43m,\u001b[49m\u001b[43m \u001b[49m\u001b[43mlarge_thres\u001b[49m\u001b[43m,\u001b[49m\u001b[43m \u001b[49m\u001b[43mrdl\u001b[49m\u001b[43m,\u001b[49m\u001b[43m \u001b[49m\u001b[43mz_test\u001b[49m\u001b[43m,\u001b[49m\u001b[43m \u001b[49m\u001b[43mi\u001b[49m\n\u001b[1;32m    603\u001b[0m \u001b[43m\u001b[49m\u001b[43m)\u001b[49m\n\u001b[1;32m    604\u001b[0m \u001b[38;5;28;01mif\u001b[39;00m disp:\n\u001b[1;32m    605\u001b[0m     \u001b[38;5;28mprint\u001b[39m(\n\u001b[1;32m    606\u001b[0m         \u001b[38;5;124mf\u001b[39m\u001b[38;5;124m\"\u001b[39m\u001b[38;5;124mAnalysed image file \u001b[39m\u001b[38;5;132;01m{\u001b[39;00mi\u001b[38;5;250m \u001b[39m\u001b[38;5;241m+\u001b[39m\u001b[38;5;250m \u001b[39m\u001b[38;5;241m1\u001b[39m\u001b[38;5;132;01m}\u001b[39;00m\u001b[38;5;124m/\u001b[39m\u001b[38;5;132;01m{\u001b[39;00m\u001b[38;5;28mlen\u001b[39m(files)\u001b[38;5;132;01m}\u001b[39;00m\u001b[38;5;124m    Time elapsed: \u001b[39m\u001b[38;5;132;01m{\u001b[39;00mtime\u001b[38;5;241m.\u001b[39mtime()\u001b[38;5;250m \u001b[39m\u001b[38;5;241m-\u001b[39m\u001b[38;5;250m \u001b[39mstart\u001b[38;5;132;01m:\u001b[39;00m\u001b[38;5;124m.3f\u001b[39m\u001b[38;5;132;01m}\u001b[39;00m\u001b[38;5;124m s\u001b[39m\u001b[38;5;124m\"\u001b[39m,\n\u001b[1;32m    607\u001b[0m         end\u001b[38;5;241m=\u001b[39m\u001b[38;5;124m\"\u001b[39m\u001b[38;5;130;01m\\r\u001b[39;00m\u001b[38;5;124m\"\u001b[39m,\n\u001b[1;32m    608\u001b[0m         flush\u001b[38;5;241m=\u001b[39m\u001b[38;5;28;01mTrue\u001b[39;00m,\n\u001b[1;32m    609\u001b[0m     )\n",
      "File \u001b[0;32m~/Documents/Dropbox/Cambridge University Dropbox/Joseph Beckwith/Chemistry/Lee/Code/Python/pyRASP/example_notebooks/../src/RASPRoutines.py:546\u001b[0m, in \u001b[0;36mRASP_Routines.analyse_images.<locals>._analysis_loop\u001b[0;34m(img, k1, k2, img_cell, thres, large_thres, rdl, z_test, i)\u001b[0m\n\u001b[1;32m    539\u001b[0m     \u001b[38;5;28;01mif\u001b[39;00m img_cell \u001b[38;5;129;01mis\u001b[39;00m \u001b[38;5;129;01mnot\u001b[39;00m \u001b[38;5;28;01mNone\u001b[39;00m:\n\u001b[1;32m    540\u001b[0m         img_cell \u001b[38;5;241m=\u001b[39m img_cell[:, :, z_planes[\u001b[38;5;241m0\u001b[39m] : z_planes[\u001b[38;5;241m1\u001b[39m]]\n\u001b[1;32m    541\u001b[0m (\n\u001b[1;32m    542\u001b[0m     to_save,\n\u001b[1;32m    543\u001b[0m     to_save_largeobjects,\n\u001b[1;32m    544\u001b[0m     lo_mask,\n\u001b[1;32m    545\u001b[0m     cell_mask,\n\u001b[0;32m--> 546\u001b[0m ) \u001b[38;5;241m=\u001b[39m \u001b[43mIA_F\u001b[49m\u001b[38;5;241;43m.\u001b[39;49m\u001b[43mcompute_spot_and_cell_props\u001b[49m\u001b[43m(\u001b[49m\n\u001b[1;32m    547\u001b[0m \u001b[43m    \u001b[49m\u001b[43mimg\u001b[49m\u001b[43m,\u001b[49m\n\u001b[1;32m    548\u001b[0m \u001b[43m    \u001b[49m\u001b[43mimg_cell\u001b[49m\u001b[43m,\u001b[49m\n\u001b[1;32m    549\u001b[0m \u001b[43m    \u001b[49m\u001b[43mk1\u001b[49m\u001b[43m,\u001b[49m\n\u001b[1;32m    550\u001b[0m \u001b[43m    \u001b[49m\u001b[43mk2\u001b[49m\u001b[43m,\u001b[49m\n\u001b[1;32m    551\u001b[0m \u001b[43m    \u001b[49m\u001b[43mimg2\u001b[49m\u001b[43m,\u001b[49m\n\u001b[1;32m    552\u001b[0m \u001b[43m    \u001b[49m\u001b[43mGx\u001b[49m\u001b[43m,\u001b[49m\n\u001b[1;32m    553\u001b[0m \u001b[43m    \u001b[49m\u001b[43mGy\u001b[49m\u001b[43m,\u001b[49m\n\u001b[1;32m    554\u001b[0m \u001b[43m    \u001b[49m\u001b[43mprot_thres\u001b[49m\u001b[38;5;241;43m=\u001b[39;49m\u001b[43mthres\u001b[49m\u001b[43m,\u001b[49m\n\u001b[1;32m    555\u001b[0m \u001b[43m    \u001b[49m\u001b[43mlarge_prot_thres\u001b[49m\u001b[38;5;241;43m=\u001b[39;49m\u001b[43mlarge_thres\u001b[49m\u001b[43m,\u001b[49m\n\u001b[1;32m    556\u001b[0m \u001b[43m    \u001b[49m\u001b[43mareathres\u001b[49m\u001b[38;5;241;43m=\u001b[39;49m\u001b[38;5;28;43mself\u001b[39;49m\u001b[38;5;241;43m.\u001b[39;49m\u001b[43mareathres\u001b[49m\u001b[43m,\u001b[49m\n\u001b[1;32m    557\u001b[0m \u001b[43m    \u001b[49m\u001b[43mrdl\u001b[49m\u001b[38;5;241;43m=\u001b[39;49m\u001b[43mrdl\u001b[49m\u001b[43m,\u001b[49m\n\u001b[1;32m    558\u001b[0m \u001b[43m    \u001b[49m\u001b[43mz\u001b[49m\u001b[38;5;241;43m=\u001b[39;49m\u001b[43mz_planes\u001b[49m\u001b[43m,\u001b[49m\n\u001b[1;32m    559\u001b[0m \u001b[43m    \u001b[49m\u001b[43mcell_threshold1\u001b[49m\u001b[38;5;241;43m=\u001b[39;49m\u001b[38;5;28;43mself\u001b[39;49m\u001b[38;5;241;43m.\u001b[39;49m\u001b[43mcell_threshold1\u001b[49m\u001b[43m,\u001b[49m\n\u001b[1;32m    560\u001b[0m \u001b[43m    \u001b[49m\u001b[43mcell_threshold2\u001b[49m\u001b[38;5;241;43m=\u001b[39;49m\u001b[38;5;28;43mself\u001b[39;49m\u001b[38;5;241;43m.\u001b[39;49m\u001b[43mcell_threshold1\u001b[49m\u001b[43m,\u001b[49m\n\u001b[1;32m    561\u001b[0m \u001b[43m    \u001b[49m\u001b[43mcell_sigma1\u001b[49m\u001b[38;5;241;43m=\u001b[39;49m\u001b[38;5;28;43mself\u001b[39;49m\u001b[38;5;241;43m.\u001b[39;49m\u001b[43mcell_sigma1\u001b[49m\u001b[43m,\u001b[49m\n\u001b[1;32m    562\u001b[0m \u001b[43m    \u001b[49m\u001b[43mcell_sigma2\u001b[49m\u001b[38;5;241;43m=\u001b[39;49m\u001b[38;5;28;43mself\u001b[39;49m\u001b[38;5;241;43m.\u001b[39;49m\u001b[43mcell_sigma2\u001b[49m\u001b[43m,\u001b[49m\n\u001b[1;32m    563\u001b[0m \u001b[43m    \u001b[49m\u001b[43md\u001b[49m\u001b[38;5;241;43m=\u001b[39;49m\u001b[38;5;28;43mself\u001b[39;49m\u001b[38;5;241;43m.\u001b[39;49m\u001b[43md\u001b[49m\u001b[43m,\u001b[49m\n\u001b[1;32m    564\u001b[0m \u001b[43m\u001b[49m\u001b[43m)\u001b[49m\n\u001b[1;32m    565\u001b[0m IO\u001b[38;5;241m.\u001b[39msave_analysis(\n\u001b[1;32m    566\u001b[0m     to_save,\n\u001b[1;32m    567\u001b[0m     to_save_largeobjects,\n\u001b[0;32m   (...)\u001b[0m\n\u001b[1;32m    577\u001b[0m     one_savefile\u001b[38;5;241m=\u001b[39mone_savefile,\n\u001b[1;32m    578\u001b[0m )\n",
      "File \u001b[0;32m~/Documents/Dropbox/Cambridge University Dropbox/Joseph Beckwith/Chemistry/Lee/Code/Python/pyRASP/example_notebooks/../src/Image_Analysis_Functions.py:843\u001b[0m, in \u001b[0;36mImageAnalysis_Functions.compute_spot_and_cell_props\u001b[0;34m(self, image, image_cell, k1, k2, img2, Gx, Gy, prot_thres, large_prot_thres, areathres, rdl, z, cell_threshold1, cell_threshold2, cell_sigma1, cell_sigma2, d)\u001b[0m\n\u001b[1;32m    841\u001b[0m pool \u001b[38;5;241m=\u001b[39m Pool(nodes\u001b[38;5;241m=\u001b[39mcpu_number)\n\u001b[1;32m    842\u001b[0m pool\u001b[38;5;241m.\u001b[39mrestart()\n\u001b[0;32m--> 843\u001b[0m results \u001b[38;5;241m=\u001b[39m \u001b[43mpool\u001b[49m\u001b[38;5;241;43m.\u001b[39;49m\u001b[43mmap\u001b[49m\u001b[43m(\u001b[49m\n\u001b[1;32m    844\u001b[0m \u001b[43m    \u001b[49m\u001b[43manalyse_zplanes\u001b[49m\u001b[43m,\u001b[49m\n\u001b[1;32m    845\u001b[0m \u001b[43m    \u001b[49m\u001b[43mnp\u001b[49m\u001b[38;5;241;43m.\u001b[39;49m\u001b[43marange\u001b[49m\u001b[43m(\u001b[49m\u001b[43mimage\u001b[49m\u001b[38;5;241;43m.\u001b[39;49m\u001b[43mshape\u001b[49m\u001b[43m[\u001b[49m\u001b[38;5;241;43m-\u001b[39;49m\u001b[38;5;241;43m1\u001b[39;49m\u001b[43m]\u001b[49m\u001b[43m)\u001b[49m\u001b[43m,\u001b[49m\n\u001b[1;32m    846\u001b[0m \u001b[43m    \u001b[49m\u001b[43mplanes\u001b[49m\u001b[43m,\u001b[49m\n\u001b[1;32m    847\u001b[0m \u001b[43m    \u001b[49m\u001b[43mplanes_img2\u001b[49m\u001b[43m,\u001b[49m\n\u001b[1;32m    848\u001b[0m \u001b[43m    \u001b[49m\u001b[43mplanes_Gx\u001b[49m\u001b[43m,\u001b[49m\n\u001b[1;32m    849\u001b[0m \u001b[43m    \u001b[49m\u001b[43mplanes_Gy\u001b[49m\u001b[43m,\u001b[49m\n\u001b[1;32m    850\u001b[0m \u001b[43m    \u001b[49m\u001b[43mplanes_imagecell\u001b[49m\u001b[43m,\u001b[49m\n\u001b[1;32m    851\u001b[0m \u001b[43m\u001b[49m\u001b[43m)\u001b[49m\n\u001b[1;32m    852\u001b[0m pool\u001b[38;5;241m.\u001b[39mclose()\n\u001b[1;32m    853\u001b[0m pool\u001b[38;5;241m.\u001b[39mterminate()\n",
      "File \u001b[0;32m~/.virtualenvs/pyRASP/lib/python3.10/site-packages/pathos/multiprocessing.py:154\u001b[0m, in \u001b[0;36mProcessPool.map\u001b[0;34m(self, f, *args, **kwds)\u001b[0m\n\u001b[1;32m    152\u001b[0m \u001b[38;5;28;01mif\u001b[39;00m \u001b[38;5;129;01mnot\u001b[39;00m OLD312a7:\n\u001b[1;32m    153\u001b[0m     warnings\u001b[38;5;241m.\u001b[39mfilterwarnings(\u001b[38;5;124m'\u001b[39m\u001b[38;5;124mignore\u001b[39m\u001b[38;5;124m'\u001b[39m, category\u001b[38;5;241m=\u001b[39m\u001b[38;5;167;01mDeprecationWarning\u001b[39;00m)\n\u001b[0;32m--> 154\u001b[0m \u001b[38;5;28;01mreturn\u001b[39;00m \u001b[43m_pool\u001b[49m\u001b[38;5;241;43m.\u001b[39;49m\u001b[43mmap\u001b[49m\u001b[43m(\u001b[49m\u001b[43mstar\u001b[49m\u001b[43m(\u001b[49m\u001b[43mf\u001b[49m\u001b[43m)\u001b[49m\u001b[43m,\u001b[49m\u001b[43m \u001b[49m\u001b[38;5;28;43mzip\u001b[39;49m\u001b[43m(\u001b[49m\u001b[38;5;241;43m*\u001b[39;49m\u001b[43margs\u001b[49m\u001b[43m)\u001b[49m\u001b[43m,\u001b[49m\u001b[43m \u001b[49m\u001b[38;5;241;43m*\u001b[39;49m\u001b[38;5;241;43m*\u001b[39;49m\u001b[43mkwds\u001b[49m\u001b[43m)\u001b[49m\n",
      "File \u001b[0;32m~/.virtualenvs/pyRASP/lib/python3.10/site-packages/multiprocess/pool.py:367\u001b[0m, in \u001b[0;36mPool.map\u001b[0;34m(self, func, iterable, chunksize)\u001b[0m\n\u001b[1;32m    362\u001b[0m \u001b[38;5;28;01mdef\u001b[39;00m \u001b[38;5;21mmap\u001b[39m(\u001b[38;5;28mself\u001b[39m, func, iterable, chunksize\u001b[38;5;241m=\u001b[39m\u001b[38;5;28;01mNone\u001b[39;00m):\n\u001b[1;32m    363\u001b[0m \u001b[38;5;250m    \u001b[39m\u001b[38;5;124;03m'''\u001b[39;00m\n\u001b[1;32m    364\u001b[0m \u001b[38;5;124;03m    Apply `func` to each element in `iterable`, collecting the results\u001b[39;00m\n\u001b[1;32m    365\u001b[0m \u001b[38;5;124;03m    in a list that is returned.\u001b[39;00m\n\u001b[1;32m    366\u001b[0m \u001b[38;5;124;03m    '''\u001b[39;00m\n\u001b[0;32m--> 367\u001b[0m     \u001b[38;5;28;01mreturn\u001b[39;00m \u001b[38;5;28;43mself\u001b[39;49m\u001b[38;5;241;43m.\u001b[39;49m\u001b[43m_map_async\u001b[49m\u001b[43m(\u001b[49m\u001b[43mfunc\u001b[49m\u001b[43m,\u001b[49m\u001b[43m \u001b[49m\u001b[43miterable\u001b[49m\u001b[43m,\u001b[49m\u001b[43m \u001b[49m\u001b[43mmapstar\u001b[49m\u001b[43m,\u001b[49m\u001b[43m \u001b[49m\u001b[43mchunksize\u001b[49m\u001b[43m)\u001b[49m\u001b[38;5;241;43m.\u001b[39;49m\u001b[43mget\u001b[49m\u001b[43m(\u001b[49m\u001b[43m)\u001b[49m\n",
      "File \u001b[0;32m~/.virtualenvs/pyRASP/lib/python3.10/site-packages/multiprocess/pool.py:774\u001b[0m, in \u001b[0;36mApplyResult.get\u001b[0;34m(self, timeout)\u001b[0m\n\u001b[1;32m    772\u001b[0m     \u001b[38;5;28;01mreturn\u001b[39;00m \u001b[38;5;28mself\u001b[39m\u001b[38;5;241m.\u001b[39m_value\n\u001b[1;32m    773\u001b[0m \u001b[38;5;28;01melse\u001b[39;00m:\n\u001b[0;32m--> 774\u001b[0m     \u001b[38;5;28;01mraise\u001b[39;00m \u001b[38;5;28mself\u001b[39m\u001b[38;5;241m.\u001b[39m_value\n",
      "\u001b[0;31mTypeError\u001b[0m: ImageAnalysis_Functions.intensity_pixel_indices() takes 2 positional arguments but 3 were given"
     ]
    }
   ],
   "source": [
    "\"\"\" the command below will run the analyse_images analysis:\n",
    "\n",
    "            folder (string): Folder containing images\n",
    "            imtype (string): Type of images being analysed. Default '.tif'\n",
    "            thres (float): fraction of bright pixels accepted. Default 0.05.\n",
    "            large_thres (float): large object intensity threshold. Default 100.\n",
    "            gisgma (float): gaussian blurring parameter. Default 1.4.\n",
    "            rwave (float): Ricker wavelent sigma. Default 2.\n",
    "            protein_string (np.1darray): strings for protein-stained data. Default C1.\n",
    "            cell_string (np.1darray): strings for cell-containing data. Default C0.\n",
    "            if_filter (boolean): Filter images for focus. Default True.\n",
    "            im_start (integer): Images to start from. Default 0.\n",
    "            cell_analysis (boolean): Parameter where script also analyses cell\n",
    "                images. Default True.\n",
    "            one_savefile (boolean): Parameter that, if true, doesn't save a file. Default True.\n",
    "                per image but amalgamates them into one file. Default True.\n",
    "            disp (boolean): If true, prints when analysed an image stack. Default True.\n",
    "            analyse_clr (boolean): If true, calculates the clr. If not, just coincidence. Default True.\n",
    "            folder_recursion (boolean): If true, recursively finds folders and analyses each separately.\n",
    "            error_reduction (boolean): If true, reduces error on the oligomer image using Huang's code\n",
    "            \n",
    "All have defaults except folder, which is necessary.\n",
    "\"\"\"\n",
    "\n",
    "folder = os.path.abspath(\n",
    "    r\"../example_images\"\n",
    ")  # example file, replace as you wish. Always input as the absolute path of a raw string\n",
    "\n",
    "RASP.analyse_images(folder, protein_string=\"C1\", thres=0.05, large_thres=500.0)"
   ]
  },
  {
   "cell_type": "code",
   "execution_count": null,
   "id": "6bc3b1a3-f4b0-4260-b92a-bfb44166f85f",
   "metadata": {},
   "outputs": [],
   "source": []
  }
 ],
 "metadata": {
  "kernelspec": {
   "display_name": "Python 3 (ipykernel)",
   "language": "python",
   "name": "python3"
  },
  "language_info": {
   "codemirror_mode": {
    "name": "ipython",
    "version": 3
   },
   "file_extension": ".py",
   "mimetype": "text/x-python",
   "name": "python",
   "nbconvert_exporter": "python",
   "pygments_lexer": "ipython3",
   "version": "3.10.12"
  }
 },
 "nbformat": 4,
 "nbformat_minor": 5
}
