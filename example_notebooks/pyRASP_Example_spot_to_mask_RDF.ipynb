{
 "cells": [
  {
   "cell_type": "code",
   "execution_count": null,
   "id": "cc18c59f-eecd-4d0b-a648-7c6c3190769f",
   "metadata": {},
   "outputs": [],
   "source": [
    "import os\n",
    "from src import RASPRoutines\n",
    "\n",
    "RASP = RASPRoutines.RASP_Routines()"
   ]
  },
  {
   "cell_type": "code",
   "execution_count": null,
   "id": "e172e9f5-3f5a-4760-9e3b-2c8dc46ce9e6",
   "metadata": {},
   "outputs": [],
   "source": [
    "analysis_file = r\"example_images_analysis/spot_analysis.csv\""
   ]
  },
  {
   "cell_type": "code",
   "execution_count": null,
   "id": "e4d35b05-e90f-4665-b4c6-79751fbe6eaf",
   "metadata": {},
   "outputs": [],
   "source": [
    "\"\"\"\n",
    "Does rdf analysis of spots wrt mask from an analysis file.\n",
    "\n",
    "Args:\n",
    "    analysis_file (str): The analysis file to be re-done.\n",
    "    threshold (float): The photon threshold\n",
    "    out_cell (boolean): If True will only consider oligomers deemed to be outside of cells\n",
    "    pixel_size (float): size of pixels\n",
    "    dr (float): dr of rdf\n",
    "    cell_string (string): will use this to find corresponding mask files\n",
    "    protein_string (string): protein string\n",
    "    imtype (string): image type previously analysed\n",
    "\n",
    "Returns:\n",
    "    rdf_AT (pl.DataFrame): polars dataframe of the rdf above threshold\n",
    "    rdf_UT (pl.DataFrame): polars dataframe of the rdf below threshold\n",
    "\"\"\"\n",
    "\n",
    "threshold = 0  # no threshold applied here\n",
    "pixel_size = 0.11  # pixel size \"typical\" for 100x objective\n",
    "dr = 1  # one unit in comparison to pixel size\n",
    "out_cell = True\n",
    "pixel_size = 0.11\n",
    "dr = 1\n",
    "cell_string = \"C0\"\n",
    "protein_string = \"C1\"\n",
    "imtype = \".tif\"\n",
    "\n",
    "rdf_AT, rdf_UT = RASP.calculate_spot_mask_rdf_with_threshold(\n",
    "    analysis_file,\n",
    "    threshold,\n",
    "    out_cell=out_cell,\n",
    "    pixel_size=pixel_size,\n",
    "    dr=dr,\n",
    "    cell_string=\"C0\",\n",
    "    protein_string=\"C1\",\n",
    "    imtype=\".tif\",\n",
    ")"
   ]
  },
  {
   "cell_type": "code",
   "execution_count": null,
   "id": "00ab6286-cda5-4bca-8bfa-a08729c42893",
   "metadata": {},
   "outputs": [],
   "source": []
  }
 ],
 "metadata": {
  "kernelspec": {
   "display_name": "Python 3 (ipykernel)",
   "language": "python",
   "name": "python3"
  },
  "language_info": {
   "codemirror_mode": {
    "name": "ipython",
    "version": 3
   },
   "file_extension": ".py",
   "mimetype": "text/x-python",
   "name": "python",
   "nbconvert_exporter": "python",
   "pygments_lexer": "ipython3",
   "version": "3.10.12"
  }
 },
 "nbformat": 4,
 "nbformat_minor": 5
}
