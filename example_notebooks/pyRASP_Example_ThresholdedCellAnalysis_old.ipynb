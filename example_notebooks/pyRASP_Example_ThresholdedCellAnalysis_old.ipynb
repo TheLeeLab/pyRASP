{
 "cells": [
  {
   "cell_type": "code",
   "execution_count": 1,
   "id": "639d889a-964f-48c6-96be-f3070b50a506",
   "metadata": {},
   "outputs": [],
   "source": [
    "import sys\n",
    "\n",
    "sys.path.append(\"..\")  # Adds higher directory to python modules path.\n",
    "\n",
    "import os\n",
    "from src import RASPRoutines\n",
    "\n",
    "RASP = RASPRoutines.RASP_Routines()\n",
    "import numpy as np\n",
    "import polars as pl"
   ]
  },
  {
   "cell_type": "code",
   "execution_count": 2,
   "id": "1a6d2d75",
   "metadata": {},
   "outputs": [
    {
     "name": "stdout",
     "output_type": "stream",
     "text": [
      "Area: 2.42 µm², Side length: 1.56 µm\n"
     ]
    }
   ],
   "source": [
    "area_pixels = 200; pixel_size_nm = 110; area_micrometers = area_pixels * (pixel_size_nm / 1000)**2; side_length_micrometers = area_micrometers**0.5; print(f\"Area: {area_micrometers:.2f} µm², Side length: {side_length_micrometers:.2f} µm\")\n"
   ]
  },
  {
   "cell_type": "code",
   "execution_count": 4,
   "id": "a9fd11b1",
   "metadata": {},
   "outputs": [
    {
     "name": "stdout",
     "output_type": "stream",
     "text": [
      "lower cell size threshold is 0\n",
      "lower lo size threshold is 0\n",
      "lower lo size threshold is 50\n",
      "Computing colocalisation     File 78/195    Time elapsed: 244.421 s"
     ]
    },
    {
     "ename": "ShapeError",
     "evalue": "unable to add a column of length 20 to a DataFrame of height 19",
     "output_type": "error",
     "traceback": [
      "\u001b[1;31m---------------------------------------------------------------------------\u001b[0m",
      "\u001b[1;31mShapeError\u001b[0m                                Traceback (most recent call last)",
      "Cell \u001b[1;32mIn[4], line 47\u001b[0m\n\u001b[0;32m     45\u001b[0m \u001b[38;5;28;01mfor\u001b[39;00m lower_lo_size_threshold \u001b[38;5;129;01min\u001b[39;00m lower_lo_thresholds:\n\u001b[0;32m     46\u001b[0m     \u001b[38;5;28mprint\u001b[39m(\u001b[38;5;124m\"\u001b[39m\u001b[38;5;124mlower lo size threshold is \u001b[39m\u001b[38;5;124m\"\u001b[39m\u001b[38;5;241m+\u001b[39m\u001b[38;5;28mstr\u001b[39m(\u001b[38;5;28mint\u001b[39m(lower_lo_size_threshold)))\n\u001b[1;32m---> 47\u001b[0m     lo_analysis_AT, spot_analysis_AT \u001b[38;5;241m=\u001b[39m \u001b[43mRASP\u001b[49m\u001b[38;5;241;43m.\u001b[39;49m\u001b[43mlo_colocalise_wrapper\u001b[49m\u001b[43m(\u001b[49m\n\u001b[0;32m     48\u001b[0m \u001b[43m        \u001b[49m\u001b[43manalysis_file\u001b[49m\u001b[43m,\u001b[49m\n\u001b[0;32m     49\u001b[0m \u001b[43m        \u001b[49m\u001b[43mthreshold\u001b[49m\u001b[43m,\u001b[49m\n\u001b[0;32m     50\u001b[0m \u001b[43m        \u001b[49m\u001b[43mprotein_string\u001b[49m\u001b[38;5;241;43m=\u001b[39;49m\u001b[43mprotein_string\u001b[49m\u001b[43m,\u001b[49m\n\u001b[0;32m     51\u001b[0m \u001b[43m        \u001b[49m\u001b[43mlo_string\u001b[49m\u001b[38;5;241;43m=\u001b[39;49m\u001b[43mlo_string\u001b[49m\u001b[43m,\u001b[49m\n\u001b[0;32m     52\u001b[0m \u001b[43m        \u001b[49m\u001b[43mcell_string\u001b[49m\u001b[38;5;241;43m=\u001b[39;49m\u001b[43mcell_string\u001b[49m\u001b[43m,\u001b[49m\n\u001b[0;32m     53\u001b[0m \u001b[43m        \u001b[49m\u001b[43manalysis_type\u001b[49m\u001b[38;5;241;43m=\u001b[39;49m\u001b[43manalysis_type\u001b[49m\u001b[43m,\u001b[49m\n\u001b[0;32m     54\u001b[0m \u001b[43m        \u001b[49m\u001b[43mimtype\u001b[49m\u001b[38;5;241;43m=\u001b[39;49m\u001b[43mimtype\u001b[49m\u001b[43m,\u001b[49m\n\u001b[0;32m     55\u001b[0m \u001b[43m        \u001b[49m\u001b[43mblur_degree\u001b[49m\u001b[38;5;241;43m=\u001b[39;49m\u001b[43mblur_degree\u001b[49m\u001b[43m,\u001b[49m\n\u001b[0;32m     56\u001b[0m \u001b[43m        \u001b[49m\u001b[43mcalc_clr\u001b[49m\u001b[38;5;241;43m=\u001b[39;49m\u001b[43mcalc_clr\u001b[49m\u001b[43m,\u001b[49m\n\u001b[0;32m     57\u001b[0m \u001b[43m        \u001b[49m\u001b[43mlower_cell_size_threshold\u001b[49m\u001b[38;5;241;43m=\u001b[39;49m\u001b[43mlower_cell_size_threshold\u001b[49m\u001b[43m,\u001b[49m\n\u001b[0;32m     58\u001b[0m \u001b[43m        \u001b[49m\u001b[43mupper_cell_size_threshold\u001b[49m\u001b[38;5;241;43m=\u001b[39;49m\u001b[43mupper_cell_size_threshold\u001b[49m\u001b[43m,\u001b[49m\n\u001b[0;32m     59\u001b[0m \u001b[43m        \u001b[49m\u001b[43mlower_lo_size_threshold\u001b[49m\u001b[38;5;241;43m=\u001b[39;49m\u001b[43mlower_lo_size_threshold\u001b[49m\u001b[43m,\u001b[49m\n\u001b[0;32m     60\u001b[0m \u001b[43m        \u001b[49m\u001b[43mupper_lo_size_threshold\u001b[49m\u001b[38;5;241;43m=\u001b[39;49m\u001b[43mupper_lo_size_threshold\u001b[49m\u001b[43m,\u001b[49m\n\u001b[0;32m     61\u001b[0m \u001b[43m        \u001b[49m\u001b[43mz_project_first\u001b[49m\u001b[38;5;241;43m=\u001b[39;49m\u001b[43mz_project_first\u001b[49m\u001b[43m,\u001b[49m\n\u001b[0;32m     62\u001b[0m \u001b[43m    \u001b[49m\u001b[43m)\u001b[49m\n\u001b[0;32m     63\u001b[0m     \u001b[38;5;28;01mdel\u001b[39;00m lo_analysis_AT\n\u001b[0;32m     64\u001b[0m     \u001b[38;5;28;01mdel\u001b[39;00m spot_analysis_AT\n",
      "File \u001b[1;32m~\\Cambridge University Dropbox\\Joseph Beckwith\\Chemistry\\Lee\\Code\\Python\\pyRASP\\example_notebooks\\..\\src\\RASPRoutines.py:1163\u001b[0m, in \u001b[0;36mRASP_Routines.lo_colocalise_wrapper\u001b[1;34m(self, analysis_file, threshold, protein_string, lo_string, cell_string, analysis_type, imtype, blur_degree, calc_clr, lower_cell_size_threshold, upper_cell_size_threshold, lower_lo_size_threshold, upper_lo_size_threshold, z_project_first)\u001b[0m\n\u001b[0;32m   1160\u001b[0m \u001b[38;5;28;01melse\u001b[39;00m:\n\u001b[0;32m   1161\u001b[0m     threshold_str \u001b[38;5;241m=\u001b[39m \u001b[38;5;28mstr\u001b[39m(threshold)\u001b[38;5;241m.\u001b[39mreplace(\u001b[38;5;124m\"\u001b[39m\u001b[38;5;124m.\u001b[39m\u001b[38;5;124m\"\u001b[39m, \u001b[38;5;124m\"\u001b[39m\u001b[38;5;124mp\u001b[39m\u001b[38;5;124m\"\u001b[39m)\n\u001b[1;32m-> 1163\u001b[0m lo_analysis_AT, spot_analysis_AT \u001b[38;5;241m=\u001b[39m \u001b[43mA_F\u001b[49m\u001b[38;5;241;43m.\u001b[39;49m\u001b[43mcolocalise_with_threshold\u001b[49m\u001b[43m(\u001b[49m\n\u001b[0;32m   1164\u001b[0m \u001b[43m    \u001b[49m\u001b[43manalysis_file\u001b[49m\u001b[43m,\u001b[49m\n\u001b[0;32m   1165\u001b[0m \u001b[43m    \u001b[49m\u001b[43mthreshold\u001b[49m\u001b[43m,\u001b[49m\n\u001b[0;32m   1166\u001b[0m \u001b[43m    \u001b[49m\u001b[43mprotein_string\u001b[49m\u001b[43m,\u001b[49m\n\u001b[0;32m   1167\u001b[0m \u001b[43m    \u001b[49m\u001b[43mlo_string\u001b[49m\u001b[43m,\u001b[49m\n\u001b[0;32m   1168\u001b[0m \u001b[43m    \u001b[49m\u001b[43mcell_string\u001b[49m\u001b[43m,\u001b[49m\n\u001b[0;32m   1169\u001b[0m \u001b[43m    \u001b[49m\u001b[43manalysis_type\u001b[49m\u001b[38;5;241;43m=\u001b[39;49m\u001b[43manalysis_type\u001b[49m\u001b[43m,\u001b[49m\n\u001b[0;32m   1170\u001b[0m \u001b[43m    \u001b[49m\u001b[43mimtype\u001b[49m\u001b[38;5;241;43m=\u001b[39;49m\u001b[38;5;124;43m\"\u001b[39;49m\u001b[38;5;124;43m.tif\u001b[39;49m\u001b[38;5;124;43m\"\u001b[39;49m\u001b[43m,\u001b[49m\n\u001b[0;32m   1171\u001b[0m \u001b[43m    \u001b[49m\u001b[43mblur_degree\u001b[49m\u001b[38;5;241;43m=\u001b[39;49m\u001b[43mblur_degree\u001b[49m\u001b[43m,\u001b[49m\n\u001b[0;32m   1172\u001b[0m \u001b[43m    \u001b[49m\u001b[43mcalc_clr\u001b[49m\u001b[38;5;241;43m=\u001b[39;49m\u001b[43mcalc_clr\u001b[49m\u001b[43m,\u001b[49m\n\u001b[0;32m   1173\u001b[0m \u001b[43m    \u001b[49m\u001b[43maboveT\u001b[49m\u001b[38;5;241;43m=\u001b[39;49m\u001b[38;5;241;43m1\u001b[39;49m\u001b[43m,\u001b[49m\n\u001b[0;32m   1174\u001b[0m \u001b[43m    \u001b[49m\u001b[43mlower_cell_size_threshold\u001b[49m\u001b[38;5;241;43m=\u001b[39;49m\u001b[43mlower_cell_size_threshold\u001b[49m\u001b[43m,\u001b[49m\n\u001b[0;32m   1175\u001b[0m \u001b[43m    \u001b[49m\u001b[43mupper_cell_size_threshold\u001b[49m\u001b[38;5;241;43m=\u001b[39;49m\u001b[43mnp\u001b[49m\u001b[38;5;241;43m.\u001b[39;49m\u001b[43minf\u001b[49m\u001b[43m,\u001b[49m\n\u001b[0;32m   1176\u001b[0m \u001b[43m    \u001b[49m\u001b[43mlower_lo_size_threshold\u001b[49m\u001b[38;5;241;43m=\u001b[39;49m\u001b[43mlower_lo_size_threshold\u001b[49m\u001b[43m,\u001b[49m\n\u001b[0;32m   1177\u001b[0m \u001b[43m    \u001b[49m\u001b[43mupper_lo_size_threshold\u001b[49m\u001b[38;5;241;43m=\u001b[39;49m\u001b[43mupper_lo_size_threshold\u001b[49m\u001b[43m,\u001b[49m\n\u001b[0;32m   1178\u001b[0m \u001b[43m    \u001b[49m\u001b[43mz_project_first\u001b[49m\u001b[38;5;241;43m=\u001b[39;49m\u001b[43mz_project_first\u001b[49m\u001b[43m,\u001b[49m\n\u001b[0;32m   1179\u001b[0m \u001b[43m\u001b[49m\u001b[43m)\u001b[49m\n\u001b[0;32m   1181\u001b[0m savecell_string \u001b[38;5;241m=\u001b[39m os\u001b[38;5;241m.\u001b[39mpath\u001b[38;5;241m.\u001b[39mjoin(\n\u001b[0;32m   1182\u001b[0m     os\u001b[38;5;241m.\u001b[39mpath\u001b[38;5;241m.\u001b[39msplit(analysis_file)[\u001b[38;5;241m0\u001b[39m],\n\u001b[0;32m   1183\u001b[0m     startstr \u001b[38;5;241m+\u001b[39m \u001b[38;5;124m\"\u001b[39m\u001b[38;5;124mcolocalisation_analysis_\u001b[39m\u001b[38;5;124m\"\u001b[39m \u001b[38;5;241m+\u001b[39m threshold_str,\n\u001b[0;32m   1184\u001b[0m )\n\u001b[0;32m   1185\u001b[0m \u001b[38;5;28;01mif\u001b[39;00m \u001b[38;5;28misinstance\u001b[39m(lo_analysis_AT, pl\u001b[38;5;241m.\u001b[39mDataFrame):\n",
      "File \u001b[1;32m~\\Cambridge University Dropbox\\Joseph Beckwith\\Chemistry\\Lee\\Code\\Python\\pyRASP\\src\\AnalysisFunctions.py:615\u001b[0m, in \u001b[0;36mAnalysis_Functions.colocalise_with_threshold\u001b[1;34m(self, analysis_file, threshold, protein_string, lo_string, cell_string, analysis_type, imtype, blur_degree, calc_clr, aboveT, lower_cell_size_threshold, upper_cell_size_threshold, lower_lo_size_threshold, upper_lo_size_threshold, z_project_first)\u001b[0m\n\u001b[0;32m    606\u001b[0m \u001b[38;5;28;01melse\u001b[39;00m:\n\u001b[0;32m    607\u001b[0m     dataarray, raw_colocalisation \u001b[38;5;241m=\u001b[39m \u001b[38;5;28mself\u001b[39m\u001b[38;5;241m.\u001b[39m_process_masks_parallel(\n\u001b[0;32m    608\u001b[0m         z_planes,\n\u001b[0;32m    609\u001b[0m         lo_mask,\n\u001b[1;32m   (...)\u001b[0m\n\u001b[0;32m    612\u001b[0m         \u001b[38;5;28mself\u001b[39m\u001b[38;5;241m.\u001b[39m_parallel_coloc_per_z_los,\n\u001b[0;32m    613\u001b[0m     )\n\u001b[1;32m--> 615\u001b[0m image_file \u001b[38;5;241m=\u001b[39m \u001b[43mimage_file\u001b[49m\u001b[38;5;241;43m.\u001b[39;49m\u001b[43mwith_columns\u001b[49m\u001b[43m(\u001b[49m\u001b[43mincell\u001b[49m\u001b[38;5;241;43m=\u001b[39;49m\u001b[43mraw_colocalisation\u001b[49m\u001b[43m)\u001b[49m\n\u001b[0;32m    616\u001b[0m dataarray \u001b[38;5;241m=\u001b[39m np\u001b[38;5;241m.\u001b[39mvstack(\n\u001b[0;32m    617\u001b[0m     [\n\u001b[0;32m    618\u001b[0m         np\u001b[38;5;241m.\u001b[39masarray(dataarray, dtype\u001b[38;5;241m=\u001b[39m\u001b[38;5;124m\"\u001b[39m\u001b[38;5;124mobject\u001b[39m\u001b[38;5;124m\"\u001b[39m),\n\u001b[0;32m    619\u001b[0m         np\u001b[38;5;241m.\u001b[39mrepeat(image, \u001b[38;5;28mlen\u001b[39m(z_planes)),\n\u001b[0;32m    620\u001b[0m     ]\n\u001b[0;32m    621\u001b[0m )\n\u001b[0;32m    623\u001b[0m lo_analysis \u001b[38;5;241m=\u001b[39m np\u001b[38;5;241m.\u001b[39marray(\n\u001b[0;32m    624\u001b[0m     dataarray\n\u001b[0;32m    625\u001b[0m     \u001b[38;5;28;01mif\u001b[39;00m lo_analysis \u001b[38;5;129;01mis\u001b[39;00m \u001b[38;5;28;01mNone\u001b[39;00m\n\u001b[0;32m    626\u001b[0m     \u001b[38;5;28;01melse\u001b[39;00m np\u001b[38;5;241m.\u001b[39mhstack([lo_analysis, dataarray])\n\u001b[0;32m    627\u001b[0m )\n",
      "File \u001b[1;32m~\\AppData\\Roaming\\Python\\Python312\\site-packages\\polars\\dataframe\\frame.py:8791\u001b[0m, in \u001b[0;36mDataFrame.with_columns\u001b[1;34m(self, *exprs, **named_exprs)\u001b[0m\n\u001b[0;32m   8645\u001b[0m \u001b[38;5;28;01mdef\u001b[39;00m \u001b[38;5;21mwith_columns\u001b[39m(\n\u001b[0;32m   8646\u001b[0m     \u001b[38;5;28mself\u001b[39m,\n\u001b[0;32m   8647\u001b[0m     \u001b[38;5;241m*\u001b[39mexprs: IntoExpr \u001b[38;5;241m|\u001b[39m Iterable[IntoExpr],\n\u001b[0;32m   8648\u001b[0m     \u001b[38;5;241m*\u001b[39m\u001b[38;5;241m*\u001b[39mnamed_exprs: IntoExpr,\n\u001b[0;32m   8649\u001b[0m ) \u001b[38;5;241m-\u001b[39m\u001b[38;5;241m>\u001b[39m DataFrame:\n\u001b[0;32m   8650\u001b[0m \u001b[38;5;250m    \u001b[39m\u001b[38;5;124;03m\"\"\"\u001b[39;00m\n\u001b[0;32m   8651\u001b[0m \u001b[38;5;124;03m    Add columns to this DataFrame.\u001b[39;00m\n\u001b[0;32m   8652\u001b[0m \n\u001b[1;32m   (...)\u001b[0m\n\u001b[0;32m   8789\u001b[0m \u001b[38;5;124;03m    └─────┴──────┴─────────────┘\u001b[39;00m\n\u001b[0;32m   8790\u001b[0m \u001b[38;5;124;03m    \"\"\"\u001b[39;00m\n\u001b[1;32m-> 8791\u001b[0m     \u001b[38;5;28;01mreturn\u001b[39;00m \u001b[38;5;28;43mself\u001b[39;49m\u001b[38;5;241;43m.\u001b[39;49m\u001b[43mlazy\u001b[49m\u001b[43m(\u001b[49m\u001b[43m)\u001b[49m\u001b[38;5;241;43m.\u001b[39;49m\u001b[43mwith_columns\u001b[49m\u001b[43m(\u001b[49m\u001b[38;5;241;43m*\u001b[39;49m\u001b[43mexprs\u001b[49m\u001b[43m,\u001b[49m\u001b[43m \u001b[49m\u001b[38;5;241;43m*\u001b[39;49m\u001b[38;5;241;43m*\u001b[39;49m\u001b[43mnamed_exprs\u001b[49m\u001b[43m)\u001b[49m\u001b[38;5;241;43m.\u001b[39;49m\u001b[43mcollect\u001b[49m\u001b[43m(\u001b[49m\u001b[43m_eager\u001b[49m\u001b[38;5;241;43m=\u001b[39;49m\u001b[38;5;28;43;01mTrue\u001b[39;49;00m\u001b[43m)\u001b[49m\n",
      "File \u001b[1;32m~\\AppData\\Roaming\\Python\\Python312\\site-packages\\polars\\lazyframe\\frame.py:1942\u001b[0m, in \u001b[0;36mLazyFrame.collect\u001b[1;34m(self, type_coercion, predicate_pushdown, projection_pushdown, simplify_expression, slice_pushdown, comm_subplan_elim, comm_subexpr_elim, cluster_with_columns, no_optimization, streaming, background, _eager, **_kwargs)\u001b[0m\n\u001b[0;32m   1939\u001b[0m \u001b[38;5;66;03m# Only for testing purposes atm.\u001b[39;00m\n\u001b[0;32m   1940\u001b[0m callback \u001b[38;5;241m=\u001b[39m _kwargs\u001b[38;5;241m.\u001b[39mget(\u001b[38;5;124m\"\u001b[39m\u001b[38;5;124mpost_opt_callback\u001b[39m\u001b[38;5;124m\"\u001b[39m)\n\u001b[1;32m-> 1942\u001b[0m \u001b[38;5;28;01mreturn\u001b[39;00m wrap_df(\u001b[43mldf\u001b[49m\u001b[38;5;241;43m.\u001b[39;49m\u001b[43mcollect\u001b[49m\u001b[43m(\u001b[49m\u001b[43mcallback\u001b[49m\u001b[43m)\u001b[49m)\n",
      "\u001b[1;31mShapeError\u001b[0m: unable to add a column of length 20 to a DataFrame of height 19"
     ]
    }
   ],
   "source": [
    "\"\"\"\n",
    "Redo colocalisation analyses of spots above a photon threshold in an\n",
    "analysis file.\n",
    "\n",
    "        Args:\n",
    "            analysis_file (str): The analysis file to be re-done.\n",
    "            threshold (float): The photon threshold\n",
    "            protein_string (str): string of analysed protein\n",
    "            lo_string (str): string of large object to analyse\n",
    "            analysis_type (str, optional): Type of analysis to perform. Options are:\n",
    "                - \"lo_to_spot\": Calculate spot to large object metrics.\n",
    "                - \"lo_to_cell\": Calculate large object to cell coincidence.\n",
    "                Default is \"spot_to_cell\".\n",
    "            imtype (str): image type\n",
    "            blur_degree (int): blur degree for colocalisation analysis\n",
    "            calc_clr (boolean): Calculate the clr, yes/no.\n",
    "            lower_cell_size_threshold (float): lower threshold of cell size\n",
    "            upper_cell_size_threshold (float): upper threshold of cell size\n",
    "            lower_lo_size_threshold (float): lower threshold of lo size\n",
    "            upper_lo_size_threshold (float): upper threshold of lo size\n",
    "            z_project_first (list of boolean): z project instructions for cell/protein size threshold\n",
    "\"\"\"\n",
    "\n",
    "analysis_file = os.path.abspath(\n",
    "    r\"F:\\20240913_Isoform_syn211_second_run\\data_analysis\\largeobject_analysis.csv\"\n",
    ")  # example file, replace as you wish. Always input as the absolute path of a raw string\n",
    "threshold = 0.0\n",
    "protein_string = \"C0\"\n",
    "lo_string = \"C0\"\n",
    "cell_string = \"C1\"\n",
    "upper_cell_size_threshold = np.inf\n",
    "upper_lo_size_threshold = np.inf\n",
    "\n",
    "analysis_type = 'lo_to_cell'\n",
    "blur_degree = 1\n",
    "imtype='.tif'\n",
    "calc_clr = False\n",
    "z_project_first = [False, False]\n",
    "\n",
    "lower_lo_thresholds = np.arange(0, 500, 50)\n",
    "lower_cell_thresholds = np.arange(0, 5000, 500)\n",
    "\n",
    "for lower_cell_size_threshold in lower_cell_thresholds:\n",
    "    print(\"lower cell size threshold is \"+str(int(lower_cell_size_threshold)))\n",
    "    for lower_lo_size_threshold in lower_lo_thresholds:\n",
    "        print(\"lower lo size threshold is \"+str(int(lower_lo_size_threshold)))\n",
    "        lo_analysis_AT, spot_analysis_AT = RASP.lo_colocalise_wrapper(\n",
    "            analysis_file,\n",
    "            threshold,\n",
    "            protein_string=protein_string,\n",
    "            lo_string=lo_string,\n",
    "            cell_string=cell_string,\n",
    "            analysis_type=analysis_type,\n",
    "            imtype=imtype,\n",
    "            blur_degree=blur_degree,\n",
    "            calc_clr=calc_clr,\n",
    "            lower_cell_size_threshold=lower_cell_size_threshold,\n",
    "            upper_cell_size_threshold=upper_cell_size_threshold,\n",
    "            lower_lo_size_threshold=lower_lo_size_threshold,\n",
    "            upper_lo_size_threshold=upper_lo_size_threshold,\n",
    "            z_project_first=z_project_first,\n",
    "        )\n",
    "        del lo_analysis_AT\n",
    "        del spot_analysis_AT"
   ]
  },
  {
   "cell_type": "code",
   "execution_count": null,
   "id": "f750be64-1ea6-4251-83d6-02c3f137d56e",
   "metadata": {},
   "outputs": [],
   "source": []
  }
 ],
 "metadata": {
  "kernelspec": {
   "display_name": "Python 3 (ipykernel)",
   "language": "python",
   "name": "python3"
  },
  "language_info": {
   "codemirror_mode": {
    "name": "ipython",
    "version": 3
   },
   "file_extension": ".py",
   "mimetype": "text/x-python",
   "name": "python",
   "nbconvert_exporter": "python",
   "pygments_lexer": "ipython3",
   "version": "3.12.7"
  }
 },
 "nbformat": 4,
 "nbformat_minor": 5
}
