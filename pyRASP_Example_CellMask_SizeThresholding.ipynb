{
 "cells": [
  {
   "cell_type": "code",
   "execution_count": null,
   "id": "639d889a-964f-48c6-96be-f3070b50a506",
   "metadata": {},
   "outputs": [],
   "source": [
    "import os\n",
    "from src import RASPRoutines\n",
    "from src import AnalysisFunctions\n",
    "from src import PlottingFunctions\n",
    "from src import IOFunctions\n",
    "import numpy as np\n",
    "import matplotlib.pyplot as plt\n",
    "\n",
    "IO = IOFunctions.IO_Functions()\n",
    "RASP = RASPRoutines.RASP_Routines()\n",
    "A_F = AnalysisFunctions.Analysis_Functions()\n",
    "plotter = PlottingFunctions.Plotter()"
   ]
  },
  {
   "cell_type": "code",
   "execution_count": null,
   "id": "a9fd11b1",
   "metadata": {},
   "outputs": [],
   "source": [
    "\"\"\" the commands below should make a comparison plot between the cell mask of interest with no thresholding and \n",
    "    with some thresholding strategy\n",
    "\"\"\"\n",
    "\n",
    "cell_mask = IO.read_tiff(\n",
    "    os.path.abspath(r\"example_images_analysis/Example_ProteinImage_C0_cellMask.tiff\")\n",
    ")  # example file, replace as you wish. Always input as the absolute path of a raw string\n",
    "\n",
    "\n",
    "lower_size_threshold = 100.0  # lower size threshold\n",
    "upper_size_threshold = 2000.0  # upper size threshold. Put as np.inf/do not put in for no upper size threshold.\n",
    "z_project = True\n",
    "\n",
    "cell_mask_new, pil, centroids, areas = A_F.threshold_cell_areas(\n",
    "    cell_mask,\n",
    "    lower_cell_size_threshold=lower_size_threshold,\n",
    "    upper_cell_size_threshold=upper_size_threshold,\n",
    "    z_project=z_project,\n",
    ")\n",
    "cell_mask_old = np.sum(cell_mask, axis=-1)\n",
    "cell_mask_old[cell_mask_old > 1] = 1"
   ]
  },
  {
   "cell_type": "code",
   "execution_count": null,
   "id": "311034bb-9fd0-4a32-9480-d65b0c59ffab",
   "metadata": {},
   "outputs": [],
   "source": [
    "fig, axs = plotter.two_column_plot(ncolumns=2, widthratio=[1, 1])\n",
    "\n",
    "axs[0] = plotter.image_plot(axs=axs[0], data=cell_mask_old, cbar=\"off\")\n",
    "axs[1] = plotter.image_plot(axs=axs[1], data=cell_mask_new, cbar=\"off\")\n",
    "\n",
    "axs[0].set_title(\"Mask with no thresholding\")\n",
    "axs[1].set_title(\"Mask with size thresholding\")\n",
    "plt.show(block=False)"
   ]
  },
  {
   "cell_type": "code",
   "execution_count": null,
   "id": "350d7471-02da-4508-955b-ac5970294fd2",
   "metadata": {},
   "outputs": [],
   "source": []
  }
 ],
 "metadata": {
  "kernelspec": {
   "display_name": "Python 3 (ipykernel)",
   "language": "python",
   "name": "python3"
  },
  "language_info": {
   "codemirror_mode": {
    "name": "ipython",
    "version": 3
   },
   "file_extension": ".py",
   "mimetype": "text/x-python",
   "name": "python",
   "nbconvert_exporter": "python",
   "pygments_lexer": "ipython3",
   "version": "3.10.12"
  }
 },
 "nbformat": 4,
 "nbformat_minor": 5
}
