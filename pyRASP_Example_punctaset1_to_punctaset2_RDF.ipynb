{
 "cells": [
  {
   "cell_type": "code",
   "execution_count": null,
   "id": "cc18c59f-eecd-4d0b-a648-7c6c3190769f",
   "metadata": {},
   "outputs": [],
   "source": [
    "import os\n",
    "from src import RASPRoutines\n",
    "RASP = RASPRoutines.RASP_Routines()"
   ]
  },
  {
   "cell_type": "code",
   "execution_count": null,
   "id": "e172e9f5-3f5a-4760-9e3b-2c8dc46ce9e6",
   "metadata": {},
   "outputs": [],
   "source": [
    "analysis_file_p1 = r'spot_analysis_protein1.csv'\n",
    "analysis_file_p2 = r'spot_analysis_protein2.csv'"
   ]
  },
  {
   "cell_type": "code",
   "execution_count": null,
   "id": "e4d35b05-e90f-4665-b4c6-79751fbe6eaf",
   "metadata": {},
   "outputs": [],
   "source": [
    "        \"\"\"\n",
    "        Does rdf analysis of spots wrt mask from an analysis file.\n",
    "\n",
    "        Args:\n",
    "            analysis_file_p1 (str): The analysis file of puncta set 1.\n",
    "            analysis_file_p2 (str): The analysis file of puncta set 2.\n",
    "            threshold_p1 (float): The photon threshold for puncta set 1.\n",
    "            threshold_p2 (float): The photon threshold for puncta set 2.\n",
    "            pixel_size (float): size of pixels\n",
    "            dr (float): dr of rdf\n",
    "            n_iter (int): number of CSR iterations\n",
    "            protein_string_1 (string): will use this to find corresponding other punctum files\n",
    "            protein_string_2 (string): will use this to find corresponding other punctum files\n",
    "            imtype (string): image type previously analysed\n",
    "\n",
    "        Returns:\n",
    "            rdf (pd.DataArray): pandas datarray of the rdf\n",
    "        \"\"\"\n",
    "threshold_p1 = 0 # no threshold applied here\n",
    "threshold_p2 = 0 # no threshold applied here\n",
    "pixel_size = 0.11 # pixel size \"typical\" for 100x objective\n",
    "dr = 1 # one unit in comparison to pixel size\n",
    "out_cell=True\n",
    "pixel_size=0.11\n",
    "dr=1.0\n",
    "n_iter=3\n",
    "protein_string_1=\"C2\"\n",
    "protein_string_2=\"C1\"\n",
    "imtype=\".tif\"\n",
    "\n",
    "rdf = RASP.calculate_two_puncta_channels_rdf_with_thresholds(analysis_file_p1, analysis_file_p2, threshold_p1,\n",
    "                                                  threshold_p2,\n",
    "                                                  pixel_size=pixel_size, dr=dr, n_iter=n_iter,\n",
    "                                                  protein_string_1=protein_string_1, protein_string_2=protein_string_2, imtype=\".tif\")"
   ]
  },
  {
   "cell_type": "code",
   "execution_count": null,
   "id": "e7d5484a-10e7-4c94-bf6f-93d190f4345c",
   "metadata": {},
   "outputs": [],
   "source": []
  }
 ],
 "metadata": {
  "kernelspec": {
   "display_name": "Python 3 (ipykernel)",
   "language": "python",
   "name": "python3"
  },
  "language_info": {
   "codemirror_mode": {
    "name": "ipython",
    "version": 3
   },
   "file_extension": ".py",
   "mimetype": "text/x-python",
   "name": "python",
   "nbconvert_exporter": "python",
   "pygments_lexer": "ipython3",
   "version": "3.10.12"
  }
 },
 "nbformat": 4,
 "nbformat_minor": 5
}
