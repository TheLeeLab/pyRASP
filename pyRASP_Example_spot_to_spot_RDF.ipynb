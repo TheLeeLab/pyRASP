{
 "cells": [
  {
   "cell_type": "code",
   "execution_count": null,
   "id": "cc18c59f-eecd-4d0b-a648-7c6c3190769f",
   "metadata": {},
   "outputs": [],
   "source": [
    "import os\n",
    "from src import RASPRoutines\n",
    "\n",
    "RASP = RASPRoutines.RASP_Routines()"
   ]
  },
  {
   "cell_type": "code",
   "execution_count": null,
   "id": "e172e9f5-3f5a-4760-9e3b-2c8dc46ce9e6",
   "metadata": {},
   "outputs": [],
   "source": [
    "analysis_file = r\"example_images_analysis/spot_analysis.csv\""
   ]
  },
  {
   "cell_type": "code",
   "execution_count": null,
   "id": "e4d35b05-e90f-4665-b4c6-79751fbe6eaf",
   "metadata": {},
   "outputs": [],
   "source": [
    "\"\"\"\n",
    "Does rdf analysis of spots above a photon threshold in an\n",
    "analysis file.\n",
    "\n",
    "Args:\n",
    "    analysis_file (str): The analysis file to be re-done.\n",
    "    threshold (float): The photon threshold\n",
    "    pixel_size (float): size of pixels\n",
    "    dr (float): dr of rdf\n",
    "\n",
    "Returns:\n",
    "    rdf_AT (pl.DataFrame): polars dataframe of the rdf above threshold\n",
    "    rdf_UT (pl.DataFrame): polars dataframe of the rdf below threshold\n",
    "\"\"\"\n",
    "\n",
    "threshold = 0  # no threshold applied here\n",
    "pixel_size = 0.11  # pixel size \"typical\" for 100x objective\n",
    "dr = 1  # one unit in comparison to pixel size\n",
    "\n",
    "rdf_AT, rdf_UT = RASP.calculate_spot_rdf_with_threshold(\n",
    "    analysis_file, threshold=threshold, pixel_size=pixel_size, dr=dr\n",
    ")"
   ]
  },
  {
   "cell_type": "code",
   "execution_count": null,
   "id": "67b329f2-64b6-4e11-8ca8-292b69c27097",
   "metadata": {},
   "outputs": [],
   "source": []
  }
 ],
 "metadata": {
  "kernelspec": {
   "display_name": "Python 3 (ipykernel)",
   "language": "python",
   "name": "python3"
  },
  "language_info": {
   "codemirror_mode": {
    "name": "ipython",
    "version": 3
   },
   "file_extension": ".py",
   "mimetype": "text/x-python",
   "name": "python",
   "nbconvert_exporter": "python",
   "pygments_lexer": "ipython3",
   "version": "3.10.12"
  }
 },
 "nbformat": 4,
 "nbformat_minor": 5
}
