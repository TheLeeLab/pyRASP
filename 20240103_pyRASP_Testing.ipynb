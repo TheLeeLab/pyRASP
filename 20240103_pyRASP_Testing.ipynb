{
 "cells": [
  {
   "cell_type": "code",
   "execution_count": 1,
   "id": "639d889a-964f-48c6-96be-f3070b50a506",
   "metadata": {},
   "outputs": [],
   "source": [
    "from src import AnalysisFunctions\n",
    "from src import IOFunctions\n",
    "from src import RASPRoutines\n",
    "import matplotlib.pyplot as plt\n",
    "import skimage as ski\n",
    "import os\n",
    "import numpy as np\n",
    "\n",
    "A_F = AnalysisFunctions.Analysis_Functions()\n",
    "IO = IOFunctions.IO_Functions()\n",
    "RASP = RASPRoutines.RASP_Routines()"
   ]
  },
  {
   "cell_type": "code",
   "execution_count": 2,
   "id": "f14e4c9b",
   "metadata": {},
   "outputs": [],
   "source": [
    "folder = '/home/jbeckwith/Documents/Dropbox (Cambridge University)/Chemistry/Lee/Data/Pilot2/microglia_oligomer/patient1'"
   ]
  },
  {
   "cell_type": "code",
   "execution_count": 3,
   "id": "7d676cdd",
   "metadata": {},
   "outputs": [
    {
     "ename": "ValueError",
     "evalue": "need at least one array to concatenate",
     "output_type": "error",
     "traceback": [
      "\u001b[0;31m---------------------------------------------------------------------------\u001b[0m",
      "\u001b[0;31mValueError\u001b[0m                                Traceback (most recent call last)",
      "Cell \u001b[0;32mIn[3], line 1\u001b[0m\n\u001b[0;32m----> 1\u001b[0m \u001b[43mRASP\u001b[49m\u001b[38;5;241;43m.\u001b[39;49m\u001b[43manalyse_images\u001b[49m\u001b[43m(\u001b[49m\u001b[43mfolder\u001b[49m\u001b[43m,\u001b[49m\u001b[43m \u001b[49m\u001b[43mim_start\u001b[49m\u001b[38;5;241;43m=\u001b[39;49m\u001b[38;5;241;43m25\u001b[39;49m\u001b[43m)\u001b[49m\n",
      "File \u001b[0;32m~/Documents/Dropbox (Cambridge University)/Chemistry/Lee/Code/Python/RASP/pyRASP/src/RASPRoutines.py:236\u001b[0m, in \u001b[0;36mRASP_Routines.analyse_images\u001b[0;34m(self, folder, imtype, thres, large_thres, gsigma, rwave, im_start)\u001b[0m\n\u001b[1;32m    234\u001b[0m \u001b[38;5;28;01mfor\u001b[39;00m zp \u001b[38;5;129;01min\u001b[39;00m np\u001b[38;5;241m.\u001b[39marange(z_planes):\n\u001b[1;32m    235\u001b[0m     img_z \u001b[38;5;241m=\u001b[39m img[:, :, zp]\n\u001b[0;32m--> 236\u001b[0m     centroids, estimated_intensity, estimated_background \u001b[38;5;241m=\u001b[39m \u001b[38;5;28;43mself\u001b[39;49m\u001b[38;5;241;43m.\u001b[39;49m\u001b[43mcompute_spot_props\u001b[49m\u001b[43m(\u001b[49m\u001b[43mimg_z\u001b[49m\u001b[43m,\u001b[49m\u001b[43m \u001b[49m\n\u001b[1;32m    237\u001b[0m \u001b[43m    \u001b[49m\u001b[43mk1\u001b[49m\u001b[43m,\u001b[49m\u001b[43m \u001b[49m\u001b[43mk2\u001b[49m\u001b[43m,\u001b[49m\u001b[43m \u001b[49m\u001b[43mthres\u001b[49m\u001b[38;5;241;43m=\u001b[39;49m\u001b[43mthres\u001b[49m\u001b[43m,\u001b[49m\u001b[43m \u001b[49m\u001b[43mlarge_thres\u001b[49m\u001b[38;5;241;43m=\u001b[39;49m\u001b[43mlarge_thres\u001b[49m\u001b[43m,\u001b[49m\u001b[43m \u001b[49m\n\u001b[1;32m    238\u001b[0m \u001b[43m    \u001b[49m\u001b[43mareathres\u001b[49m\u001b[38;5;241;43m=\u001b[39;49m\u001b[38;5;28;43mself\u001b[39;49m\u001b[38;5;241;43m.\u001b[39;49m\u001b[43mareathres\u001b[49m\u001b[43m,\u001b[49m\u001b[43m \u001b[49m\u001b[43mrdl\u001b[49m\u001b[38;5;241;43m=\u001b[39;49m\u001b[43mrdl\u001b[49m\u001b[43m)\u001b[49m\n\u001b[1;32m    239\u001b[0m     dataarray \u001b[38;5;241m=\u001b[39m np\u001b[38;5;241m.\u001b[39mvstack([centroids[:, \u001b[38;5;241m0\u001b[39m], centroids[:, \u001b[38;5;241m1\u001b[39m], \n\u001b[1;32m    240\u001b[0m     np\u001b[38;5;241m.\u001b[39mfull_like(centroids[:, \u001b[38;5;241m0\u001b[39m], zp\u001b[38;5;241m+\u001b[39m\u001b[38;5;241m1\u001b[39m), estimated_intensity, estimated_background])\n\u001b[1;32m    241\u001b[0m     \u001b[38;5;28;01mif\u001b[39;00m zp \u001b[38;5;241m==\u001b[39m \u001b[38;5;241m0\u001b[39m:\n",
      "File \u001b[0;32m~/Documents/Dropbox (Cambridge University)/Chemistry/Lee/Code/Python/RASP/pyRASP/src/RASPRoutines.py:88\u001b[0m, in \u001b[0;36mRASP_Routines.compute_spot_props\u001b[0;34m(self, image, k1, k2, thres, large_thres, areathres, rdl)\u001b[0m\n\u001b[1;32m     86\u001b[0m large_mask \u001b[38;5;241m=\u001b[39m A_F\u001b[38;5;241m.\u001b[39mdetect_large_features(image, large_thres)\n\u001b[1;32m     87\u001b[0m img2, Gx, Gy, focusScore, cfactor \u001b[38;5;241m=\u001b[39m A_F\u001b[38;5;241m.\u001b[39mcalculate_gradient_field(image, k1)\n\u001b[0;32m---> 88\u001b[0m dl_mask, centroids, radiality, idxs \u001b[38;5;241m=\u001b[39m \u001b[43mA_F\u001b[49m\u001b[38;5;241;43m.\u001b[39;49m\u001b[43msmall_feature_kernel\u001b[49m\u001b[43m(\u001b[49m\u001b[43mimage\u001b[49m\u001b[43m,\u001b[49m\u001b[43m \u001b[49m\n\u001b[1;32m     89\u001b[0m \u001b[43m\u001b[49m\u001b[43mlarge_mask\u001b[49m\u001b[43m,\u001b[49m\u001b[43m \u001b[49m\u001b[43mimg2\u001b[49m\u001b[43m,\u001b[49m\u001b[43m \u001b[49m\u001b[43mGx\u001b[49m\u001b[43m,\u001b[49m\u001b[43m \u001b[49m\u001b[43mGy\u001b[49m\u001b[43m,\u001b[49m\n\u001b[1;32m     90\u001b[0m \u001b[43m\u001b[49m\u001b[43mk2\u001b[49m\u001b[43m,\u001b[49m\u001b[43m \u001b[49m\u001b[43mthres\u001b[49m\u001b[43m,\u001b[49m\u001b[43m \u001b[49m\u001b[43mareathres\u001b[49m\u001b[43m,\u001b[49m\u001b[43m \u001b[49m\u001b[43mrdl\u001b[49m\u001b[43m)\u001b[49m\n\u001b[1;32m     91\u001b[0m estimated_intensity, estimated_background \u001b[38;5;241m=\u001b[39m A_F\u001b[38;5;241m.\u001b[39mestimate_intensity(image, centroids)\n\u001b[1;32m     93\u001b[0m \u001b[38;5;28;01mreturn\u001b[39;00m centroids, estimated_intensity, estimated_background\n",
      "File \u001b[0;32m~/Documents/Dropbox (Cambridge University)/Chemistry/Lee/Code/Python/RASP/pyRASP/src/AnalysisFunctions.py:489\u001b[0m, in \u001b[0;36mAnalysis_Functions.small_feature_kernel\u001b[0;34m(self, img, large_mask, img2, Gx, Gy, k2, thres, area_thres, rdl)\u001b[0m\n\u001b[1;32m    487\u001b[0m centroids \u001b[38;5;241m=\u001b[39m np\u001b[38;5;241m.\u001b[39mfloor(centroids[idxs])\n\u001b[1;32m    488\u001b[0m centroids \u001b[38;5;241m=\u001b[39m np\u001b[38;5;241m.\u001b[39masarray(centroids)\n\u001b[0;32m--> 489\u001b[0m dl_mask \u001b[38;5;241m=\u001b[39m \u001b[38;5;28;43mself\u001b[39;49m\u001b[38;5;241;43m.\u001b[39;49m\u001b[43mcreate_filled_region\u001b[49m\u001b[43m(\u001b[49m\u001b[43mimsz\u001b[49m\u001b[43m,\u001b[49m\u001b[43m \u001b[49m\u001b[43mpil_small\u001b[49m\u001b[43m[\u001b[49m\u001b[43midxs\u001b[49m\u001b[43m]\u001b[49m\u001b[43m)\u001b[49m\n\u001b[1;32m    491\u001b[0m \u001b[38;5;28;01mreturn\u001b[39;00m dl_mask, centroids, radiality, idxs\n",
      "File \u001b[0;32m~/Documents/Dropbox (Cambridge University)/Chemistry/Lee/Code/Python/RASP/pyRASP/src/AnalysisFunctions.py:221\u001b[0m, in \u001b[0;36mAnalysis_Functions.create_filled_region\u001b[0;34m(self, image_size, indices_to_keep)\u001b[0m\n\u001b[1;32m    210\u001b[0m \u001b[38;5;250m\u001b[39m\u001b[38;5;124;03m\"\"\"\u001b[39;00m\n\u001b[1;32m    211\u001b[0m \u001b[38;5;124;03mFill a region in a boolean matrix based on specified indices.\u001b[39;00m\n\u001b[1;32m    212\u001b[0m \n\u001b[0;32m   (...)\u001b[0m\n\u001b[1;32m    218\u001b[0m \u001b[38;5;124;03m- boolean_matrix (numpy.ndarray): Boolean matrix with specified indices set to True.\u001b[39;00m\n\u001b[1;32m    219\u001b[0m \u001b[38;5;124;03m\"\"\"\u001b[39;00m\n\u001b[1;32m    220\u001b[0m \u001b[38;5;66;03m# Concatenate all indices to keep into a single array\u001b[39;00m\n\u001b[0;32m--> 221\u001b[0m indices_to_keep \u001b[38;5;241m=\u001b[39m \u001b[43mnp\u001b[49m\u001b[38;5;241;43m.\u001b[39;49m\u001b[43mconcatenate\u001b[49m\u001b[43m(\u001b[49m\u001b[43mindices_to_keep\u001b[49m\u001b[43m)\u001b[49m\n\u001b[1;32m    223\u001b[0m \u001b[38;5;66;03m# Create a boolean matrix of size image_size\u001b[39;00m\n\u001b[1;32m    224\u001b[0m boolean_matrix \u001b[38;5;241m=\u001b[39m np\u001b[38;5;241m.\u001b[39mzeros(image_size, dtype\u001b[38;5;241m=\u001b[39m\u001b[38;5;28mbool\u001b[39m)\n",
      "File \u001b[0;32m<__array_function__ internals>:200\u001b[0m, in \u001b[0;36mconcatenate\u001b[0;34m(*args, **kwargs)\u001b[0m\n",
      "\u001b[0;31mValueError\u001b[0m: need at least one array to concatenate"
     ]
    }
   ],
   "source": [
    "RASP.analyse_images(folder, im_start=25)"
   ]
  },
  {
   "cell_type": "code",
   "execution_count": null,
   "id": "fc11c81f",
   "metadata": {},
   "outputs": [],
   "source": []
  },
  {
   "cell_type": "code",
   "execution_count": null,
   "id": "8dd513d0",
   "metadata": {},
   "outputs": [],
   "source": []
  },
  {
   "cell_type": "code",
   "execution_count": null,
   "id": "46f47e17",
   "metadata": {},
   "outputs": [],
   "source": []
  }
 ],
 "metadata": {
  "kernelspec": {
   "display_name": "Python 3 (ipykernel)",
   "language": "python",
   "name": "python3"
  },
  "language_info": {
   "codemirror_mode": {
    "name": "ipython",
    "version": 3
   },
   "file_extension": ".py",
   "mimetype": "text/x-python",
   "name": "python",
   "nbconvert_exporter": "python",
   "pygments_lexer": "ipython3",
   "version": "3.10.12"
  }
 },
 "nbformat": 4,
 "nbformat_minor": 5
}
