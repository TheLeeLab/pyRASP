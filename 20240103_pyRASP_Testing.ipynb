{
 "cells": [
  {
   "cell_type": "code",
   "execution_count": null,
   "id": "639d889a-964f-48c6-96be-f3070b50a506",
   "metadata": {},
   "outputs": [],
   "source": [
    "from src import AnalysisFunctions\n",
    "from src import IOFunctions\n",
    "from src import RASPRoutines\n",
    "import matplotlib.pyplot as plt\n",
    "import skimage as ski\n",
    "import os\n",
    "import numpy as np\n",
    "\n",
    "A_F = AnalysisFunctions.Analysis_Functions()\n",
    "IO = IOFunctions.IO_Functions()\n",
    "RASP = RASPRoutines.RASP_Routines()"
   ]
  },
  {
   "cell_type": "code",
   "execution_count": null,
   "id": "8173f312",
   "metadata": {},
   "outputs": [],
   "source": [
    "folder = '/home/jbeckwith/Documents/Dropbox (Cambridge University)/Chemistry/Lee/Data/Pilot2/microglia_oligomer/patient1'"
   ]
  },
  {
   "cell_type": "code",
   "execution_count": null,
   "id": "a9fd11b1",
   "metadata": {},
   "outputs": [],
   "source": [
    "RASP.analyse_images(folder, im_start=25, one_savefile=True)"
   ]
  },
  {
   "cell_type": "code",
   "execution_count": null,
   "id": "8ee13b8b",
   "metadata": {},
   "outputs": [],
   "source": []
  },
  {
   "cell_type": "code",
   "execution_count": null,
   "id": "d42a9de0",
   "metadata": {},
   "outputs": [],
   "source": []
  }
 ],
 "metadata": {
  "kernelspec": {
   "display_name": "Python 3 (ipykernel)",
   "language": "python",
   "name": "python3"
  },
  "language_info": {
   "codemirror_mode": {
    "name": "ipython",
    "version": 3
   },
   "file_extension": ".py",
   "mimetype": "text/x-python",
   "name": "python",
   "nbconvert_exporter": "python",
   "pygments_lexer": "ipython3",
   "version": "3.10.12"
  }
 },
 "nbformat": 4,
 "nbformat_minor": 5
}
