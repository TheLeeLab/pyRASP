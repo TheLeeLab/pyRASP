{
 "cells": [
  {
   "cell_type": "code",
   "execution_count": null,
   "id": "639d889a-964f-48c6-96be-f3070b50a506",
   "metadata": {},
   "outputs": [],
   "source": [
    "import os\n",
    "from src import RASPRoutines\n",
    "\n",
    "RASP = RASPRoutines.RASP_Routines()"
   ]
  },
  {
   "cell_type": "code",
   "execution_count": null,
   "id": "2646f1b5-4169-477a-aa58-6cf650916203",
   "metadata": {},
   "outputs": [],
   "source": [
    "\"\"\"the code below plots example spot-finding given the negative control parameters saved in the default parameters folder. \n",
    "Each of the parameters \n",
    "(all of which, apart from \"protein_file\", have defaults---so if you're fine with the defaults you can just run it as\n",
    "\"RASP.analyse_images(radiality_folder)\") have meanings as detailed:\n",
    "\n",
    "- protein_file (string). protein image location\n",
    "- thres (float). fraction of bright pixels accepted\n",
    "- large_thres (float). large object intensity threshold\n",
    "- gisgma (float). gaussian blurring parameter (default 1.4)\n",
    "- rwave (float). Ricker wavelent sigma (default 2.)\n",
    "- image_size (int). Amount of image to plot---by default plots 300x300 chunk of an image to give you an idea, can scale up\n",
    "- save_figure (boolean). save the figure as an svg, default no\n",
    "- cell_analysis (boolean). Parameter where script altso analyses cell\n",
    "    images and computes colocalisation likelihood ratios.\n",
    "- cell_file (string). cell image location\n",
    "\n",
    "\"\"\"\n",
    "\n",
    "protein_file = os.path.abspath(\n",
    "    r\"example_images/Example_ProteinImage_C1.tif\"\n",
    ")  # example file, replace as you wish. Always input as the absolute path of a raw string\n",
    "cell_file = os.path.abspath(\n",
    "    r\"example_images/Example_CellImage_C0.tif\"\n",
    ")  # example file, replace as you wish. Always input as the absolute path of a raw string\n",
    "RASP.single_image_analysis(\n",
    "    protein_file,\n",
    "    thres=0.05,\n",
    "    large_thres=100.0,\n",
    "    gsigma=1.4,\n",
    "    rwave=2.0,\n",
    "    image_size=300,\n",
    "    save_figure=False,\n",
    "    cell_analysis=True,\n",
    "    cell_file=cell_file,\n",
    ")"
   ]
  },
  {
   "cell_type": "code",
   "execution_count": null,
   "id": "6fa66136-ad84-4487-a3b8-139090473a87",
   "metadata": {},
   "outputs": [],
   "source": []
  }
 ],
 "metadata": {
  "kernelspec": {
   "display_name": "Python 3 (ipykernel)",
   "language": "python",
   "name": "python3"
  },
  "language_info": {
   "codemirror_mode": {
    "name": "ipython",
    "version": 3
   },
   "file_extension": ".py",
   "mimetype": "text/x-python",
   "name": "python",
   "nbconvert_exporter": "python",
   "pygments_lexer": "ipython3",
   "version": "3.10.12"
  }
 },
 "nbformat": 4,
 "nbformat_minor": 5
}
