{
 "cells": [
  {
   "cell_type": "code",
   "execution_count": 1,
   "id": "639d889a-964f-48c6-96be-f3070b50a506",
   "metadata": {},
   "outputs": [],
   "source": [
    "import os\n",
    "from src import RASPRoutines\n",
    "\n",
    "RASP = RASPRoutines.RASP_Routines()"
   ]
  },
  {
   "cell_type": "code",
   "execution_count": 2,
   "id": "a9fd11b1",
   "metadata": {},
   "outputs": [
    {
     "name": "stdout",
     "output_type": "stream",
     "text": [
      "Analysed image file 3/3    Time elapsed: 14.133 s\r"
     ]
    }
   ],
   "source": [
    "\"\"\" the command below will run the analyse_images analysis:\n",
    "\n",
    "            folder (string): Folder containing images\n",
    "            imtype (string): Type of images being analysed. Default '.tif'\n",
    "            thres (float): fraction of bright pixels accepted. Default 0.05.\n",
    "            large_thres (float): large object intensity threshold. Default 100.\n",
    "            gisgma (float): gaussian blurring parameter. Default 1.4.\n",
    "            rwave (float): Ricker wavelent sigma. Default 2.\n",
    "            protein_string (np.1darray): strings for protein-stained data. Default C1.\n",
    "            cell_string (np.1darray): strings for cell-containing data. Default C0.\n",
    "            if_filter (boolean): Filter images for focus. Default True.\n",
    "            im_start (integer): Images to start from. Default 0.\n",
    "            cell_analysis (boolean): Parameter where script also analyses cell\n",
    "                images. Default True.\n",
    "            one_savefile (boolean): Parameter that, if true, doesn't save a file. Default True.\n",
    "                per image but amalgamates them into one file. Default True.\n",
    "            disp (boolean): If true, prints when analysed an image stack. Default True.\n",
    "            analyse_clr (boolean): If true, calculates the clr. If not, just coincidence. Default True.\n",
    "            folder_recursion (boolean): If true, recursively finds folders and analyses each separately.\n",
    "            error_reduction (boolean): If true, reduces error on the oligomer image using Huang's code\n",
    "            \n",
    "All have defaults except folder, which is necessary.\n",
    "\"\"\"\n",
    "\n",
    "folder = os.path.abspath(\n",
    "    r\"example_images\"\n",
    ")  # example file, replace as you wish. Always input as the absolute path of a raw string\n",
    "\n",
    "RASP.analyse_images(folder, protein_string=\"C1\", thres=0.05, large_thres=500.)"
   ]
  },
  {
   "cell_type": "code",
   "execution_count": null,
   "id": "6bc3b1a3-f4b0-4260-b92a-bfb44166f85f",
   "metadata": {},
   "outputs": [],
   "source": []
  }
 ],
 "metadata": {
  "kernelspec": {
   "display_name": "Python 3 (ipykernel)",
   "language": "python",
   "name": "python3"
  },
  "language_info": {
   "codemirror_mode": {
    "name": "ipython",
    "version": 3
   },
   "file_extension": ".py",
   "mimetype": "text/x-python",
   "name": "python",
   "nbconvert_exporter": "python",
   "pygments_lexer": "ipython3",
   "version": "3.10.12"
  }
 },
 "nbformat": 4,
 "nbformat_minor": 5
}
