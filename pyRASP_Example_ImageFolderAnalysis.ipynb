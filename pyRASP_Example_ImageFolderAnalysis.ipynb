{
 "cells": [
  {
   "cell_type": "code",
   "execution_count": 1,
   "id": "639d889a-964f-48c6-96be-f3070b50a506",
   "metadata": {},
   "outputs": [],
   "source": [
    "import os\n",
    "from src import RASPRoutines\n",
    "\n",
    "RASP = RASPRoutines.RASP_Routines()"
   ]
  },
  {
   "cell_type": "code",
   "execution_count": 2,
   "id": "a9fd11b1",
   "metadata": {},
   "outputs": [
    {
     "ename": "UnboundLocalError",
     "evalue": "local variable 'n_largeobjects' referenced before assignment",
     "output_type": "error",
     "traceback": [
      "\u001b[0;31m---------------------------------------------------------------------------\u001b[0m",
      "\u001b[0;31mUnboundLocalError\u001b[0m                         Traceback (most recent call last)",
      "Cell \u001b[0;32mIn[2], line 29\u001b[0m\n\u001b[1;32m      1\u001b[0m \u001b[38;5;124;03m\"\"\" the command below will run the analyse_images analysis:\u001b[39;00m\n\u001b[1;32m      2\u001b[0m \n\u001b[1;32m      3\u001b[0m \u001b[38;5;124;03m            folder (string): Folder containing images\u001b[39;00m\n\u001b[0;32m   (...)\u001b[0m\n\u001b[1;32m     22\u001b[0m \u001b[38;5;124;03mAll have defaults except folder, which is necessary.\u001b[39;00m\n\u001b[1;32m     23\u001b[0m \u001b[38;5;124;03m\"\"\"\u001b[39;00m\n\u001b[1;32m     25\u001b[0m folder \u001b[38;5;241m=\u001b[39m os\u001b[38;5;241m.\u001b[39mpath\u001b[38;5;241m.\u001b[39mabspath(\n\u001b[1;32m     26\u001b[0m     \u001b[38;5;124mr\u001b[39m\u001b[38;5;124m\"\u001b[39m\u001b[38;5;124mexample_images\u001b[39m\u001b[38;5;124m\"\u001b[39m\n\u001b[1;32m     27\u001b[0m )  \u001b[38;5;66;03m# example file, replace as you wish. Always input as the absolute path of a raw string\u001b[39;00m\n\u001b[0;32m---> 29\u001b[0m \u001b[43mRASP\u001b[49m\u001b[38;5;241;43m.\u001b[39;49m\u001b[43manalyse_images\u001b[49m\u001b[43m(\u001b[49m\u001b[43mfolder\u001b[49m\u001b[43m,\u001b[49m\u001b[43m \u001b[49m\u001b[43mprotein_string\u001b[49m\u001b[38;5;241;43m=\u001b[39;49m\u001b[38;5;124;43m\"\u001b[39;49m\u001b[38;5;124;43mC1\u001b[39;49m\u001b[38;5;124;43m\"\u001b[39;49m\u001b[43m,\u001b[49m\u001b[43m \u001b[49m\u001b[43mthres\u001b[49m\u001b[38;5;241;43m=\u001b[39;49m\u001b[38;5;241;43m0.05\u001b[39;49m\u001b[43m,\u001b[49m\u001b[43m \u001b[49m\u001b[43mlarge_thres\u001b[49m\u001b[38;5;241;43m=\u001b[39;49m\u001b[38;5;241;43m500.\u001b[39;49m\u001b[43m)\u001b[49m\n",
      "File \u001b[0;32m~/Documents/Dropbox/Cambridge University Dropbox/Joseph Beckwith/Chemistry/Lee/Code/Python/pyRASP/src/RASPRoutines.py:666\u001b[0m, in \u001b[0;36mRASP_Routines.analyse_images\u001b[0;34m(self, folder, imtype, thres, large_thres, gsigma, rwave, protein_string, cell_string, if_filter, im_start, cell_analysis, one_savefile, disp, folder_recursive, error_reduction)\u001b[0m\n\u001b[1;32m    664\u001b[0m     cell_analysis \u001b[38;5;241m=\u001b[39m \u001b[38;5;28;01mNone\u001b[39;00m\n\u001b[1;32m    665\u001b[0m z_test \u001b[38;5;241m=\u001b[39m \u001b[38;5;28mlen\u001b[39m(img\u001b[38;5;241m.\u001b[39mshape) \u001b[38;5;241m>\u001b[39m \u001b[38;5;241m2\u001b[39m\n\u001b[0;32m--> 666\u001b[0m \u001b[43m_analysis_loop\u001b[49m\u001b[43m(\u001b[49m\u001b[43mimg\u001b[49m\u001b[43m,\u001b[49m\u001b[43m \u001b[49m\u001b[43mk1\u001b[49m\u001b[43m,\u001b[49m\u001b[43m \u001b[49m\u001b[43mk2\u001b[49m\u001b[43m,\u001b[49m\u001b[43m \u001b[49m\u001b[43mimg_cell\u001b[49m\u001b[43m,\u001b[49m\u001b[43m \u001b[49m\u001b[43mthres\u001b[49m\u001b[43m,\u001b[49m\u001b[43m \u001b[49m\u001b[43mlarge_thres\u001b[49m\u001b[43m,\u001b[49m\u001b[43m \u001b[49m\u001b[43mrdl\u001b[49m\u001b[43m,\u001b[49m\u001b[43m \u001b[49m\u001b[43mz_test\u001b[49m\u001b[43m)\u001b[49m\n\u001b[1;32m    667\u001b[0m \u001b[38;5;28;01mif\u001b[39;00m disp \u001b[38;5;241m==\u001b[39m \u001b[38;5;28;01mTrue\u001b[39;00m:\n\u001b[1;32m    668\u001b[0m     \u001b[38;5;28mprint\u001b[39m(\n\u001b[1;32m    669\u001b[0m         \u001b[38;5;124m\"\u001b[39m\u001b[38;5;124mAnalysed image file \u001b[39m\u001b[38;5;132;01m{}\u001b[39;00m\u001b[38;5;124m/\u001b[39m\u001b[38;5;132;01m{}\u001b[39;00m\u001b[38;5;124m    Time elapsed: \u001b[39m\u001b[38;5;132;01m{:.3f}\u001b[39;00m\u001b[38;5;124m s\u001b[39m\u001b[38;5;124m\"\u001b[39m\u001b[38;5;241m.\u001b[39mformat(\n\u001b[1;32m    670\u001b[0m             i \u001b[38;5;241m+\u001b[39m \u001b[38;5;241m1\u001b[39m, \u001b[38;5;28mlen\u001b[39m(files), time\u001b[38;5;241m.\u001b[39mtime() \u001b[38;5;241m-\u001b[39m start\n\u001b[0;32m   (...)\u001b[0m\n\u001b[1;32m    673\u001b[0m         flush\u001b[38;5;241m=\u001b[39m\u001b[38;5;28;01mTrue\u001b[39;00m,\n\u001b[1;32m    674\u001b[0m     )\n",
      "File \u001b[0;32m~/Documents/Dropbox/Cambridge University Dropbox/Joseph Beckwith/Chemistry/Lee/Code/Python/pyRASP/src/RASPRoutines.py:567\u001b[0m, in \u001b[0;36mRASP_Routines.analyse_images.<locals>._analysis_loop\u001b[0;34m(img, k1, k2, img_cell, thres, large_thres, rdl, z_test)\u001b[0m\n\u001b[1;32m    542\u001b[0m         img_cell \u001b[38;5;241m=\u001b[39m img_cell[:, :, z_planes[\u001b[38;5;241m0\u001b[39m] : z_planes[\u001b[38;5;241m1\u001b[39m]]\n\u001b[1;32m    543\u001b[0m (\n\u001b[1;32m    544\u001b[0m     to_save,\n\u001b[1;32m    545\u001b[0m     to_save_largeobjects,\n\u001b[0;32m   (...)\u001b[0m\n\u001b[1;32m    565\u001b[0m     d\u001b[38;5;241m=\u001b[39m\u001b[38;5;28mself\u001b[39m\u001b[38;5;241m.\u001b[39md,\n\u001b[1;32m    566\u001b[0m )\n\u001b[0;32m--> 567\u001b[0m \u001b[43mIO\u001b[49m\u001b[38;5;241;43m.\u001b[39;49m\u001b[43msave_analysis\u001b[49m\u001b[43m(\u001b[49m\n\u001b[1;32m    568\u001b[0m \u001b[43m    \u001b[49m\u001b[43mto_save\u001b[49m\u001b[43m,\u001b[49m\n\u001b[1;32m    569\u001b[0m \u001b[43m    \u001b[49m\u001b[43mto_save_largeobjects\u001b[49m\u001b[43m,\u001b[49m\n\u001b[1;32m    570\u001b[0m \u001b[43m    \u001b[49m\u001b[43manalysis_directory\u001b[49m\u001b[43m,\u001b[49m\n\u001b[1;32m    571\u001b[0m \u001b[43m    \u001b[49m\u001b[43mimtype\u001b[49m\u001b[43m,\u001b[49m\n\u001b[1;32m    572\u001b[0m \u001b[43m    \u001b[49m\u001b[43mprotein_string\u001b[49m\u001b[43m,\u001b[49m\n\u001b[1;32m    573\u001b[0m \u001b[43m    \u001b[49m\u001b[43mcell_string\u001b[49m\u001b[43m,\u001b[49m\n\u001b[1;32m    574\u001b[0m \u001b[43m    \u001b[49m\u001b[43mfiles\u001b[49m\u001b[43m,\u001b[49m\n\u001b[1;32m    575\u001b[0m \u001b[43m    \u001b[49m\u001b[43mi\u001b[49m\u001b[43m,\u001b[49m\n\u001b[1;32m    576\u001b[0m \u001b[43m    \u001b[49m\u001b[43mz_planes\u001b[49m\u001b[43m,\u001b[49m\n\u001b[1;32m    577\u001b[0m \u001b[43m    \u001b[49m\u001b[43mlo_mask\u001b[49m\u001b[43m,\u001b[49m\n\u001b[1;32m    578\u001b[0m \u001b[43m    \u001b[49m\u001b[43mcell_mask\u001b[49m\u001b[38;5;241;43m=\u001b[39;49m\u001b[43mcell_mask\u001b[49m\u001b[43m \u001b[49m\u001b[38;5;28;43;01mif\u001b[39;49;00m\u001b[43m \u001b[49m\u001b[43mcell_analysis\u001b[49m\u001b[43m \u001b[49m\u001b[38;5;28;43;01melse\u001b[39;49;00m\u001b[43m \u001b[49m\u001b[38;5;28;43;01mFalse\u001b[39;49;00m\u001b[43m,\u001b[49m\n\u001b[1;32m    579\u001b[0m \u001b[43m    \u001b[49m\u001b[43mone_savefile\u001b[49m\u001b[38;5;241;43m=\u001b[39;49m\u001b[43mone_savefile\u001b[49m\u001b[43m,\u001b[49m\n\u001b[1;32m    580\u001b[0m \u001b[43m\u001b[49m\u001b[43m)\u001b[49m\n",
      "File \u001b[0;32m~/Documents/Dropbox/Cambridge University Dropbox/Joseph Beckwith/Chemistry/Lee/Code/Python/pyRASP/src/IOFunctions.py:156\u001b[0m, in \u001b[0;36mIO_Functions.save_analysis\u001b[0;34m(self, to_save, to_save_largeobjects, analysis_directory, imtype, protein_string, cell_string, files, i, z_planes, lo_mask, cell_mask, one_savefile)\u001b[0m\n\u001b[1;32m    146\u001b[0m     \u001b[38;5;28mself\u001b[39m\u001b[38;5;241m.\u001b[39mwrite_tiff(\n\u001b[1;32m    147\u001b[0m         cell_mask,\n\u001b[1;32m    148\u001b[0m         os\u001b[38;5;241m.\u001b[39mpath\u001b[38;5;241m.\u001b[39mjoin(\n\u001b[0;32m   (...)\u001b[0m\n\u001b[1;32m    152\u001b[0m         bit\u001b[38;5;241m=\u001b[39mnp\u001b[38;5;241m.\u001b[39muint8,\n\u001b[1;32m    153\u001b[0m     )\n\u001b[1;32m    155\u001b[0m \u001b[38;5;66;03m# Save or append data\u001b[39;00m\n\u001b[0;32m--> 156\u001b[0m dfs_to_save \u001b[38;5;241m=\u001b[39m [to_save, to_save_largeobjects, n_spots, \u001b[43mn_largeobjects\u001b[49m]\n\u001b[1;32m    157\u001b[0m \u001b[38;5;28;01mfor\u001b[39;00m df, path \u001b[38;5;129;01min\u001b[39;00m \u001b[38;5;28mzip\u001b[39m(dfs_to_save, save_paths):\n\u001b[1;32m    158\u001b[0m     \u001b[38;5;28;01mif\u001b[39;00m df \u001b[38;5;129;01mis\u001b[39;00m \u001b[38;5;129;01mnot\u001b[39;00m \u001b[38;5;28;01mNone\u001b[39;00m:\n",
      "\u001b[0;31mUnboundLocalError\u001b[0m: local variable 'n_largeobjects' referenced before assignment"
     ]
    }
   ],
   "source": [
    "\"\"\" the command below will run the analyse_images analysis:\n",
    "\n",
    "            folder (string): Folder containing images\n",
    "            imtype (string): Type of images being analysed. Default '.tif'\n",
    "            thres (float): fraction of bright pixels accepted. Default 0.05.\n",
    "            large_thres (float): large object intensity threshold. Default 100.\n",
    "            gisgma (float): gaussian blurring parameter. Default 1.4.\n",
    "            rwave (float): Ricker wavelent sigma. Default 2.\n",
    "            protein_string (np.1darray): strings for protein-stained data. Default C1.\n",
    "            cell_string (np.1darray): strings for cell-containing data. Default C0.\n",
    "            if_filter (boolean): Filter images for focus. Default True.\n",
    "            im_start (integer): Images to start from. Default 0.\n",
    "            cell_analysis (boolean): Parameter where script also analyses cell\n",
    "                images. Default True.\n",
    "            one_savefile (boolean): Parameter that, if true, doesn't save a file. Default True.\n",
    "                per image but amalgamates them into one file. Default True.\n",
    "            disp (boolean): If true, prints when analysed an image stack. Default True.\n",
    "            analyse_clr (boolean): If true, calculates the clr. If not, just coincidence. Default True.\n",
    "            folder_recursion (boolean): If true, recursively finds folders and analyses each separately.\n",
    "            error_reduction (boolean): If true, reduces error on the oligomer image using Huang's code\n",
    "            \n",
    "All have defaults except folder, which is necessary.\n",
    "\"\"\"\n",
    "\n",
    "folder = os.path.abspath(\n",
    "    r\"example_images\"\n",
    ")  # example file, replace as you wish. Always input as the absolute path of a raw string\n",
    "\n",
    "RASP.analyse_images(folder, protein_string=\"C1\", thres=0.05, large_thres=500.)"
   ]
  },
  {
   "cell_type": "code",
   "execution_count": null,
   "id": "6bc3b1a3-f4b0-4260-b92a-bfb44166f85f",
   "metadata": {},
   "outputs": [],
   "source": []
  }
 ],
 "metadata": {
  "kernelspec": {
   "display_name": "Python 3 (ipykernel)",
   "language": "python",
   "name": "python3"
  },
  "language_info": {
   "codemirror_mode": {
    "name": "ipython",
    "version": 3
   },
   "file_extension": ".py",
   "mimetype": "text/x-python",
   "name": "python",
   "nbconvert_exporter": "python",
   "pygments_lexer": "ipython3",
   "version": "3.10.12"
  }
 },
 "nbformat": 4,
 "nbformat_minor": 5
}
