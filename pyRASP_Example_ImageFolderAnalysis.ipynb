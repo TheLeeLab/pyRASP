{
 "cells": [
  {
   "cell_type": "code",
   "execution_count": null,
   "id": "639d889a-964f-48c6-96be-f3070b50a506",
   "metadata": {},
   "outputs": [],
   "source": [
    "import os\n",
    "from src import RASPRoutines\n",
    "RASP = RASPRoutines.RASP_Routines()"
   ]
  },
  {
   "cell_type": "code",
   "execution_count": null,
   "id": "a9fd11b1",
   "metadata": {},
   "outputs": [],
   "source": [
    "''' the command below will run RASP on a folder of images. Each of the parameters \n",
    "(all of which, apart from \"folder\", have defaults---so if you're fine with the defaults you can just run it as\n",
    "\"RASP.analyse_images(folder)\") have meanings as detailed:\n",
    "\n",
    "imtype: a string that tells the script what to expect at the end of a file, usually .tiff or .tif\n",
    "\n",
    "thres: a % threshold for what we expect for spots, usually set at 0.05 for 5%\n",
    "\n",
    "large_thres: intensity threshold for large objects, set here as 450.\n",
    "\n",
    "gsigma: gaussian blur sigma for spot analysis\n",
    "\n",
    "rwave: ricker wavelet sigma\n",
    "\n",
    "if_filter: default is True, this determines if you do filtering for out-of-focus images or not\n",
    "\n",
    "im_start: if anything but 1 the code will ignore this many frames in an image file (useful when have images \n",
    "with multiple channels, for example)\n",
    "\n",
    "cell_analysis: if True, this will also analyse cell images that have a string for cell-containing data and compute the\n",
    "colocalisation likelihood ratios \n",
    "\n",
    "one_savefile: if True, this will save all analysis in one file called \"spot_analysis.csv\"\n",
    "\n",
    "analyse_clr: if True, gives you the clr. If not, just the coincidence.\n",
    "\n",
    "NOTE WELL this function will search all subfolders for tiffs; so if you accidentally give it a very high-level folder don't be\n",
    "surprised if it takes too long!\n",
    "\n",
    "'''\n",
    "folder = os.path.abspath(r'example_images') # example folder, replace as you wish. Always input as the absolute path of a raw string\n",
    "\n",
    "RASP.analyse_images(folder, imtype='.tif', thres=0.05, \n",
    "                       large_thres=100., gsigma=1.4, rwave=2.,\n",
    "                       protein_string='C1', cell_string='C0',\n",
    "                       if_filter=True, im_start=1, cell_analysis=True, \n",
    "                       one_savefile=True, analyse_clr=True)"
   ]
  },
  {
   "cell_type": "code",
   "execution_count": null,
   "id": "e51be001-9ec1-412d-bc76-e8106555116f",
   "metadata": {},
   "outputs": [],
   "source": []
  }
 ],
 "metadata": {
  "kernelspec": {
   "display_name": "Python 3 (ipykernel)",
   "language": "python",
   "name": "python3"
  },
  "language_info": {
   "codemirror_mode": {
    "name": "ipython",
    "version": 3
   },
   "file_extension": ".py",
   "mimetype": "text/x-python",
   "name": "python",
   "nbconvert_exporter": "python",
   "pygments_lexer": "ipython3",
   "version": "3.10.12"
  }
 },
 "nbformat": 4,
 "nbformat_minor": 5
}
