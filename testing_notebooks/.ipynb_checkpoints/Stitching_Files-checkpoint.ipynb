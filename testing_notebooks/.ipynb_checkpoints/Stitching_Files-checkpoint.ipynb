{
 "cells": [
  {
   "cell_type": "code",
   "execution_count": null,
   "id": "d8a47375-fdb8-4763-acfa-88527a923ef2",
   "metadata": {},
   "outputs": [],
   "source": [
    "import polars as pl\n",
    "import os\n",
    "\n",
    "import sys\n",
    "sys.path.append('..')\n",
    "from src import PlottingFunctions\n",
    "\n",
    "plotter = PlottingFunctions.Plotter()\n",
    "import numpy as np\n",
    "import json\n",
    "\n",
    "from skimage import measure\n",
    "\n",
    "from src import IOFunctions; IO = IOFunctions.IO_Functions()\n",
    "\n",
    "from src import HelperFunctions; HF = HelperFunctions.Helper_Functions()\n",
    "\n",
    "import matplotlib.pyplot as plt\n",
    "\n",
    "from src import AnalysisFunctions; A_F = AnalysisFunctions.Analysis_Functions()\n",
    "\n",
    "from src import CoincidenceFunctions; C_F = CoincidenceFunctions.Coincidence_Functions()"
   ]
  },
  {
   "cell_type": "code",
   "execution_count": null,
   "id": "f63cf87e-8c6c-4e4a-9d4c-cf45981a79df",
   "metadata": {},
   "outputs": [],
   "source": [
    "cellmask = 'C0'\n",
    "proteinmask = 'C1'"
   ]
  },
  {
   "cell_type": "code",
   "execution_count": null,
   "id": "ced5d977-51da-4d9c-b407-5a88e302e03d",
   "metadata": {},
   "outputs": [],
   "source": [
    "folder = r'S:\\ASAP_Imaging_Data\\Joe\\20250227_pilot2BigScan'\n",
    "subfolders = os.listdir(folder)\n",
    "for subfolder in subfolders:\n",
    "    if os.path.isdir(os.path.join(folder, subfolder)):\n",
    "        sub_sub_folders = os.listdir(os.path.join(folder, subfolder))\n",
    "        for sub_sub_folder in sub_sub_folders:\n",
    "            if os.path.isdir(os.path.join(folder, subfolder, sub_sub_folder)):\n",
    "                sub_sub_sub_folders = os.listdir(os.path.join(folder, subfolder, sub_sub_folder))\n",
    "                for sub_sub_sub_folder in sub_sub_sub_folders:\n",
    "                    if os.path.isdir(os.path.join(folder, subfolder, sub_sub_folder, sub_sub_sub_folder)):\n",
    "                        cellmask_files = HF.file_search(folder=os.path.join(folder, subfolder, sub_sub_folder, sub_sub_sub_folder),\n",
    "                                                        string1='.tif', string2='C0')\n",
    "                        protein_files = HF.file_search(folder=os.path.join(folder, subfolder, sub_sub_folder, sub_sub_sub_folder),\n",
    "                                                        string1='.tif', string2='C1')\n",
    "                        if len(cellmask_files) > 1:\n",
    "                            newfolder = os.path.join(folder, subfolder, sub_sub_folder, sub_sub_sub_folder, 'cell_files')\n",
    "                            if not os.path.isdir(newfolder):\n",
    "                                os.mkdir(newfolder)\n",
    "                            for i, file in enumerate(np.sort(cellmask_files)):\n",
    "                                newfilename = os.path.join(newfolder, 'cell_'+str(i).zfill(4)+'.tiff')\n",
    "                                IO.write_tiff(volume=np.max(IO.read_tiff(file), axis=0), file_path=newfilename)\n",
    "                        if len(protein_files) > 1:\n",
    "                            newfolder = os.path.join(folder, subfolder, sub_sub_folder, sub_sub_sub_folder, 'asyn_files')\n",
    "                            if not os.path.isdir(newfolder):\n",
    "                                os.mkdir(newfolder)\n",
    "                            for i, file in enumerate(np.sort(protein_files)):\n",
    "                                newfilename = os.path.join(newfolder, 'asyn_'+str(i).zfill(4)+'.tiff')\n",
    "                                IO.write_tiff(volume=np.max(IO.read_tiff(file), axis=0), file_path=newfilename)"
   ]
  },
  {
   "cell_type": "code",
   "execution_count": null,
   "id": "413f681d-e206-4a4f-89eb-f2367949d4b1",
   "metadata": {},
   "outputs": [],
   "source": [
    "n_xy = 30\n",
    "imd = 1200\n",
    "n_x_range = np.arange(0, imd*n_xy + imd, imd)"
   ]
  },
  {
   "cell_type": "code",
   "execution_count": null,
   "id": "ce58cb7b-e496-40d9-aba9-425377e059d0",
   "metadata": {},
   "outputs": [],
   "source": []
  },
  {
   "cell_type": "code",
   "execution_count": null,
   "id": "456f805c-2b6b-4a59-9e54-a7465d93c458",
   "metadata": {},
   "outputs": [],
   "source": [
    "folder = r'S:\\ASAP_Imaging_Data\\Joe\\20250227_pilot2BigScan'\n",
    "subfolders = os.listdir(folder)\n",
    "for subfolder in subfolders:\n",
    "    if os.path.isdir(os.path.join(folder, subfolder)):\n",
    "        sub_sub_folders = os.listdir(os.path.join(folder, subfolder))\n",
    "        for sub_sub_folder in sub_sub_folders:\n",
    "            if os.path.isdir(os.path.join(folder, subfolder, sub_sub_folder)):\n",
    "                sub_sub_sub_folders = os.listdir(os.path.join(folder, subfolder, sub_sub_folder))\n",
    "                for sub_sub_sub_folder in sub_sub_sub_folders:\n",
    "                    if os.path.isdir(os.path.join(folder, subfolder, sub_sub_folder, sub_sub_sub_folder)):\n",
    "                        newfolder = os.path.join(folder, subfolder, sub_sub_folder, sub_sub_sub_folder, 'cell_files')\n",
    "                        cellmip_files = HF.file_search(folder=newfolder,\n",
    "                            string1='.tiff', string2='cell_')\n",
    "                        new_image = np.zeros([n_xy*imd, n_xy*imd])\n",
    "                        for j in np.arange(n_xy):\n",
    "                            y = n_x_range[j]\n",
    "                            y_p1 = n_x_range[j+1]\n",
    "                            for i in np.arange(n_xy):\n",
    "                                x = n_x_range[i]\n",
    "                                x_p1 = n_x_range[i+1]\n",
    "                                data = IO.read_tiff(cellmip_files[i+j])\n",
    "                                new_image[x:x_p1, y:y_p1] = data\n",
    "                        newfilename = os.path.join(newfolder, 'cell_bigimage.tiff')\n",
    "                        IO.write_tiff(volume=new_image, file_path=newfilename)\n",
    "                        newfolder = os.path.join(folder, subfolder, sub_sub_folder, sub_sub_sub_folder, 'asyn_files')\n",
    "                        proteinmip_files = HF.file_search(folder=newfolder,\n",
    "                            string1='.tiff', string2='asyn_')\n",
    "                        new_image = np.zeros([n_xy*imd, n_xy*imd])\n",
    "                        for j in np.arange(n_xy):\n",
    "                            y = n_x_range[j]\n",
    "                            y_p1 = n_x_range[j+1]\n",
    "                            for i in np.arange(n_xy):\n",
    "                                x = n_x_range[i]\n",
    "                                x_p1 = n_x_range[i+1]\n",
    "                                data = IO.read_tiff(proteinmip_files[i])\n",
    "                                new_image[x:x_p1, y:y_p1] = data\n",
    "                        newfilename = os.path.join(newfolder, 'asyn_bigimage.tiff')\n",
    "                        IO.write_tiff(volume=new_image, file_path=newfilename)"
   ]
  },
  {
   "cell_type": "code",
   "execution_count": null,
   "id": "ae19f97b-6256-4cc7-a5f0-ed28ee6ec10a",
   "metadata": {},
   "outputs": [],
   "source": []
  }
 ],
 "metadata": {
  "kernelspec": {
   "display_name": "Python 3 (ipykernel)",
   "language": "python",
   "name": "python3"
  },
  "language_info": {
   "codemirror_mode": {
    "name": "ipython",
    "version": 3
   },
   "file_extension": ".py",
   "mimetype": "text/x-python",
   "name": "python",
   "nbconvert_exporter": "python",
   "pygments_lexer": "ipython3",
   "version": "3.12.7"
  }
 },
 "nbformat": 4,
 "nbformat_minor": 5
}
