{
 "cells": [
  {
   "cell_type": "code",
   "execution_count": 1,
   "id": "19634293-6649-4608-87bd-87b8484f5d69",
   "metadata": {},
   "outputs": [],
   "source": [
    "import os\n",
    "import sys\n",
    "sys.path.append('..')\n",
    "from src import RASPRoutines\n",
    "\n",
    "RASP = RASPRoutines.RASP_Routines()\n",
    "import pandas as pd\n",
    "from src import AnalysisFunctions\n",
    "\n",
    "A_F = AnalysisFunctions.Analysis_Functions()\n",
    "from src import IOFunctions\n",
    "\n",
    "from src import Image_Analysis_Functions\n",
    "\n",
    "IA_F = Image_Analysis_Functions.ImageAnalysis_Functions()\n",
    "\n",
    "from src import CoincidenceFunctions\n",
    "\n",
    "C_F = CoincidenceFunctions.Coincidence_Functions()\n",
    "\n",
    "from src import HelperFunctions\n",
    "H_F = HelperFunctions.Helper_Functions()\n",
    "\n",
    "IO = IOFunctions.IO_Functions()\n",
    "import numpy as np\n",
    "import matplotlib.pyplot as plt\n",
    "from scipy.spatial.distance import cdist\n",
    "\n",
    "from src import PlottingFunctions\n",
    "\n",
    "plotter = PlottingFunctions.Plotter()\n",
    "\n",
    "import polars as pl\n",
    "from scipy.signal import fftconvolve, convolve\n",
    "from scipy.ndimage import binary_opening, binary_closing, binary_fill_holes\n",
    "import skimage as ski\n",
    "\n",
    "from scipy import stats\n",
    "\n",
    "from scipy import ndimage as ndi\n",
    "from skimage import (exposure, feature, filters, io, measure,\n",
    "                      morphology, restoration, segmentation, transform,\n",
    "                      util)\n",
    "from skimage.measure import label, regionprops_table, centroid"
   ]
  },
  {
   "cell_type": "code",
   "execution_count": 10,
   "id": "306cdda1-8182-437e-8163-f8442b155ebb",
   "metadata": {},
   "outputs": [],
   "source": [
    "test_image = np.zeros([30, 30]) + 15.\n",
    "test_image[2:6, 7:11] += 100\n",
    "\n",
    "test_image[12:16, 14:18] += 100\n",
    "\n",
    "image_size = (30,30)"
   ]
  },
  {
   "cell_type": "code",
   "execution_count": 11,
   "id": "d186f1c3-9c99-4ee9-8749-36e586ccda48",
   "metadata": {},
   "outputs": [],
   "source": [
    "centroid = np.array([[4, 9], [14, 16]])"
   ]
  },
  {
   "cell_type": "code",
   "execution_count": 12,
   "id": "d48b8241-d2ce-4ac2-ba78-0d5312413137",
   "metadata": {},
   "outputs": [],
   "source": [
    "x_in, y_in, x_out, y_out = IA_F.intensity_pixel_indices(centroid, image_size)"
   ]
  },
  {
   "cell_type": "code",
   "execution_count": 13,
   "id": "fd209498-aab0-4ec3-ab81-9e6348486ddc",
   "metadata": {},
   "outputs": [
    {
     "data": {
      "text/plain": [
       "<matplotlib.image.AxesImage at 0x17d8f703b90>"
      ]
     },
     "execution_count": 13,
     "metadata": {},
     "output_type": "execute_result"
    },
    {
     "data": {
      "image/png": "[encoded data removed]",
      "text/plain": [
       "<Figure size 333x350 with 3 Axes>"
      ]
     },
     "metadata": {},
     "output_type": "display_data"
    }
   ],
   "source": [
    "exemplar = np.zeros_like(test_image)\n",
    "exemplar[x_in, y_in] = 1\n",
    "exemplar_bg = np.zeros_like(test_image)\n",
    "exemplar_bg[x_out, y_out] = 1\n",
    "\n",
    "fig, ax = plt.subplots(3)\n",
    "ax[0].imshow(test_image)\n",
    "ax[1].imshow(exemplar)\n",
    "ax[2].imshow(exemplar_bg)"
   ]
  },
  {
   "cell_type": "code",
   "execution_count": 14,
   "id": "d7ce020d-b4b6-44ac-a16e-ec0cc540d563",
   "metadata": {},
   "outputs": [
    {
     "data": {
      "text/plain": [
       "(array([1600., 1600.]), array([900., 900.]), array([15., 15.]))"
      ]
     },
     "execution_count": 14,
     "metadata": {},
     "output_type": "execute_result"
    }
   ],
   "source": [
    "IA_F.estimate_intensity(image=test_image, centroids=centroid)"
   ]
  },
  {
   "cell_type": "code",
   "execution_count": 15,
   "id": "a0987035-fb9a-45f9-b50b-8a08e436584b",
   "metadata": {},
   "outputs": [
    {
     "data": {
      "image/png": "[encoded data removed]",
      "text/plain": [
       "<Figure size 333x350 with 2 Axes>"
      ]
     },
     "metadata": {},
     "output_type": "display_data"
    }
   ],
   "source": [
    "fig, axs = plotter.one_column_plot()\n",
    "\n",
    "axs = plotter.image_scatter_plot(\n",
    "        axs[0],\n",
    "        test_image,\n",
    "        np.array([4, 14]),\n",
    "        np.array([9, 16]),\n",
    "        vmin=None,\n",
    "        vmax=None,\n",
    "        cmap=\"gist_gray\",\n",
    "        cbar=\"on\",\n",
    "        cbarlabel=\"photons\",\n",
    "        label=\"\",\n",
    "        labelcolor=\"white\",\n",
    "        pixelsize=110,\n",
    "        scalebarsize=100,\n",
    "        scalebarlabel=r\"10$\\,\\mu$m\",\n",
    "        alpha=1,\n",
    "        scattercolor=\"red\",\n",
    "        facecolor=\"None\",\n",
    "        s=20,\n",
    "        lws=0.75,\n",
    "        plotmask=False,\n",
    "        mask=None,\n",
    "        maskcolor=\"white\",\n",
    "        masklinewidth=0.75,\n",
    "        alpha_scatter=1,\n",
    "    )"
   ]
  },
  {
   "cell_type": "code",
   "execution_count": null,
   "id": "a1e228fe-c52e-40f1-94a3-d1e304ed744f",
   "metadata": {},
   "outputs": [],
   "source": []
  }
 ],
 "metadata": {
  "kernelspec": {
   "display_name": "Python 3 (ipykernel)",
   "language": "python",
   "name": "python3"
  },
  "language_info": {
   "codemirror_mode": {
    "name": "ipython",
    "version": 3
   },
   "file_extension": ".py",
   "mimetype": "text/x-python",
   "name": "python",
   "nbconvert_exporter": "python",
   "pygments_lexer": "ipython3",
   "version": "3.12.7"
  }
 },
 "nbformat": 4,
 "nbformat_minor": 5
}
