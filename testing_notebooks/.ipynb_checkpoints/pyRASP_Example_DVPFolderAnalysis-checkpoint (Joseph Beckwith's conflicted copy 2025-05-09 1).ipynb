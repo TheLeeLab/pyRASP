{
 "cells": [
  {
   "cell_type": "code",
   "execution_count": 1,
   "id": "639d889a-964f-48c6-96be-f3070b50a506",
   "metadata": {},
   "outputs": [],
   "source": [
    "import sys\n",
    "\n",
    "sys.path.append(\"..\")  # Adds higher directory to python modules path.\n",
    "import os\n",
    "from src import RASPRoutines\n",
    "\n",
    "RASP = RASPRoutines.RASP_Routines()"
   ]
  },
  {
   "cell_type": "code",
   "execution_count": 2,
   "id": "3555beec-f4df-4670-9204-90ee32bc365a",
   "metadata": {},
   "outputs": [],
   "source": [
    "folder = os.path.abspath(\n",
    "    r\"S:\\ASAP_Imaging_Data\\Jonathan\\Sycamore\\20250305_DVP_Pilot2_v1\"\n",
    ")  # example file, replace as you wish. Always input as the absolute path of a raw string\n"
   ]
  },
  {
   "cell_type": "code",
   "execution_count": 3,
   "id": "d0091ca1-61b8-42fe-bd3a-675481c0960a",
   "metadata": {},
   "outputs": [],
   "source": [
    "negative_control_folder = 'negative_control'\n",
    "nc_folder = os.path.join(folder, negative_control_folder)"
   ]
  },
  {
   "cell_type": "code",
   "execution_count": null,
   "id": "6b8c63bf-7a2e-48b2-9272-8483f13109af",
   "metadata": {},
   "outputs": [
    {
     "name": "stdout",
     "output_type": "stream",
     "text": [
      "Analysed image file 32/45    Time elapsed: 325.439 s\r"
     ]
    }
   ],
   "source": [
    "RASP.calibrate_radiality(folder=nc_folder, protein_string='C0')"
   ]
  },
  {
   "cell_type": "code",
   "execution_count": null,
   "id": "cc6fbeaf-a3fa-4185-a202-d056c90e1a26",
   "metadata": {},
   "outputs": [],
   "source": [
    "\"\"\" the command below will run the analyse_images analysis:\n",
    "\n",
    "            folder (string): Folder containing images\n",
    "            imtype (string): Type of images being analysed. Default '.tif'\n",
    "            thres (float): fraction of bright pixels accepted. Default 0.05.\n",
    "            large_thres (float): large object intensity threshold. Default 100.\n",
    "            gisgma (float): gaussian blurring parameter. Default 1.4.\n",
    "            rwave (float): Ricker wavelent sigma. Default 2.\n",
    "            protein_string (np.1darray): strings for protein-stained data. Default C1.\n",
    "            cell_string (np.1darray): strings for cell-containing data. Default C0.\n",
    "            if_filter (boolean): Filter images for focus. Default True.\n",
    "            im_start (integer): Images to start from. Default 0.\n",
    "            cell_analysis (boolean): Parameter where script also analyses cell\n",
    "                images. Default True.\n",
    "            one_savefile (boolean): Parameter that, if true, doesn't save a file. Default True.\n",
    "                per image but amalgamates them into one file. Default True.\n",
    "            disp (boolean): If true, prints when analysed an image stack. Default True.\n",
    "            analyse_clr (boolean): If true, calculates the clr. If not, just coincidence. Default True.\n",
    "            folder_recursion (boolean): If true, recursively finds folders and analyses each separately.\n",
    "            error_reduction (boolean): If true, reduces error on the oligomer image using Huang's code\n",
    "            \n",
    "All have defaults except folder, which is necessary.\n",
    "\"\"\"\n",
    "\n",
    "folder = os.path.abspath(\n",
    "    r\"S:\\ASAP_Imaging_Data\\Jonathan\\Sycamore\\20250305_DVP_Pilot2_v1\\data\\Slide3_Scan2\"\n",
    ")  # example file, replace as you wish. Always input as the absolute path of a raw string\n",
    "\n",
    "RASP.analyse_images(folder, protein_string=\"C0\", cell_string=\"C1\", focus_images=\"C1\", thres=0.05, large_thres=250.0, cell_analysis=True, folder_recursive=True)"
   ]
  },
  {
   "cell_type": "code",
   "execution_count": null,
   "id": "e825d6f6-0290-4419-a67c-fbfc5d8d0eb7",
   "metadata": {},
   "outputs": [],
   "source": [
    "\"\"\" the command below will run the analyse_images analysis:\n",
    "\n",
    "            folder (string): Folder containing images\n",
    "            imtype (string): Type of images being analysed. Default '.tif'\n",
    "            thres (float): fraction of bright pixels accepted. Default 0.05.\n",
    "            large_thres (float): large object intensity threshold. Default 100.\n",
    "            gisgma (float): gaussian blurring parameter. Default 1.4.\n",
    "            rwave (float): Ricker wavelent sigma. Default 2.\n",
    "            protein_string (np.1darray): strings for protein-stained data. Default C1.\n",
    "            cell_string (np.1darray): strings for cell-containing data. Default C0.\n",
    "            if_filter (boolean): Filter images for focus. Default True.\n",
    "            im_start (integer): Images to start from. Default 0.\n",
    "            cell_analysis (boolean): Parameter where script also analyses cell\n",
    "                images. Default True.\n",
    "            one_savefile (boolean): Parameter that, if true, doesn't save a file. Default True.\n",
    "                per image but amalgamates them into one file. Default True.\n",
    "            disp (boolean): If true, prints when analysed an image stack. Default True.\n",
    "            analyse_clr (boolean): If true, calculates the clr. If not, just coincidence. Default True.\n",
    "            folder_recursion (boolean): If true, recursively finds folders and analyses each separately.\n",
    "            error_reduction (boolean): If true, reduces error on the oligomer image using Huang's code\n",
    "            \n",
    "All have defaults except folder, which is necessary.\n",
    "\"\"\"\n",
    "\n",
    "folder = os.path.abspath(\n",
    "    r\"S:\\ASAP_Imaging_Data\\Jonathan\\Sycamore\\20250305_DVP_Pilot2_v1\\data\\Slide4_Scan1\"\n",
    ")  # example file, replace as you wish. Always input as the absolute path of a raw string\n",
    "\n",
    "RASP.analyse_images(folder, protein_string=\"C0\", cell_string=\"C1\", focus_images=\"C1\", thres=0.05, large_thres=250.0, cell_analysis=True, folder_recursive=True)"
   ]
  },
  {
   "cell_type": "code",
   "execution_count": null,
   "id": "bced1df9-f656-4144-807b-acc44c1aefdf",
   "metadata": {},
   "outputs": [],
   "source": [
    "\"\"\" the command below will run the analyse_images analysis:\n",
    "\n",
    "            folder (string): Folder containing images\n",
    "            imtype (string): Type of images being analysed. Default '.tif'\n",
    "            thres (float): fraction of bright pixels accepted. Default 0.05.\n",
    "            large_thres (float): large object intensity threshold. Default 100.\n",
    "            gisgma (float): gaussian blurring parameter. Default 1.4.\n",
    "            rwave (float): Ricker wavelent sigma. Default 2.\n",
    "            protein_string (np.1darray): strings for protein-stained data. Default C1.\n",
    "            cell_string (np.1darray): strings for cell-containing data. Default C0.\n",
    "            if_filter (boolean): Filter images for focus. Default True.\n",
    "            im_start (integer): Images to start from. Default 0.\n",
    "            cell_analysis (boolean): Parameter where script also analyses cell\n",
    "                images. Default True.\n",
    "            one_savefile (boolean): Parameter that, if true, doesn't save a file. Default True.\n",
    "                per image but amalgamates them into one file. Default True.\n",
    "            disp (boolean): If true, prints when analysed an image stack. Default True.\n",
    "            analyse_clr (boolean): If true, calculates the clr. If not, just coincidence. Default True.\n",
    "            folder_recursion (boolean): If true, recursively finds folders and analyses each separately.\n",
    "            error_reduction (boolean): If true, reduces error on the oligomer image using Huang's code\n",
    "            \n",
    "All have defaults except folder, which is necessary.\n",
    "\"\"\"\n",
    "\n",
    "folder = os.path.abspath(\n",
    "    r\"S:\\ASAP_Imaging_Data\\Jonathan\\Sycamore\\20250319_DVP_Pilot2_v2\"\n",
    ")  # example file, replace as you wish. Always input as the absolute path of a raw string\n",
    "negative_control_folder = 'negative_control'\n",
    "nc_folder = os.path.join(folder, negative_control_folder)\n",
    "RASP.calibrate_radiality(folder=nc_folder, protein_string='C0')\n",
    "RASP.analyse_images(os.path.join(folder, 'data'), protein_string=\"C0\", cell_string=\"C1\", focus_images=\"C1\", thres=0.05, large_thres=250.0, cell_analysis=True, folder_recursive=True)"
   ]
  },
  {
   "cell_type": "code",
   "execution_count": null,
   "id": "21ba4980-4d23-418f-af19-4ea0f5c7caa6",
   "metadata": {},
   "outputs": [],
   "source": []
  }
 ],
 "metadata": {
  "kernelspec": {
   "display_name": "Python 3 (ipykernel)",
   "language": "python",
   "name": "python3"
  },
  "language_info": {
   "codemirror_mode": {
    "name": "ipython",
    "version": 3
   },
   "file_extension": ".py",
   "mimetype": "text/x-python",
   "name": "python",
   "nbconvert_exporter": "python",
   "pygments_lexer": "ipython3",
   "version": "3.12.7"
  }
 },
 "nbformat": 4,
 "nbformat_minor": 5
}
