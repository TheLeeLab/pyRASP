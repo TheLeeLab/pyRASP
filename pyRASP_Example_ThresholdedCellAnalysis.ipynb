{
 "cells": [
  {
   "cell_type": "code",
   "execution_count": 1,
   "id": "639d889a-964f-48c6-96be-f3070b50a506",
   "metadata": {},
   "outputs": [],
   "source": [
    "import os\n",
    "from src import RASPRoutines\n",
    "\n",
    "RASP = RASPRoutines.RASP_Routines()"
   ]
  },
  {
   "cell_type": "code",
   "execution_count": 20,
   "id": "a9fd11b1",
   "metadata": {},
   "outputs": [
    {
     "name": "stdout",
     "output_type": "stream",
     "text": [
      "Computing colocalisation     File 81/81    Time elapsed: 45.965 s\r"
     ]
    }
   ],
   "source": [
    "\"\"\" the command below will re-run colocalisation analysis on alraedy analsed data\n",
    "\n",
    "analysis_file: an analysis file .csv\n",
    "\n",
    "threshold: a photon threshold\n",
    "\n",
    "protein_string: a string for images with protein in\n",
    "\n",
    "lo_string (str): string of large object to analyse\n",
    "\n",
    "coloc_type (boolean): if 1 (default), for cells. if 0, for large protein objects\n",
    "\n",
    "calc_clr: a boolean that gives a yes/no for clr analysis\n",
    "\"\"\"\n",
    "\n",
    "analysis_file = os.path.abspath(\n",
    "    r\"example_spot_analysis_isoform.csv\"\n",
    ")  # example file, replace as you wish. Always input as the absolute path of a raw string\n",
    "threshold = 0.0\n",
    "protein_string = \"C1\"\n",
    "lo_string = \"C2\"\n",
    "\n",
    "lo_analysis, spot_analysis_AT, spot_analysis_UT = RASP.colocalise_with_threshold(\n",
    "    analysis_file,\n",
    "    threshold,\n",
    "    protein_string=protein_string,\n",
    "    lo_string=lo_string,\n",
    "    coloc_type=0,\n",
    "    calc_clr=False,\n",
    ")"
   ]
  }
 ],
 "metadata": {
  "kernelspec": {
   "display_name": "Python 3 (ipykernel)",
   "language": "python",
   "name": "python3"
  },
  "language_info": {
   "codemirror_mode": {
    "name": "ipython",
    "version": 3
   },
   "file_extension": ".py",
   "mimetype": "text/x-python",
   "name": "python",
   "nbconvert_exporter": "python",
   "pygments_lexer": "ipython3",
   "version": "3.10.12"
  }
 },
 "nbformat": 4,
 "nbformat_minor": 5
}
