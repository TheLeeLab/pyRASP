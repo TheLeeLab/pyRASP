{
 "cells": [
  {
   "cell_type": "code",
   "execution_count": null,
   "id": "639d889a-964f-48c6-96be-f3070b50a506",
   "metadata": {},
   "outputs": [],
   "source": [
    "import os\n",
    "from src import RASPRoutines\n",
    "\n",
    "RASP = RASPRoutines.RASP_Routines()"
   ]
  },
  {
   "cell_type": "code",
   "execution_count": null,
   "id": "1d80c6b7",
   "metadata": {
    "scrolled": true
   },
   "outputs": [],
   "source": [
    "\"\"\"the code below calibrates the area threshold and saves that result in the default parameters folder. \n",
    "Parameter meanings are: \n",
    "\n",
    "area_folder: folder containing images to analyse\n",
    "imtype: string at end of image filenames\n",
    "gsigma: gaussian blur sigma for spot analysis\n",
    "rwave: ricker wavelet sigma\n",
    "large_thres (float). Threshold for large objects, set arbitrarily high here.\n",
    "\n",
    ".\"\"\"\n",
    "\n",
    "area_folder = os.path.abspath(r\"area_threshold\")  # Always input as a raw string\n",
    "RASP.calibrate_area(\n",
    "    area_folder, imtype=\".tif\", gsigma=1.4, rwave=2.0, large_thres=10000.0\n",
    ")"
   ]
  },
  {
   "cell_type": "code",
   "execution_count": null,
   "id": "0fb78b7c-d106-4898-bf62-2458ba46ca21",
   "metadata": {},
   "outputs": [],
   "source": []
  }
 ],
 "metadata": {
  "kernelspec": {
   "display_name": "Python 3 (ipykernel)",
   "language": "python",
   "name": "python3"
  },
  "language_info": {
   "codemirror_mode": {
    "name": "ipython",
    "version": 3
   },
   "file_extension": ".py",
   "mimetype": "text/x-python",
   "name": "python",
   "nbconvert_exporter": "python",
   "pygments_lexer": "ipython3",
   "version": "3.10.12"
  }
 },
 "nbformat": 4,
 "nbformat_minor": 5
}
