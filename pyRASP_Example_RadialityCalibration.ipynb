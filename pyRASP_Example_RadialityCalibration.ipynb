{
 "cells": [
  {
   "cell_type": "code",
   "execution_count": null,
   "id": "639d889a-964f-48c6-96be-f3070b50a506",
   "metadata": {},
   "outputs": [],
   "source": [
    "import os\n",
    "from src import RASPRoutines\n",
    "RASP = RASPRoutines.RASP_Routines()"
   ]
  },
  {
   "cell_type": "code",
   "execution_count": null,
   "id": "769240ef-8442-4a45-8efe-eb8e4fae4613",
   "metadata": {},
   "outputs": [],
   "source": [
    "'''the code below calibrates the radiality thresholds and saves that result in the default parameters folder. \n",
    "\n",
    "Each of the parameters \n",
    "(all of which, apart from \"radiality_folder\", have defaults---so if you're fine with the defaults you can just run it as\n",
    "\"RASP.analyse_images(radiality_folder)\") have meanings as detailed:\n",
    "\n",
    "imtype: a string that tells the script what to expect at the end of a file, usually .tiff or .tif\n",
    "\n",
    "gsigma: gaussian blur sigma for spot analysis\n",
    "\n",
    "rwave: ricker wavelet sigma\n",
    "\n",
    "accepted_ratio (float). Percentage accepted of false positives\n",
    "\n",
    "'''\n",
    "\n",
    "radiality_folder = os.path.abspath(r'negative_control') # example folder, replace as you wish. Always input as the absolute path of a raw string\n",
    "RASP.calibrate_radiality(radiality_folder, imtype='.tif', gsigma=1.4, rwave=2., accepted_ratio=1)"
   ]
  }
 ],
 "metadata": {
  "kernelspec": {
   "display_name": "Python 3 (ipykernel)",
   "language": "python",
   "name": "python3"
  },
  "language_info": {
   "codemirror_mode": {
    "name": "ipython",
    "version": 3
   },
   "file_extension": ".py",
   "mimetype": "text/x-python",
   "name": "python",
   "nbconvert_exporter": "python",
   "pygments_lexer": "ipython3",
   "version": "3.10.12"
  }
 },
 "nbformat": 4,
 "nbformat_minor": 5
}
