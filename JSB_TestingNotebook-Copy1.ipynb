{
 "cells": [
  {
   "cell_type": "code",
   "execution_count": 1,
   "id": "cc18c59f-eecd-4d0b-a648-7c6c3190769f",
   "metadata": {},
   "outputs": [],
   "source": [
    "import os\n",
    "from src import RASPRoutines\n",
    "RASP = RASPRoutines.RASP_Routines()\n",
    "from src import AnalysisFunctions\n",
    "A_F = AnalysisFunctions.Analysis_Functions()\n",
    "from src import IOFunctions\n",
    "IO = IOFunctions.IO_Functions()\n",
    "from src import PlottingFunctions\n",
    "plots = PlottingFunctions.Plotter()\n",
    "import numpy as np\n",
    "import matplotlib.pyplot as plt"
   ]
  },
  {
   "cell_type": "code",
   "execution_count": 2,
   "id": "e172e9f5-3f5a-4760-9e3b-2c8dc46ce9e6",
   "metadata": {},
   "outputs": [],
   "source": [
    "analysis_file = '/home/jbeckwith/Documents/Dropbox (Cambridge University)/Chemistry/Lee/Code/Python/pyRASP/example_images_analysis/spot_analysis.csv'"
   ]
  },
  {
   "cell_type": "code",
   "execution_count": 3,
   "id": "7c207562-4076-4542-a76e-e9d4fb6c51fe",
   "metadata": {},
   "outputs": [],
   "source": [
    "threshold = 4000\n",
    "protein_string='C0'\n",
    "cell_string='C1'"
   ]
  },
  {
   "cell_type": "code",
   "execution_count": 5,
   "id": "a69f50b0-8652-4837-bbcd-3e396b1c2392",
   "metadata": {},
   "outputs": [
    {
     "name": "stderr",
     "output_type": "stream",
     "text": [
      "/home/jbeckwith/.virtualenvs/pyRASP/lib/python3.10/site-packages/numpy/core/numeric.py:407: RuntimeWarning: invalid value encountered in cast\n",
      "  multiarray.copyto(res, fill_value, casting='unsafe')\n"
     ]
    },
    {
     "name": "stdout",
     "output_type": "stream",
     "text": [
      "5988\n",
      "499\n",
      "6288\n",
      "524\n",
      "6300\n",
      "525\n",
      "544\n",
      "544\n",
      "631\n",
      "631\n",
      "586\n",
      "586\n",
      "591\n",
      "591\n",
      "680\n",
      "680\n",
      "658\n",
      "658\n",
      "7632\n",
      "636\n",
      "7908\n",
      "659\n",
      "8844\n",
      "737\n",
      "8580\n",
      "715\n",
      "7860\n",
      "655\n"
     ]
    },
    {
     "ename": "ValueError",
     "evalue": "Length of values (63090) does not match length of index (8640)",
     "output_type": "error",
     "traceback": [
      "\u001b[0;31m---------------------------------------------------------------------------\u001b[0m",
      "\u001b[0;31mValueError\u001b[0m                                Traceback (most recent call last)",
      "Cell \u001b[0;32mIn[5], line 1\u001b[0m\n\u001b[0;32m----> 1\u001b[0m \u001b[43mRASP\u001b[49m\u001b[38;5;241;43m.\u001b[39;49m\u001b[43mcolocalise_with_threshold\u001b[49m\u001b[43m(\u001b[49m\u001b[43manalysis_file\u001b[49m\u001b[43m,\u001b[49m\u001b[43m \u001b[49m\u001b[43mthreshold\u001b[49m\u001b[43m,\u001b[49m\u001b[43m \u001b[49m\u001b[43mcell_string\u001b[49m\u001b[43m,\u001b[49m\u001b[43m \u001b[49m\u001b[43mprotein_string\u001b[49m\u001b[43m,\u001b[49m\u001b[43m \u001b[49m\u001b[43mcalc_clr\u001b[49m\u001b[38;5;241;43m=\u001b[39;49m\u001b[38;5;28;43;01mTrue\u001b[39;49;00m\u001b[43m)\u001b[49m\n",
      "File \u001b[0;32m~/Documents/Cambridge University Dropbox/Joseph Beckwith/Chemistry/Lee/Code/Python/pyRASP/src/RASPRoutines.py:962\u001b[0m, in \u001b[0;36mRASP_Routines.colocalise_with_threshold\u001b[0;34m(self, analysis_file, threshold, cell_string, protein_string, imtype, blur_degree, calc_clr)\u001b[0m\n\u001b[1;32m    959\u001b[0m     \u001b[38;5;28;01melse\u001b[39;00m:\n\u001b[1;32m    960\u001b[0m         rc \u001b[38;5;241m=\u001b[39m np\u001b[38;5;241m.\u001b[39mhstack([rc, raw_colocalisation])\n\u001b[0;32m--> 962\u001b[0m \u001b[43mimage_file\u001b[49m\u001b[43m[\u001b[49m\u001b[38;5;124;43m\"\u001b[39;49m\u001b[38;5;124;43mincell\u001b[39;49m\u001b[38;5;124;43m\"\u001b[39;49m\u001b[43m]\u001b[49m \u001b[38;5;241m=\u001b[39m rc \u001b[38;5;241m*\u001b[39m \u001b[38;5;241m1\u001b[39m\n\u001b[1;32m    963\u001b[0m \u001b[38;5;28;01mif\u001b[39;00m i \u001b[38;5;241m==\u001b[39m \u001b[38;5;241m0\u001b[39m:\n\u001b[1;32m    964\u001b[0m     cell_analysis \u001b[38;5;241m=\u001b[39m temp_pd\n",
      "File \u001b[0;32m~/.virtualenvs/pyRASP/lib/python3.10/site-packages/pandas/core/frame.py:4299\u001b[0m, in \u001b[0;36mDataFrame.__setitem__\u001b[0;34m(self, key, value)\u001b[0m\n\u001b[1;32m   4296\u001b[0m     \u001b[38;5;28mself\u001b[39m\u001b[38;5;241m.\u001b[39m_setitem_array([key], value)\n\u001b[1;32m   4297\u001b[0m \u001b[38;5;28;01melse\u001b[39;00m:\n\u001b[1;32m   4298\u001b[0m     \u001b[38;5;66;03m# set column\u001b[39;00m\n\u001b[0;32m-> 4299\u001b[0m     \u001b[38;5;28;43mself\u001b[39;49m\u001b[38;5;241;43m.\u001b[39;49m\u001b[43m_set_item\u001b[49m\u001b[43m(\u001b[49m\u001b[43mkey\u001b[49m\u001b[43m,\u001b[49m\u001b[43m \u001b[49m\u001b[43mvalue\u001b[49m\u001b[43m)\u001b[49m\n",
      "File \u001b[0;32m~/.virtualenvs/pyRASP/lib/python3.10/site-packages/pandas/core/frame.py:4512\u001b[0m, in \u001b[0;36mDataFrame._set_item\u001b[0;34m(self, key, value)\u001b[0m\n\u001b[1;32m   4502\u001b[0m \u001b[38;5;28;01mdef\u001b[39;00m \u001b[38;5;21m_set_item\u001b[39m(\u001b[38;5;28mself\u001b[39m, key, value) \u001b[38;5;241m-\u001b[39m\u001b[38;5;241m>\u001b[39m \u001b[38;5;28;01mNone\u001b[39;00m:\n\u001b[1;32m   4503\u001b[0m \u001b[38;5;250m    \u001b[39m\u001b[38;5;124;03m\"\"\"\u001b[39;00m\n\u001b[1;32m   4504\u001b[0m \u001b[38;5;124;03m    Add series to DataFrame in specified column.\u001b[39;00m\n\u001b[1;32m   4505\u001b[0m \n\u001b[0;32m   (...)\u001b[0m\n\u001b[1;32m   4510\u001b[0m \u001b[38;5;124;03m    ensure homogeneity.\u001b[39;00m\n\u001b[1;32m   4511\u001b[0m \u001b[38;5;124;03m    \"\"\"\u001b[39;00m\n\u001b[0;32m-> 4512\u001b[0m     value, refs \u001b[38;5;241m=\u001b[39m \u001b[38;5;28;43mself\u001b[39;49m\u001b[38;5;241;43m.\u001b[39;49m\u001b[43m_sanitize_column\u001b[49m\u001b[43m(\u001b[49m\u001b[43mvalue\u001b[49m\u001b[43m)\u001b[49m\n\u001b[1;32m   4514\u001b[0m     \u001b[38;5;28;01mif\u001b[39;00m (\n\u001b[1;32m   4515\u001b[0m         key \u001b[38;5;129;01min\u001b[39;00m \u001b[38;5;28mself\u001b[39m\u001b[38;5;241m.\u001b[39mcolumns\n\u001b[1;32m   4516\u001b[0m         \u001b[38;5;129;01mand\u001b[39;00m value\u001b[38;5;241m.\u001b[39mndim \u001b[38;5;241m==\u001b[39m \u001b[38;5;241m1\u001b[39m\n\u001b[1;32m   4517\u001b[0m         \u001b[38;5;129;01mand\u001b[39;00m \u001b[38;5;129;01mnot\u001b[39;00m \u001b[38;5;28misinstance\u001b[39m(value\u001b[38;5;241m.\u001b[39mdtype, ExtensionDtype)\n\u001b[1;32m   4518\u001b[0m     ):\n\u001b[1;32m   4519\u001b[0m         \u001b[38;5;66;03m# broadcast across multiple columns if necessary\u001b[39;00m\n\u001b[1;32m   4520\u001b[0m         \u001b[38;5;28;01mif\u001b[39;00m \u001b[38;5;129;01mnot\u001b[39;00m \u001b[38;5;28mself\u001b[39m\u001b[38;5;241m.\u001b[39mcolumns\u001b[38;5;241m.\u001b[39mis_unique \u001b[38;5;129;01mor\u001b[39;00m \u001b[38;5;28misinstance\u001b[39m(\u001b[38;5;28mself\u001b[39m\u001b[38;5;241m.\u001b[39mcolumns, MultiIndex):\n",
      "File \u001b[0;32m~/.virtualenvs/pyRASP/lib/python3.10/site-packages/pandas/core/frame.py:5253\u001b[0m, in \u001b[0;36mDataFrame._sanitize_column\u001b[0;34m(self, value)\u001b[0m\n\u001b[1;32m   5250\u001b[0m     \u001b[38;5;28;01mreturn\u001b[39;00m _reindex_for_setitem(value, \u001b[38;5;28mself\u001b[39m\u001b[38;5;241m.\u001b[39mindex)\n\u001b[1;32m   5252\u001b[0m \u001b[38;5;28;01mif\u001b[39;00m is_list_like(value):\n\u001b[0;32m-> 5253\u001b[0m     \u001b[43mcom\u001b[49m\u001b[38;5;241;43m.\u001b[39;49m\u001b[43mrequire_length_match\u001b[49m\u001b[43m(\u001b[49m\u001b[43mvalue\u001b[49m\u001b[43m,\u001b[49m\u001b[43m \u001b[49m\u001b[38;5;28;43mself\u001b[39;49m\u001b[38;5;241;43m.\u001b[39;49m\u001b[43mindex\u001b[49m\u001b[43m)\u001b[49m\n\u001b[1;32m   5254\u001b[0m arr \u001b[38;5;241m=\u001b[39m sanitize_array(value, \u001b[38;5;28mself\u001b[39m\u001b[38;5;241m.\u001b[39mindex, copy\u001b[38;5;241m=\u001b[39m\u001b[38;5;28;01mTrue\u001b[39;00m, allow_2d\u001b[38;5;241m=\u001b[39m\u001b[38;5;28;01mTrue\u001b[39;00m)\n\u001b[1;32m   5255\u001b[0m \u001b[38;5;28;01mif\u001b[39;00m (\n\u001b[1;32m   5256\u001b[0m     \u001b[38;5;28misinstance\u001b[39m(value, Index)\n\u001b[1;32m   5257\u001b[0m     \u001b[38;5;129;01mand\u001b[39;00m value\u001b[38;5;241m.\u001b[39mdtype \u001b[38;5;241m==\u001b[39m \u001b[38;5;124m\"\u001b[39m\u001b[38;5;124mobject\u001b[39m\u001b[38;5;124m\"\u001b[39m\n\u001b[0;32m   (...)\u001b[0m\n\u001b[1;32m   5260\u001b[0m     \u001b[38;5;66;03m# TODO: Remove kludge in sanitize_array for string mode when enforcing\u001b[39;00m\n\u001b[1;32m   5261\u001b[0m     \u001b[38;5;66;03m# this deprecation\u001b[39;00m\n",
      "File \u001b[0;32m~/.virtualenvs/pyRASP/lib/python3.10/site-packages/pandas/core/common.py:573\u001b[0m, in \u001b[0;36mrequire_length_match\u001b[0;34m(data, index)\u001b[0m\n\u001b[1;32m    569\u001b[0m \u001b[38;5;250m\u001b[39m\u001b[38;5;124;03m\"\"\"\u001b[39;00m\n\u001b[1;32m    570\u001b[0m \u001b[38;5;124;03mCheck the length of data matches the length of the index.\u001b[39;00m\n\u001b[1;32m    571\u001b[0m \u001b[38;5;124;03m\"\"\"\u001b[39;00m\n\u001b[1;32m    572\u001b[0m \u001b[38;5;28;01mif\u001b[39;00m \u001b[38;5;28mlen\u001b[39m(data) \u001b[38;5;241m!=\u001b[39m \u001b[38;5;28mlen\u001b[39m(index):\n\u001b[0;32m--> 573\u001b[0m     \u001b[38;5;28;01mraise\u001b[39;00m \u001b[38;5;167;01mValueError\u001b[39;00m(\n\u001b[1;32m    574\u001b[0m         \u001b[38;5;124m\"\u001b[39m\u001b[38;5;124mLength of values \u001b[39m\u001b[38;5;124m\"\u001b[39m\n\u001b[1;32m    575\u001b[0m         \u001b[38;5;124mf\u001b[39m\u001b[38;5;124m\"\u001b[39m\u001b[38;5;124m(\u001b[39m\u001b[38;5;132;01m{\u001b[39;00m\u001b[38;5;28mlen\u001b[39m(data)\u001b[38;5;132;01m}\u001b[39;00m\u001b[38;5;124m) \u001b[39m\u001b[38;5;124m\"\u001b[39m\n\u001b[1;32m    576\u001b[0m         \u001b[38;5;124m\"\u001b[39m\u001b[38;5;124mdoes not match length of index \u001b[39m\u001b[38;5;124m\"\u001b[39m\n\u001b[1;32m    577\u001b[0m         \u001b[38;5;124mf\u001b[39m\u001b[38;5;124m\"\u001b[39m\u001b[38;5;124m(\u001b[39m\u001b[38;5;132;01m{\u001b[39;00m\u001b[38;5;28mlen\u001b[39m(index)\u001b[38;5;132;01m}\u001b[39;00m\u001b[38;5;124m)\u001b[39m\u001b[38;5;124m\"\u001b[39m\n\u001b[1;32m    578\u001b[0m     )\n",
      "\u001b[0;31mValueError\u001b[0m: Length of values (63090) does not match length of index (8640)"
     ]
    }
   ],
   "source": [
    "RASP.colocalise_with_threshold(analysis_file, threshold, cell_string, protein_string, calc_clr=True)"
   ]
  },
  {
   "cell_type": "code",
   "execution_count": null,
   "id": "ac8b4153-9cc6-4c5d-be91-3863808c5c42",
   "metadata": {},
   "outputs": [],
   "source": []
  },
  {
   "cell_type": "code",
   "execution_count": null,
   "id": "bc8ef6ef-2a20-46ae-b8ff-98a3610aaa94",
   "metadata": {},
   "outputs": [],
   "source": []
  },
  {
   "cell_type": "code",
   "execution_count": null,
   "id": "e44f94b1-2169-48da-b086-05b714a18c3c",
   "metadata": {},
   "outputs": [],
   "source": [
    "folder = r'/home/jbeckwith/Documents/Dropbox (Cambridge University)/Chemistry/Lee/Code/Python/pyRASP/negative_control'\n",
    "files_list = os.listdir(folder)\n",
    "imtype=\".tif\"; gsigma=1.4; rwave=2.0; accepted_ratio=1\n",
    "\n",
    "files = np.sort([e for e in files_list if imtype in e])\n",
    "k1, k2 = A_F.create_kernel(gsigma, rwave)  # create image processing kernels\n",
    "rdl = [np.inf, 0.0, 0.0]\n",
    "thres = 0.05\n",
    "r1_neg_forplot = {}  # generate dictionaries for plotting\n",
    "r2_neg_forplot = {}\n",
    "intensity_forplot = {}\n"
   ]
  },
  {
   "cell_type": "code",
   "execution_count": null,
   "id": "3dfad9c4-aba5-4017-a96c-667cf9e394a5",
   "metadata": {},
   "outputs": [],
   "source": [
    "        for i in np.arange(len(files)):\n",
    "            file_path = os.path.join(folder, files[i])\n",
    "            image = IO.read_tiff_tophotons(file_path)\n",
    "            if len(image.shape) < 3:\n",
    "                dl_mask, centroids, radiality, large_mask = A_F.compute_image_props(\n",
    "                    image,\n",
    "                    k1,\n",
    "                    k2,\n",
    "                    thres,\n",
    "                    10000.0,\n",
    "                    RASP.areathres,\n",
    "                    rdl,\n",
    "                    RASP.d,\n",
    "                    calib=True,\n",
    "                )\n",
    "                \n",
    "                r1_neg_forplot[i] = radiality[:, 0]\n",
    "                r2_neg_forplot[i] = radiality[:, 1]\n",
    "                estimated_intensity, estimated_background, estimated_background_perpixel = (\n",
    "                    A_F.estimate_intensity(image, np.asarray(centroids, dtype=int))\n",
    "                            )\n",
    "                intensity_forplot[i] = estimated_intensity\n",
    "            else:\n",
    "                z_planes = RASP.get_infocus_planes(image, k1)\n",
    "                z_planes = np.arange(z_planes[0], z_planes[-1])\n",
    "                if len(z_planes) != 0:  # if there are images we want to analyse\n",
    "                    dl_mask, centroids, radiality, large_mask = A_F.compute_image_props(\n",
    "                        image,\n",
    "                        k1,\n",
    "                        k2,\n",
    "                        thres,\n",
    "                        10000.0,\n",
    "                        RASP.areathres,\n",
    "                        rdl,\n",
    "                        RASP.d,\n",
    "                        z_planes=z_planes,\n",
    "                        calib=True,\n",
    "                    )\n",
    "                    for z in enumerate(z_planes):\n",
    "                        r1_neg_forplot[i, z[0]] = radiality[z[1]][:, 0]\n",
    "                        r2_neg_forplot[i, z[0]] = radiality[z[1]][:, 1]\n",
    "                        estimated_intensity, estimated_background, estimated_background_perpixel = (\n",
    "                        A_F.estimate_intensity(image[:, :, z[1]], np.asarray(centroids[z[1]], dtype=int))\n",
    "                            )\n",
    "                        intensity_forplot[i, z[0]] = estimated_intensity\n",
    "\n"
   ]
  },
  {
   "cell_type": "code",
   "execution_count": null,
   "id": "d9c7d534-9d21-4623-a9cd-a70b99aa5ac2",
   "metadata": {},
   "outputs": [],
   "source": [
    "keys = list(intensity_forplot.keys())\n",
    "for i, key in enumerate(keys):\n",
    "    todel = np.isnan(intensity_forplot[key])\n",
    "    intensity_forplot[key] = intensity_forplot[key][~todel]\n",
    "    r1_neg_forplot[key] = r1_neg_forplot[key][~todel]\n",
    "    r2_neg_forplot[key] = r2_neg_forplot[key][~todel]\n"
   ]
  },
  {
   "cell_type": "code",
   "execution_count": null,
   "id": "79dda0b3-bd62-40b8-943a-60677ad23738",
   "metadata": {},
   "outputs": [],
   "source": []
  },
  {
   "cell_type": "code",
   "execution_count": null,
   "id": "53c39e46-3138-4e17-b822-6850446056c3",
   "metadata": {},
   "outputs": [],
   "source": [
    "for i, key in enumerate(keys):\n",
    "    if i == 0:\n",
    "        intensity = np.array(intensity_forplot[key])\n",
    "        r1_neg = np.array(r1_neg_forplot[key])\n",
    "        r2_neg = np.array(r2_neg_forplot[key])\n",
    "    else:\n",
    "        intensity = np.hstack([intensity, np.array(intensity_forplot[key])])\n",
    "        r1_neg = np.hstack([r1_neg, np.array(r1_neg_forplot[key])])\n",
    "        r2_neg = np.hstack([r2_neg, np.array(r2_neg_forplot[key])])"
   ]
  },
  {
   "cell_type": "code",
   "execution_count": null,
   "id": "ce0b925f-8fe0-4b9c-bafa-f9dc5537134d",
   "metadata": {},
   "outputs": [],
   "source": [
    "fig = plt.figure()\n",
    "ax = fig.add_subplot(projection='3d')\n",
    "\n",
    "ax.scatter(intensity, r1_neg, r2_neg, alpha=0.5)\n",
    "\n",
    "\n",
    "ax.set_xlabel('intensity (photons)')\n",
    "ax.set_ylabel('Flatness')\n",
    "ax.set_zlabel('Integrated Gradient')\n",
    "\n",
    "plt.tight_layout()\n",
    "plt.savefig('Testing_intensity.svg', format='svg')\n",
    "plt.show()"
   ]
  },
  {
   "cell_type": "code",
   "execution_count": null,
   "id": "5b4cad68-c900-48bb-bdd3-f7d7634eacda",
   "metadata": {},
   "outputs": [],
   "source": [
    "fig, axs = plt.subplots(nrows=2, ncols=2, figsize=(8,8))\n",
    "\n",
    "axs[0,1].hist2d(intensity, r1_neg, bins=(50,50))\n",
    "axs[0, 1].set_title('intensity vs flatness')\n",
    "axs[1,0].hist2d(intensity, r2_neg, bins=(50,50))\n",
    "axs[1, 0].set_title('intensity vs integrated gradient')\n",
    "axs[0,0].hist2d(r1_neg, r2_neg, bins=(50,50))\n",
    "axs[0, 0].set_title('flatness vs integrated gradient')\n",
    "axs[1,1].hist2d(intensity, intensity, bins=(50,50))\n",
    "axs[1, 1].set_title('intensity vs intensity')\n",
    "\n",
    "plt.savefig('Testing_intensity.svg', format='svg')\n",
    "\n",
    "plt.show()"
   ]
  },
  {
   "cell_type": "code",
   "execution_count": null,
   "id": "e4d35b05-e90f-4665-b4c6-79751fbe6eaf",
   "metadata": {},
   "outputs": [],
   "source": []
  }
 ],
 "metadata": {
  "kernelspec": {
   "display_name": "Python 3 (ipykernel)",
   "language": "python",
   "name": "python3"
  },
  "language_info": {
   "codemirror_mode": {
    "name": "ipython",
    "version": 3
   },
   "file_extension": ".py",
   "mimetype": "text/x-python",
   "name": "python",
   "nbconvert_exporter": "python",
   "pygments_lexer": "ipython3",
   "version": "3.10.12"
  }
 },
 "nbformat": 4,
 "nbformat_minor": 5
}
