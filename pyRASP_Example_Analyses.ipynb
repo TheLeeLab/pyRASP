{
 "cells": [
  {
   "cell_type": "code",
   "execution_count": null,
   "id": "639d889a-964f-48c6-96be-f3070b50a506",
   "metadata": {},
   "outputs": [],
   "source": [
    "from src import AnalysisFunctions\n",
    "from src import IOFunctions\n",
    "from src import RASPRoutines\n",
    "import matplotlib.pyplot as plt\n",
    "import skimage as ski\n",
    "import os\n",
    "import fnmatch\n",
    "import numpy as np\n",
    "\n",
    "A_F = AnalysisFunctions.Analysis_Functions()\n",
    "IO = IOFunctions.IO_Functions()\n",
    "RASP = RASPRoutines.RASP_Routines()"
   ]
  },
  {
   "cell_type": "code",
   "execution_count": null,
   "id": "da84007f",
   "metadata": {},
   "outputs": [],
   "source": [
    "folder = 'path_with_images_in_it' # example folder, replace as you wish"
   ]
  },
  {
   "cell_type": "code",
   "execution_count": null,
   "id": "a9fd11b1",
   "metadata": {},
   "outputs": [],
   "source": [
    "''' the command below will run RASP on a folder of images. Each of the parameters \n",
    "(all of which, apart from \"folder\", have defaults---so if you're fine with the defaults you can just run it as\n",
    "\"RASP.analyse_images(folder)\") have meanings as detailed:\n",
    "\n",
    "imtype: a string that tells the script what to expect at the end of a file, usually .tiff or .tif\n",
    "\n",
    "thres: a % threshold for what we expect for spots, usually set at 0.05 for 5%\n",
    "\n",
    "large_thres: intensity threshold for large objects, set here as 450.\n",
    "\n",
    "gsigma: gaussian blur sigma for spot analysis\n",
    "\n",
    "rwave: ricker wavelet sigma\n",
    "\n",
    "if_filter: default is True, this determines if you do filtering for out-of-focus images or not\n",
    "\n",
    "im_start: if anything but 1 the code will ignore this many frames in an image file (useful when have images \n",
    "with multiple channels, for example)\n",
    "\n",
    "one_savefile: if True, this will save all analysis in one file called \"spot_analysis.csv\"\n",
    "\n",
    "'''\n",
    "\n",
    "\n",
    "RASP.analyse_images(folder, imtype='.tif', thres=0.05, \n",
    "                       large_thres=450., gsigma=1.4, rwave=2.,\n",
    "                       if_filter=True, im_start=1, one_savefile=False)"
   ]
  },
  {
   "cell_type": "code",
   "execution_count": null,
   "id": "8a9dda1a",
   "metadata": {},
   "outputs": [],
   "source": [
    "round_folder = 'path_with_RoundN/SN type format' # replace with folder as you wish"
   ]
  },
  {
   "cell_type": "code",
   "execution_count": null,
   "id": "c9e7778e",
   "metadata": {},
   "outputs": [],
   "source": [
    "''' the command below will run RASP on a folder of round/sample type images. Each of the parameters \n",
    "(all of which, apart from \"round_folder\", have defaults---so if you're fine with the defaults you can \n",
    "just run it as \"RASP.analyse_round_images(round_folder)\") have meanings as detailed:\n",
    "\n",
    "imtype: a string that tells the script what to expect at the end of a file, usually .tiff or .tif\n",
    "\n",
    "thres: a % threshold for what we expect for spots, usually set at 0.05 for 5%\n",
    "\n",
    "large_thres: intensity threshold for large objects, set here as 450.\n",
    "\n",
    "gsigma: gaussian blur sigma for spot analysis\n",
    "\n",
    "rwave: ricker wavelet sigma\n",
    "\n",
    "oligomer_string: default 'C1' for channel we will analyse to see if oligomers are there\n",
    "\n",
    "cell_string: default 'C0' for channel containing cell images\n",
    "\n",
    "if_filter: default is True, this determines if you do filtering for out-of-focus images or not\n",
    "\n",
    "im_start: if anything but 1 the code will ignore this many frames in an image file (useful when have images \n",
    "with multiple channels, for example)\n",
    "\n",
    "one_savefile: if True, this will save all analysis in one file called \"spot_analysis.csv\"\n",
    "\n",
    "'''\n",
    "\n",
    "RASP.analyse_round_images(round_folder, imtype='.tif', thres=0.05, \n",
    "                             large_thres=450., gsigma=1.4, rwave=2., \n",
    "                             oligomer_string='C1', cell_string='C0',\n",
    "                             if_filter=True, im_start=1, one_savefile=True)"
   ]
  },
  {
   "cell_type": "code",
   "execution_count": null,
   "id": "c546c0c8",
   "metadata": {},
   "outputs": [],
   "source": []
  }
 ],
 "metadata": {
  "kernelspec": {
   "display_name": "Python 3 (ipykernel)",
   "language": "python",
   "name": "python3"
  },
  "language_info": {
   "codemirror_mode": {
    "name": "ipython",
    "version": 3
   },
   "file_extension": ".py",
   "mimetype": "text/x-python",
   "name": "python",
   "nbconvert_exporter": "python",
   "pygments_lexer": "ipython3",
   "version": "3.10.12"
  }
 },
 "nbformat": 4,
 "nbformat_minor": 5
}
