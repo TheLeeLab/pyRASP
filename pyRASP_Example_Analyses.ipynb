{
 "cells": [
  {
   "cell_type": "code",
   "execution_count": 1,
   "id": "639d889a-964f-48c6-96be-f3070b50a506",
   "metadata": {},
   "outputs": [],
   "source": [
    "from src import RASPRoutines\n",
    "RASP = RASPRoutines.RASP_Routines()"
   ]
  },
  {
   "cell_type": "code",
   "execution_count": 2,
   "id": "769240ef-8442-4a45-8efe-eb8e4fae4613",
   "metadata": {},
   "outputs": [
    {
     "ename": "ValueError",
     "evalue": "all the input array dimensions except for the concatenation axis must match exactly, but along dimension 1, the array at index 0 has size 12 and the array at index 1 has size 3619",
     "output_type": "error",
     "traceback": [
      "\u001b[0;31m---------------------------------------------------------------------------\u001b[0m",
      "\u001b[0;31mValueError\u001b[0m                                Traceback (most recent call last)",
      "Cell \u001b[0;32mIn[2], line 17\u001b[0m\n\u001b[1;32m      1\u001b[0m \u001b[38;5;124;03m'''the code below calibrates the radiality thresholds and saves that result in the default parameters folder. \u001b[39;00m\n\u001b[1;32m      2\u001b[0m \u001b[38;5;124;03mEach of the parameters \u001b[39;00m\n\u001b[1;32m      3\u001b[0m \u001b[38;5;124;03m(all of which, apart from \"radiality_folder\", have defaults---so if you're fine with the defaults you can just run it as\u001b[39;00m\n\u001b[0;32m   (...)\u001b[0m\n\u001b[1;32m     13\u001b[0m \n\u001b[1;32m     14\u001b[0m \u001b[38;5;124;03m'''\u001b[39;00m\n\u001b[1;32m     16\u001b[0m radiality_folder \u001b[38;5;241m=\u001b[39m \u001b[38;5;124mr\u001b[39m\u001b[38;5;124m'\u001b[39m\u001b[38;5;124mnegative_control\u001b[39m\u001b[38;5;124m'\u001b[39m \u001b[38;5;66;03m# always input a raw string---otherwise Python can get confused\u001b[39;00m\n\u001b[0;32m---> 17\u001b[0m \u001b[43mRASP\u001b[49m\u001b[38;5;241;43m.\u001b[39;49m\u001b[43mcalibrate_radiality\u001b[49m\u001b[43m(\u001b[49m\u001b[43mradiality_folder\u001b[49m\u001b[43m,\u001b[49m\u001b[43m \u001b[49m\u001b[43mimtype\u001b[49m\u001b[38;5;241;43m=\u001b[39;49m\u001b[38;5;124;43m'\u001b[39;49m\u001b[38;5;124;43m.tif\u001b[39;49m\u001b[38;5;124;43m'\u001b[39;49m\u001b[43m,\u001b[49m\u001b[43m \u001b[49m\u001b[43mgsigma\u001b[49m\u001b[38;5;241;43m=\u001b[39;49m\u001b[38;5;241;43m1.4\u001b[39;49m\u001b[43m,\u001b[49m\u001b[43m \u001b[49m\u001b[43mrwave\u001b[49m\u001b[38;5;241;43m=\u001b[39;49m\u001b[38;5;241;43m2.\u001b[39;49m\u001b[43m,\u001b[49m\u001b[43m \u001b[49m\u001b[43maccepted_ratio\u001b[49m\u001b[38;5;241;43m=\u001b[39;49m\u001b[38;5;241;43m1\u001b[39;49m\u001b[43m)\u001b[49m\n",
      "File \u001b[0;32m~/Documents/Dropbox (Cambridge University)/Chemistry/Lee/Code/Python/pyRASP/src/RASPRoutines.py:179\u001b[0m, in \u001b[0;36mRASP_Routines.calibrate_radiality\u001b[0;34m(self, folder, imtype, gsigma, rwave, accepted_ratio)\u001b[0m\n\u001b[1;32m    177\u001b[0m z_planes \u001b[38;5;241m=\u001b[39m \u001b[38;5;28mself\u001b[39m\u001b[38;5;241m.\u001b[39mget_infocus_planes(image, k1)\n\u001b[1;32m    178\u001b[0m z_planes \u001b[38;5;241m=\u001b[39m np\u001b[38;5;241m.\u001b[39marange(z_planes[\u001b[38;5;241m0\u001b[39m], z_planes[\u001b[38;5;241m-\u001b[39m\u001b[38;5;241m1\u001b[39m])\n\u001b[0;32m--> 179\u001b[0m dl_mask, centroids, radiality \u001b[38;5;241m=\u001b[39m \u001b[43mA_F\u001b[49m\u001b[38;5;241;43m.\u001b[39;49m\u001b[43mcompute_image_props\u001b[49m\u001b[43m(\u001b[49m\u001b[43mimage\u001b[49m\u001b[43m,\u001b[49m\u001b[43m \u001b[49m\u001b[43mk1\u001b[49m\u001b[43m,\u001b[49m\u001b[43m \u001b[49m\u001b[43mk2\u001b[49m\u001b[43m,\u001b[49m\u001b[43m \u001b[49m\u001b[43mthres\u001b[49m\u001b[43m,\u001b[49m\u001b[43m \u001b[49m\u001b[38;5;241;43m10000.\u001b[39;49m\u001b[43m,\u001b[49m\u001b[43m \u001b[49m\u001b[38;5;28;43mself\u001b[39;49m\u001b[38;5;241;43m.\u001b[39;49m\u001b[43mareathres\u001b[49m\u001b[43m,\u001b[49m\u001b[43m \u001b[49m\u001b[43mrdl\u001b[49m\u001b[43m,\u001b[49m\u001b[43m \u001b[49m\u001b[38;5;28;43mself\u001b[39;49m\u001b[38;5;241;43m.\u001b[39;49m\u001b[43md\u001b[49m\u001b[43m,\u001b[49m\u001b[43m \u001b[49m\u001b[43mz_planes\u001b[49m\u001b[38;5;241;43m=\u001b[39;49m\u001b[43mz_planes\u001b[49m\u001b[43m,\u001b[49m\u001b[43m \u001b[49m\u001b[43mcalib\u001b[49m\u001b[38;5;241;43m=\u001b[39;49m\u001b[38;5;28;43;01mTrue\u001b[39;49;00m\u001b[43m)\u001b[49m\n\u001b[1;32m    180\u001b[0m \u001b[38;5;28;01mfor\u001b[39;00m z \u001b[38;5;129;01min\u001b[39;00m \u001b[38;5;28menumerate\u001b[39m(z_planes):\n\u001b[1;32m    181\u001b[0m     \u001b[38;5;28;01mif\u001b[39;00m (i \u001b[38;5;241m==\u001b[39m \u001b[38;5;241m0\u001b[39m) \u001b[38;5;129;01mand\u001b[39;00m (z[\u001b[38;5;241m0\u001b[39m] \u001b[38;5;241m==\u001b[39m \u001b[38;5;241m0\u001b[39m):\n",
      "File \u001b[0;32m~/Documents/Dropbox (Cambridge University)/Chemistry/Lee/Code/Python/pyRASP/src/AnalysisFunctions.py:733\u001b[0m, in \u001b[0;36mAnalysis_Functions.compute_image_props\u001b[0;34m(self, image, k1, k2, thres, large_thres, areathres, rdl, d, z_planes, calib)\u001b[0m\n\u001b[1;32m    728\u001b[0m         dl_mask[:,:,z], centroids[z], radiality[z], idxs \u001b[38;5;241m=\u001b[39m \u001b[38;5;28mself\u001b[39m\u001b[38;5;241m.\u001b[39msmall_feature_kernel(image[:,:,z], \n\u001b[1;32m    729\u001b[0m         large_mask, img2, Gx, Gy,\n\u001b[1;32m    730\u001b[0m         k2, thres, areathres, rdl, d)\n\u001b[1;32m    732\u001b[0m     pool \u001b[38;5;241m=\u001b[39m Pool(nodes\u001b[38;5;241m=\u001b[39mcpu_number); pool\u001b[38;5;241m.\u001b[39mrestart()\n\u001b[0;32m--> 733\u001b[0m     \u001b[43mpool\u001b[49m\u001b[38;5;241;43m.\u001b[39;49m\u001b[43mmap\u001b[49m\u001b[43m(\u001b[49m\u001b[43mrun_over_z\u001b[49m\u001b[43m,\u001b[49m\u001b[43m \u001b[49m\u001b[43mz_planes\u001b[49m\u001b[43m)\u001b[49m\n\u001b[1;32m    734\u001b[0m     pool\u001b[38;5;241m.\u001b[39mclose(); pool\u001b[38;5;241m.\u001b[39mterminate()\n\u001b[1;32m    736\u001b[0m \u001b[38;5;28;01melse\u001b[39;00m:\n",
      "File \u001b[0;32m/usr/local/lib/python3.10/dist-packages/pathos/threading.py:144\u001b[0m, in \u001b[0;36mThreadPool.map\u001b[0;34m(self, f, *args, **kwds)\u001b[0m\n\u001b[1;32m    142\u001b[0m AbstractWorkerPool\u001b[38;5;241m.\u001b[39m_AbstractWorkerPool__map(\u001b[38;5;28mself\u001b[39m, f, \u001b[38;5;241m*\u001b[39margs, \u001b[38;5;241m*\u001b[39m\u001b[38;5;241m*\u001b[39mkwds)\n\u001b[1;32m    143\u001b[0m _pool \u001b[38;5;241m=\u001b[39m \u001b[38;5;28mself\u001b[39m\u001b[38;5;241m.\u001b[39m_serve()\n\u001b[0;32m--> 144\u001b[0m \u001b[38;5;28;01mreturn\u001b[39;00m \u001b[43m_pool\u001b[49m\u001b[38;5;241;43m.\u001b[39;49m\u001b[43mmap\u001b[49m\u001b[43m(\u001b[49m\u001b[43mstar\u001b[49m\u001b[43m(\u001b[49m\u001b[43mf\u001b[49m\u001b[43m)\u001b[49m\u001b[43m,\u001b[49m\u001b[43m \u001b[49m\u001b[38;5;28;43mzip\u001b[39;49m\u001b[43m(\u001b[49m\u001b[38;5;241;43m*\u001b[39;49m\u001b[43margs\u001b[49m\u001b[43m)\u001b[49m\u001b[43m,\u001b[49m\u001b[43m \u001b[49m\u001b[38;5;241;43m*\u001b[39;49m\u001b[38;5;241;43m*\u001b[39;49m\u001b[43mkwds\u001b[49m\u001b[43m)\u001b[49m\n",
      "File \u001b[0;32m/usr/local/lib/python3.10/dist-packages/multiprocess/pool.py:367\u001b[0m, in \u001b[0;36mPool.map\u001b[0;34m(self, func, iterable, chunksize)\u001b[0m\n\u001b[1;32m    362\u001b[0m \u001b[38;5;28;01mdef\u001b[39;00m \u001b[38;5;21mmap\u001b[39m(\u001b[38;5;28mself\u001b[39m, func, iterable, chunksize\u001b[38;5;241m=\u001b[39m\u001b[38;5;28;01mNone\u001b[39;00m):\n\u001b[1;32m    363\u001b[0m \u001b[38;5;250m    \u001b[39m\u001b[38;5;124;03m'''\u001b[39;00m\n\u001b[1;32m    364\u001b[0m \u001b[38;5;124;03m    Apply `func` to each element in `iterable`, collecting the results\u001b[39;00m\n\u001b[1;32m    365\u001b[0m \u001b[38;5;124;03m    in a list that is returned.\u001b[39;00m\n\u001b[1;32m    366\u001b[0m \u001b[38;5;124;03m    '''\u001b[39;00m\n\u001b[0;32m--> 367\u001b[0m     \u001b[38;5;28;01mreturn\u001b[39;00m \u001b[38;5;28;43mself\u001b[39;49m\u001b[38;5;241;43m.\u001b[39;49m\u001b[43m_map_async\u001b[49m\u001b[43m(\u001b[49m\u001b[43mfunc\u001b[49m\u001b[43m,\u001b[49m\u001b[43m \u001b[49m\u001b[43miterable\u001b[49m\u001b[43m,\u001b[49m\u001b[43m \u001b[49m\u001b[43mmapstar\u001b[49m\u001b[43m,\u001b[49m\u001b[43m \u001b[49m\u001b[43mchunksize\u001b[49m\u001b[43m)\u001b[49m\u001b[38;5;241;43m.\u001b[39;49m\u001b[43mget\u001b[49m\u001b[43m(\u001b[49m\u001b[43m)\u001b[49m\n",
      "File \u001b[0;32m/usr/local/lib/python3.10/dist-packages/multiprocess/pool.py:774\u001b[0m, in \u001b[0;36mApplyResult.get\u001b[0;34m(self, timeout)\u001b[0m\n\u001b[1;32m    772\u001b[0m     \u001b[38;5;28;01mreturn\u001b[39;00m \u001b[38;5;28mself\u001b[39m\u001b[38;5;241m.\u001b[39m_value\n\u001b[1;32m    773\u001b[0m \u001b[38;5;28;01melse\u001b[39;00m:\n\u001b[0;32m--> 774\u001b[0m     \u001b[38;5;28;01mraise\u001b[39;00m \u001b[38;5;28mself\u001b[39m\u001b[38;5;241m.\u001b[39m_value\n",
      "File \u001b[0;32m/usr/local/lib/python3.10/dist-packages/multiprocess/pool.py:125\u001b[0m, in \u001b[0;36mworker\u001b[0;34m(inqueue, outqueue, initializer, initargs, maxtasks, wrap_exception)\u001b[0m\n\u001b[1;32m    123\u001b[0m job, i, func, args, kwds \u001b[38;5;241m=\u001b[39m task\n\u001b[1;32m    124\u001b[0m \u001b[38;5;28;01mtry\u001b[39;00m:\n\u001b[0;32m--> 125\u001b[0m     result \u001b[38;5;241m=\u001b[39m (\u001b[38;5;28;01mTrue\u001b[39;00m, \u001b[43mfunc\u001b[49m\u001b[43m(\u001b[49m\u001b[38;5;241;43m*\u001b[39;49m\u001b[43margs\u001b[49m\u001b[43m,\u001b[49m\u001b[43m \u001b[49m\u001b[38;5;241;43m*\u001b[39;49m\u001b[38;5;241;43m*\u001b[39;49m\u001b[43mkwds\u001b[49m\u001b[43m)\u001b[49m)\n\u001b[1;32m    126\u001b[0m \u001b[38;5;28;01mexcept\u001b[39;00m \u001b[38;5;167;01mException\u001b[39;00m \u001b[38;5;28;01mas\u001b[39;00m e:\n\u001b[1;32m    127\u001b[0m     \u001b[38;5;28;01mif\u001b[39;00m wrap_exception \u001b[38;5;129;01mand\u001b[39;00m func \u001b[38;5;129;01mis\u001b[39;00m \u001b[38;5;129;01mnot\u001b[39;00m _helper_reraises_exception:\n",
      "File \u001b[0;32m/usr/local/lib/python3.10/dist-packages/multiprocess/pool.py:48\u001b[0m, in \u001b[0;36mmapstar\u001b[0;34m(args)\u001b[0m\n\u001b[1;32m     47\u001b[0m \u001b[38;5;28;01mdef\u001b[39;00m \u001b[38;5;21mmapstar\u001b[39m(args):\n\u001b[0;32m---> 48\u001b[0m     \u001b[38;5;28;01mreturn\u001b[39;00m \u001b[38;5;28;43mlist\u001b[39;49m\u001b[43m(\u001b[49m\u001b[38;5;28;43mmap\u001b[39;49m\u001b[43m(\u001b[49m\u001b[38;5;241;43m*\u001b[39;49m\u001b[43margs\u001b[49m\u001b[43m)\u001b[49m\u001b[43m)\u001b[49m\n",
      "File \u001b[0;32m/usr/local/lib/python3.10/dist-packages/pathos/helpers/mp_helper.py:15\u001b[0m, in \u001b[0;36mstarargs.<locals>.<lambda>\u001b[0;34m(args)\u001b[0m\n\u001b[1;32m     13\u001b[0m \u001b[38;5;28;01mdef\u001b[39;00m \u001b[38;5;21mstarargs\u001b[39m(f):\n\u001b[1;32m     14\u001b[0m \u001b[38;5;250m    \u001b[39m\u001b[38;5;124;03m\"\"\"decorator to convert a many-arg function to a single-arg function\"\"\"\u001b[39;00m\n\u001b[0;32m---> 15\u001b[0m     func \u001b[38;5;241m=\u001b[39m \u001b[38;5;28;01mlambda\u001b[39;00m args: \u001b[43mf\u001b[49m\u001b[43m(\u001b[49m\u001b[38;5;241;43m*\u001b[39;49m\u001b[43margs\u001b[49m\u001b[43m)\u001b[49m\n\u001b[1;32m     16\u001b[0m    \u001b[38;5;66;03m#func.__module__ = f.__module__\u001b[39;00m\n\u001b[1;32m     17\u001b[0m    \u001b[38;5;66;03m#func.__name__ = f.__name__\u001b[39;00m\n\u001b[1;32m     18\u001b[0m     doc \u001b[38;5;241m=\u001b[39m \u001b[38;5;124m\"\u001b[39m\u001b[38;5;130;01m\\n\u001b[39;00m\u001b[38;5;124mNOTE: all inputs have been compressed into a single argument\u001b[39m\u001b[38;5;124m\"\u001b[39m\n",
      "File \u001b[0;32m~/Documents/Dropbox (Cambridge University)/Chemistry/Lee/Code/Python/pyRASP/src/AnalysisFunctions.py:728\u001b[0m, in \u001b[0;36mAnalysis_Functions.compute_image_props.<locals>.run_over_z\u001b[0;34m(z)\u001b[0m\n\u001b[1;32m    726\u001b[0m     large_mask \u001b[38;5;241m=\u001b[39m \u001b[38;5;28mself\u001b[39m\u001b[38;5;241m.\u001b[39mdetect_large_features(image[:,:,z], large_thres)\n\u001b[1;32m    727\u001b[0m img2, Gx, Gy, focusScore, cfactor \u001b[38;5;241m=\u001b[39m \u001b[38;5;28mself\u001b[39m\u001b[38;5;241m.\u001b[39mcalculate_gradient_field(image[:,:,z], k1)\n\u001b[0;32m--> 728\u001b[0m dl_mask[:,:,z], centroids[z], radiality[z], idxs \u001b[38;5;241m=\u001b[39m \u001b[38;5;28;43mself\u001b[39;49m\u001b[38;5;241;43m.\u001b[39;49m\u001b[43msmall_feature_kernel\u001b[49m\u001b[43m(\u001b[49m\u001b[43mimage\u001b[49m\u001b[43m[\u001b[49m\u001b[43m:\u001b[49m\u001b[43m,\u001b[49m\u001b[43m:\u001b[49m\u001b[43m,\u001b[49m\u001b[43mz\u001b[49m\u001b[43m]\u001b[49m\u001b[43m,\u001b[49m\u001b[43m \u001b[49m\n\u001b[1;32m    729\u001b[0m \u001b[43m\u001b[49m\u001b[43mlarge_mask\u001b[49m\u001b[43m,\u001b[49m\u001b[43m \u001b[49m\u001b[43mimg2\u001b[49m\u001b[43m,\u001b[49m\u001b[43m \u001b[49m\u001b[43mGx\u001b[49m\u001b[43m,\u001b[49m\u001b[43m \u001b[49m\u001b[43mGy\u001b[49m\u001b[43m,\u001b[49m\n\u001b[1;32m    730\u001b[0m \u001b[43m\u001b[49m\u001b[43mk2\u001b[49m\u001b[43m,\u001b[49m\u001b[43m \u001b[49m\u001b[43mthres\u001b[49m\u001b[43m,\u001b[49m\u001b[43m \u001b[49m\u001b[43mareathres\u001b[49m\u001b[43m,\u001b[49m\u001b[43m \u001b[49m\u001b[43mrdl\u001b[49m\u001b[43m,\u001b[49m\u001b[43m \u001b[49m\u001b[43md\u001b[49m\u001b[43m)\u001b[49m\n",
      "File \u001b[0;32m~/Documents/Dropbox (Cambridge University)/Chemistry/Lee/Code/Python/pyRASP/src/AnalysisFunctions.py:567\u001b[0m, in \u001b[0;36mAnalysis_Functions.small_feature_kernel\u001b[0;34m(self, img, large_mask, img2, Gx, Gy, k2, thres, area_thres, rdl, d)\u001b[0m\n\u001b[1;32m    565\u001b[0m pil_small \u001b[38;5;241m=\u001b[39m pixel_idx_list[idxs]\n\u001b[1;32m    566\u001b[0m centroids \u001b[38;5;241m=\u001b[39m centroids[idxs]\n\u001b[0;32m--> 567\u001b[0m radiality \u001b[38;5;241m=\u001b[39m \u001b[38;5;28;43mself\u001b[39;49m\u001b[38;5;241;43m.\u001b[39;49m\u001b[43mcalculate_radiality\u001b[49m\u001b[43m(\u001b[49m\u001b[43mpil_small\u001b[49m\u001b[43m,\u001b[49m\u001b[43m \u001b[49m\u001b[43mimg2\u001b[49m\u001b[43m,\u001b[49m\u001b[43m \u001b[49m\u001b[43mGx\u001b[49m\u001b[43m,\u001b[49m\u001b[43m \u001b[49m\u001b[43mGy\u001b[49m\u001b[43m,\u001b[49m\u001b[43m \u001b[49m\u001b[43md\u001b[49m\u001b[43m)\u001b[49m\n\u001b[1;32m    569\u001b[0m idxs \u001b[38;5;241m=\u001b[39m np\u001b[38;5;241m.\u001b[39mlogical_and(radiality[:, \u001b[38;5;241m0\u001b[39m] \u001b[38;5;241m<\u001b[39m\u001b[38;5;241m=\u001b[39m rdl[\u001b[38;5;241m0\u001b[39m], radiality[:, \u001b[38;5;241m1\u001b[39m] \u001b[38;5;241m>\u001b[39m\u001b[38;5;241m=\u001b[39m rdl[\u001b[38;5;241m1\u001b[39m])\n\u001b[1;32m    570\u001b[0m centroids \u001b[38;5;241m=\u001b[39m np\u001b[38;5;241m.\u001b[39mfloor(centroids[idxs])\n",
      "File \u001b[0;32m~/Documents/Dropbox (Cambridge University)/Chemistry/Lee/Code/Python/pyRASP/src/AnalysisFunctions.py:105\u001b[0m, in \u001b[0;36mAnalysis_Functions.calculate_radiality\u001b[0;34m(self, pil_small, img, gradient_x, gradient_y, d)\u001b[0m\n\u001b[1;32m    103\u001b[0m flatness \u001b[38;5;241m=\u001b[39m np\u001b[38;5;241m.\u001b[39mmean(np\u001b[38;5;241m.\u001b[39mdivide(img[x, y]\u001b[38;5;241m.\u001b[39mT, r0), axis\u001b[38;5;241m=\u001b[39m\u001b[38;5;241m1\u001b[39m)\n\u001b[1;32m    104\u001b[0m integrated_grad \u001b[38;5;241m=\u001b[39m np\u001b[38;5;241m.\u001b[39msum(g2, axis\u001b[38;5;241m=\u001b[39m\u001b[38;5;241m1\u001b[39m)\n\u001b[0;32m--> 105\u001b[0m radiality \u001b[38;5;241m=\u001b[39m \u001b[43mnp\u001b[49m\u001b[38;5;241;43m.\u001b[39;49m\u001b[43mvstack\u001b[49m\u001b[43m(\u001b[49m\u001b[43m[\u001b[49m\u001b[43mflatness\u001b[49m\u001b[43m,\u001b[49m\u001b[43m \u001b[49m\u001b[43mintegrated_grad\u001b[49m\u001b[43m]\u001b[49m\u001b[43m)\u001b[49m\u001b[38;5;241m.\u001b[39mT\n\u001b[1;32m    107\u001b[0m \u001b[38;5;28;01mreturn\u001b[39;00m radiality\n",
      "File \u001b[0;32m/usr/local/lib/python3.10/dist-packages/numpy/core/shape_base.py:289\u001b[0m, in \u001b[0;36mvstack\u001b[0;34m(tup, dtype, casting)\u001b[0m\n\u001b[1;32m    287\u001b[0m \u001b[38;5;28;01mif\u001b[39;00m \u001b[38;5;129;01mnot\u001b[39;00m \u001b[38;5;28misinstance\u001b[39m(arrs, \u001b[38;5;28mlist\u001b[39m):\n\u001b[1;32m    288\u001b[0m     arrs \u001b[38;5;241m=\u001b[39m [arrs]\n\u001b[0;32m--> 289\u001b[0m \u001b[38;5;28;01mreturn\u001b[39;00m \u001b[43m_nx\u001b[49m\u001b[38;5;241;43m.\u001b[39;49m\u001b[43mconcatenate\u001b[49m\u001b[43m(\u001b[49m\u001b[43marrs\u001b[49m\u001b[43m,\u001b[49m\u001b[43m \u001b[49m\u001b[38;5;241;43m0\u001b[39;49m\u001b[43m,\u001b[49m\u001b[43m \u001b[49m\u001b[43mdtype\u001b[49m\u001b[38;5;241;43m=\u001b[39;49m\u001b[43mdtype\u001b[49m\u001b[43m,\u001b[49m\u001b[43m \u001b[49m\u001b[43mcasting\u001b[49m\u001b[38;5;241;43m=\u001b[39;49m\u001b[43mcasting\u001b[49m\u001b[43m)\u001b[49m\n",
      "\u001b[0;31mValueError\u001b[0m: all the input array dimensions except for the concatenation axis must match exactly, but along dimension 1, the array at index 0 has size 12 and the array at index 1 has size 3619"
     ]
    }
   ],
   "source": [
    "'''the code below calibrates the radiality thresholds and saves that result in the default parameters folder. \n",
    "Each of the parameters \n",
    "(all of which, apart from \"radiality_folder\", have defaults---so if you're fine with the defaults you can just run it as\n",
    "\"RASP.analyse_images(radiality_folder)\") have meanings as detailed:\n",
    "\n",
    "imtype: a string that tells the script what to expect at the end of a file, usually .tiff or .tif\n",
    "\n",
    "gsigma: gaussian blur sigma for spot analysis\n",
    "\n",
    "rwave: ricker wavelet sigma\n",
    "\n",
    "accepted_ratio (float). Percentage accepted of false positives\n",
    "\n",
    "'''\n",
    "\n",
    "radiality_folder = r'negative_control' # always input a raw string---otherwise Python can get confused\n",
    "RASP.calibrate_radiality(radiality_folder, imtype='.tif', gsigma=1.4, rwave=2., accepted_ratio=1)"
   ]
  },
  {
   "cell_type": "code",
   "execution_count": null,
   "id": "a9fd11b1",
   "metadata": {},
   "outputs": [],
   "source": [
    "''' the command below will run RASP on a folder of images. Each of the parameters \n",
    "(all of which, apart from \"folder\", have defaults---so if you're fine with the defaults you can just run it as\n",
    "\"RASP.analyse_images(folder)\") have meanings as detailed:\n",
    "\n",
    "imtype: a string that tells the script what to expect at the end of a file, usually .tiff or .tif\n",
    "\n",
    "thres: a % threshold for what we expect for spots, usually set at 0.05 for 5%\n",
    "\n",
    "large_thres: intensity threshold for large objects, set here as 450.\n",
    "\n",
    "gsigma: gaussian blur sigma for spot analysis\n",
    "\n",
    "rwave: ricker wavelet sigma\n",
    "\n",
    "if_filter: default is True, this determines if you do filtering for out-of-focus images or not\n",
    "\n",
    "im_start: if anything but 1 the code will ignore this many frames in an image file (useful when have images \n",
    "with multiple channels, for example)\n",
    "\n",
    "cell_analysis: if True, this will also analyse cell images that have a string for cell-containing data and compute the\n",
    "colocalisation likelihood ratios \n",
    "\n",
    "one_savefile: if True, this will save all analysis in one file called \"spot_analysis.csv\"\n",
    "\n",
    "'''\n",
    "folder = r'path_with_images_in_it' # example folder, replace as you wish. Always input as a raw string\n",
    "\n",
    "RASP.analyse_images(folder, imtype='.tif', thres=0.05, \n",
    "                       large_thres=450., gsigma=1.4, rwave=2.,\n",
    "                       oligomer_string='C1', cell_string='C0',\n",
    "                       if_filter=True, im_start=1, cell_analysis=True, \n",
    "                       one_savefile=True)"
   ]
  },
  {
   "cell_type": "code",
   "execution_count": null,
   "id": "2f8a966a",
   "metadata": {},
   "outputs": [],
   "source": [
    "''' the command below will run RASP on a folder of round/sample type images. Each of the parameters \n",
    "(all of which, apart from \"round_folder\", have defaults---so if you're fine with the defaults you can \n",
    "just run it as \"RASP.analyse_round_images(round_folder)\") have meanings as detailed:\n",
    "\n",
    "imtype: a string that tells the script what to expect at the end of a file, usually .tiff or .tif\n",
    "\n",
    "thres: a % threshold for what we expect for spots, usually set at 0.05 for 5%\n",
    "\n",
    "large_thres: intensity threshold for large objects, set here as 450.\n",
    "\n",
    "gsigma: gaussian blur sigma for spot analysis\n",
    "\n",
    "rwave: ricker wavelet sigma\n",
    "\n",
    "oligomer_string: default 'C1' for channel we will analyse to see if oligomers are there\n",
    "\n",
    "cell_string: default 'C0' for channel containing cell images\n",
    "\n",
    "if_filter: default is True, this determines if you do filtering for out-of-focus images or not\n",
    "\n",
    "im_start: if anything but 1 the code will ignore this many frames in an image file (useful when have images \n",
    "with multiple channels, for example)\n",
    "\n",
    "cell_analysis: it True, this function will also analyse cell images and compute colocalisation likelihood ratios.\n",
    "\n",
    "one_savefile: if True, this will save all analysis in one file called \"spot_analysis.csv\"\n",
    "\n",
    "'''\n",
    "\n",
    "round_folder = r'path_with_Round type format' # replace with folder as you wish. Always input as a raw string\n",
    "\n",
    "### this will analyse both protein and cell images, if this is not desired set cell_analysis to False\n",
    "RASP.analyse_round_images(round_folder, imtype='.tif', thres=0.05, \n",
    "                             large_thres=450., gsigma=1.4, rwave=2., \n",
    "                             oligomer_string='C1', cell_string='C0',\n",
    "                             if_filter=True, im_start=1, cell_analysis=True, one_savefile=True)"
   ]
  },
  {
   "cell_type": "code",
   "execution_count": null,
   "id": "1d80c6b7",
   "metadata": {},
   "outputs": [],
   "source": [
    "'''the code below calibrates the area threshold and saves that result in the default parameters folder. \n",
    "Parameter meanings are the same as above.'''\n",
    "\n",
    "area_folder = r'area_threshold' # Always input as a raw string\n",
    "RASP.calibrate_area(area_folder, imtype='.tif', gsigma=1.4, rwave=2., large_thres=10000.)"
   ]
  },
  {
   "cell_type": "code",
   "execution_count": null,
   "id": "2959fac7",
   "metadata": {},
   "outputs": [],
   "source": []
  }
 ],
 "metadata": {
  "kernelspec": {
   "display_name": "Python 3 (ipykernel)",
   "language": "python",
   "name": "python3"
  },
  "language_info": {
   "codemirror_mode": {
    "name": "ipython",
    "version": 3
   },
   "file_extension": ".py",
   "mimetype": "text/x-python",
   "name": "python",
   "nbconvert_exporter": "python",
   "pygments_lexer": "ipython3",
   "version": "3.10.12"
  }
 },
 "nbformat": 4,
 "nbformat_minor": 5
}
