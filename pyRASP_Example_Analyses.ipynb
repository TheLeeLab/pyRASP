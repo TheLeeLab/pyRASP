{
 "cells": [
  {
   "cell_type": "code",
   "execution_count": 1,
   "id": "639d889a-964f-48c6-96be-f3070b50a506",
   "metadata": {},
   "outputs": [],
   "source": [
    "from src import RASPRoutines\n",
    "RASP = RASPRoutines.RASP_Routines()"
   ]
  },
  {
   "cell_type": "code",
   "execution_count": 2,
   "id": "769240ef-8442-4a45-8efe-eb8e4fae4613",
   "metadata": {},
   "outputs": [
    {
     "data": {
      "image/png": "[encoded data removed]",
      "text/plain": [
       "<Figure size 640x480 with 2 Axes>"
      ]
     },
     "metadata": {},
     "output_type": "display_data"
    },
    {
     "name": "stdout",
     "output_type": "stream",
     "text": [
      "Radiality calibrated using negative control images in negative_control. New flatness is 0.97 and new integrated gradient is 40.99. Parameters saved in /home/jbeckwith/Documents/Dropbox (Cambridge University)/Chemistry/Lee/Code/Python/pyRASP/default_analysis_parameters.\n"
     ]
    }
   ],
   "source": [
    "'''the code below calibrates the radiality thresholds and saves that result in the default parameters folder. \n",
    "Each of the parameters \n",
    "(all of which, apart from \"radiality_folder\", have defaults---so if you're fine with the defaults you can just run it as\n",
    "\"RASP.analyse_images(radiality_folder)\") have meanings as detailed:\n",
    "\n",
    "imtype: a string that tells the script what to expect at the end of a file, usually .tiff or .tif\n",
    "\n",
    "gsigma: gaussian blur sigma for spot analysis\n",
    "\n",
    "rwave: ricker wavelet sigma\n",
    "\n",
    "accepted_ratio (float). Percentage accepted of false positives\n",
    "\n",
    "'''\n",
    "\n",
    "radiality_folder = r'negative_control' # always input a raw string---otherwise Python can get confused\n",
    "RASP.calibrate_radiality(radiality_folder, imtype='.tif', gsigma=1.4, rwave=2., accepted_ratio=0.2)"
   ]
  },
  {
   "cell_type": "code",
   "execution_count": null,
   "id": "a9fd11b1",
   "metadata": {},
   "outputs": [],
   "source": [
    "''' the command below will run RASP on a folder of images. Each of the parameters \n",
    "(all of which, apart from \"folder\", have defaults---so if you're fine with the defaults you can just run it as\n",
    "\"RASP.analyse_images(folder)\") have meanings as detailed:\n",
    "\n",
    "imtype: a string that tells the script what to expect at the end of a file, usually .tiff or .tif\n",
    "\n",
    "thres: a % threshold for what we expect for spots, usually set at 0.05 for 5%\n",
    "\n",
    "large_thres: intensity threshold for large objects, set here as 450.\n",
    "\n",
    "gsigma: gaussian blur sigma for spot analysis\n",
    "\n",
    "rwave: ricker wavelet sigma\n",
    "\n",
    "if_filter: default is True, this determines if you do filtering for out-of-focus images or not\n",
    "\n",
    "im_start: if anything but 1 the code will ignore this many frames in an image file (useful when have images \n",
    "with multiple channels, for example)\n",
    "\n",
    "cell_analysis: if True, this will also analyse cell images that have a string for cell-containing data and compute the\n",
    "colocalisation likelihood ratios \n",
    "\n",
    "one_savefile: if True, this will save all analysis in one file called \"spot_analysis.csv\"\n",
    "\n",
    "'''\n",
    "folder = r'path_with_images_in_it' # example folder, replace as you wish. Always input as a raw string\n",
    "\n",
    "RASP.analyse_images(folder, imtype='.tif', thres=0.05, \n",
    "                       large_thres=450., gsigma=1.4, rwave=2.,\n",
    "                       oligomer_string='C1', cell_string='C0',\n",
    "                       if_filter=True, im_start=1, cell_analysis=True, \n",
    "                       one_savefile=True)"
   ]
  },
  {
   "cell_type": "code",
   "execution_count": null,
   "id": "2f8a966a",
   "metadata": {},
   "outputs": [],
   "source": [
    "''' the command below will run RASP on a folder of round/sample type images. Each of the parameters \n",
    "(all of which, apart from \"round_folder\", have defaults---so if you're fine with the defaults you can \n",
    "just run it as \"RASP.analyse_round_images(round_folder)\") have meanings as detailed:\n",
    "\n",
    "imtype: a string that tells the script what to expect at the end of a file, usually .tiff or .tif\n",
    "\n",
    "thres: a % threshold for what we expect for spots, usually set at 0.05 for 5%\n",
    "\n",
    "large_thres: intensity threshold for large objects, set here as 450.\n",
    "\n",
    "gsigma: gaussian blur sigma for spot analysis\n",
    "\n",
    "rwave: ricker wavelet sigma\n",
    "\n",
    "oligomer_string: default 'C1' for channel we will analyse to see if oligomers are there\n",
    "\n",
    "cell_string: default 'C0' for channel containing cell images\n",
    "\n",
    "if_filter: default is True, this determines if you do filtering for out-of-focus images or not\n",
    "\n",
    "im_start: if anything but 1 the code will ignore this many frames in an image file (useful when have images \n",
    "with multiple channels, for example)\n",
    "\n",
    "cell_analysis: it True, this function will also analyse cell images and compute colocalisation likelihood ratios.\n",
    "\n",
    "one_savefile: if True, this will save all analysis in one file called \"spot_analysis.csv\"\n",
    "\n",
    "'''\n",
    "\n",
    "round_folder = r'path_with_Round type format' # replace with folder as you wish. Always input as a raw string\n",
    "\n",
    "### this will analyse both protein and cell images, if this is not desired set cell_analysis to False\n",
    "RASP.analyse_round_images(round_folder, imtype='.tif', thres=0.05, \n",
    "                             large_thres=450., gsigma=1.4, rwave=2., \n",
    "                             oligomer_string='C1', cell_string='C0',\n",
    "                             if_filter=True, im_start=1, cell_analysis=True, one_savefile=True)"
   ]
  },
  {
   "cell_type": "code",
   "execution_count": null,
   "id": "1d80c6b7",
   "metadata": {},
   "outputs": [],
   "source": [
    "'''the code below calibrates the area threshold and saves that result in the default parameters folder. \n",
    "Parameter meanings are the same as above.'''\n",
    "\n",
    "area_folder = r'area_threshold' # Always input as a raw string\n",
    "RASP.calibrate_area(area_folder, imtype='.tif', gsigma=1.4, rwave=2., large_thres=10000.)"
   ]
  },
  {
   "cell_type": "code",
   "execution_count": null,
   "id": "2959fac7",
   "metadata": {},
   "outputs": [],
   "source": []
  }
 ],
 "metadata": {
  "kernelspec": {
   "display_name": "Python 3 (ipykernel)",
   "language": "python",
   "name": "python3"
  },
  "language_info": {
   "codemirror_mode": {
    "name": "ipython",
    "version": 3
   },
   "file_extension": ".py",
   "mimetype": "text/x-python",
   "name": "python",
   "nbconvert_exporter": "python",
   "pygments_lexer": "ipython3",
   "version": "3.10.12"
  }
 },
 "nbformat": 4,
 "nbformat_minor": 5
}
