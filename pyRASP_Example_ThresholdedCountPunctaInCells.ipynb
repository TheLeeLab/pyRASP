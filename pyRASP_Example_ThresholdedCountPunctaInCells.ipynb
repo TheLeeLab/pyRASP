{
 "cells": [
  {
   "cell_type": "code",
   "execution_count": null,
   "id": "639d889a-964f-48c6-96be-f3070b50a506",
   "metadata": {},
   "outputs": [],
   "source": [
    "import os\n",
    "from src import RASPRoutines\n",
    "RASP = RASPRoutines.RASP_Routines()"
   ]
  },
  {
   "cell_type": "code",
   "execution_count": null,
   "id": "a9fd11b1",
   "metadata": {},
   "outputs": [],
   "source": [
    "''' the command below will re-run colocalisation analysis on alraedy analsed data\n",
    "\n",
    "analysis_file: an analysis file .csv\n",
    "\n",
    "threshold: a photon threshold\n",
    "\n",
    "protein_string: a string for images with protein in\n",
    "\n",
    "cell_string: a string for cellular images\n",
    "\n",
    "'''\n",
    "analysis_file = os.path.abspath(r'example_images_analysis/spot_analysis.csv') # example file, replace as you wish. Always input as the absolute path of a raw string\n",
    "threshold = 0.\n",
    "protein_string = 'C1'\n",
    "cell_string = 'C0'\n",
    "\n",
    "cell_punctum_analysis_AT, cell_punctum_analysis_UT = RASP.count_puncta_in_individual_cells_threshold(analysis_file, \n",
    "                                                                                                     threshold, \n",
    "                                                                                                     protein_string=protein_string, \n",
    "                                                                                                     cell_string=cell_string)"
   ]
  },
  {
   "cell_type": "code",
   "execution_count": null,
   "id": "87649e46-c716-473f-834e-6ead62d1efe4",
   "metadata": {},
   "outputs": [],
   "source": []
  }
 ],
 "metadata": {
  "kernelspec": {
   "display_name": "Python 3 (ipykernel)",
   "language": "python",
   "name": "python3"
  },
  "language_info": {
   "codemirror_mode": {
    "name": "ipython",
    "version": 3
   },
   "file_extension": ".py",
   "mimetype": "text/x-python",
   "name": "python",
   "nbconvert_exporter": "python",
   "pygments_lexer": "ipython3",
   "version": "3.10.12"
  }
 },
 "nbformat": 4,
 "nbformat_minor": 5
}
