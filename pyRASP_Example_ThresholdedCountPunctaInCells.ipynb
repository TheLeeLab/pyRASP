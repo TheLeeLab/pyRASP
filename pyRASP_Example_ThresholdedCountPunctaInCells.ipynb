{
 "cells": [
  {
   "cell_type": "code",
   "execution_count": 1,
   "id": "639d889a-964f-48c6-96be-f3070b50a506",
   "metadata": {},
   "outputs": [],
   "source": [
    "import os\n",
    "from src import RASPRoutines\n",
    "\n",
    "RASP = RASPRoutines.RASP_Routines()"
   ]
  },
  {
   "cell_type": "code",
   "execution_count": 2,
   "id": "a9fd11b1",
   "metadata": {},
   "outputs": [
    {
     "name": "stdout",
     "output_type": "stream",
     "text": [
      "Computing <= threshold spots in cells     File 1/1    Time elapsed: 21.313 s\r"
     ]
    }
   ],
   "source": [
    "\"\"\" the command below will re-run colocalisation analysis on already analysed data\n",
    "\n",
    "analysis_file: an analysis file .csv\n",
    "\n",
    "threshold: a photon threshold\n",
    "\n",
    "protein_string: a string for images with protein in\n",
    "\n",
    "cell_string: a string for cellular images\n",
    "\n",
    "\"\"\"\n",
    "\n",
    "analysis_file = os.path.abspath(\n",
    "    r\"example_images_analysis/spot_analysis.csv\"\n",
    ")  # example file, replace as you wish. Always input as the absolute path of a raw string\n",
    "threshold = 1000.\n",
    "protein_string = \"C1\"\n",
    "cell_string = \"C0\"\n",
    "\n",
    "cell_punctum_analysis = (\n",
    "    RASP.count_puncta_in_individual_cells_threshold(\n",
    "        analysis_file, threshold, protein_string=protein_string, cell_string=cell_string\n",
    "    )\n",
    ")"
   ]
  },
  {
   "cell_type": "code",
   "execution_count": null,
   "id": "e1ca39db-e289-42ed-bf38-df32a1fc3b0f",
   "metadata": {},
   "outputs": [],
   "source": []
  }
 ],
 "metadata": {
  "kernelspec": {
   "display_name": "Python 3 (ipykernel)",
   "language": "python",
   "name": "python3"
  },
  "language_info": {
   "codemirror_mode": {
    "name": "ipython",
    "version": 3
   },
   "file_extension": ".py",
   "mimetype": "text/x-python",
   "name": "python",
   "nbconvert_exporter": "python",
   "pygments_lexer": "ipython3",
   "version": "3.10.12"
  }
 },
 "nbformat": 4,
 "nbformat_minor": 5
}
