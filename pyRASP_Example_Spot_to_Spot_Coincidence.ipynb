{
 "cells": [
  {
   "cell_type": "code",
   "execution_count": null,
   "id": "cc18c59f-eecd-4d0b-a648-7c6c3190769f",
   "metadata": {},
   "outputs": [],
   "source": [
    "import os\n",
    "from src import RASPRoutines\n",
    "RASP = RASPRoutines.RASP_Routines()"
   ]
  },
  {
   "cell_type": "code",
   "execution_count": null,
   "id": "ac8b4153-9cc6-4c5d-be91-3863808c5c42",
   "metadata": {},
   "outputs": [],
   "source": [
    "analysis_file_1 = 'example_spot_analysis_1.csv'\n",
    "analysis_file_2 = 'example_spot_analysis_2.csv'"
   ]
  },
  {
   "cell_type": "code",
   "execution_count": null,
   "id": "bc8ef6ef-2a20-46ae-b8ff-98a3610aaa94",
   "metadata": {},
   "outputs": [],
   "source": [
    "\"\"\"\n",
    "Redo colocalisation analayses of spots above a photon threshold in an\n",
    "analysis file, to spots above a second threshold in a separate analysis file.\n",
    "\n",
    "Args:\n",
    "    analysis_1_file (str): Analysis file (channel 1) to be re-done.\n",
    "    analysis_2_file (str): Analysis file (channel 2) to be re-done.\n",
    "    threshold_1 (float): The photon threshold for channel 1\n",
    "    threshold_2 (float): The photon threshold for channel 2\n",
    "    spot_1_string (str): string of spot 1\n",
    "    spot_2_string (str): string of spot 2\n",
    "    imtype (str): image type\n",
    "    image_size (list): original image size\n",
    "    blur_degree (int): blur degree for colocalisation analysis\n",
    "    \n",
    "Returns:\n",
    "    channel_1_analysis_AT (pl.DataFrame): channel 1 type above threshold\n",
    "    channel_2_analysis_AT (pl.DataFrame): channel 2 type above threshold\n",
    "    spot_1_analysis_AT (pl.DataFrame): channel 1 type above threshold\n",
    "    spot_2_analysis_AT (pl.DataFrame): channel 2 type above threshold\n",
    "    channel_1_analysis_UT (pl.DataFrame): channel 1 type below threshold\n",
    "    channel_2_analysis_UT (pl.DataFrame): channel 2 type below threshold\n",
    "    spot_1_analysis_UT (pl.DataFrame): channel 1 type below threshold\n",
    "    spot_2_analysis_UT (pl.DataFrame): channel 2 type below threshold\n",
    "\n",
    "\"\"\"\n",
    "threshold1 = 500.\n",
    "threshold2 = 500.\n",
    "spot_1_string = 'C0'\n",
    "spot_2_string = 'C1'\n",
    "\n",
    "(           channel_1_analysis_AT,\n",
    "            channel_2_analysis_AT,\n",
    "            spot_1_analysis_AT,\n",
    "            spot_2_analysis_AT,\n",
    "            channel_1_analysis_UT,\n",
    "            channel_2_analysis_UT,\n",
    "            spot_1_analysis_UT,\n",
    "            spot_2_analysis_UT,\n",
    "        ) = RASP.colocalise_spots_with_threshold(\n",
    "        analysis_file_1,\n",
    "        analysis_file_2,\n",
    "        threshold1,\n",
    "        threshold2,\n",
    "        spot_1_string,\n",
    "        spot_2_string,\n",
    "        imtype=\".tif\",\n",
    "        image_size=(1200, 1200),\n",
    "        blur_degree=1,\n",
    "    )"
   ]
  },
  {
   "cell_type": "code",
   "execution_count": null,
   "id": "b6ccef4c-9d37-4273-b40e-b0c64199be6c",
   "metadata": {},
   "outputs": [],
   "source": []
  }
 ],
 "metadata": {
  "kernelspec": {
   "display_name": "Python 3 (ipykernel)",
   "language": "python",
   "name": "python3"
  },
  "language_info": {
   "codemirror_mode": {
    "name": "ipython",
    "version": 3
   },
   "file_extension": ".py",
   "mimetype": "text/x-python",
   "name": "python",
   "nbconvert_exporter": "python",
   "pygments_lexer": "ipython3",
   "version": "3.10.12"
  }
 },
 "nbformat": 4,
 "nbformat_minor": 5
}
